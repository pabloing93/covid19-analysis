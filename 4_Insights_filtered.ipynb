{
 "cells": [
  {
   "cell_type": "markdown",
   "metadata": {},
   "source": [
    "## Insight 4\n",
    "### Desde una perspectiva demográfica ¿cuáles son las características que tienen un mayor impacto en el índice de letalidad de un país?"
   ]
  },
  {
   "cell_type": "markdown",
   "metadata": {},
   "source": [
    "Como vimos el peor momento de estos paises incluido Argentina y Colombia fué comprendido aproximadamente en Abril/20 y Enero/21 en ése periodo el índice de letalidad fué mayor.\n",
    "\n",
    "![image-2.png](attachment:image-2.png)\n",
    "\n",
    "\n",
    "Que según vimos en el Ingisht 3, el índice de letalidad fué:<br>\n",
    "México: > 12%<br>\n",
    "Argentina: 7,79%<br>\n",
    "Colombia: 4,61%\n",
    "\n",
    "Periodo: <br>\n",
    "Abril/20 ~ Enero/21\n",
    "\n",
    "Analizaremos el feature importances del índice de letalidad comprendido en éste periodo"
   ]
  },
  {
   "cell_type": "markdown",
   "metadata": {},
   "source": [
    "### Importing libraries "
   ]
  },
  {
   "cell_type": "code",
   "execution_count": 48,
   "metadata": {},
   "outputs": [],
   "source": [
    "import pandas as pd\n",
    "import matplotlib.pyplot as plt\n",
    "import warnings\n",
    "warnings.filterwarnings(\"ignore\")"
   ]
  },
  {
   "cell_type": "markdown",
   "metadata": {},
   "source": [
    "### Importing the data"
   ]
  },
  {
   "cell_type": "markdown",
   "metadata": {},
   "source": [
    "#### Population data"
   ]
  },
  {
   "cell_type": "markdown",
   "metadata": {},
   "source": [
    "Importing demographic world information from an excel file"
   ]
  },
  {
   "cell_type": "code",
   "execution_count": 49,
   "metadata": {},
   "outputs": [],
   "source": [
    "df_population = pd.read_excel('https://raw.githubusercontent.com/ElProfeAlejo/Bootcamp_Databases/main/WPP2022_GEN_F01_DEMOGRAPHIC_INDICATORS_COMPACT_REV1.xlsx', sheet_name=0, skiprows=16)"
   ]
  },
  {
   "cell_type": "code",
   "execution_count": 50,
   "metadata": {},
   "outputs": [
    {
     "name": "stdout",
     "output_type": "stream",
     "text": [
      "<class 'pandas.core.frame.DataFrame'>\n",
      "RangeIndex: 20596 entries, 0 to 20595\n",
      "Data columns (total 65 columns):\n",
      " #   Column                                                                                          Non-Null Count  Dtype  \n",
      "---  ------                                                                                          --------------  -----  \n",
      " 0   Index                                                                                           20596 non-null  int64  \n",
      " 1   Variant                                                                                         20596 non-null  object \n",
      " 2   Region, subregion, country or area *                                                            20596 non-null  object \n",
      " 3   Notes                                                                                           5475 non-null   object \n",
      " 4   Location code                                                                                   20596 non-null  int64  \n",
      " 5   ISO3 Alpha-code                                                                                 17064 non-null  object \n",
      " 6   ISO2 Alpha-code                                                                                 16992 non-null  object \n",
      " 7   SDMX code**                                                                                     20304 non-null  float64\n",
      " 8   Type                                                                                            20596 non-null  object \n",
      " 9   Parent code                                                                                     20596 non-null  int64  \n",
      " 10  Year                                                                                            20592 non-null  float64\n",
      " 11  Total Population, as of 1 January (thousands)                                                   20596 non-null  object \n",
      " 12  Total Population, as of 1 July (thousands)                                                      20596 non-null  object \n",
      " 13  Male Population, as of 1 July (thousands)                                                       20596 non-null  object \n",
      " 14  Female Population, as of 1 July (thousands)                                                     20596 non-null  object \n",
      " 15  Population Density, as of 1 July (persons per square km)                                        20596 non-null  object \n",
      " 16  Population Sex Ratio, as of 1 July (males per 100 females)                                      20596 non-null  object \n",
      " 17  Median Age, as of 1 July (years)                                                                20596 non-null  object \n",
      " 18  Natural Change, Births minus Deaths (thousands)                                                 20596 non-null  object \n",
      " 19  Rate of Natural Change (per 1,000 population)                                                   20596 non-null  object \n",
      " 20  Population Change (thousands)                                                                   20596 non-null  object \n",
      " 21  Population Growth Rate (percentage)                                                             20596 non-null  object \n",
      " 22  Population Annual Doubling Time (years)                                                         20596 non-null  object \n",
      " 23  Births (thousands)                                                                              20596 non-null  object \n",
      " 24  Births by women aged 15 to 19 (thousands)                                                       20596 non-null  object \n",
      " 25  Crude Birth Rate (births per 1,000 population)                                                  20596 non-null  object \n",
      " 26  Total Fertility Rate (live births per woman)                                                    20596 non-null  object \n",
      " 27  Net Reproduction Rate (surviving daughters per woman)                                           20596 non-null  object \n",
      " 28  Mean Age Childbearing (years)                                                                   20596 non-null  object \n",
      " 29  Sex Ratio at Birth (males per 100 female births)                                                20596 non-null  object \n",
      " 30  Total Deaths (thousands)                                                                        20596 non-null  object \n",
      " 31  Male Deaths (thousands)                                                                         20596 non-null  object \n",
      " 32  Female Deaths (thousands)                                                                       20596 non-null  object \n",
      " 33  Crude Death Rate (deaths per 1,000 population)                                                  20596 non-null  object \n",
      " 34  Life Expectancy at Birth, both sexes (years)                                                    20596 non-null  object \n",
      " 35  Male Life Expectancy at Birth (years)                                                           20596 non-null  object \n",
      " 36  Female Life Expectancy at Birth (years)                                                         20596 non-null  object \n",
      " 37  Life Expectancy at Age 15, both sexes (years)                                                   20596 non-null  object \n",
      " 38  Male Life Expectancy at Age 15 (years)                                                          20596 non-null  object \n",
      " 39  Female Life Expectancy at Age 15 (years)                                                        20596 non-null  object \n",
      " 40  Life Expectancy at Age 65, both sexes (years)                                                   20596 non-null  object \n",
      " 41  Male Life Expectancy at Age 65 (years)                                                          20596 non-null  object \n",
      " 42  Female Life Expectancy at Age 65 (years)                                                        20596 non-null  object \n",
      " 43  Life Expectancy at Age 80, both sexes (years)                                                   20596 non-null  object \n",
      " 44  Male Life Expectancy at Age 80 (years)                                                          20596 non-null  object \n",
      " 45  Female Life Expectancy at Age 80 (years)                                                        20596 non-null  object \n",
      " 46  Infant Deaths, under age 1 (thousands)                                                          20596 non-null  object \n",
      " 47  Infant Mortality Rate (infant deaths per 1,000 live births)                                     20596 non-null  object \n",
      " 48  Live Births Surviving to Age 1 (thousands)                                                      20596 non-null  object \n",
      " 49  Under-Five Deaths, under age 5 (thousands)                                                      20596 non-null  object \n",
      " 50  Under-Five Mortality (deaths under age 5 per 1,000 live births)                                 20596 non-null  object \n",
      " 51  Mortality before Age 40, both sexes (deaths under age 40 per 1,000 live births)                 20596 non-null  object \n",
      " 52  Male Mortality before Age 40 (deaths under age 40 per 1,000 male live births)                   20596 non-null  object \n",
      " 53  Female Mortality before Age 40 (deaths under age 40 per 1,000 female live births)               20596 non-null  object \n",
      " 54  Mortality before Age 60, both sexes (deaths under age 60 per 1,000 live births)                 20596 non-null  object \n",
      " 55  Male Mortality before Age 60 (deaths under age 60 per 1,000 male live births)                   20596 non-null  object \n",
      " 56  Female Mortality before Age 60 (deaths under age 60 per 1,000 female live births)               20596 non-null  object \n",
      " 57  Mortality between Age 15 and 50, both sexes (deaths under age 50 per 1,000 alive at age 15)     20596 non-null  object \n",
      " 58  Male Mortality between Age 15 and 50 (deaths under age 50 per 1,000 males alive at age 15)      20596 non-null  object \n",
      " 59  Female Mortality between Age 15 and 50 (deaths under age 50 per 1,000 females alive at age 15)  20596 non-null  object \n",
      " 60  Mortality between Age 15 and 60, both sexes (deaths under age 60 per 1,000 alive at age 15)     20596 non-null  object \n",
      " 61  Male Mortality between Age 15 and 60 (deaths under age 60 per 1,000 males alive at age 15)      20596 non-null  object \n",
      " 62  Female Mortality between Age 15 and 60 (deaths under age 60 per 1,000 females alive at age 15)  20596 non-null  object \n",
      " 63  Net Number of Migrants (thousands)                                                              20596 non-null  object \n",
      " 64  Net Migration Rate (per 1,000 population)                                                       20596 non-null  object \n",
      "dtypes: float64(2), int64(3), object(60)\n",
      "memory usage: 10.2+ MB\n"
     ]
    }
   ],
   "source": [
    "df_population.info()"
   ]
  },
  {
   "cell_type": "markdown",
   "metadata": {},
   "source": [
    "we'll select interest columns and then rename them"
   ]
  },
  {
   "cell_type": "code",
   "execution_count": 51,
   "metadata": {},
   "outputs": [],
   "source": [
    "df_population_limpio = df_population[[\n",
    "  'Year',\n",
    "  'ISO2 Alpha-code',\n",
    "  'Total Population, as of 1 July (thousands)',\n",
    "  'Male Population, as of 1 July (thousands)',\n",
    "  'Female Population, as of 1 July (thousands)',\n",
    "  'Population Density, as of 1 July (persons per square km)',\n",
    "  'Life Expectancy at Birth, both sexes (years)']].rename(columns = {\n",
    "    'ISO2 Alpha-code': 'Country_code',\n",
    "    'Total Population, as of 1 July (thousands)': 'Total_Population',\n",
    "    'Male Population, as of 1 July (thousands)': 'Male_Population',\n",
    "    'Female Population, as of 1 July (thousands)': 'Female_Population',\n",
    "    'Population Density, as of 1 July (persons per square km)': 'Population_Density',\n",
    "    'Life Expectancy at Birth, both sexes (years)': 'Life_Expectancy'\n",
    "  }).copy()"
   ]
  },
  {
   "cell_type": "markdown",
   "metadata": {},
   "source": [
    "we just need check population information between 2020 and 2021 years where lethality rate was upper"
   ]
  },
  {
   "cell_type": "code",
   "execution_count": 52,
   "metadata": {},
   "outputs": [],
   "source": [
    "inf = df_population_limpio['Year'] >= 2020 \n",
    "sup = df_population_limpio['Year'] <= 2021\n",
    "df_population_limpio = df_population_limpio[inf & sup]"
   ]
  },
  {
   "cell_type": "code",
   "execution_count": 53,
   "metadata": {},
   "outputs": [
    {
     "name": "stdout",
     "output_type": "stream",
     "text": [
      "<class 'pandas.core.frame.DataFrame'>\n",
      "Index: 572 entries, 70 to 20595\n",
      "Data columns (total 7 columns):\n",
      " #   Column              Non-Null Count  Dtype  \n",
      "---  ------              --------------  -----  \n",
      " 0   Year                572 non-null    float64\n",
      " 1   Country_code        472 non-null    object \n",
      " 2   Total_Population    572 non-null    object \n",
      " 3   Male_Population     572 non-null    object \n",
      " 4   Female_Population   572 non-null    object \n",
      " 5   Population_Density  572 non-null    object \n",
      " 6   Life_Expectancy     572 non-null    object \n",
      "dtypes: float64(1), object(6)\n",
      "memory usage: 35.8+ KB\n"
     ]
    }
   ],
   "source": [
    "df_population_limpio.info()"
   ]
  },
  {
   "cell_type": "markdown",
   "metadata": {},
   "source": [
    "Formating data structures"
   ]
  },
  {
   "cell_type": "code",
   "execution_count": 54,
   "metadata": {},
   "outputs": [],
   "source": [
    "df_population_limpio['Male_Population'] = pd.to_numeric(df_population_limpio['Male_Population'], errors='coerce')\n",
    "df_population_limpio['Female_Population'] = pd.to_numeric(df_population_limpio['Female_Population'], errors='coerce')\n",
    "df_population_limpio['Life_Expectancy'] = pd.to_numeric(df_population_limpio['Life_Expectancy'], errors='coerce')\n",
    "\n",
    "df_population_limpio = df_population_limpio.astype({\n",
    "  'Year': 'int',\n",
    "  'Total_Population': 'float',\n",
    "  'Male_Population': 'float',\n",
    "  'Female_Population': 'float',\n",
    "  'Population_Density': 'float',\n",
    "  'Life_Expectancy': 'float'\n",
    "})"
   ]
  },
  {
   "cell_type": "markdown",
   "metadata": {},
   "source": [
    "Checking NaNs values"
   ]
  },
  {
   "cell_type": "code",
   "execution_count": 55,
   "metadata": {},
   "outputs": [
    {
     "data": {
      "text/plain": [
       "Year                    0\n",
       "Country_code          100\n",
       "Total_Population        0\n",
       "Male_Population         2\n",
       "Female_Population       2\n",
       "Population_Density      0\n",
       "Life_Expectancy         2\n",
       "dtype: int64"
      ]
     },
     "execution_count": 55,
     "metadata": {},
     "output_type": "execute_result"
    }
   ],
   "source": [
    "df_population_limpio.isna().sum()"
   ]
  },
  {
   "cell_type": "markdown",
   "metadata": {},
   "source": [
    "Droping NaNs values before continue with the data structure formating"
   ]
  },
  {
   "cell_type": "code",
   "execution_count": 56,
   "metadata": {},
   "outputs": [],
   "source": [
    "df_population_limpio.dropna(inplace=True)"
   ]
  },
  {
   "cell_type": "code",
   "execution_count": 57,
   "metadata": {},
   "outputs": [],
   "source": [
    "df_population_limpio['Total_Population'] = df_population_limpio['Total_Population'].round(0).astype('int64')\n",
    "df_population_limpio['Male_Population'] = df_population_limpio['Male_Population'].round(0).astype('int64')\n",
    "df_population_limpio['Female_Population'] = df_population_limpio['Female_Population'].round(0).astype('int64')\n",
    "df_population_limpio['Population_Density'] = df_population_limpio['Population_Density'].round(0).astype('int64')\n",
    "df_population_limpio['Life_Expectancy'] = df_population_limpio['Life_Expectancy'].round(0).astype('int64')\n",
    "\n",
    "df_population_limpio[['Total_Population','Male_Population','Female_Population']] = df_population_limpio[['Total_Population','Male_Population','Female_Population']]*1000"
   ]
  },
  {
   "cell_type": "code",
   "execution_count": 58,
   "metadata": {},
   "outputs": [],
   "source": [
    "df_population_limpio.reset_index(inplace=True, drop=True)"
   ]
  },
  {
   "cell_type": "code",
   "execution_count": 59,
   "metadata": {},
   "outputs": [
    {
     "data": {
      "text/plain": [
       "Year                  0\n",
       "Country_code          0\n",
       "Total_Population      0\n",
       "Male_Population       0\n",
       "Female_Population     0\n",
       "Population_Density    0\n",
       "Life_Expectancy       0\n",
       "dtype: int64"
      ]
     },
     "execution_count": 59,
     "metadata": {},
     "output_type": "execute_result"
    }
   ],
   "source": [
    "df_population_limpio.isna().sum()"
   ]
  },
  {
   "cell_type": "code",
   "execution_count": 60,
   "metadata": {},
   "outputs": [
    {
     "name": "stdout",
     "output_type": "stream",
     "text": [
      "<class 'pandas.core.frame.DataFrame'>\n",
      "RangeIndex: 470 entries, 0 to 469\n",
      "Data columns (total 7 columns):\n",
      " #   Column              Non-Null Count  Dtype \n",
      "---  ------              --------------  ----- \n",
      " 0   Year                470 non-null    int32 \n",
      " 1   Country_code        470 non-null    object\n",
      " 2   Total_Population    470 non-null    int64 \n",
      " 3   Male_Population     470 non-null    int64 \n",
      " 4   Female_Population   470 non-null    int64 \n",
      " 5   Population_Density  470 non-null    int64 \n",
      " 6   Life_Expectancy     470 non-null    int64 \n",
      "dtypes: int32(1), int64(5), object(1)\n",
      "memory usage: 24.0+ KB\n"
     ]
    }
   ],
   "source": [
    "df_population_limpio.info()"
   ]
  },
  {
   "cell_type": "markdown",
   "metadata": {},
   "source": [
    "#### Covid data"
   ]
  },
  {
   "cell_type": "markdown",
   "metadata": {},
   "source": [
    "Importing Covid data"
   ]
  },
  {
   "cell_type": "code",
   "execution_count": 61,
   "metadata": {},
   "outputs": [],
   "source": [
    "df_covid_limpio = pd.read_csv('covid_clean.csv', sep=';')"
   ]
  },
  {
   "cell_type": "code",
   "execution_count": 62,
   "metadata": {},
   "outputs": [
    {
     "name": "stdout",
     "output_type": "stream",
     "text": [
      "<class 'pandas.core.frame.DataFrame'>\n",
      "RangeIndex: 48902 entries, 0 to 48901\n",
      "Data columns (total 8 columns):\n",
      " #   Column             Non-Null Count  Dtype  \n",
      "---  ------             --------------  -----  \n",
      " 0   Date_reported      48902 non-null  object \n",
      " 1   Country_code       48902 non-null  object \n",
      " 2   Country            48902 non-null  object \n",
      " 3   New_cases          48902 non-null  int64  \n",
      " 4   Cumulative_cases   48902 non-null  int64  \n",
      " 5   New_deaths         48902 non-null  int64  \n",
      " 6   Cumulative_deaths  48902 non-null  int64  \n",
      " 7   lethality_rate     48902 non-null  float64\n",
      "dtypes: float64(1), int64(4), object(3)\n",
      "memory usage: 3.0+ MB\n"
     ]
    }
   ],
   "source": [
    "df_covid_limpio.info()"
   ]
  },
  {
   "cell_type": "markdown",
   "metadata": {},
   "source": [
    "Formating data structures"
   ]
  },
  {
   "cell_type": "code",
   "execution_count": 63,
   "metadata": {},
   "outputs": [
    {
     "name": "stdout",
     "output_type": "stream",
     "text": [
      "<class 'pandas.core.frame.DataFrame'>\n",
      "RangeIndex: 48902 entries, 0 to 48901\n",
      "Data columns (total 8 columns):\n",
      " #   Column             Non-Null Count  Dtype         \n",
      "---  ------             --------------  -----         \n",
      " 0   Date_reported      48902 non-null  datetime64[ns]\n",
      " 1   Country_code       48902 non-null  object        \n",
      " 2   Country            48902 non-null  object        \n",
      " 3   New_cases          48902 non-null  int64         \n",
      " 4   Cumulative_cases   48902 non-null  int64         \n",
      " 5   New_deaths         48902 non-null  int64         \n",
      " 6   Cumulative_deaths  48902 non-null  int64         \n",
      " 7   lethality_rate     48902 non-null  float64       \n",
      "dtypes: datetime64[ns](1), float64(1), int64(4), object(2)\n",
      "memory usage: 3.0+ MB\n"
     ]
    }
   ],
   "source": [
    "df_covid_limpio['Date_reported'] = pd.to_datetime(df_covid_limpio['Date_reported'])\n",
    "df_covid_limpio.info()"
   ]
  },
  {
   "cell_type": "markdown",
   "metadata": {},
   "source": [
    "Filtering by date_reported. We are interested just on that reports between 2020 and 2021 years"
   ]
  },
  {
   "cell_type": "code",
   "execution_count": 64,
   "metadata": {},
   "outputs": [
    {
     "data": {
      "text/plain": [
       "Date_reported\n",
       "2020-01-05    232\n",
       "2020-01-12    232\n",
       "2020-01-19    232\n",
       "2020-01-26    232\n",
       "2020-02-02    230\n",
       "             ... \n",
       "2023-12-24    232\n",
       "2023-12-31    232\n",
       "2024-01-07    232\n",
       "2024-01-14    232\n",
       "2024-01-21    232\n",
       "Name: count, Length: 212, dtype: int64"
      ]
     },
     "execution_count": 64,
     "metadata": {},
     "output_type": "execute_result"
    }
   ],
   "source": [
    "df_covid_limpio['Date_reported'].value_counts().sort_index()"
   ]
  },
  {
   "cell_type": "code",
   "execution_count": 65,
   "metadata": {},
   "outputs": [],
   "source": [
    "april20 = df_covid_limpio['Date_reported'] >= \"2020-04-01\"\n",
    "jan21 = df_covid_limpio['Date_reported'] <= \"2021-01-31\"\n",
    "df_filtrado = df_covid_limpio[april20 & jan21].copy()"
   ]
  },
  {
   "cell_type": "code",
   "execution_count": 66,
   "metadata": {},
   "outputs": [
    {
     "name": "stdout",
     "output_type": "stream",
     "text": [
      "<class 'pandas.core.frame.DataFrame'>\n",
      "Index: 9949 entries, 13 to 48746\n",
      "Data columns (total 8 columns):\n",
      " #   Column             Non-Null Count  Dtype         \n",
      "---  ------             --------------  -----         \n",
      " 0   Date_reported      9949 non-null   datetime64[ns]\n",
      " 1   Country_code       9949 non-null   object        \n",
      " 2   Country            9949 non-null   object        \n",
      " 3   New_cases          9949 non-null   int64         \n",
      " 4   Cumulative_cases   9949 non-null   int64         \n",
      " 5   New_deaths         9949 non-null   int64         \n",
      " 6   Cumulative_deaths  9949 non-null   int64         \n",
      " 7   lethality_rate     9949 non-null   float64       \n",
      "dtypes: datetime64[ns](1), float64(1), int64(4), object(2)\n",
      "memory usage: 699.5+ KB\n"
     ]
    }
   ],
   "source": [
    "df_filtrado.info()"
   ]
  },
  {
   "cell_type": "code",
   "execution_count": 67,
   "metadata": {},
   "outputs": [],
   "source": [
    "df_filtrado['Year'] = df_filtrado['Date_reported'].dt.year"
   ]
  },
  {
   "cell_type": "code",
   "execution_count": 68,
   "metadata": {},
   "outputs": [
    {
     "data": {
      "text/html": [
       "<div>\n",
       "<style scoped>\n",
       "    .dataframe tbody tr th:only-of-type {\n",
       "        vertical-align: middle;\n",
       "    }\n",
       "\n",
       "    .dataframe tbody tr th {\n",
       "        vertical-align: top;\n",
       "    }\n",
       "\n",
       "    .dataframe thead th {\n",
       "        text-align: right;\n",
       "    }\n",
       "</style>\n",
       "<table border=\"1\" class=\"dataframe\">\n",
       "  <thead>\n",
       "    <tr style=\"text-align: right;\">\n",
       "      <th></th>\n",
       "      <th>Date_reported</th>\n",
       "      <th>Country_code</th>\n",
       "      <th>Country</th>\n",
       "      <th>New_cases</th>\n",
       "      <th>Cumulative_cases</th>\n",
       "      <th>New_deaths</th>\n",
       "      <th>Cumulative_deaths</th>\n",
       "      <th>lethality_rate</th>\n",
       "      <th>Year</th>\n",
       "    </tr>\n",
       "  </thead>\n",
       "  <tbody>\n",
       "    <tr>\n",
       "      <th>13</th>\n",
       "      <td>2020-04-05</td>\n",
       "      <td>AF</td>\n",
       "      <td>Afghanistan</td>\n",
       "      <td>183</td>\n",
       "      <td>274</td>\n",
       "      <td>3</td>\n",
       "      <td>5</td>\n",
       "      <td>1.824818</td>\n",
       "      <td>2020</td>\n",
       "    </tr>\n",
       "    <tr>\n",
       "      <th>14</th>\n",
       "      <td>2020-04-12</td>\n",
       "      <td>AF</td>\n",
       "      <td>Afghanistan</td>\n",
       "      <td>247</td>\n",
       "      <td>521</td>\n",
       "      <td>10</td>\n",
       "      <td>15</td>\n",
       "      <td>2.879079</td>\n",
       "      <td>2020</td>\n",
       "    </tr>\n",
       "    <tr>\n",
       "      <th>15</th>\n",
       "      <td>2020-04-19</td>\n",
       "      <td>AF</td>\n",
       "      <td>Afghanistan</td>\n",
       "      <td>387</td>\n",
       "      <td>908</td>\n",
       "      <td>15</td>\n",
       "      <td>30</td>\n",
       "      <td>3.303965</td>\n",
       "      <td>2020</td>\n",
       "    </tr>\n",
       "    <tr>\n",
       "      <th>16</th>\n",
       "      <td>2020-04-26</td>\n",
       "      <td>AF</td>\n",
       "      <td>Afghanistan</td>\n",
       "      <td>422</td>\n",
       "      <td>1330</td>\n",
       "      <td>13</td>\n",
       "      <td>43</td>\n",
       "      <td>3.233083</td>\n",
       "      <td>2020</td>\n",
       "    </tr>\n",
       "    <tr>\n",
       "      <th>17</th>\n",
       "      <td>2020-05-03</td>\n",
       "      <td>AF</td>\n",
       "      <td>Afghanistan</td>\n",
       "      <td>841</td>\n",
       "      <td>2171</td>\n",
       "      <td>21</td>\n",
       "      <td>64</td>\n",
       "      <td>2.947950</td>\n",
       "      <td>2020</td>\n",
       "    </tr>\n",
       "  </tbody>\n",
       "</table>\n",
       "</div>"
      ],
      "text/plain": [
       "   Date_reported Country_code      Country  New_cases  Cumulative_cases  \\\n",
       "13    2020-04-05           AF  Afghanistan        183               274   \n",
       "14    2020-04-12           AF  Afghanistan        247               521   \n",
       "15    2020-04-19           AF  Afghanistan        387               908   \n",
       "16    2020-04-26           AF  Afghanistan        422              1330   \n",
       "17    2020-05-03           AF  Afghanistan        841              2171   \n",
       "\n",
       "    New_deaths  Cumulative_deaths  lethality_rate  Year  \n",
       "13           3                  5        1.824818  2020  \n",
       "14          10                 15        2.879079  2020  \n",
       "15          15                 30        3.303965  2020  \n",
       "16          13                 43        3.233083  2020  \n",
       "17          21                 64        2.947950  2020  "
      ]
     },
     "execution_count": 68,
     "metadata": {},
     "output_type": "execute_result"
    }
   ],
   "source": [
    "df_filtrado.head()"
   ]
  },
  {
   "cell_type": "markdown",
   "metadata": {},
   "source": [
    "Grouping by country and calculating lethality rate mean by country"
   ]
  },
  {
   "cell_type": "code",
   "execution_count": 69,
   "metadata": {},
   "outputs": [
    {
     "data": {
      "text/html": [
       "<div>\n",
       "<style scoped>\n",
       "    .dataframe tbody tr th:only-of-type {\n",
       "        vertical-align: middle;\n",
       "    }\n",
       "\n",
       "    .dataframe tbody tr th {\n",
       "        vertical-align: top;\n",
       "    }\n",
       "\n",
       "    .dataframe thead th {\n",
       "        text-align: right;\n",
       "    }\n",
       "</style>\n",
       "<table border=\"1\" class=\"dataframe\">\n",
       "  <thead>\n",
       "    <tr style=\"text-align: right;\">\n",
       "      <th></th>\n",
       "      <th>Country_code</th>\n",
       "      <th>Country</th>\n",
       "      <th>Year</th>\n",
       "      <th>lethality_rate_mean</th>\n",
       "    </tr>\n",
       "  </thead>\n",
       "  <tbody>\n",
       "    <tr>\n",
       "      <th>0</th>\n",
       "      <td>AD</td>\n",
       "      <td>Andorra</td>\n",
       "      <td>2020</td>\n",
       "      <td>4.065300</td>\n",
       "    </tr>\n",
       "    <tr>\n",
       "      <th>1</th>\n",
       "      <td>AD</td>\n",
       "      <td>Andorra</td>\n",
       "      <td>2021</td>\n",
       "      <td>1.011576</td>\n",
       "    </tr>\n",
       "    <tr>\n",
       "      <th>2</th>\n",
       "      <td>AE</td>\n",
       "      <td>United Arab Emirates</td>\n",
       "      <td>2020</td>\n",
       "      <td>0.556535</td>\n",
       "    </tr>\n",
       "    <tr>\n",
       "      <th>3</th>\n",
       "      <td>AE</td>\n",
       "      <td>United Arab Emirates</td>\n",
       "      <td>2021</td>\n",
       "      <td>0.297417</td>\n",
       "    </tr>\n",
       "    <tr>\n",
       "      <th>4</th>\n",
       "      <td>AF</td>\n",
       "      <td>Afghanistan</td>\n",
       "      <td>2020</td>\n",
       "      <td>3.226454</td>\n",
       "    </tr>\n",
       "    <tr>\n",
       "      <th>...</th>\n",
       "      <td>...</td>\n",
       "      <td>...</td>\n",
       "      <td>...</td>\n",
       "      <td>...</td>\n",
       "    </tr>\n",
       "    <tr>\n",
       "      <th>460</th>\n",
       "      <td>ZA</td>\n",
       "      <td>South Africa</td>\n",
       "      <td>2021</td>\n",
       "      <td>2.816684</td>\n",
       "    </tr>\n",
       "    <tr>\n",
       "      <th>461</th>\n",
       "      <td>ZM</td>\n",
       "      <td>Zambia</td>\n",
       "      <td>2020</td>\n",
       "      <td>2.740274</td>\n",
       "    </tr>\n",
       "    <tr>\n",
       "      <th>462</th>\n",
       "      <td>ZM</td>\n",
       "      <td>Zambia</td>\n",
       "      <td>2021</td>\n",
       "      <td>1.576809</td>\n",
       "    </tr>\n",
       "    <tr>\n",
       "      <th>463</th>\n",
       "      <td>ZW</td>\n",
       "      <td>Zimbabwe</td>\n",
       "      <td>2020</td>\n",
       "      <td>2.940111</td>\n",
       "    </tr>\n",
       "    <tr>\n",
       "      <th>464</th>\n",
       "      <td>ZW</td>\n",
       "      <td>Zimbabwe</td>\n",
       "      <td>2021</td>\n",
       "      <td>2.845117</td>\n",
       "    </tr>\n",
       "  </tbody>\n",
       "</table>\n",
       "<p>465 rows × 4 columns</p>\n",
       "</div>"
      ],
      "text/plain": [
       "    Country_code               Country  Year  lethality_rate_mean\n",
       "0             AD               Andorra  2020             4.065300\n",
       "1             AD               Andorra  2021             1.011576\n",
       "2             AE  United Arab Emirates  2020             0.556535\n",
       "3             AE  United Arab Emirates  2021             0.297417\n",
       "4             AF           Afghanistan  2020             3.226454\n",
       "..           ...                   ...   ...                  ...\n",
       "460           ZA          South Africa  2021             2.816684\n",
       "461           ZM                Zambia  2020             2.740274\n",
       "462           ZM                Zambia  2021             1.576809\n",
       "463           ZW              Zimbabwe  2020             2.940111\n",
       "464           ZW              Zimbabwe  2021             2.845117\n",
       "\n",
       "[465 rows x 4 columns]"
      ]
     },
     "execution_count": 69,
     "metadata": {},
     "output_type": "execute_result"
    }
   ],
   "source": [
    "df_agrupado = df_filtrado.groupby(['Country_code', 'Country', 'Year'], as_index=False).agg({'lethality_rate': 'mean'}).rename(columns={'lethality_rate': 'lethality_rate_mean'})\n",
    "df_agrupado"
   ]
  },
  {
   "cell_type": "markdown",
   "metadata": {},
   "source": [
    "Inner Joinning by country_code between covid and population data"
   ]
  },
  {
   "cell_type": "code",
   "execution_count": 71,
   "metadata": {},
   "outputs": [
    {
     "data": {
      "text/html": [
       "<div>\n",
       "<style scoped>\n",
       "    .dataframe tbody tr th:only-of-type {\n",
       "        vertical-align: middle;\n",
       "    }\n",
       "\n",
       "    .dataframe tbody tr th {\n",
       "        vertical-align: top;\n",
       "    }\n",
       "\n",
       "    .dataframe thead th {\n",
       "        text-align: right;\n",
       "    }\n",
       "</style>\n",
       "<table border=\"1\" class=\"dataframe\">\n",
       "  <thead>\n",
       "    <tr style=\"text-align: right;\">\n",
       "      <th></th>\n",
       "      <th>Country_code</th>\n",
       "      <th>Country</th>\n",
       "      <th>Year</th>\n",
       "      <th>lethality_rate_mean</th>\n",
       "      <th>Total_Population</th>\n",
       "      <th>Male_Population</th>\n",
       "      <th>Female_Population</th>\n",
       "      <th>Population_Density</th>\n",
       "      <th>Life_Expectancy</th>\n",
       "    </tr>\n",
       "  </thead>\n",
       "  <tbody>\n",
       "    <tr>\n",
       "      <th>0</th>\n",
       "      <td>AD</td>\n",
       "      <td>Andorra</td>\n",
       "      <td>2020</td>\n",
       "      <td>4.065300</td>\n",
       "      <td>78000</td>\n",
       "      <td>40000</td>\n",
       "      <td>38000</td>\n",
       "      <td>165</td>\n",
       "      <td>79</td>\n",
       "    </tr>\n",
       "    <tr>\n",
       "      <th>1</th>\n",
       "      <td>AD</td>\n",
       "      <td>Andorra</td>\n",
       "      <td>2021</td>\n",
       "      <td>1.011576</td>\n",
       "      <td>79000</td>\n",
       "      <td>40000</td>\n",
       "      <td>39000</td>\n",
       "      <td>168</td>\n",
       "      <td>80</td>\n",
       "    </tr>\n",
       "    <tr>\n",
       "      <th>2</th>\n",
       "      <td>AE</td>\n",
       "      <td>United Arab Emirates</td>\n",
       "      <td>2020</td>\n",
       "      <td>0.556535</td>\n",
       "      <td>9287000</td>\n",
       "      <td>6475000</td>\n",
       "      <td>2812000</td>\n",
       "      <td>131</td>\n",
       "      <td>79</td>\n",
       "    </tr>\n",
       "    <tr>\n",
       "      <th>3</th>\n",
       "      <td>AE</td>\n",
       "      <td>United Arab Emirates</td>\n",
       "      <td>2021</td>\n",
       "      <td>0.297417</td>\n",
       "      <td>9365000</td>\n",
       "      <td>6512000</td>\n",
       "      <td>2853000</td>\n",
       "      <td>132</td>\n",
       "      <td>79</td>\n",
       "    </tr>\n",
       "    <tr>\n",
       "      <th>4</th>\n",
       "      <td>AF</td>\n",
       "      <td>Afghanistan</td>\n",
       "      <td>2020</td>\n",
       "      <td>3.226454</td>\n",
       "      <td>38972000</td>\n",
       "      <td>19692000</td>\n",
       "      <td>19280000</td>\n",
       "      <td>60</td>\n",
       "      <td>63</td>\n",
       "    </tr>\n",
       "    <tr>\n",
       "      <th>...</th>\n",
       "      <td>...</td>\n",
       "      <td>...</td>\n",
       "      <td>...</td>\n",
       "      <td>...</td>\n",
       "      <td>...</td>\n",
       "      <td>...</td>\n",
       "      <td>...</td>\n",
       "      <td>...</td>\n",
       "      <td>...</td>\n",
       "    </tr>\n",
       "    <tr>\n",
       "      <th>456</th>\n",
       "      <td>ZA</td>\n",
       "      <td>South Africa</td>\n",
       "      <td>2021</td>\n",
       "      <td>2.816684</td>\n",
       "      <td>59392000</td>\n",
       "      <td>28895000</td>\n",
       "      <td>30498000</td>\n",
       "      <td>49</td>\n",
       "      <td>62</td>\n",
       "    </tr>\n",
       "    <tr>\n",
       "      <th>457</th>\n",
       "      <td>ZM</td>\n",
       "      <td>Zambia</td>\n",
       "      <td>2020</td>\n",
       "      <td>2.740274</td>\n",
       "      <td>18928000</td>\n",
       "      <td>9339000</td>\n",
       "      <td>9589000</td>\n",
       "      <td>25</td>\n",
       "      <td>62</td>\n",
       "    </tr>\n",
       "    <tr>\n",
       "      <th>458</th>\n",
       "      <td>ZM</td>\n",
       "      <td>Zambia</td>\n",
       "      <td>2021</td>\n",
       "      <td>1.576809</td>\n",
       "      <td>19473000</td>\n",
       "      <td>9609000</td>\n",
       "      <td>9864000</td>\n",
       "      <td>26</td>\n",
       "      <td>61</td>\n",
       "    </tr>\n",
       "    <tr>\n",
       "      <th>459</th>\n",
       "      <td>ZW</td>\n",
       "      <td>Zimbabwe</td>\n",
       "      <td>2020</td>\n",
       "      <td>2.940111</td>\n",
       "      <td>15670000</td>\n",
       "      <td>7385000</td>\n",
       "      <td>8284000</td>\n",
       "      <td>41</td>\n",
       "      <td>61</td>\n",
       "    </tr>\n",
       "    <tr>\n",
       "      <th>460</th>\n",
       "      <td>ZW</td>\n",
       "      <td>Zimbabwe</td>\n",
       "      <td>2021</td>\n",
       "      <td>2.845117</td>\n",
       "      <td>15994000</td>\n",
       "      <td>7544000</td>\n",
       "      <td>8450000</td>\n",
       "      <td>41</td>\n",
       "      <td>59</td>\n",
       "    </tr>\n",
       "  </tbody>\n",
       "</table>\n",
       "<p>461 rows × 9 columns</p>\n",
       "</div>"
      ],
      "text/plain": [
       "    Country_code               Country  Year  lethality_rate_mean  \\\n",
       "0             AD               Andorra  2020             4.065300   \n",
       "1             AD               Andorra  2021             1.011576   \n",
       "2             AE  United Arab Emirates  2020             0.556535   \n",
       "3             AE  United Arab Emirates  2021             0.297417   \n",
       "4             AF           Afghanistan  2020             3.226454   \n",
       "..           ...                   ...   ...                  ...   \n",
       "456           ZA          South Africa  2021             2.816684   \n",
       "457           ZM                Zambia  2020             2.740274   \n",
       "458           ZM                Zambia  2021             1.576809   \n",
       "459           ZW              Zimbabwe  2020             2.940111   \n",
       "460           ZW              Zimbabwe  2021             2.845117   \n",
       "\n",
       "     Total_Population  Male_Population  Female_Population  Population_Density  \\\n",
       "0               78000            40000              38000                 165   \n",
       "1               79000            40000              39000                 168   \n",
       "2             9287000          6475000            2812000                 131   \n",
       "3             9365000          6512000            2853000                 132   \n",
       "4            38972000         19692000           19280000                  60   \n",
       "..                ...              ...                ...                 ...   \n",
       "456          59392000         28895000           30498000                  49   \n",
       "457          18928000          9339000            9589000                  25   \n",
       "458          19473000          9609000            9864000                  26   \n",
       "459          15670000          7385000            8284000                  41   \n",
       "460          15994000          7544000            8450000                  41   \n",
       "\n",
       "     Life_Expectancy  \n",
       "0                 79  \n",
       "1                 80  \n",
       "2                 79  \n",
       "3                 79  \n",
       "4                 63  \n",
       "..               ...  \n",
       "456               62  \n",
       "457               62  \n",
       "458               61  \n",
       "459               61  \n",
       "460               59  \n",
       "\n",
       "[461 rows x 9 columns]"
      ]
     },
     "execution_count": 71,
     "metadata": {},
     "output_type": "execute_result"
    }
   ],
   "source": [
    "df_final = pd.merge(df_agrupado, df_population_limpio, on=[\"Country_code\", 'Year'], how=\"inner\")\n",
    "df_final"
   ]
  },
  {
   "cell_type": "markdown",
   "metadata": {},
   "source": [
    "Storing Mexico, Argentina and Colombia Data"
   ]
  },
  {
   "cell_type": "code",
   "execution_count": 72,
   "metadata": {},
   "outputs": [
    {
     "data": {
      "text/html": [
       "<div>\n",
       "<style scoped>\n",
       "    .dataframe tbody tr th:only-of-type {\n",
       "        vertical-align: middle;\n",
       "    }\n",
       "\n",
       "    .dataframe tbody tr th {\n",
       "        vertical-align: top;\n",
       "    }\n",
       "\n",
       "    .dataframe thead th {\n",
       "        text-align: right;\n",
       "    }\n",
       "</style>\n",
       "<table border=\"1\" class=\"dataframe\">\n",
       "  <thead>\n",
       "    <tr style=\"text-align: right;\">\n",
       "      <th></th>\n",
       "      <th>Country</th>\n",
       "      <th>Year</th>\n",
       "      <th>lethality_rate_mean</th>\n",
       "      <th>Population_Density</th>\n",
       "      <th>Female_Population</th>\n",
       "      <th>Life_Expectancy</th>\n",
       "    </tr>\n",
       "  </thead>\n",
       "  <tbody>\n",
       "    <tr>\n",
       "      <th>0</th>\n",
       "      <td>Mexico</td>\n",
       "      <td>2020</td>\n",
       "      <td>10.524189</td>\n",
       "      <td>64</td>\n",
       "      <td>64411000</td>\n",
       "      <td>70</td>\n",
       "    </tr>\n",
       "    <tr>\n",
       "      <th>1</th>\n",
       "      <td>Mexico</td>\n",
       "      <td>2021</td>\n",
       "      <td>9.660328</td>\n",
       "      <td>65</td>\n",
       "      <td>64849000</td>\n",
       "      <td>70</td>\n",
       "    </tr>\n",
       "    <tr>\n",
       "      <th>2</th>\n",
       "      <td>Argentina</td>\n",
       "      <td>2020</td>\n",
       "      <td>4.523741</td>\n",
       "      <td>16</td>\n",
       "      <td>22739000</td>\n",
       "      <td>76</td>\n",
       "    </tr>\n",
       "    <tr>\n",
       "      <th>3</th>\n",
       "      <td>Argentina</td>\n",
       "      <td>2021</td>\n",
       "      <td>2.775872</td>\n",
       "      <td>16</td>\n",
       "      <td>22862000</td>\n",
       "      <td>75</td>\n",
       "    </tr>\n",
       "    <tr>\n",
       "      <th>4</th>\n",
       "      <td>Colombia</td>\n",
       "      <td>2020</td>\n",
       "      <td>3.253417</td>\n",
       "      <td>45</td>\n",
       "      <td>25791000</td>\n",
       "      <td>75</td>\n",
       "    </tr>\n",
       "    <tr>\n",
       "      <th>5</th>\n",
       "      <td>Colombia</td>\n",
       "      <td>2021</td>\n",
       "      <td>2.577123</td>\n",
       "      <td>46</td>\n",
       "      <td>26101000</td>\n",
       "      <td>73</td>\n",
       "    </tr>\n",
       "  </tbody>\n",
       "</table>\n",
       "</div>"
      ],
      "text/plain": [
       "     Country  Year  lethality_rate_mean Population_Density Female_Population  \\\n",
       "0     Mexico  2020            10.524189                 64          64411000   \n",
       "1     Mexico  2021             9.660328                 65          64849000   \n",
       "2  Argentina  2020             4.523741                 16          22739000   \n",
       "3  Argentina  2021             2.775872                 16          22862000   \n",
       "4   Colombia  2020             3.253417                 45          25791000   \n",
       "5   Colombia  2021             2.577123                 46          26101000   \n",
       "\n",
       "  Life_Expectancy  \n",
       "0              70  \n",
       "1              70  \n",
       "2              76  \n",
       "3              75  \n",
       "4              75  \n",
       "5              73  "
      ]
     },
     "execution_count": 72,
     "metadata": {},
     "output_type": "execute_result"
    }
   ],
   "source": [
    "countries_code = ['MX','AR','CO']\n",
    "\n",
    "countries = pd.DataFrame(columns=['Country', 'Year', 'lethality_rate_mean', 'Population_Density', 'Female_Population', 'Life_Expectancy'])\n",
    "\n",
    "for country_code in countries_code:\n",
    "  country = df_final[df_final['Country_code'] == country_code][['Country', 'Year', 'lethality_rate_mean', 'Population_Density', 'Female_Population', 'Life_Expectancy']]\n",
    "  countries = pd.concat([countries, country], ignore_index=True)\n",
    "\n",
    "countries"
   ]
  },
  {
   "cell_type": "code",
   "execution_count": 73,
   "metadata": {},
   "outputs": [
    {
     "data": {
      "text/html": [
       "<div>\n",
       "<style scoped>\n",
       "    .dataframe tbody tr th:only-of-type {\n",
       "        vertical-align: middle;\n",
       "    }\n",
       "\n",
       "    .dataframe tbody tr th {\n",
       "        vertical-align: top;\n",
       "    }\n",
       "\n",
       "    .dataframe thead th {\n",
       "        text-align: right;\n",
       "    }\n",
       "</style>\n",
       "<table border=\"1\" class=\"dataframe\">\n",
       "  <thead>\n",
       "    <tr style=\"text-align: right;\">\n",
       "      <th></th>\n",
       "      <th>Year</th>\n",
       "      <th>lethality_rate_mean</th>\n",
       "      <th>Total_Population</th>\n",
       "      <th>Male_Population</th>\n",
       "      <th>Female_Population</th>\n",
       "      <th>Population_Density</th>\n",
       "      <th>Life_Expectancy</th>\n",
       "    </tr>\n",
       "  </thead>\n",
       "  <tbody>\n",
       "    <tr>\n",
       "      <th>0</th>\n",
       "      <td>2020</td>\n",
       "      <td>4.065300</td>\n",
       "      <td>78000</td>\n",
       "      <td>40000</td>\n",
       "      <td>38000</td>\n",
       "      <td>165</td>\n",
       "      <td>79</td>\n",
       "    </tr>\n",
       "    <tr>\n",
       "      <th>1</th>\n",
       "      <td>2021</td>\n",
       "      <td>1.011576</td>\n",
       "      <td>79000</td>\n",
       "      <td>40000</td>\n",
       "      <td>39000</td>\n",
       "      <td>168</td>\n",
       "      <td>80</td>\n",
       "    </tr>\n",
       "    <tr>\n",
       "      <th>2</th>\n",
       "      <td>2020</td>\n",
       "      <td>0.556535</td>\n",
       "      <td>9287000</td>\n",
       "      <td>6475000</td>\n",
       "      <td>2812000</td>\n",
       "      <td>131</td>\n",
       "      <td>79</td>\n",
       "    </tr>\n",
       "    <tr>\n",
       "      <th>3</th>\n",
       "      <td>2021</td>\n",
       "      <td>0.297417</td>\n",
       "      <td>9365000</td>\n",
       "      <td>6512000</td>\n",
       "      <td>2853000</td>\n",
       "      <td>132</td>\n",
       "      <td>79</td>\n",
       "    </tr>\n",
       "    <tr>\n",
       "      <th>4</th>\n",
       "      <td>2020</td>\n",
       "      <td>3.226454</td>\n",
       "      <td>38972000</td>\n",
       "      <td>19692000</td>\n",
       "      <td>19280000</td>\n",
       "      <td>60</td>\n",
       "      <td>63</td>\n",
       "    </tr>\n",
       "    <tr>\n",
       "      <th>...</th>\n",
       "      <td>...</td>\n",
       "      <td>...</td>\n",
       "      <td>...</td>\n",
       "      <td>...</td>\n",
       "      <td>...</td>\n",
       "      <td>...</td>\n",
       "      <td>...</td>\n",
       "    </tr>\n",
       "    <tr>\n",
       "      <th>456</th>\n",
       "      <td>2021</td>\n",
       "      <td>2.816684</td>\n",
       "      <td>59392000</td>\n",
       "      <td>28895000</td>\n",
       "      <td>30498000</td>\n",
       "      <td>49</td>\n",
       "      <td>62</td>\n",
       "    </tr>\n",
       "    <tr>\n",
       "      <th>457</th>\n",
       "      <td>2020</td>\n",
       "      <td>2.740274</td>\n",
       "      <td>18928000</td>\n",
       "      <td>9339000</td>\n",
       "      <td>9589000</td>\n",
       "      <td>25</td>\n",
       "      <td>62</td>\n",
       "    </tr>\n",
       "    <tr>\n",
       "      <th>458</th>\n",
       "      <td>2021</td>\n",
       "      <td>1.576809</td>\n",
       "      <td>19473000</td>\n",
       "      <td>9609000</td>\n",
       "      <td>9864000</td>\n",
       "      <td>26</td>\n",
       "      <td>61</td>\n",
       "    </tr>\n",
       "    <tr>\n",
       "      <th>459</th>\n",
       "      <td>2020</td>\n",
       "      <td>2.940111</td>\n",
       "      <td>15670000</td>\n",
       "      <td>7385000</td>\n",
       "      <td>8284000</td>\n",
       "      <td>41</td>\n",
       "      <td>61</td>\n",
       "    </tr>\n",
       "    <tr>\n",
       "      <th>460</th>\n",
       "      <td>2021</td>\n",
       "      <td>2.845117</td>\n",
       "      <td>15994000</td>\n",
       "      <td>7544000</td>\n",
       "      <td>8450000</td>\n",
       "      <td>41</td>\n",
       "      <td>59</td>\n",
       "    </tr>\n",
       "  </tbody>\n",
       "</table>\n",
       "<p>461 rows × 7 columns</p>\n",
       "</div>"
      ],
      "text/plain": [
       "     Year  lethality_rate_mean  Total_Population  Male_Population  \\\n",
       "0    2020             4.065300             78000            40000   \n",
       "1    2021             1.011576             79000            40000   \n",
       "2    2020             0.556535           9287000          6475000   \n",
       "3    2021             0.297417           9365000          6512000   \n",
       "4    2020             3.226454          38972000         19692000   \n",
       "..    ...                  ...               ...              ...   \n",
       "456  2021             2.816684          59392000         28895000   \n",
       "457  2020             2.740274          18928000          9339000   \n",
       "458  2021             1.576809          19473000          9609000   \n",
       "459  2020             2.940111          15670000          7385000   \n",
       "460  2021             2.845117          15994000          7544000   \n",
       "\n",
       "     Female_Population  Population_Density  Life_Expectancy  \n",
       "0                38000                 165               79  \n",
       "1                39000                 168               80  \n",
       "2              2812000                 131               79  \n",
       "3              2853000                 132               79  \n",
       "4             19280000                  60               63  \n",
       "..                 ...                 ...              ...  \n",
       "456           30498000                  49               62  \n",
       "457            9589000                  25               62  \n",
       "458            9864000                  26               61  \n",
       "459            8284000                  41               61  \n",
       "460            8450000                  41               59  \n",
       "\n",
       "[461 rows x 7 columns]"
      ]
     },
     "execution_count": 73,
     "metadata": {},
     "output_type": "execute_result"
    }
   ],
   "source": [
    "df_final.drop(columns=['Country_code', 'Country'], inplace=True)\n",
    "df_final"
   ]
  },
  {
   "cell_type": "markdown",
   "metadata": {},
   "source": [
    "### Feature Importances"
   ]
  },
  {
   "cell_type": "code",
   "execution_count": 74,
   "metadata": {},
   "outputs": [],
   "source": [
    "x = df_final.drop(['lethality_rate_mean'], axis=1)\n",
    "y = df_final['lethality_rate_mean']"
   ]
  },
  {
   "cell_type": "code",
   "execution_count": 75,
   "metadata": {},
   "outputs": [],
   "source": [
    "from sklearn.ensemble import RandomForestRegressor"
   ]
  },
  {
   "cell_type": "code",
   "execution_count": 76,
   "metadata": {},
   "outputs": [
    {
     "data": {
      "text/html": [
       "<style>#sk-container-id-1 {color: black;}#sk-container-id-1 pre{padding: 0;}#sk-container-id-1 div.sk-toggleable {background-color: white;}#sk-container-id-1 label.sk-toggleable__label {cursor: pointer;display: block;width: 100%;margin-bottom: 0;padding: 0.3em;box-sizing: border-box;text-align: center;}#sk-container-id-1 label.sk-toggleable__label-arrow:before {content: \"▸\";float: left;margin-right: 0.25em;color: #696969;}#sk-container-id-1 label.sk-toggleable__label-arrow:hover:before {color: black;}#sk-container-id-1 div.sk-estimator:hover label.sk-toggleable__label-arrow:before {color: black;}#sk-container-id-1 div.sk-toggleable__content {max-height: 0;max-width: 0;overflow: hidden;text-align: left;background-color: #f0f8ff;}#sk-container-id-1 div.sk-toggleable__content pre {margin: 0.2em;color: black;border-radius: 0.25em;background-color: #f0f8ff;}#sk-container-id-1 input.sk-toggleable__control:checked~div.sk-toggleable__content {max-height: 200px;max-width: 100%;overflow: auto;}#sk-container-id-1 input.sk-toggleable__control:checked~label.sk-toggleable__label-arrow:before {content: \"▾\";}#sk-container-id-1 div.sk-estimator input.sk-toggleable__control:checked~label.sk-toggleable__label {background-color: #d4ebff;}#sk-container-id-1 div.sk-label input.sk-toggleable__control:checked~label.sk-toggleable__label {background-color: #d4ebff;}#sk-container-id-1 input.sk-hidden--visually {border: 0;clip: rect(1px 1px 1px 1px);clip: rect(1px, 1px, 1px, 1px);height: 1px;margin: -1px;overflow: hidden;padding: 0;position: absolute;width: 1px;}#sk-container-id-1 div.sk-estimator {font-family: monospace;background-color: #f0f8ff;border: 1px dotted black;border-radius: 0.25em;box-sizing: border-box;margin-bottom: 0.5em;}#sk-container-id-1 div.sk-estimator:hover {background-color: #d4ebff;}#sk-container-id-1 div.sk-parallel-item::after {content: \"\";width: 100%;border-bottom: 1px solid gray;flex-grow: 1;}#sk-container-id-1 div.sk-label:hover label.sk-toggleable__label {background-color: #d4ebff;}#sk-container-id-1 div.sk-serial::before {content: \"\";position: absolute;border-left: 1px solid gray;box-sizing: border-box;top: 0;bottom: 0;left: 50%;z-index: 0;}#sk-container-id-1 div.sk-serial {display: flex;flex-direction: column;align-items: center;background-color: white;padding-right: 0.2em;padding-left: 0.2em;position: relative;}#sk-container-id-1 div.sk-item {position: relative;z-index: 1;}#sk-container-id-1 div.sk-parallel {display: flex;align-items: stretch;justify-content: center;background-color: white;position: relative;}#sk-container-id-1 div.sk-item::before, #sk-container-id-1 div.sk-parallel-item::before {content: \"\";position: absolute;border-left: 1px solid gray;box-sizing: border-box;top: 0;bottom: 0;left: 50%;z-index: -1;}#sk-container-id-1 div.sk-parallel-item {display: flex;flex-direction: column;z-index: 1;position: relative;background-color: white;}#sk-container-id-1 div.sk-parallel-item:first-child::after {align-self: flex-end;width: 50%;}#sk-container-id-1 div.sk-parallel-item:last-child::after {align-self: flex-start;width: 50%;}#sk-container-id-1 div.sk-parallel-item:only-child::after {width: 0;}#sk-container-id-1 div.sk-dashed-wrapped {border: 1px dashed gray;margin: 0 0.4em 0.5em 0.4em;box-sizing: border-box;padding-bottom: 0.4em;background-color: white;}#sk-container-id-1 div.sk-label label {font-family: monospace;font-weight: bold;display: inline-block;line-height: 1.2em;}#sk-container-id-1 div.sk-label-container {text-align: center;}#sk-container-id-1 div.sk-container {/* jupyter's `normalize.less` sets `[hidden] { display: none; }` but bootstrap.min.css set `[hidden] { display: none !important; }` so we also need the `!important` here to be able to override the default hidden behavior on the sphinx rendered scikit-learn.org. See: https://github.com/scikit-learn/scikit-learn/issues/21755 */display: inline-block !important;position: relative;}#sk-container-id-1 div.sk-text-repr-fallback {display: none;}</style><div id=\"sk-container-id-1\" class=\"sk-top-container\"><div class=\"sk-text-repr-fallback\"><pre>RandomForestRegressor()</pre><b>In a Jupyter environment, please rerun this cell to show the HTML representation or trust the notebook. <br />On GitHub, the HTML representation is unable to render, please try loading this page with nbviewer.org.</b></div><div class=\"sk-container\" hidden><div class=\"sk-item\"><div class=\"sk-estimator sk-toggleable\"><input class=\"sk-toggleable__control sk-hidden--visually\" id=\"sk-estimator-id-1\" type=\"checkbox\" checked><label for=\"sk-estimator-id-1\" class=\"sk-toggleable__label sk-toggleable__label-arrow\">RandomForestRegressor</label><div class=\"sk-toggleable__content\"><pre>RandomForestRegressor()</pre></div></div></div></div></div>"
      ],
      "text/plain": [
       "RandomForestRegressor()"
      ]
     },
     "execution_count": 76,
     "metadata": {},
     "output_type": "execute_result"
    }
   ],
   "source": [
    "model = RandomForestRegressor()\n",
    "model.fit(x, y)"
   ]
  },
  {
   "cell_type": "code",
   "execution_count": 77,
   "metadata": {},
   "outputs": [
    {
     "data": {
      "text/plain": [
       "array([0.05036801, 0.14675964, 0.15111031, 0.22576928, 0.25930811,\n",
       "       0.16668465])"
      ]
     },
     "execution_count": 77,
     "metadata": {},
     "output_type": "execute_result"
    }
   ],
   "source": [
    "model.feature_importances_"
   ]
  },
  {
   "cell_type": "code",
   "execution_count": 78,
   "metadata": {},
   "outputs": [
    {
     "data": {
      "text/plain": [
       "Population_Density    0.259308\n",
       "Female_Population     0.225769\n",
       "Life_Expectancy       0.166685\n",
       "Male_Population       0.151110\n",
       "Total_Population      0.146760\n",
       "Year                  0.050368\n",
       "dtype: float64"
      ]
     },
     "execution_count": 78,
     "metadata": {},
     "output_type": "execute_result"
    }
   ],
   "source": [
    "feature_importances = pd.Series(model.feature_importances_, index=x.columns).sort_values(ascending=False)\n",
    "feature_importances"
   ]
  },
  {
   "cell_type": "code",
   "execution_count": 79,
   "metadata": {},
   "outputs": [
    {
     "data": {
      "text/plain": [
       "Population_Density    25.93\n",
       "Female_Population     22.58\n",
       "Life_Expectancy       16.67\n",
       "Male_Population       15.11\n",
       "Total_Population      14.68\n",
       "Year                   5.04\n",
       "dtype: float64"
      ]
     },
     "execution_count": 79,
     "metadata": {},
     "output_type": "execute_result"
    }
   ],
   "source": [
    "ft_imp_barvalues = feature_importances.copy()\n",
    "for item in ft_imp_barvalues:\n",
    "  ft_imp_barvalues = ft_imp_barvalues.replace(item, round(item*100,2))\n",
    "ft_imp_barvalues"
   ]
  },
  {
   "cell_type": "code",
   "execution_count": 80,
   "metadata": {},
   "outputs": [
    {
     "data": {
      "image/png": "[encoded data removed]",
      "text/plain": [
       "<Figure size 1000x600 with 1 Axes>"
      ]
     },
     "metadata": {},
     "output_type": "display_data"
    }
   ],
   "source": [
    "fig, ax = plt.subplots(figsize=(10,6))\n",
    "ft_imp_barvalues.plot(kind='bar')\n",
    "ax.set_facecolor(\"white\")\n",
    "ax.set_ylim(0, 30)\n",
    "# ax.set_yticklabels()\n",
    "yticklabels = []\n",
    "for item in ax.get_yticklabels():\n",
    "  yticklabels.append(f'{item.get_text()}%')\n",
    "ax.set_yticklabels(yticklabels)\n",
    "ax.set_xticklabels(labels=feature_importances.index, rotation=30)\n",
    "alpha = 1\n",
    "for bar in ax.patches:\n",
    "  x = bar.get_x() + bar.get_width()/6\n",
    "  y = bar.get_height() /2\n",
    "  value = f'{bar.get_height()}%'\n",
    "  ax.text(x, y, value)\n",
    "  bar.set_alpha(alpha)\n",
    "  alpha = alpha - 0.15\n",
    "plt.show()"
   ]
  },
  {
   "cell_type": "markdown",
   "metadata": {},
   "source": [
    "**Conclusión:**\n",
    "\n",
    "Según nuestro análisis de importancia, la densidad de la población destaca como más influyente, seguida de la población femenina con un 25% y 24% respectivamente.\n",
    "Esto sugiere que densidad de la población y el número de la población femenina son características relevantes en la incidencia de la letalidad de un país cuando evaluamos el covid-19."
   ]
  }
 ],
 "metadata": {
  "kernelspec": {
   "display_name": "Python 3",
   "language": "python",
   "name": "python3"
  },
  "language_info": {
   "codemirror_mode": {
    "name": "ipython",
    "version": 3
   },
   "file_extension": ".py",
   "mimetype": "text/x-python",
   "name": "python",
   "nbconvert_exporter": "python",
   "pygments_lexer": "ipython3",
   "version": "3.12.0"
  }
 },
 "nbformat": 4,
 "nbformat_minor": 2
}
