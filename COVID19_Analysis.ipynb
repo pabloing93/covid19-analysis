{
  "cells": [
    {
      "cell_type": "markdown",
      "metadata": {
        "id": "9N9Dh-mEqyWf"
      },
      "source": [
        "# **PROBLEMA DE NEGOCIO**\n",
        "\n",
        "\n",
        "\n",
        "\n",
        "---\n",
        "\n",
        "\n"
      ]
    },
    {
      "cell_type": "markdown",
      "metadata": {
        "id": "M8MuNvhKq2xm"
      },
      "source": [
        "## Una entidad gubernamental responsable de la gestión de la salud en un país enfrenta el desafío de comprender y analizar la propagación del COVID-19 para tomar decisiones informadas y eficaces en la gestión de la pandemia. Como científico de datos, tu tarea es analizar los datos relacionados con el COVID-19 y presentar insights a través de visualizaciones que respondan a las siguientes preguntas clave:"
      ]
    },
    {
      "cell_type": "markdown",
      "metadata": {
        "id": "Yjrs-j6Xq84a"
      },
      "source": [
        "# 1. Configuración del ambiente"
      ]
    },
    {
      "cell_type": "code",
      "execution_count": 372,
      "metadata": {
        "id": "FMSYT6iXsT8q"
      },
      "outputs": [],
      "source": [
        "import pandas as pd\n",
        "import numpy as np\n",
        "import matplotlib.pyplot as plt\n",
        "from io import StringIO\n",
        "import sklearn as sn\n",
        "import requests\n",
        "import warnings\n",
        "warnings.filterwarnings(\"ignore\")\n",
        "\n"
      ]
    },
    {
      "cell_type": "markdown",
      "metadata": {
        "id": "LaPeBVIyrD09"
      },
      "source": [
        "# 2. Obtención, Tratamiento y Análisis Exploratorio (EDA)"
      ]
    },
    {
      "cell_type": "markdown",
      "metadata": {
        "id": "UIUsWLpdsTv2"
      },
      "source": [
        "### Cargando las bases de datos"
      ]
    },
    {
      "cell_type": "code",
      "execution_count": 133,
      "metadata": {
        "id": "ncFFhLKGlWzJ"
      },
      "outputs": [],
      "source": [
        "df_covid = pd.read_csv(StringIO(requests.get(\"https://covid19.who.int/WHO-COVID-19-global-data.csv\").text))\n",
        "df_population = pd.read_excel('https://raw.githubusercontent.com/ElProfeAlejo/Bootcamp_Databases/main/WPP2022_GEN_F01_DEMOGRAPHIC_INDICATORS_COMPACT_REV1.xlsx', sheet_name=0, skiprows=16)\n",
        "df_population = df_population[df_population['Year'] == 2019]\n"
      ]
    },
    {
      "cell_type": "markdown",
      "metadata": {
        "id": "HPE_kROgWkrv"
      },
      "source": [
        "*   **df_covid**: contiene información de la evolución de casos del covid19. Base de datos otorgada por W.H.O. (World Health Organization).\n",
        "*   **df_population**: contiene información demográfica proporcionada por P.U.N. (Population United Nations)\n",
        "\n",
        "\n",
        "\n"
      ]
    },
    {
      "cell_type": "markdown",
      "metadata": {
        "id": "2nRuCScArM7l"
      },
      "source": [
        "### 2.1. EDA Base Covid World Health Organization"
      ]
    },
    {
      "cell_type": "code",
      "execution_count": 134,
      "metadata": {
        "colab": {
          "base_uri": "https://localhost:8080/"
        },
        "id": "uX8KonVgXWmk",
        "outputId": "79d1293a-c9af-402e-bbff-315e2391c474"
      },
      "outputs": [
        {
          "name": "stdout",
          "output_type": "stream",
          "text": [
            "<class 'pandas.core.frame.DataFrame'>\n",
            "RangeIndex: 50880 entries, 0 to 50879\n",
            "Data columns (total 8 columns):\n",
            " #   Column             Non-Null Count  Dtype  \n",
            "---  ------             --------------  -----  \n",
            " 0   Date_reported      50880 non-null  object \n",
            " 1   Country_code       49396 non-null  object \n",
            " 2   Country            49608 non-null  object \n",
            " 3   WHO_region         45792 non-null  object \n",
            " 4   New_cases          36622 non-null  float64\n",
            " 5   Cumulative_cases   50880 non-null  int64  \n",
            " 6   New_deaths         24216 non-null  float64\n",
            " 7   Cumulative_deaths  50880 non-null  int64  \n",
            "dtypes: float64(2), int64(2), object(4)\n",
            "memory usage: 3.1+ MB\n"
          ]
        }
      ],
      "source": [
        "df_covid.info()"
      ]
    },
    {
      "cell_type": "code",
      "execution_count": 135,
      "metadata": {
        "id": "85hpVQq4lWvs"
      },
      "outputs": [],
      "source": [
        "#from ast import Index\n",
        "df_covid_limpio = df_covid.dropna(subset = ['Country_code'])\n",
        "df_covid_limpio = df_covid_limpio[['Date_reported','Country_code','Country',\n",
        " 'New_cases','Cumulative_cases','New_deaths','Cumulative_deaths']]\n",
        "df_covid_limpio.fillna(0,inplace = True)"
      ]
    },
    {
      "cell_type": "code",
      "execution_count": 136,
      "metadata": {
        "colab": {
          "base_uri": "https://localhost:8080/"
        },
        "id": "ZwVrSNQphK-C",
        "outputId": "657f4273-114b-42c5-dc83-eca5835131cc"
      },
      "outputs": [
        {
          "data": {
            "text/plain": [
              "Date_reported        0\n",
              "Country_code         0\n",
              "Country              0\n",
              "New_cases            0\n",
              "Cumulative_cases     0\n",
              "New_deaths           0\n",
              "Cumulative_deaths    0\n",
              "dtype: int64"
            ]
          },
          "execution_count": 136,
          "metadata": {},
          "output_type": "execute_result"
        }
      ],
      "source": [
        "df_covid_limpio.isna().sum()"
      ]
    },
    {
      "cell_type": "code",
      "execution_count": 137,
      "metadata": {
        "colab": {
          "base_uri": "https://localhost:8080/"
        },
        "id": "1oWblB4khqeq",
        "outputId": "4be60175-7a3e-4989-b848-3be6fb13ee51"
      },
      "outputs": [
        {
          "name": "stdout",
          "output_type": "stream",
          "text": [
            "<class 'pandas.core.frame.DataFrame'>\n",
            "Index: 49396 entries, 0 to 50879\n",
            "Data columns (total 7 columns):\n",
            " #   Column             Non-Null Count  Dtype  \n",
            "---  ------             --------------  -----  \n",
            " 0   Date_reported      49396 non-null  object \n",
            " 1   Country_code       49396 non-null  object \n",
            " 2   Country            49396 non-null  object \n",
            " 3   New_cases          49396 non-null  float64\n",
            " 4   Cumulative_cases   49396 non-null  int64  \n",
            " 5   New_deaths         49396 non-null  float64\n",
            " 6   Cumulative_deaths  49396 non-null  int64  \n",
            "dtypes: float64(2), int64(2), object(3)\n",
            "memory usage: 3.0+ MB\n"
          ]
        }
      ],
      "source": [
        "df_covid_limpio.info()"
      ]
    },
    {
      "cell_type": "code",
      "execution_count": 138,
      "metadata": {
        "id": "41-LNc4fh1kj"
      },
      "outputs": [],
      "source": [
        "df_covid_limpio['Date_reported'] = pd.to_datetime(df_covid_limpio['Date_reported'])"
      ]
    },
    {
      "cell_type": "code",
      "execution_count": 139,
      "metadata": {
        "colab": {
          "base_uri": "https://localhost:8080/"
        },
        "id": "6K3cvkwSh3o5",
        "outputId": "392e8d7c-40e3-4273-cb8a-687c49ddfa32"
      },
      "outputs": [
        {
          "name": "stdout",
          "output_type": "stream",
          "text": [
            "<class 'pandas.core.frame.DataFrame'>\n",
            "Index: 49396 entries, 0 to 50879\n",
            "Data columns (total 7 columns):\n",
            " #   Column             Non-Null Count  Dtype         \n",
            "---  ------             --------------  -----         \n",
            " 0   Date_reported      49396 non-null  datetime64[ns]\n",
            " 1   Country_code       49396 non-null  object        \n",
            " 2   Country            49396 non-null  object        \n",
            " 3   New_cases          49396 non-null  float64       \n",
            " 4   Cumulative_cases   49396 non-null  int64         \n",
            " 5   New_deaths         49396 non-null  float64       \n",
            " 6   Cumulative_deaths  49396 non-null  int64         \n",
            "dtypes: datetime64[ns](1), float64(2), int64(2), object(2)\n",
            "memory usage: 3.0+ MB\n"
          ]
        }
      ],
      "source": [
        "df_covid_limpio.info()"
      ]
    },
    {
      "cell_type": "code",
      "execution_count": 140,
      "metadata": {
        "id": "kyhGRyFsh_po"
      },
      "outputs": [],
      "source": [
        "df_covid_limpio[['New_cases','New_deaths']] = df_covid_limpio[['New_cases','New_deaths']].astype('int64')"
      ]
    },
    {
      "cell_type": "code",
      "execution_count": 141,
      "metadata": {
        "id": "_Jm6UwdqhHjn"
      },
      "outputs": [],
      "source": [
        "df_covid_limpio['lethality_rate'] = ((df_covid_limpio['Cumulative_deaths'])/(df_covid_limpio['Cumulative_cases'])) * 100"
      ]
    },
    {
      "cell_type": "code",
      "execution_count": 142,
      "metadata": {
        "id": "peRYsXWgmlf4"
      },
      "outputs": [],
      "source": [
        "df_covid_limpio['lethality_rate'].fillna(0, inplace=True)"
      ]
    },
    {
      "cell_type": "code",
      "execution_count": 209,
      "metadata": {
        "colab": {
          "base_uri": "https://localhost:8080/",
          "height": 447
        },
        "id": "LMKQcaKYoh4F",
        "outputId": "4aff12e9-7aa9-4545-bd60-b5a441591e89"
      },
      "outputs": [
        {
          "data": {
            "image/png": "[encoded data removed]",
            "text/plain": [
              "<Figure size 640x480 with 1 Axes>"
            ]
          },
          "metadata": {},
          "output_type": "display_data"
        }
      ],
      "source": [
        "df_covid_limpio.boxplot(column=['lethality_rate'])\n",
        "plt.show()"
      ]
    },
    {
      "cell_type": "code",
      "execution_count": 144,
      "metadata": {
        "colab": {
          "base_uri": "https://localhost:8080/"
        },
        "id": "DtW7J7tylWom",
        "outputId": "19c26173-60bf-46fe-c0a6-d500971ccf97"
      },
      "outputs": [
        {
          "data": {
            "text/plain": [
              "0.01     0.000000\n",
              "0.02     0.000000\n",
              "0.03     0.000000\n",
              "0.04     0.000000\n",
              "0.05     0.000000\n",
              "          ...    \n",
              "0.95     5.000000\n",
              "0.96     5.650517\n",
              "0.97     6.460209\n",
              "0.98     7.928402\n",
              "0.99    12.260898\n",
              "Name: lethality_rate, Length: 99, dtype: float64"
            ]
          },
          "execution_count": 144,
          "metadata": {},
          "output_type": "execute_result"
        }
      ],
      "source": [
        "centiles = df_covid_limpio.lethality_rate.quantile([i/100 for i in range(1,100)])\n",
        "centiles"
      ]
    },
    {
      "cell_type": "code",
      "execution_count": 145,
      "metadata": {
        "colab": {
          "base_uri": "https://localhost:8080/"
        },
        "id": "703TG0IfwL7V",
        "outputId": "3c25e205-cecb-4c4c-fa85-6b44dc0ab118"
      },
      "outputs": [
        {
          "data": {
            "text/plain": [
              "(49396, 8)"
            ]
          },
          "execution_count": 145,
          "metadata": {},
          "output_type": "execute_result"
        }
      ],
      "source": [
        "df_covid_limpio.shape"
      ]
    },
    {
      "cell_type": "code",
      "execution_count": 146,
      "metadata": {
        "id": "oKEkI9LFvchS"
      },
      "outputs": [],
      "source": [
        "df_covid_limpio = df_covid_limpio[df_covid_limpio['lethality_rate'] <= centiles[0.99]]"
      ]
    },
    {
      "cell_type": "code",
      "execution_count": 210,
      "metadata": {
        "colab": {
          "base_uri": "https://localhost:8080/",
          "height": 447
        },
        "id": "7DVn_43x09oD",
        "outputId": "bf3979a5-e151-4337-95b0-212e097d2a6c"
      },
      "outputs": [
        {
          "data": {
            "image/png": "[encoded data removed]",
            "text/plain": [
              "<Figure size 640x480 with 1 Axes>"
            ]
          },
          "metadata": {},
          "output_type": "display_data"
        }
      ],
      "source": [
        "df_covid_limpio.boxplot(column=['lethality_rate'])\n",
        "plt.show()"
      ]
    },
    {
      "cell_type": "code",
      "execution_count": 148,
      "metadata": {
        "colab": {
          "base_uri": "https://localhost:8080/",
          "height": 300
        },
        "id": "R-cJW1Pe83su",
        "outputId": "f5a30890-fdc9-4618-cd78-37a8913b7774"
      },
      "outputs": [
        {
          "data": {
            "text/html": [
              "<div>\n",
              "<style scoped>\n",
              "    .dataframe tbody tr th:only-of-type {\n",
              "        vertical-align: middle;\n",
              "    }\n",
              "\n",
              "    .dataframe tbody tr th {\n",
              "        vertical-align: top;\n",
              "    }\n",
              "\n",
              "    .dataframe thead th {\n",
              "        text-align: right;\n",
              "    }\n",
              "</style>\n",
              "<table border=\"1\" class=\"dataframe\">\n",
              "  <thead>\n",
              "    <tr style=\"text-align: right;\">\n",
              "      <th></th>\n",
              "      <th>Date_reported</th>\n",
              "      <th>New_cases</th>\n",
              "      <th>Cumulative_cases</th>\n",
              "      <th>New_deaths</th>\n",
              "      <th>Cumulative_deaths</th>\n",
              "      <th>lethality_rate</th>\n",
              "    </tr>\n",
              "  </thead>\n",
              "  <tbody>\n",
              "    <tr>\n",
              "      <th>count</th>\n",
              "      <td>48902</td>\n",
              "      <td>4.890200e+04</td>\n",
              "      <td>4.890200e+04</td>\n",
              "      <td>48902.000000</td>\n",
              "      <td>4.890200e+04</td>\n",
              "      <td>48902.000000</td>\n",
              "    </tr>\n",
              "    <tr>\n",
              "      <th>mean</th>\n",
              "      <td>2022-01-15 22:05:48.353850624</td>\n",
              "      <td>1.578961e+04</td>\n",
              "      <td>1.659527e+06</td>\n",
              "      <td>138.018609</td>\n",
              "      <td>1.938730e+04</td>\n",
              "      <td>1.452976</td>\n",
              "    </tr>\n",
              "    <tr>\n",
              "      <th>min</th>\n",
              "      <td>2020-01-05 00:00:00</td>\n",
              "      <td>-6.507900e+04</td>\n",
              "      <td>0.000000e+00</td>\n",
              "      <td>-3432.000000</td>\n",
              "      <td>0.000000e+00</td>\n",
              "      <td>0.000000</td>\n",
              "    </tr>\n",
              "    <tr>\n",
              "      <th>25%</th>\n",
              "      <td>2021-01-10 00:00:00</td>\n",
              "      <td>0.000000e+00</td>\n",
              "      <td>3.904000e+03</td>\n",
              "      <td>0.000000</td>\n",
              "      <td>2.900000e+01</td>\n",
              "      <td>0.326607</td>\n",
              "    </tr>\n",
              "    <tr>\n",
              "      <th>50%</th>\n",
              "      <td>2022-01-16 00:00:00</td>\n",
              "      <td>1.030000e+02</td>\n",
              "      <td>4.379300e+04</td>\n",
              "      <td>0.000000</td>\n",
              "      <td>4.710000e+02</td>\n",
              "      <td>1.029184</td>\n",
              "    </tr>\n",
              "    <tr>\n",
              "      <th>75%</th>\n",
              "      <td>2023-01-22 00:00:00</td>\n",
              "      <td>2.005750e+03</td>\n",
              "      <td>5.070115e+05</td>\n",
              "      <td>20.000000</td>\n",
              "      <td>6.637750e+03</td>\n",
              "      <td>2.004507</td>\n",
              "    </tr>\n",
              "    <tr>\n",
              "      <th>max</th>\n",
              "      <td>2024-01-21 00:00:00</td>\n",
              "      <td>4.047548e+07</td>\n",
              "      <td>1.034368e+08</td>\n",
              "      <td>47687.000000</td>\n",
              "      <td>1.165780e+06</td>\n",
              "      <td>12.260536</td>\n",
              "    </tr>\n",
              "    <tr>\n",
              "      <th>std</th>\n",
              "      <td>NaN</td>\n",
              "      <td>2.420378e+05</td>\n",
              "      <td>7.309166e+06</td>\n",
              "      <td>867.312807</td>\n",
              "      <td>7.947323e+04</td>\n",
              "      <td>1.625929</td>\n",
              "    </tr>\n",
              "  </tbody>\n",
              "</table>\n",
              "</div>"
            ],
            "text/plain": [
              "                       Date_reported     New_cases  Cumulative_cases  \\\n",
              "count                          48902  4.890200e+04      4.890200e+04   \n",
              "mean   2022-01-15 22:05:48.353850624  1.578961e+04      1.659527e+06   \n",
              "min              2020-01-05 00:00:00 -6.507900e+04      0.000000e+00   \n",
              "25%              2021-01-10 00:00:00  0.000000e+00      3.904000e+03   \n",
              "50%              2022-01-16 00:00:00  1.030000e+02      4.379300e+04   \n",
              "75%              2023-01-22 00:00:00  2.005750e+03      5.070115e+05   \n",
              "max              2024-01-21 00:00:00  4.047548e+07      1.034368e+08   \n",
              "std                              NaN  2.420378e+05      7.309166e+06   \n",
              "\n",
              "         New_deaths  Cumulative_deaths  lethality_rate  \n",
              "count  48902.000000       4.890200e+04    48902.000000  \n",
              "mean     138.018609       1.938730e+04        1.452976  \n",
              "min    -3432.000000       0.000000e+00        0.000000  \n",
              "25%        0.000000       2.900000e+01        0.326607  \n",
              "50%        0.000000       4.710000e+02        1.029184  \n",
              "75%       20.000000       6.637750e+03        2.004507  \n",
              "max    47687.000000       1.165780e+06       12.260536  \n",
              "std      867.312807       7.947323e+04        1.625929  "
            ]
          },
          "execution_count": 148,
          "metadata": {},
          "output_type": "execute_result"
        }
      ],
      "source": [
        "df_covid_limpio.describe()"
      ]
    },
    {
      "cell_type": "markdown",
      "metadata": {
        "id": "a18_bX9Sw_Qb"
      },
      "source": [
        "### 2.2. EDA Base Population United Nations (información demográfica)"
      ]
    },
    {
      "cell_type": "markdown",
      "metadata": {
        "id": "D7f2dHOBaQ2-"
      },
      "source": [
        "#### 1.1. Creamos una copia de df_population y nos quedamos con aquellas columnas de interés.\n"
      ]
    },
    {
      "cell_type": "code",
      "execution_count": 149,
      "metadata": {
        "colab": {
          "base_uri": "https://localhost:8080/"
        },
        "id": "jeWRr93gxBlZ",
        "outputId": "381480d5-4335-44b1-f3a6-b3458db803ae"
      },
      "outputs": [
        {
          "name": "stdout",
          "output_type": "stream",
          "text": [
            "<class 'pandas.core.frame.DataFrame'>\n",
            "Index: 286 entries, 69 to 20593\n",
            "Data columns (total 6 columns):\n",
            " #   Column                                                    Non-Null Count  Dtype \n",
            "---  ------                                                    --------------  ----- \n",
            " 0   ISO2 Alpha-code                                           236 non-null    object\n",
            " 1   Total Population, as of 1 July (thousands)                286 non-null    object\n",
            " 2   Male Population, as of 1 July (thousands)                 286 non-null    object\n",
            " 3   Female Population, as of 1 July (thousands)               286 non-null    object\n",
            " 4   Population Density, as of 1 July (persons per square km)  286 non-null    object\n",
            " 5   Life Expectancy at Birth, both sexes (years)              286 non-null    object\n",
            "dtypes: object(6)\n",
            "memory usage: 15.6+ KB\n"
          ]
        }
      ],
      "source": [
        "df_population_limpio = df_population[['ISO2 Alpha-code','Total Population, as of 1 July (thousands)','Male Population, as of 1 July (thousands)','Female Population, as of 1 July (thousands)','Population Density, as of 1 July (persons per square km)','Life Expectancy at Birth, both sexes (years)']].copy()\n",
        "df_population_limpio.info()\n"
      ]
    },
    {
      "cell_type": "markdown",
      "metadata": {
        "id": "L_XUfNKsavGO"
      },
      "source": [
        "#### 1.2. Renombramos las columnas para mejor compresión de su información"
      ]
    },
    {
      "cell_type": "code",
      "execution_count": 150,
      "metadata": {
        "colab": {
          "base_uri": "https://localhost:8080/"
        },
        "id": "RUhZ3WtaFatw",
        "outputId": "03377a49-7436-4b8d-ae6c-9baa93d24798"
      },
      "outputs": [
        {
          "name": "stdout",
          "output_type": "stream",
          "text": [
            "<class 'pandas.core.frame.DataFrame'>\n",
            "Index: 286 entries, 69 to 20593\n",
            "Data columns (total 6 columns):\n",
            " #   Column              Non-Null Count  Dtype \n",
            "---  ------              --------------  ----- \n",
            " 0   Country_code        236 non-null    object\n",
            " 1   Total_Population    286 non-null    object\n",
            " 2   Male_Population     286 non-null    object\n",
            " 3   Female_Population   286 non-null    object\n",
            " 4   Population_Density  286 non-null    object\n",
            " 5   Life_Expectancy     286 non-null    object\n",
            "dtypes: object(6)\n",
            "memory usage: 15.6+ KB\n"
          ]
        }
      ],
      "source": [
        "df_population_limpio = df_population_limpio.rename(columns={\n",
        "    'ISO2 Alpha-code': 'Country_code',\n",
        "    'Total Population, as of 1 July (thousands)': 'Total_Population',\n",
        "    'Male Population, as of 1 July (thousands)': 'Male_Population',\n",
        "    'Female Population, as of 1 July (thousands)': 'Female_Population',\n",
        "    'Population Density, as of 1 July (persons per square km)': 'Population_Density',\n",
        "    'Life Expectancy at Birth, both sexes (years)': 'Life_Expectancy'\n",
        "})\n",
        "df_population_limpio.info()\n"
      ]
    },
    {
      "cell_type": "markdown",
      "metadata": {
        "id": "EY4cSn-taNyh"
      },
      "source": [
        "#### 1.3. Eliminamos registros nulos"
      ]
    },
    {
      "cell_type": "code",
      "execution_count": 151,
      "metadata": {
        "colab": {
          "base_uri": "https://localhost:8080/"
        },
        "id": "C14ndgzQxBfD",
        "outputId": "b59c22a8-8ad5-4f7e-8373-e192d90adc12"
      },
      "outputs": [
        {
          "data": {
            "text/plain": [
              "Country_code          50\n",
              "Total_Population       0\n",
              "Male_Population        0\n",
              "Female_Population      0\n",
              "Population_Density     0\n",
              "Life_Expectancy        0\n",
              "dtype: int64"
            ]
          },
          "execution_count": 151,
          "metadata": {},
          "output_type": "execute_result"
        }
      ],
      "source": [
        "#Verificar registros nulos (antes de eliminarlos)\n",
        "df_population_limpio.isna().sum()"
      ]
    },
    {
      "cell_type": "code",
      "execution_count": 152,
      "metadata": {
        "colab": {
          "base_uri": "https://localhost:8080/"
        },
        "id": "FS4JUF-yxBYY",
        "outputId": "6d5f9936-8d11-4f6b-f238-1a5d032c6601"
      },
      "outputs": [
        {
          "data": {
            "text/plain": [
              "Country_code          0\n",
              "Total_Population      0\n",
              "Male_Population       0\n",
              "Female_Population     0\n",
              "Population_Density    0\n",
              "Life_Expectancy       0\n",
              "dtype: int64"
            ]
          },
          "execution_count": 152,
          "metadata": {},
          "output_type": "execute_result"
        }
      ],
      "source": [
        "#Eliminar todos los registros nulos\n",
        "df_population_limpio.dropna(inplace=True)\n",
        "df_population_limpio.isna().sum()"
      ]
    },
    {
      "cell_type": "markdown",
      "metadata": {
        "id": "MrjjYM0Ea8Wn"
      },
      "source": [
        "#### 1.4. Formateamos las estructuras de datos"
      ]
    },
    {
      "cell_type": "code",
      "execution_count": 153,
      "metadata": {
        "colab": {
          "base_uri": "https://localhost:8080/"
        },
        "id": "MsPd8khtbAnJ",
        "outputId": "fce7453a-0692-4d3b-a8a1-03afd93a01b6"
      },
      "outputs": [
        {
          "name": "stdout",
          "output_type": "stream",
          "text": [
            "<class 'pandas.core.frame.DataFrame'>\n",
            "Index: 236 entries, 1801 to 20593\n",
            "Data columns (total 6 columns):\n",
            " #   Column              Non-Null Count  Dtype \n",
            "---  ------              --------------  ----- \n",
            " 0   Country_code        236 non-null    object\n",
            " 1   Total_Population    236 non-null    object\n",
            " 2   Male_Population     236 non-null    object\n",
            " 3   Female_Population   236 non-null    object\n",
            " 4   Population_Density  236 non-null    object\n",
            " 5   Life_Expectancy     236 non-null    object\n",
            "dtypes: object(6)\n",
            "memory usage: 12.9+ KB\n"
          ]
        }
      ],
      "source": [
        "#Requerimos convertir las columnas 1 a la 5 en INT\n",
        "df_population_limpio.info()"
      ]
    },
    {
      "cell_type": "code",
      "execution_count": 154,
      "metadata": {
        "colab": {
          "base_uri": "https://localhost:8080/",
          "height": 206
        },
        "id": "AlpZbZmhcHom",
        "outputId": "ec9a315c-15ce-42e3-8b23-dc73d838e8dd"
      },
      "outputs": [
        {
          "data": {
            "text/html": [
              "<div>\n",
              "<style scoped>\n",
              "    .dataframe tbody tr th:only-of-type {\n",
              "        vertical-align: middle;\n",
              "    }\n",
              "\n",
              "    .dataframe tbody tr th {\n",
              "        vertical-align: top;\n",
              "    }\n",
              "\n",
              "    .dataframe thead th {\n",
              "        text-align: right;\n",
              "    }\n",
              "</style>\n",
              "<table border=\"1\" class=\"dataframe\">\n",
              "  <thead>\n",
              "    <tr style=\"text-align: right;\">\n",
              "      <th></th>\n",
              "      <th>Country_code</th>\n",
              "      <th>Total_Population</th>\n",
              "      <th>Male_Population</th>\n",
              "      <th>Female_Population</th>\n",
              "      <th>Population_Density</th>\n",
              "      <th>Life_Expectancy</th>\n",
              "    </tr>\n",
              "  </thead>\n",
              "  <tbody>\n",
              "    <tr>\n",
              "      <th>1801</th>\n",
              "      <td>BI</td>\n",
              "      <td>11874.838</td>\n",
              "      <td>5894.278</td>\n",
              "      <td>5980.56</td>\n",
              "      <td>457.605</td>\n",
              "      <td>62.351</td>\n",
              "    </tr>\n",
              "    <tr>\n",
              "      <th>1873</th>\n",
              "      <td>KM</td>\n",
              "      <td>790.986</td>\n",
              "      <td>397.126</td>\n",
              "      <td>393.86</td>\n",
              "      <td>425.033</td>\n",
              "      <td>64.068</td>\n",
              "    </tr>\n",
              "    <tr>\n",
              "      <th>1945</th>\n",
              "      <td>DJ</td>\n",
              "      <td>1073.994</td>\n",
              "      <td>533.626</td>\n",
              "      <td>540.367</td>\n",
              "      <td>46.333</td>\n",
              "      <td>63.085</td>\n",
              "    </tr>\n",
              "    <tr>\n",
              "      <th>2017</th>\n",
              "      <td>ER</td>\n",
              "      <td>3498.818</td>\n",
              "      <td>1724.86</td>\n",
              "      <td>1773.958</td>\n",
              "      <td>28.881</td>\n",
              "      <td>67.3</td>\n",
              "    </tr>\n",
              "    <tr>\n",
              "      <th>2089</th>\n",
              "      <td>ET</td>\n",
              "      <td>114120.594</td>\n",
              "      <td>57375.433</td>\n",
              "      <td>56745.161</td>\n",
              "      <td>114.121</td>\n",
              "      <td>65.838</td>\n",
              "    </tr>\n",
              "  </tbody>\n",
              "</table>\n",
              "</div>"
            ],
            "text/plain": [
              "     Country_code Total_Population Male_Population Female_Population  \\\n",
              "1801           BI        11874.838        5894.278           5980.56   \n",
              "1873           KM          790.986         397.126            393.86   \n",
              "1945           DJ         1073.994         533.626           540.367   \n",
              "2017           ER         3498.818         1724.86          1773.958   \n",
              "2089           ET       114120.594       57375.433         56745.161   \n",
              "\n",
              "     Population_Density Life_Expectancy  \n",
              "1801            457.605          62.351  \n",
              "1873            425.033          64.068  \n",
              "1945             46.333          63.085  \n",
              "2017             28.881            67.3  \n",
              "2089            114.121          65.838  "
            ]
          },
          "execution_count": 154,
          "metadata": {},
          "output_type": "execute_result"
        }
      ],
      "source": [
        "#Observamos que tenemos decimales, por lo que deberíamos redondearlos previamente para su conversión\n",
        "df_population_limpio.head()"
      ]
    },
    {
      "cell_type": "code",
      "execution_count": 155,
      "metadata": {
        "colab": {
          "base_uri": "https://localhost:8080/"
        },
        "id": "XGTkfjlDdQjz",
        "outputId": "b7a19305-eb14-4c0f-ecba-8c0dbca38c2c"
      },
      "outputs": [
        {
          "name": "stdout",
          "output_type": "stream",
          "text": [
            "<class 'pandas.core.frame.DataFrame'>\n",
            "Index: 236 entries, 1801 to 20593\n",
            "Data columns (total 6 columns):\n",
            " #   Column              Non-Null Count  Dtype  \n",
            "---  ------              --------------  -----  \n",
            " 0   Country_code        236 non-null    object \n",
            " 1   Total_Population    236 non-null    float64\n",
            " 2   Male_Population     236 non-null    object \n",
            " 3   Female_Population   236 non-null    object \n",
            " 4   Population_Density  236 non-null    float64\n",
            " 5   Life_Expectancy     236 non-null    object \n",
            "dtypes: float64(2), object(4)\n",
            "memory usage: 12.9+ KB\n"
          ]
        }
      ],
      "source": [
        "#Primero la convertimos a float (las columnas comentadas dan un error)\n",
        "df_population_limpio = df_population_limpio.astype({\n",
        "  'Total_Population': 'float',\n",
        "  # 'Male_Population': 'float',\n",
        "  # 'Female_Population': 'float',\n",
        "  'Population_Density': 'float',\n",
        "  # 'Life_Expectancy': 'float'\n",
        "})\n",
        "df_population_limpio.info()"
      ]
    },
    {
      "cell_type": "code",
      "execution_count": 156,
      "metadata": {
        "colab": {
          "base_uri": "https://localhost:8080/",
          "height": 81
        },
        "id": "aRO_FSg9gON3",
        "outputId": "e7cd493d-c80e-4e00-b7ad-a012b4a44a3d"
      },
      "outputs": [
        {
          "data": {
            "text/html": [
              "<div>\n",
              "<style scoped>\n",
              "    .dataframe tbody tr th:only-of-type {\n",
              "        vertical-align: middle;\n",
              "    }\n",
              "\n",
              "    .dataframe tbody tr th {\n",
              "        vertical-align: top;\n",
              "    }\n",
              "\n",
              "    .dataframe thead th {\n",
              "        text-align: right;\n",
              "    }\n",
              "</style>\n",
              "<table border=\"1\" class=\"dataframe\">\n",
              "  <thead>\n",
              "    <tr style=\"text-align: right;\">\n",
              "      <th></th>\n",
              "      <th>Country_code</th>\n",
              "      <th>Total_Population</th>\n",
              "      <th>Male_Population</th>\n",
              "      <th>Female_Population</th>\n",
              "      <th>Population_Density</th>\n",
              "      <th>Life_Expectancy</th>\n",
              "    </tr>\n",
              "  </thead>\n",
              "  <tbody>\n",
              "    <tr>\n",
              "      <th>12817</th>\n",
              "      <td>VA</td>\n",
              "      <td>0.528</td>\n",
              "      <td>...</td>\n",
              "      <td>...</td>\n",
              "      <td>1200.0</td>\n",
              "      <td>...</td>\n",
              "    </tr>\n",
              "  </tbody>\n",
              "</table>\n",
              "</div>"
            ],
            "text/plain": [
              "      Country_code  Total_Population Male_Population Female_Population  \\\n",
              "12817           VA             0.528             ...               ...   \n",
              "\n",
              "       Population_Density Life_Expectancy  \n",
              "12817              1200.0             ...  "
            ]
          },
          "execution_count": 156,
          "metadata": {},
          "output_type": "execute_result"
        }
      ],
      "source": [
        "#Detectamos que existen errores tipográficos que no pueden ser convertidos directamente en floats\n",
        "criterio = df_population_limpio['Male_Population'] == '...'\n",
        "df_population_limpio[criterio]"
      ]
    },
    {
      "cell_type": "code",
      "execution_count": 157,
      "metadata": {
        "colab": {
          "base_uri": "https://localhost:8080/"
        },
        "id": "wHTtnTC6jTJI",
        "outputId": "30ffbdaa-93ac-4367-c5ed-17aa1bfdbaf0"
      },
      "outputs": [
        {
          "name": "stdout",
          "output_type": "stream",
          "text": [
            "<class 'pandas.core.frame.DataFrame'>\n",
            "Index: 236 entries, 1801 to 20593\n",
            "Data columns (total 6 columns):\n",
            " #   Column              Non-Null Count  Dtype  \n",
            "---  ------              --------------  -----  \n",
            " 0   Country_code        236 non-null    object \n",
            " 1   Total_Population    236 non-null    float64\n",
            " 2   Male_Population     235 non-null    float64\n",
            " 3   Female_Population   235 non-null    float64\n",
            " 4   Population_Density  236 non-null    float64\n",
            " 5   Life_Expectancy     235 non-null    float64\n",
            "dtypes: float64(5), object(1)\n",
            "memory usage: 12.9+ KB\n"
          ]
        }
      ],
      "source": [
        "#Aplicamos una conversión utilizando el método de pandas to_numeric() que nos provee manejo de éste tipo de errores\n",
        "#El parámetro errors, indica qué hacer en caso de encontrar un valor no numérico. El valor coerce, reemplazará los strings no identificados como números por NaN\n",
        "\n",
        "df_population_limpio['Male_Population'] = pd.to_numeric(df_population_limpio['Male_Population'], errors='coerce')\n",
        "df_population_limpio['Female_Population'] = pd.to_numeric(df_population_limpio['Female_Population'], errors='coerce')\n",
        "df_population_limpio['Life_Expectancy'] = pd.to_numeric(df_population_limpio['Life_Expectancy'], errors='coerce')\n",
        "\n",
        "df_population_limpio.info()"
      ]
    },
    {
      "cell_type": "code",
      "execution_count": 158,
      "metadata": {
        "colab": {
          "base_uri": "https://localhost:8080/"
        },
        "id": "rN5GSGFcnafj",
        "outputId": "0507bff5-dc57-48c6-a96a-d2d32d960b55"
      },
      "outputs": [
        {
          "data": {
            "text/plain": [
              "Country_code          0\n",
              "Total_Population      0\n",
              "Male_Population       1\n",
              "Female_Population     1\n",
              "Population_Density    0\n",
              "Life_Expectancy       1\n",
              "dtype: int64"
            ]
          },
          "execution_count": 158,
          "metadata": {},
          "output_type": "execute_result"
        }
      ],
      "source": [
        "#Verificamos cuántos NaN tenemos resultado del tratamiento\n",
        "df_population_limpio.isna().sum()"
      ]
    },
    {
      "cell_type": "code",
      "execution_count": 159,
      "metadata": {
        "colab": {
          "base_uri": "https://localhost:8080/"
        },
        "id": "kt7yE_gMp1Oe",
        "outputId": "a5d7407e-23a1-4af7-b7d9-af0b13b582a4"
      },
      "outputs": [
        {
          "data": {
            "text/plain": [
              "Country_code          0\n",
              "Total_Population      0\n",
              "Male_Population       0\n",
              "Female_Population     0\n",
              "Population_Density    0\n",
              "Life_Expectancy       0\n",
              "dtype: int64"
            ]
          },
          "execution_count": 159,
          "metadata": {},
          "output_type": "execute_result"
        }
      ],
      "source": [
        "#Eliminamos los NaN\n",
        "df_population_limpio.dropna(inplace=True)\n",
        "df_population_limpio.isna().sum()"
      ]
    },
    {
      "cell_type": "code",
      "execution_count": 160,
      "metadata": {
        "colab": {
          "base_uri": "https://localhost:8080/"
        },
        "id": "yWfz1LMrn-b4",
        "outputId": "b6cb5e8d-b269-4307-b80e-d95d97fd3997"
      },
      "outputs": [
        {
          "name": "stdout",
          "output_type": "stream",
          "text": [
            "<class 'pandas.core.frame.DataFrame'>\n",
            "Index: 235 entries, 1801 to 20593\n",
            "Data columns (total 6 columns):\n",
            " #   Column              Non-Null Count  Dtype  \n",
            "---  ------              --------------  -----  \n",
            " 0   Country_code        235 non-null    object \n",
            " 1   Total_Population    235 non-null    float64\n",
            " 2   Male_Population     235 non-null    float64\n",
            " 3   Female_Population   235 non-null    float64\n",
            " 4   Population_Density  235 non-null    float64\n",
            " 5   Life_Expectancy     235 non-null    float64\n",
            "dtypes: float64(5), object(1)\n",
            "memory usage: 12.9+ KB\n"
          ]
        }
      ],
      "source": [
        "df_population_limpio.info()"
      ]
    },
    {
      "cell_type": "code",
      "execution_count": 161,
      "metadata": {
        "colab": {
          "base_uri": "https://localhost:8080/"
        },
        "id": "J9FnkKsqnIun",
        "outputId": "f55fbd6c-96a4-4de7-a72c-04d5774cd7ed"
      },
      "outputs": [
        {
          "name": "stdout",
          "output_type": "stream",
          "text": [
            "<class 'pandas.core.frame.DataFrame'>\n",
            "Index: 235 entries, 1801 to 20593\n",
            "Data columns (total 6 columns):\n",
            " #   Column              Non-Null Count  Dtype \n",
            "---  ------              --------------  ----- \n",
            " 0   Country_code        235 non-null    object\n",
            " 1   Total_Population    235 non-null    int64 \n",
            " 2   Male_Population     235 non-null    int64 \n",
            " 3   Female_Population   235 non-null    int64 \n",
            " 4   Population_Density  235 non-null    int64 \n",
            " 5   Life_Expectancy     235 non-null    int64 \n",
            "dtypes: int64(5), object(1)\n",
            "memory usage: 12.9+ KB\n"
          ]
        }
      ],
      "source": [
        "#Redondeamos los valores para arriba y convertimos en enteros\n",
        "df_population_limpio['Total_Population'] = df_population_limpio['Total_Population'].round(0).astype('int64')\n",
        "df_population_limpio['Male_Population'] = df_population_limpio['Male_Population'].round(0).astype('int64')\n",
        "df_population_limpio['Female_Population'] = df_population_limpio['Female_Population'].round(0).astype('int64')\n",
        "df_population_limpio['Population_Density'] = df_population_limpio['Population_Density'].round(0).astype('int64')\n",
        "df_population_limpio['Life_Expectancy'] = df_population_limpio['Life_Expectancy'].round(0).astype('int64')\n",
        "\n",
        "df_population_limpio.info()"
      ]
    },
    {
      "cell_type": "code",
      "execution_count": 162,
      "metadata": {
        "colab": {
          "base_uri": "https://localhost:8080/",
          "height": 206
        },
        "id": "IsWDjfhsoTdb",
        "outputId": "1a8bbadd-9c17-4eda-c110-ef0497eb663a"
      },
      "outputs": [
        {
          "data": {
            "text/html": [
              "<div>\n",
              "<style scoped>\n",
              "    .dataframe tbody tr th:only-of-type {\n",
              "        vertical-align: middle;\n",
              "    }\n",
              "\n",
              "    .dataframe tbody tr th {\n",
              "        vertical-align: top;\n",
              "    }\n",
              "\n",
              "    .dataframe thead th {\n",
              "        text-align: right;\n",
              "    }\n",
              "</style>\n",
              "<table border=\"1\" class=\"dataframe\">\n",
              "  <thead>\n",
              "    <tr style=\"text-align: right;\">\n",
              "      <th></th>\n",
              "      <th>Country_code</th>\n",
              "      <th>Total_Population</th>\n",
              "      <th>Male_Population</th>\n",
              "      <th>Female_Population</th>\n",
              "      <th>Population_Density</th>\n",
              "      <th>Life_Expectancy</th>\n",
              "    </tr>\n",
              "  </thead>\n",
              "  <tbody>\n",
              "    <tr>\n",
              "      <th>1801</th>\n",
              "      <td>BI</td>\n",
              "      <td>11875</td>\n",
              "      <td>5894</td>\n",
              "      <td>5981</td>\n",
              "      <td>458</td>\n",
              "      <td>62</td>\n",
              "    </tr>\n",
              "    <tr>\n",
              "      <th>1873</th>\n",
              "      <td>KM</td>\n",
              "      <td>791</td>\n",
              "      <td>397</td>\n",
              "      <td>394</td>\n",
              "      <td>425</td>\n",
              "      <td>64</td>\n",
              "    </tr>\n",
              "    <tr>\n",
              "      <th>1945</th>\n",
              "      <td>DJ</td>\n",
              "      <td>1074</td>\n",
              "      <td>534</td>\n",
              "      <td>540</td>\n",
              "      <td>46</td>\n",
              "      <td>63</td>\n",
              "    </tr>\n",
              "    <tr>\n",
              "      <th>2017</th>\n",
              "      <td>ER</td>\n",
              "      <td>3499</td>\n",
              "      <td>1725</td>\n",
              "      <td>1774</td>\n",
              "      <td>29</td>\n",
              "      <td>67</td>\n",
              "    </tr>\n",
              "    <tr>\n",
              "      <th>2089</th>\n",
              "      <td>ET</td>\n",
              "      <td>114121</td>\n",
              "      <td>57375</td>\n",
              "      <td>56745</td>\n",
              "      <td>114</td>\n",
              "      <td>66</td>\n",
              "    </tr>\n",
              "  </tbody>\n",
              "</table>\n",
              "</div>"
            ],
            "text/plain": [
              "     Country_code  Total_Population  Male_Population  Female_Population  \\\n",
              "1801           BI             11875             5894               5981   \n",
              "1873           KM               791              397                394   \n",
              "1945           DJ              1074              534                540   \n",
              "2017           ER              3499             1725               1774   \n",
              "2089           ET            114121            57375              56745   \n",
              "\n",
              "      Population_Density  Life_Expectancy  \n",
              "1801                 458               62  \n",
              "1873                 425               64  \n",
              "1945                  46               63  \n",
              "2017                  29               67  \n",
              "2089                 114               66  "
            ]
          },
          "execution_count": 162,
          "metadata": {},
          "output_type": "execute_result"
        }
      ],
      "source": [
        "df_population_limpio.head()"
      ]
    },
    {
      "cell_type": "markdown",
      "metadata": {
        "id": "XE9DU_Xro2P_"
      },
      "source": [
        "#### 1.5. Multiplicamos por 1000 las columnas 'Total_Population', 'Male_Population' y 'Female_Population'"
      ]
    },
    {
      "cell_type": "code",
      "execution_count": 163,
      "metadata": {
        "colab": {
          "base_uri": "https://localhost:8080/",
          "height": 206
        },
        "id": "oLsdbq1ZpF0X",
        "outputId": "b2ac9692-937d-4c6f-c431-3d96b5268a84"
      },
      "outputs": [
        {
          "data": {
            "text/html": [
              "<div>\n",
              "<style scoped>\n",
              "    .dataframe tbody tr th:only-of-type {\n",
              "        vertical-align: middle;\n",
              "    }\n",
              "\n",
              "    .dataframe tbody tr th {\n",
              "        vertical-align: top;\n",
              "    }\n",
              "\n",
              "    .dataframe thead th {\n",
              "        text-align: right;\n",
              "    }\n",
              "</style>\n",
              "<table border=\"1\" class=\"dataframe\">\n",
              "  <thead>\n",
              "    <tr style=\"text-align: right;\">\n",
              "      <th></th>\n",
              "      <th>Country_code</th>\n",
              "      <th>Total_Population</th>\n",
              "      <th>Male_Population</th>\n",
              "      <th>Female_Population</th>\n",
              "      <th>Population_Density</th>\n",
              "      <th>Life_Expectancy</th>\n",
              "    </tr>\n",
              "  </thead>\n",
              "  <tbody>\n",
              "    <tr>\n",
              "      <th>1801</th>\n",
              "      <td>BI</td>\n",
              "      <td>11875000</td>\n",
              "      <td>5894000</td>\n",
              "      <td>5981000</td>\n",
              "      <td>458</td>\n",
              "      <td>62</td>\n",
              "    </tr>\n",
              "    <tr>\n",
              "      <th>1873</th>\n",
              "      <td>KM</td>\n",
              "      <td>791000</td>\n",
              "      <td>397000</td>\n",
              "      <td>394000</td>\n",
              "      <td>425</td>\n",
              "      <td>64</td>\n",
              "    </tr>\n",
              "    <tr>\n",
              "      <th>1945</th>\n",
              "      <td>DJ</td>\n",
              "      <td>1074000</td>\n",
              "      <td>534000</td>\n",
              "      <td>540000</td>\n",
              "      <td>46</td>\n",
              "      <td>63</td>\n",
              "    </tr>\n",
              "    <tr>\n",
              "      <th>2017</th>\n",
              "      <td>ER</td>\n",
              "      <td>3499000</td>\n",
              "      <td>1725000</td>\n",
              "      <td>1774000</td>\n",
              "      <td>29</td>\n",
              "      <td>67</td>\n",
              "    </tr>\n",
              "    <tr>\n",
              "      <th>2089</th>\n",
              "      <td>ET</td>\n",
              "      <td>114121000</td>\n",
              "      <td>57375000</td>\n",
              "      <td>56745000</td>\n",
              "      <td>114</td>\n",
              "      <td>66</td>\n",
              "    </tr>\n",
              "  </tbody>\n",
              "</table>\n",
              "</div>"
            ],
            "text/plain": [
              "     Country_code  Total_Population  Male_Population  Female_Population  \\\n",
              "1801           BI          11875000          5894000            5981000   \n",
              "1873           KM            791000           397000             394000   \n",
              "1945           DJ           1074000           534000             540000   \n",
              "2017           ER           3499000          1725000            1774000   \n",
              "2089           ET         114121000         57375000           56745000   \n",
              "\n",
              "      Population_Density  Life_Expectancy  \n",
              "1801                 458               62  \n",
              "1873                 425               64  \n",
              "1945                  46               63  \n",
              "2017                  29               67  \n",
              "2089                 114               66  "
            ]
          },
          "execution_count": 163,
          "metadata": {},
          "output_type": "execute_result"
        }
      ],
      "source": [
        "df_population_limpio[['Total_Population','Male_Population','Female_Population']] = df_population_limpio[['Total_Population','Male_Population','Female_Population']]*1000\n",
        "df_population_limpio.head()"
      ]
    },
    {
      "cell_type": "markdown",
      "metadata": {
        "id": "uwQv14lspXdT"
      },
      "source": [
        "#### 1.6. Eliminar todos los registros nulos"
      ]
    },
    {
      "cell_type": "code",
      "execution_count": 164,
      "metadata": {
        "colab": {
          "base_uri": "https://localhost:8080/"
        },
        "id": "40m99WBtpbPr",
        "outputId": "1024de0e-4335-461f-bf73-016de6224c89"
      },
      "outputs": [
        {
          "data": {
            "text/plain": [
              "Country_code          0\n",
              "Total_Population      0\n",
              "Male_Population       0\n",
              "Female_Population     0\n",
              "Population_Density    0\n",
              "Life_Expectancy       0\n",
              "dtype: int64"
            ]
          },
          "execution_count": 164,
          "metadata": {},
          "output_type": "execute_result"
        }
      ],
      "source": [
        "#No contamos con registros nulos porque ya los tratamos ni bien los identficamos\n",
        "df_population_limpio.isna().sum()"
      ]
    },
    {
      "cell_type": "markdown",
      "metadata": {
        "id": "XfeeMDJpqAsz"
      },
      "source": [
        "#### 1.7. Reiniciamos los índices"
      ]
    },
    {
      "cell_type": "code",
      "execution_count": 165,
      "metadata": {
        "colab": {
          "base_uri": "https://localhost:8080/",
          "height": 206
        },
        "id": "_1oVEC_Up8y3",
        "outputId": "0a7b1dcb-6d20-4bea-e809-336abea8a9e7"
      },
      "outputs": [
        {
          "data": {
            "text/html": [
              "<div>\n",
              "<style scoped>\n",
              "    .dataframe tbody tr th:only-of-type {\n",
              "        vertical-align: middle;\n",
              "    }\n",
              "\n",
              "    .dataframe tbody tr th {\n",
              "        vertical-align: top;\n",
              "    }\n",
              "\n",
              "    .dataframe thead th {\n",
              "        text-align: right;\n",
              "    }\n",
              "</style>\n",
              "<table border=\"1\" class=\"dataframe\">\n",
              "  <thead>\n",
              "    <tr style=\"text-align: right;\">\n",
              "      <th></th>\n",
              "      <th>Country_code</th>\n",
              "      <th>Total_Population</th>\n",
              "      <th>Male_Population</th>\n",
              "      <th>Female_Population</th>\n",
              "      <th>Population_Density</th>\n",
              "      <th>Life_Expectancy</th>\n",
              "    </tr>\n",
              "  </thead>\n",
              "  <tbody>\n",
              "    <tr>\n",
              "      <th>0</th>\n",
              "      <td>BI</td>\n",
              "      <td>11875000</td>\n",
              "      <td>5894000</td>\n",
              "      <td>5981000</td>\n",
              "      <td>458</td>\n",
              "      <td>62</td>\n",
              "    </tr>\n",
              "    <tr>\n",
              "      <th>1</th>\n",
              "      <td>KM</td>\n",
              "      <td>791000</td>\n",
              "      <td>397000</td>\n",
              "      <td>394000</td>\n",
              "      <td>425</td>\n",
              "      <td>64</td>\n",
              "    </tr>\n",
              "    <tr>\n",
              "      <th>2</th>\n",
              "      <td>DJ</td>\n",
              "      <td>1074000</td>\n",
              "      <td>534000</td>\n",
              "      <td>540000</td>\n",
              "      <td>46</td>\n",
              "      <td>63</td>\n",
              "    </tr>\n",
              "    <tr>\n",
              "      <th>3</th>\n",
              "      <td>ER</td>\n",
              "      <td>3499000</td>\n",
              "      <td>1725000</td>\n",
              "      <td>1774000</td>\n",
              "      <td>29</td>\n",
              "      <td>67</td>\n",
              "    </tr>\n",
              "    <tr>\n",
              "      <th>4</th>\n",
              "      <td>ET</td>\n",
              "      <td>114121000</td>\n",
              "      <td>57375000</td>\n",
              "      <td>56745000</td>\n",
              "      <td>114</td>\n",
              "      <td>66</td>\n",
              "    </tr>\n",
              "  </tbody>\n",
              "</table>\n",
              "</div>"
            ],
            "text/plain": [
              "  Country_code  Total_Population  Male_Population  Female_Population  \\\n",
              "0           BI          11875000          5894000            5981000   \n",
              "1           KM            791000           397000             394000   \n",
              "2           DJ           1074000           534000             540000   \n",
              "3           ER           3499000          1725000            1774000   \n",
              "4           ET         114121000         57375000           56745000   \n",
              "\n",
              "   Population_Density  Life_Expectancy  \n",
              "0                 458               62  \n",
              "1                 425               64  \n",
              "2                  46               63  \n",
              "3                  29               67  \n",
              "4                 114               66  "
            ]
          },
          "execution_count": 165,
          "metadata": {},
          "output_type": "execute_result"
        }
      ],
      "source": [
        "df_population_limpio.reset_index(inplace=True, drop=True)\n",
        "df_population_limpio.head()"
      ]
    },
    {
      "cell_type": "markdown",
      "metadata": {
        "id": "ZoLYj3S6Sbv-"
      },
      "source": [
        "# Pregunta1"
      ]
    },
    {
      "cell_type": "markdown",
      "metadata": {
        "id": "2nWY8Ch73H-t"
      },
      "source": [
        "Acá analizaremos cómo evolucionó el covid en Argentina y en Colombia en comparación a la evolución a nivel global."
      ]
    },
    {
      "cell_type": "markdown",
      "metadata": {
        "id": "xM771cEHG2i6"
      },
      "source": [
        "#### Worldwide Cases Distribution"
      ]
    },
    {
      "cell_type": "code",
      "execution_count": 166,
      "metadata": {
        "colab": {
          "base_uri": "https://localhost:8080/",
          "height": 206
        },
        "id": "xPhVURYzRarX",
        "outputId": "6175c198-73be-4687-e9a7-b9692ebe52b8"
      },
      "outputs": [
        {
          "data": {
            "text/html": [
              "<div>\n",
              "<style scoped>\n",
              "    .dataframe tbody tr th:only-of-type {\n",
              "        vertical-align: middle;\n",
              "    }\n",
              "\n",
              "    .dataframe tbody tr th {\n",
              "        vertical-align: top;\n",
              "    }\n",
              "\n",
              "    .dataframe thead th {\n",
              "        text-align: right;\n",
              "    }\n",
              "</style>\n",
              "<table border=\"1\" class=\"dataframe\">\n",
              "  <thead>\n",
              "    <tr style=\"text-align: right;\">\n",
              "      <th></th>\n",
              "      <th>Date_reported</th>\n",
              "      <th>Country_code</th>\n",
              "      <th>Country</th>\n",
              "      <th>New_cases</th>\n",
              "      <th>Cumulative_cases</th>\n",
              "      <th>New_deaths</th>\n",
              "      <th>Cumulative_deaths</th>\n",
              "      <th>lethality_rate</th>\n",
              "    </tr>\n",
              "  </thead>\n",
              "  <tbody>\n",
              "    <tr>\n",
              "      <th>0</th>\n",
              "      <td>2020-01-05</td>\n",
              "      <td>AF</td>\n",
              "      <td>Afghanistan</td>\n",
              "      <td>0</td>\n",
              "      <td>0</td>\n",
              "      <td>0</td>\n",
              "      <td>0</td>\n",
              "      <td>0.0</td>\n",
              "    </tr>\n",
              "    <tr>\n",
              "      <th>1</th>\n",
              "      <td>2020-01-12</td>\n",
              "      <td>AF</td>\n",
              "      <td>Afghanistan</td>\n",
              "      <td>0</td>\n",
              "      <td>0</td>\n",
              "      <td>0</td>\n",
              "      <td>0</td>\n",
              "      <td>0.0</td>\n",
              "    </tr>\n",
              "    <tr>\n",
              "      <th>2</th>\n",
              "      <td>2020-01-19</td>\n",
              "      <td>AF</td>\n",
              "      <td>Afghanistan</td>\n",
              "      <td>0</td>\n",
              "      <td>0</td>\n",
              "      <td>0</td>\n",
              "      <td>0</td>\n",
              "      <td>0.0</td>\n",
              "    </tr>\n",
              "    <tr>\n",
              "      <th>3</th>\n",
              "      <td>2020-01-26</td>\n",
              "      <td>AF</td>\n",
              "      <td>Afghanistan</td>\n",
              "      <td>0</td>\n",
              "      <td>0</td>\n",
              "      <td>0</td>\n",
              "      <td>0</td>\n",
              "      <td>0.0</td>\n",
              "    </tr>\n",
              "    <tr>\n",
              "      <th>4</th>\n",
              "      <td>2020-02-02</td>\n",
              "      <td>AF</td>\n",
              "      <td>Afghanistan</td>\n",
              "      <td>0</td>\n",
              "      <td>0</td>\n",
              "      <td>0</td>\n",
              "      <td>0</td>\n",
              "      <td>0.0</td>\n",
              "    </tr>\n",
              "  </tbody>\n",
              "</table>\n",
              "</div>"
            ],
            "text/plain": [
              "  Date_reported Country_code      Country  New_cases  Cumulative_cases  \\\n",
              "0    2020-01-05           AF  Afghanistan          0                 0   \n",
              "1    2020-01-12           AF  Afghanistan          0                 0   \n",
              "2    2020-01-19           AF  Afghanistan          0                 0   \n",
              "3    2020-01-26           AF  Afghanistan          0                 0   \n",
              "4    2020-02-02           AF  Afghanistan          0                 0   \n",
              "\n",
              "   New_deaths  Cumulative_deaths  lethality_rate  \n",
              "0           0                  0             0.0  \n",
              "1           0                  0             0.0  \n",
              "2           0                  0             0.0  \n",
              "3           0                  0             0.0  \n",
              "4           0                  0             0.0  "
            ]
          },
          "execution_count": 166,
          "metadata": {},
          "output_type": "execute_result"
        }
      ],
      "source": [
        "df_covid_limpio.head()"
      ]
    },
    {
      "cell_type": "code",
      "execution_count": 167,
      "metadata": {
        "id": "LAUawzIeSjGx"
      },
      "outputs": [],
      "source": [
        "total_por_pais = df_covid_limpio.groupby('Country')\n",
        "total_por_pais = total_por_pais['Cumulative_cases'].max().sort_values(ascending = False)"
      ]
    },
    {
      "cell_type": "code",
      "execution_count": 168,
      "metadata": {
        "colab": {
          "base_uri": "https://localhost:8080/"
        },
        "id": "C96fmjTsdqxB",
        "outputId": "732c1d64-7d13-4c60-985b-feae75e7d2e9"
      },
      "outputs": [
        {
          "data": {
            "text/plain": [
              "Country\n",
              "United States of America                                103436829\n",
              "China                                                    99326423\n",
              "India                                                    45023751\n",
              "France                                                   38997490\n",
              "Germany                                                  38437756\n",
              "Brazil                                                   37519960\n",
              "Republic of Korea                                        34571873\n",
              "Japan                                                    33803572\n",
              "Italy                                                    26693706\n",
              "United Kingdom of Great Britain and Northern Ireland     24885790\n",
              "Name: Cumulative_cases, dtype: int64"
            ]
          },
          "execution_count": 168,
          "metadata": {},
          "output_type": "execute_result"
        }
      ],
      "source": [
        "top_10_paises = total_por_pais.nlargest(10)\n",
        "top_10_paises"
      ]
    },
    {
      "cell_type": "code",
      "execution_count": 169,
      "metadata": {
        "colab": {
          "base_uri": "https://localhost:8080/"
        },
        "id": "XfeXyugh0ymt",
        "outputId": "1871de48-a9ab-41d4-c4df-150a3a369a10"
      },
      "outputs": [
        {
          "data": {
            "text/plain": [
              "Country\n",
              "United States of America                                103436829\n",
              "China                                                    99326423\n",
              "India                                                    45023751\n",
              "France                                                   38997490\n",
              "Germany                                                  38437756\n",
              "Brazil                                                   37519960\n",
              "Republic of Korea                                        34571873\n",
              "Japan                                                    33803572\n",
              "Italy                                                    26693706\n",
              "United Kingdom of Great Britain and Northern Ireland     24885790\n",
              "Otros                                                   291519855\n",
              "Name: Cumulative_cases, dtype: int64"
            ]
          },
          "execution_count": 169,
          "metadata": {},
          "output_type": "execute_result"
        }
      ],
      "source": [
        "otros = total_por_pais.drop(top_10_paises.index).sum() #esto sería el total de casos acumulados mundialmente\n",
        "top_10_paises['Otros'] = otros\n",
        "top_10_paises\n"
      ]
    },
    {
      "cell_type": "code",
      "execution_count": 170,
      "metadata": {
        "colab": {
          "base_uri": "https://localhost:8080/"
        },
        "id": "P6V19TDgYnqO",
        "outputId": "cabdb843-f558-45e0-cd7b-e2f84536404d"
      },
      "outputs": [
        {
          "data": {
            "text/plain": [
              "Country\n",
              "Argentina    10081076\n",
              "Name: Cumulative_cases, dtype: int64"
            ]
          },
          "execution_count": 170,
          "metadata": {},
          "output_type": "execute_result"
        }
      ],
      "source": [
        "# Se crea la variable ARG\n",
        "ARG =  df_covid_limpio['Country'] == 'Argentina'\n",
        "ARG = df_covid_limpio[ARG]\n",
        "ARG = ARG.groupby('Country')\n",
        "ARG = ARG['Cumulative_cases'].max()\n",
        "ARG\n"
      ]
    },
    {
      "cell_type": "code",
      "execution_count": 171,
      "metadata": {
        "colab": {
          "base_uri": "https://localhost:8080/"
        },
        "id": "K0kmTEpdfgh3",
        "outputId": "4363619d-cf63-4e46-e11d-a16ab78a896b"
      },
      "outputs": [
        {
          "data": {
            "text/plain": [
              "Country\n",
              "Colombia    6391672\n",
              "Name: Cumulative_cases, dtype: int64"
            ]
          },
          "execution_count": 171,
          "metadata": {},
          "output_type": "execute_result"
        }
      ],
      "source": [
        "#Se crea la variable COL\n",
        "COL =  df_covid_limpio['Country'] == 'Colombia'\n",
        "COL = df_covid_limpio[COL]\n",
        "COL = COL.groupby('Country')\n",
        "COL = COL['Cumulative_cases'].max()\n",
        "COL"
      ]
    },
    {
      "cell_type": "markdown",
      "metadata": {
        "id": "TyXxnfMIwW2H"
      },
      "source": [
        "#### Creación de la Variable top_10_paises_col_arg que almacena la información de Colombia y Argentina"
      ]
    },
    {
      "cell_type": "code",
      "execution_count": 172,
      "metadata": {
        "colab": {
          "base_uri": "https://localhost:8080/"
        },
        "id": "3c1cGeJ2LzMn",
        "outputId": "46c4e121-d5c5-4017-d4da-cf90c8fcf21a"
      },
      "outputs": [
        {
          "data": {
            "text/plain": [
              "Country\n",
              "United States of America                                103436829\n",
              "China                                                    99326423\n",
              "India                                                    45023751\n",
              "France                                                   38997490\n",
              "Germany                                                  38437756\n",
              "Brazil                                                   37519960\n",
              "Republic of Korea                                        34571873\n",
              "Japan                                                    33803572\n",
              "Italy                                                    26693706\n",
              "United Kingdom of Great Britain and Northern Ireland     24885790\n",
              "Argentina                                                10081076\n",
              "Colombia                                                  6391672\n",
              "Otros                                                   275047107\n",
              "Name: Cumulative_cases, dtype: int64"
            ]
          },
          "execution_count": 172,
          "metadata": {},
          "output_type": "execute_result"
        }
      ],
      "source": [
        "top_10_paises_col_arg = top_10_paises.copy()\n",
        "#Se agrega la Fila 'Argentina'\n",
        "top_10_paises_col_arg['Argentina'] = np.sum(ARG)\n",
        "#Se agrega la Fila 'Colombia'\n",
        "top_10_paises_col_arg['Colombia'] = np.sum(COL)\n",
        "#Se elimina la fila 'Otros' para su remplazo\n",
        "top_10_paises_col_arg = top_10_paises_col_arg.drop('Otros')\n",
        "#Se le resta la información de la fila 'Otros' del DataFrame 'top_10_paises' con el total de 'Cumulative_cases' en Colombia y Argentina\n",
        "otros = top_10_paises['Otros'] - top_10_paises_col_arg['Colombia'] - top_10_paises_col_arg['Argentina']\n",
        "# Se actualiza la fila 'Otros' con la información\n",
        "top_10_paises_col_arg['Otros'] = otros\n",
        "top_10_paises_col_arg"
      ]
    },
    {
      "cell_type": "code",
      "execution_count": 173,
      "metadata": {
        "colab": {
          "base_uri": "https://localhost:8080/"
        },
        "id": "UBcvYePyLoub",
        "outputId": "66046486-7bf0-4303-82d7-6af8452226cf"
      },
      "outputs": [
        {
          "data": {
            "text/plain": [
              "Country\n",
              "Argentina    10081076\n",
              "Colombia      6391672\n",
              "Name: Cumulative_cases, dtype: int64"
            ]
          },
          "execution_count": 173,
          "metadata": {},
          "output_type": "execute_result"
        }
      ],
      "source": [
        "col_arg_cases = top_10_paises_col_arg.copy()\n",
        "\n",
        "not_col_arg = []\n",
        "for country, cases in top_10_paises_col_arg.items():\n",
        "  if (country not in['Argentina', 'Colombia']):\n",
        "    not_col_arg.append(country)\n",
        "\n",
        "col_arg_cases = col_arg_cases.drop(not_col_arg)\n",
        "col_arg_cases"
      ]
    },
    {
      "cell_type": "markdown",
      "metadata": {
        "id": "j0Lfm2fr5BCI"
      },
      "source": [
        "#### Case Progression by Country"
      ]
    },
    {
      "cell_type": "code",
      "execution_count": 174,
      "metadata": {
        "id": "I-bxPJ8J41BV"
      },
      "outputs": [],
      "source": [
        "total_por_país = df_covid_limpio.groupby('Country')\n",
        "total_por_país\n",
        "total_por_país=total_por_país['Cumulative_cases'].max().sort_values(ascending = False)"
      ]
    },
    {
      "cell_type": "code",
      "execution_count": 175,
      "metadata": {
        "colab": {
          "base_uri": "https://localhost:8080/"
        },
        "id": "f0xSRZKD5UHp",
        "outputId": "020a07a7-b8bd-4e31-884d-04ff51b8fb2a"
      },
      "outputs": [
        {
          "data": {
            "text/plain": [
              "Country\n",
              "United States of America    103436829\n",
              "China                        99326423\n",
              "India                        45023751\n",
              "France                       38997490\n",
              "Germany                      38437756\n",
              "Name: Cumulative_cases, dtype: int64"
            ]
          },
          "execution_count": 175,
          "metadata": {},
          "output_type": "execute_result"
        }
      ],
      "source": [
        "top_5_paises = total_por_país.head(5)\n",
        "top_5_paises"
      ]
    },
    {
      "cell_type": "code",
      "execution_count": 176,
      "metadata": {
        "id": "XjHqUrd8AZ5f"
      },
      "outputs": [],
      "source": [
        "top_5_paises_col_arg = top_5_paises.copy()\n",
        "top_5_paises_col_arg['Argentina'] = np.sum(ARG)\n",
        "top_5_paises_col_arg['Colombia'] = np.sum(COL)"
      ]
    },
    {
      "cell_type": "code",
      "execution_count": 177,
      "metadata": {
        "colab": {
          "base_uri": "https://localhost:8080/"
        },
        "id": "e63O4dEfAdfG",
        "outputId": "19e847f5-d804-46be-c972-20d2b27e0846"
      },
      "outputs": [
        {
          "data": {
            "text/plain": [
              "Country\n",
              "United States of America    103436829\n",
              "China                        99326423\n",
              "India                        45023751\n",
              "France                       38997490\n",
              "Germany                      38437756\n",
              "Argentina                    10081076\n",
              "Colombia                      6391672\n",
              "Name: Cumulative_cases, dtype: int64"
            ]
          },
          "execution_count": 177,
          "metadata": {},
          "output_type": "execute_result"
        }
      ],
      "source": [
        "top_5_paises_col_arg"
      ]
    },
    {
      "cell_type": "code",
      "execution_count": 178,
      "metadata": {
        "colab": {
          "base_uri": "https://localhost:8080/"
        },
        "id": "4fsq7fXV_muL",
        "outputId": "61868c59-3c7d-4f8a-ed33-33f0aa318e69"
      },
      "outputs": [
        {
          "data": {
            "text/plain": [
              "Country\n",
              "Argentina    10081076\n",
              "Colombia      6391672\n",
              "Name: Cumulative_cases, dtype: int64"
            ]
          },
          "execution_count": 178,
          "metadata": {},
          "output_type": "execute_result"
        }
      ],
      "source": [
        "col_arg_cases_line = top_5_paises_col_arg.copy()\n",
        "\n",
        "not_col_arg = []\n",
        "for country, cases in top_5_paises_col_arg.items():\n",
        "  if (country not in['Argentina', 'Colombia']):\n",
        "    not_col_arg.append(country)\n",
        "\n",
        "col_arg_cases_line = col_arg_cases_line.drop(not_col_arg)\n",
        "col_arg_cases_line"
      ]
    },
    {
      "cell_type": "code",
      "execution_count": 179,
      "metadata": {
        "colab": {
          "base_uri": "https://localhost:8080/",
          "height": 206
        },
        "id": "fO64DEqv6Do2",
        "outputId": "c3d6c8b7-fde6-4699-ece2-da188da73811"
      },
      "outputs": [
        {
          "data": {
            "text/html": [
              "<div>\n",
              "<style scoped>\n",
              "    .dataframe tbody tr th:only-of-type {\n",
              "        vertical-align: middle;\n",
              "    }\n",
              "\n",
              "    .dataframe tbody tr th {\n",
              "        vertical-align: top;\n",
              "    }\n",
              "\n",
              "    .dataframe thead th {\n",
              "        text-align: right;\n",
              "    }\n",
              "</style>\n",
              "<table border=\"1\" class=\"dataframe\">\n",
              "  <thead>\n",
              "    <tr style=\"text-align: right;\">\n",
              "      <th></th>\n",
              "      <th>Date_reported</th>\n",
              "      <th>Country_code</th>\n",
              "      <th>Country</th>\n",
              "      <th>New_cases</th>\n",
              "      <th>Cumulative_cases</th>\n",
              "      <th>New_deaths</th>\n",
              "      <th>Cumulative_deaths</th>\n",
              "      <th>lethality_rate</th>\n",
              "    </tr>\n",
              "  </thead>\n",
              "  <tbody>\n",
              "    <tr>\n",
              "      <th>0</th>\n",
              "      <td>2020-01-05</td>\n",
              "      <td>AF</td>\n",
              "      <td>Afghanistan</td>\n",
              "      <td>0</td>\n",
              "      <td>0</td>\n",
              "      <td>0</td>\n",
              "      <td>0</td>\n",
              "      <td>0.0</td>\n",
              "    </tr>\n",
              "    <tr>\n",
              "      <th>1</th>\n",
              "      <td>2020-01-12</td>\n",
              "      <td>AF</td>\n",
              "      <td>Afghanistan</td>\n",
              "      <td>0</td>\n",
              "      <td>0</td>\n",
              "      <td>0</td>\n",
              "      <td>0</td>\n",
              "      <td>0.0</td>\n",
              "    </tr>\n",
              "    <tr>\n",
              "      <th>2</th>\n",
              "      <td>2020-01-19</td>\n",
              "      <td>AF</td>\n",
              "      <td>Afghanistan</td>\n",
              "      <td>0</td>\n",
              "      <td>0</td>\n",
              "      <td>0</td>\n",
              "      <td>0</td>\n",
              "      <td>0.0</td>\n",
              "    </tr>\n",
              "    <tr>\n",
              "      <th>3</th>\n",
              "      <td>2020-01-26</td>\n",
              "      <td>AF</td>\n",
              "      <td>Afghanistan</td>\n",
              "      <td>0</td>\n",
              "      <td>0</td>\n",
              "      <td>0</td>\n",
              "      <td>0</td>\n",
              "      <td>0.0</td>\n",
              "    </tr>\n",
              "    <tr>\n",
              "      <th>4</th>\n",
              "      <td>2020-02-02</td>\n",
              "      <td>AF</td>\n",
              "      <td>Afghanistan</td>\n",
              "      <td>0</td>\n",
              "      <td>0</td>\n",
              "      <td>0</td>\n",
              "      <td>0</td>\n",
              "      <td>0.0</td>\n",
              "    </tr>\n",
              "  </tbody>\n",
              "</table>\n",
              "</div>"
            ],
            "text/plain": [
              "  Date_reported Country_code      Country  New_cases  Cumulative_cases  \\\n",
              "0    2020-01-05           AF  Afghanistan          0                 0   \n",
              "1    2020-01-12           AF  Afghanistan          0                 0   \n",
              "2    2020-01-19           AF  Afghanistan          0                 0   \n",
              "3    2020-01-26           AF  Afghanistan          0                 0   \n",
              "4    2020-02-02           AF  Afghanistan          0                 0   \n",
              "\n",
              "   New_deaths  Cumulative_deaths  lethality_rate  \n",
              "0           0                  0             0.0  \n",
              "1           0                  0             0.0  \n",
              "2           0                  0             0.0  \n",
              "3           0                  0             0.0  \n",
              "4           0                  0             0.0  "
            ]
          },
          "execution_count": 179,
          "metadata": {},
          "output_type": "execute_result"
        }
      ],
      "source": [
        "df_covid_limpio_reset = df_covid_limpio.reset_index(drop=True)\n",
        "df_covid_limpio_reset.head()"
      ]
    },
    {
      "cell_type": "code",
      "execution_count": 180,
      "metadata": {
        "colab": {
          "base_uri": "https://localhost:8080/"
        },
        "id": "FsUg0kN--Fng",
        "outputId": "69ff4887-c00c-4ff6-b5ee-3dde01bcd752"
      },
      "outputs": [
        {
          "data": {
            "text/plain": [
              "Index(['United States of America', 'China', 'India', 'France', 'Germany',\n",
              "       'Argentina', 'Colombia'],\n",
              "      dtype='object', name='Country')"
            ]
          },
          "execution_count": 180,
          "metadata": {},
          "output_type": "execute_result"
        }
      ],
      "source": [
        "top_5_paises_col_arg.index"
      ]
    },
    {
      "cell_type": "code",
      "execution_count": 181,
      "metadata": {
        "colab": {
          "base_uri": "https://localhost:8080/",
          "height": 206
        },
        "id": "UKgVyh7V6uV_",
        "outputId": "e6ecd9ad-9321-4c1d-ba86-84668c2302a0"
      },
      "outputs": [
        {
          "data": {
            "text/html": [
              "<div>\n",
              "<style scoped>\n",
              "    .dataframe tbody tr th:only-of-type {\n",
              "        vertical-align: middle;\n",
              "    }\n",
              "\n",
              "    .dataframe tbody tr th {\n",
              "        vertical-align: top;\n",
              "    }\n",
              "\n",
              "    .dataframe thead th {\n",
              "        text-align: right;\n",
              "    }\n",
              "</style>\n",
              "<table border=\"1\" class=\"dataframe\">\n",
              "  <thead>\n",
              "    <tr style=\"text-align: right;\">\n",
              "      <th></th>\n",
              "      <th>Date_reported</th>\n",
              "      <th>Country_code</th>\n",
              "      <th>Country</th>\n",
              "      <th>New_cases</th>\n",
              "      <th>Cumulative_cases</th>\n",
              "      <th>New_deaths</th>\n",
              "      <th>Cumulative_deaths</th>\n",
              "      <th>lethality_rate</th>\n",
              "    </tr>\n",
              "  </thead>\n",
              "  <tbody>\n",
              "    <tr>\n",
              "      <th>1691</th>\n",
              "      <td>2020-01-05</td>\n",
              "      <td>AR</td>\n",
              "      <td>Argentina</td>\n",
              "      <td>0</td>\n",
              "      <td>0</td>\n",
              "      <td>0</td>\n",
              "      <td>0</td>\n",
              "      <td>0.0</td>\n",
              "    </tr>\n",
              "    <tr>\n",
              "      <th>1692</th>\n",
              "      <td>2020-01-12</td>\n",
              "      <td>AR</td>\n",
              "      <td>Argentina</td>\n",
              "      <td>0</td>\n",
              "      <td>0</td>\n",
              "      <td>0</td>\n",
              "      <td>0</td>\n",
              "      <td>0.0</td>\n",
              "    </tr>\n",
              "    <tr>\n",
              "      <th>1693</th>\n",
              "      <td>2020-01-19</td>\n",
              "      <td>AR</td>\n",
              "      <td>Argentina</td>\n",
              "      <td>0</td>\n",
              "      <td>0</td>\n",
              "      <td>0</td>\n",
              "      <td>0</td>\n",
              "      <td>0.0</td>\n",
              "    </tr>\n",
              "    <tr>\n",
              "      <th>1694</th>\n",
              "      <td>2020-01-26</td>\n",
              "      <td>AR</td>\n",
              "      <td>Argentina</td>\n",
              "      <td>0</td>\n",
              "      <td>0</td>\n",
              "      <td>0</td>\n",
              "      <td>0</td>\n",
              "      <td>0.0</td>\n",
              "    </tr>\n",
              "    <tr>\n",
              "      <th>1695</th>\n",
              "      <td>2020-02-02</td>\n",
              "      <td>AR</td>\n",
              "      <td>Argentina</td>\n",
              "      <td>0</td>\n",
              "      <td>0</td>\n",
              "      <td>0</td>\n",
              "      <td>0</td>\n",
              "      <td>0.0</td>\n",
              "    </tr>\n",
              "  </tbody>\n",
              "</table>\n",
              "</div>"
            ],
            "text/plain": [
              "     Date_reported Country_code    Country  New_cases  Cumulative_cases  \\\n",
              "1691    2020-01-05           AR  Argentina          0                 0   \n",
              "1692    2020-01-12           AR  Argentina          0                 0   \n",
              "1693    2020-01-19           AR  Argentina          0                 0   \n",
              "1694    2020-01-26           AR  Argentina          0                 0   \n",
              "1695    2020-02-02           AR  Argentina          0                 0   \n",
              "\n",
              "      New_deaths  Cumulative_deaths  lethality_rate  \n",
              "1691           0                  0             0.0  \n",
              "1692           0                  0             0.0  \n",
              "1693           0                  0             0.0  \n",
              "1694           0                  0             0.0  \n",
              "1695           0                  0             0.0  "
            ]
          },
          "execution_count": 181,
          "metadata": {},
          "output_type": "execute_result"
        }
      ],
      "source": [
        "df_top_5_col_arg = df_covid_limpio_reset[df_covid_limpio_reset['Country'].isin(top_5_paises_col_arg.index)]\n",
        "df_top_5_col_arg.head()"
      ]
    },
    {
      "cell_type": "code",
      "execution_count": 182,
      "metadata": {
        "id": "khV5narD-K_o"
      },
      "outputs": [],
      "source": [
        "df_col_arg = df_covid_limpio_reset[df_covid_limpio_reset['Country'].isin([\"Argentina\", \"Colombia\"])]"
      ]
    },
    {
      "cell_type": "code",
      "execution_count": 183,
      "metadata": {
        "colab": {
          "base_uri": "https://localhost:8080/",
          "height": 364
        },
        "id": "Ank7mLye7ReA",
        "outputId": "415d964d-22ed-4329-da63-d16358cd2543"
      },
      "outputs": [
        {
          "data": {
            "text/html": [
              "<div>\n",
              "<style scoped>\n",
              "    .dataframe tbody tr th:only-of-type {\n",
              "        vertical-align: middle;\n",
              "    }\n",
              "\n",
              "    .dataframe tbody tr th {\n",
              "        vertical-align: top;\n",
              "    }\n",
              "\n",
              "    .dataframe thead th {\n",
              "        text-align: right;\n",
              "    }\n",
              "</style>\n",
              "<table border=\"1\" class=\"dataframe\">\n",
              "  <thead>\n",
              "    <tr style=\"text-align: right;\">\n",
              "      <th>Date_reported</th>\n",
              "      <th>2020-01-05</th>\n",
              "      <th>2020-01-12</th>\n",
              "      <th>2020-01-19</th>\n",
              "      <th>2020-01-26</th>\n",
              "      <th>2020-02-02</th>\n",
              "      <th>2020-02-09</th>\n",
              "      <th>2020-02-16</th>\n",
              "      <th>2020-02-23</th>\n",
              "      <th>2020-03-01</th>\n",
              "      <th>2020-03-08</th>\n",
              "      <th>...</th>\n",
              "      <th>2023-11-19</th>\n",
              "      <th>2023-11-26</th>\n",
              "      <th>2023-12-03</th>\n",
              "      <th>2023-12-10</th>\n",
              "      <th>2023-12-17</th>\n",
              "      <th>2023-12-24</th>\n",
              "      <th>2023-12-31</th>\n",
              "      <th>2024-01-07</th>\n",
              "      <th>2024-01-14</th>\n",
              "      <th>2024-01-21</th>\n",
              "    </tr>\n",
              "    <tr>\n",
              "      <th>Country</th>\n",
              "      <th></th>\n",
              "      <th></th>\n",
              "      <th></th>\n",
              "      <th></th>\n",
              "      <th></th>\n",
              "      <th></th>\n",
              "      <th></th>\n",
              "      <th></th>\n",
              "      <th></th>\n",
              "      <th></th>\n",
              "      <th></th>\n",
              "      <th></th>\n",
              "      <th></th>\n",
              "      <th></th>\n",
              "      <th></th>\n",
              "      <th></th>\n",
              "      <th></th>\n",
              "      <th></th>\n",
              "      <th></th>\n",
              "      <th></th>\n",
              "      <th></th>\n",
              "    </tr>\n",
              "  </thead>\n",
              "  <tbody>\n",
              "    <tr>\n",
              "      <th>Argentina</th>\n",
              "      <td>0.0</td>\n",
              "      <td>0.0</td>\n",
              "      <td>0.0</td>\n",
              "      <td>0.0</td>\n",
              "      <td>0.0</td>\n",
              "      <td>0.0</td>\n",
              "      <td>0.0</td>\n",
              "      <td>0.0</td>\n",
              "      <td>0.0</td>\n",
              "      <td>22.0</td>\n",
              "      <td>...</td>\n",
              "      <td>10073197.0</td>\n",
              "      <td>10073701.0</td>\n",
              "      <td>10074309.0</td>\n",
              "      <td>10074775.0</td>\n",
              "      <td>10075395.0</td>\n",
              "      <td>10076004.0</td>\n",
              "      <td>10076858.0</td>\n",
              "      <td>10078493.0</td>\n",
              "      <td>10081076.0</td>\n",
              "      <td>10081076.0</td>\n",
              "    </tr>\n",
              "    <tr>\n",
              "      <th>China</th>\n",
              "      <td>1.0</td>\n",
              "      <td>45.0</td>\n",
              "      <td>125.0</td>\n",
              "      <td>1985.0</td>\n",
              "      <td>14411.0</td>\n",
              "      <td>37251.0</td>\n",
              "      <td>68584.0</td>\n",
              "      <td>77042.0</td>\n",
              "      <td>79968.0</td>\n",
              "      <td>80859.0</td>\n",
              "      <td>...</td>\n",
              "      <td>99320035.0</td>\n",
              "      <td>99320425.0</td>\n",
              "      <td>99320845.0</td>\n",
              "      <td>99321242.0</td>\n",
              "      <td>99321637.0</td>\n",
              "      <td>99322142.0</td>\n",
              "      <td>99322727.0</td>\n",
              "      <td>99323756.0</td>\n",
              "      <td>99325108.0</td>\n",
              "      <td>99326423.0</td>\n",
              "    </tr>\n",
              "    <tr>\n",
              "      <th>Colombia</th>\n",
              "      <td>0.0</td>\n",
              "      <td>0.0</td>\n",
              "      <td>0.0</td>\n",
              "      <td>0.0</td>\n",
              "      <td>0.0</td>\n",
              "      <td>0.0</td>\n",
              "      <td>0.0</td>\n",
              "      <td>0.0</td>\n",
              "      <td>0.0</td>\n",
              "      <td>1.0</td>\n",
              "      <td>...</td>\n",
              "      <td>6383595.0</td>\n",
              "      <td>6383948.0</td>\n",
              "      <td>6384224.0</td>\n",
              "      <td>6384551.0</td>\n",
              "      <td>6384979.0</td>\n",
              "      <td>6385539.0</td>\n",
              "      <td>6386231.0</td>\n",
              "      <td>6387209.0</td>\n",
              "      <td>6389365.0</td>\n",
              "      <td>6391672.0</td>\n",
              "    </tr>\n",
              "    <tr>\n",
              "      <th>France</th>\n",
              "      <td>0.0</td>\n",
              "      <td>0.0</td>\n",
              "      <td>0.0</td>\n",
              "      <td>3.0</td>\n",
              "      <td>6.0</td>\n",
              "      <td>12.0</td>\n",
              "      <td>12.0</td>\n",
              "      <td>16.0</td>\n",
              "      <td>16.0</td>\n",
              "      <td>16.0</td>\n",
              "      <td>...</td>\n",
              "      <td>38997490.0</td>\n",
              "      <td>38997490.0</td>\n",
              "      <td>38997490.0</td>\n",
              "      <td>38997490.0</td>\n",
              "      <td>38997490.0</td>\n",
              "      <td>38997490.0</td>\n",
              "      <td>38997490.0</td>\n",
              "      <td>38997490.0</td>\n",
              "      <td>38997490.0</td>\n",
              "      <td>38997490.0</td>\n",
              "    </tr>\n",
              "    <tr>\n",
              "      <th>Germany</th>\n",
              "      <td>0.0</td>\n",
              "      <td>0.0</td>\n",
              "      <td>0.0</td>\n",
              "      <td>0.0</td>\n",
              "      <td>0.0</td>\n",
              "      <td>0.0</td>\n",
              "      <td>0.0</td>\n",
              "      <td>0.0</td>\n",
              "      <td>170.0</td>\n",
              "      <td>1075.0</td>\n",
              "      <td>...</td>\n",
              "      <td>38437756.0</td>\n",
              "      <td>38437756.0</td>\n",
              "      <td>38437756.0</td>\n",
              "      <td>38437756.0</td>\n",
              "      <td>38437756.0</td>\n",
              "      <td>38437756.0</td>\n",
              "      <td>38437756.0</td>\n",
              "      <td>38437756.0</td>\n",
              "      <td>38437756.0</td>\n",
              "      <td>38437756.0</td>\n",
              "    </tr>\n",
              "    <tr>\n",
              "      <th>India</th>\n",
              "      <td>0.0</td>\n",
              "      <td>0.0</td>\n",
              "      <td>0.0</td>\n",
              "      <td>0.0</td>\n",
              "      <td>2.0</td>\n",
              "      <td>7.0</td>\n",
              "      <td>7.0</td>\n",
              "      <td>7.0</td>\n",
              "      <td>7.0</td>\n",
              "      <td>39.0</td>\n",
              "      <td>...</td>\n",
              "      <td>45001575.0</td>\n",
              "      <td>45001764.0</td>\n",
              "      <td>45002179.0</td>\n",
              "      <td>45003055.0</td>\n",
              "      <td>45004816.0</td>\n",
              "      <td>45008620.0</td>\n",
              "      <td>45013172.0</td>\n",
              "      <td>45018134.0</td>\n",
              "      <td>45021758.0</td>\n",
              "      <td>45023751.0</td>\n",
              "    </tr>\n",
              "    <tr>\n",
              "      <th>United States of America</th>\n",
              "      <td>0.0</td>\n",
              "      <td>0.0</td>\n",
              "      <td>0.0</td>\n",
              "      <td>7.0</td>\n",
              "      <td>9.0</td>\n",
              "      <td>20.0</td>\n",
              "      <td>24.0</td>\n",
              "      <td>40.0</td>\n",
              "      <td>73.0</td>\n",
              "      <td>464.0</td>\n",
              "      <td>...</td>\n",
              "      <td>103436829.0</td>\n",
              "      <td>103436829.0</td>\n",
              "      <td>103436829.0</td>\n",
              "      <td>103436829.0</td>\n",
              "      <td>103436829.0</td>\n",
              "      <td>103436829.0</td>\n",
              "      <td>103436829.0</td>\n",
              "      <td>103436829.0</td>\n",
              "      <td>103436829.0</td>\n",
              "      <td>103436829.0</td>\n",
              "    </tr>\n",
              "  </tbody>\n",
              "</table>\n",
              "<p>7 rows × 212 columns</p>\n",
              "</div>"
            ],
            "text/plain": [
              "Date_reported             2020-01-05  2020-01-12  2020-01-19  2020-01-26  \\\n",
              "Country                                                                    \n",
              "Argentina                        0.0         0.0         0.0         0.0   \n",
              "China                            1.0        45.0       125.0      1985.0   \n",
              "Colombia                         0.0         0.0         0.0         0.0   \n",
              "France                           0.0         0.0         0.0         3.0   \n",
              "Germany                          0.0         0.0         0.0         0.0   \n",
              "India                            0.0         0.0         0.0         0.0   \n",
              "United States of America         0.0         0.0         0.0         7.0   \n",
              "\n",
              "Date_reported             2020-02-02  2020-02-09  2020-02-16  2020-02-23  \\\n",
              "Country                                                                    \n",
              "Argentina                        0.0         0.0         0.0         0.0   \n",
              "China                        14411.0     37251.0     68584.0     77042.0   \n",
              "Colombia                         0.0         0.0         0.0         0.0   \n",
              "France                           6.0        12.0        12.0        16.0   \n",
              "Germany                          0.0         0.0         0.0         0.0   \n",
              "India                            2.0         7.0         7.0         7.0   \n",
              "United States of America         9.0        20.0        24.0        40.0   \n",
              "\n",
              "Date_reported             2020-03-01  2020-03-08  ...   2023-11-19  \\\n",
              "Country                                           ...                \n",
              "Argentina                        0.0        22.0  ...   10073197.0   \n",
              "China                        79968.0     80859.0  ...   99320035.0   \n",
              "Colombia                         0.0         1.0  ...    6383595.0   \n",
              "France                          16.0        16.0  ...   38997490.0   \n",
              "Germany                        170.0      1075.0  ...   38437756.0   \n",
              "India                            7.0        39.0  ...   45001575.0   \n",
              "United States of America        73.0       464.0  ...  103436829.0   \n",
              "\n",
              "Date_reported              2023-11-26   2023-12-03   2023-12-10   2023-12-17  \\\n",
              "Country                                                                        \n",
              "Argentina                  10073701.0   10074309.0   10074775.0   10075395.0   \n",
              "China                      99320425.0   99320845.0   99321242.0   99321637.0   \n",
              "Colombia                    6383948.0    6384224.0    6384551.0    6384979.0   \n",
              "France                     38997490.0   38997490.0   38997490.0   38997490.0   \n",
              "Germany                    38437756.0   38437756.0   38437756.0   38437756.0   \n",
              "India                      45001764.0   45002179.0   45003055.0   45004816.0   \n",
              "United States of America  103436829.0  103436829.0  103436829.0  103436829.0   \n",
              "\n",
              "Date_reported              2023-12-24   2023-12-31   2024-01-07   2024-01-14  \\\n",
              "Country                                                                        \n",
              "Argentina                  10076004.0   10076858.0   10078493.0   10081076.0   \n",
              "China                      99322142.0   99322727.0   99323756.0   99325108.0   \n",
              "Colombia                    6385539.0    6386231.0    6387209.0    6389365.0   \n",
              "France                     38997490.0   38997490.0   38997490.0   38997490.0   \n",
              "Germany                    38437756.0   38437756.0   38437756.0   38437756.0   \n",
              "India                      45008620.0   45013172.0   45018134.0   45021758.0   \n",
              "United States of America  103436829.0  103436829.0  103436829.0  103436829.0   \n",
              "\n",
              "Date_reported              2024-01-21  \n",
              "Country                                \n",
              "Argentina                  10081076.0  \n",
              "China                      99326423.0  \n",
              "Colombia                    6391672.0  \n",
              "France                     38997490.0  \n",
              "Germany                    38437756.0  \n",
              "India                      45023751.0  \n",
              "United States of America  103436829.0  \n",
              "\n",
              "[7 rows x 212 columns]"
            ]
          },
          "execution_count": 183,
          "metadata": {},
          "output_type": "execute_result"
        }
      ],
      "source": [
        "total_acumulado_top_5_col_arg = df_top_5_col_arg.pivot(index='Country', columns='Date_reported', values='Cumulative_cases').fillna(0)\n",
        "total_acumulado_top_5_col_arg"
      ]
    },
    {
      "cell_type": "code",
      "execution_count": 184,
      "metadata": {
        "colab": {
          "base_uri": "https://localhost:8080/",
          "height": 190
        },
        "id": "ibWrcBEp-j5E",
        "outputId": "f09e182c-3679-49ac-d1cc-073b20f06eec"
      },
      "outputs": [
        {
          "data": {
            "text/html": [
              "<div>\n",
              "<style scoped>\n",
              "    .dataframe tbody tr th:only-of-type {\n",
              "        vertical-align: middle;\n",
              "    }\n",
              "\n",
              "    .dataframe tbody tr th {\n",
              "        vertical-align: top;\n",
              "    }\n",
              "\n",
              "    .dataframe thead th {\n",
              "        text-align: right;\n",
              "    }\n",
              "</style>\n",
              "<table border=\"1\" class=\"dataframe\">\n",
              "  <thead>\n",
              "    <tr style=\"text-align: right;\">\n",
              "      <th>Date_reported</th>\n",
              "      <th>2020-01-05</th>\n",
              "      <th>2020-01-12</th>\n",
              "      <th>2020-01-19</th>\n",
              "      <th>2020-01-26</th>\n",
              "      <th>2020-02-02</th>\n",
              "      <th>2020-02-09</th>\n",
              "      <th>2020-02-16</th>\n",
              "      <th>2020-02-23</th>\n",
              "      <th>2020-03-01</th>\n",
              "      <th>2020-03-08</th>\n",
              "      <th>...</th>\n",
              "      <th>2023-11-19</th>\n",
              "      <th>2023-11-26</th>\n",
              "      <th>2023-12-03</th>\n",
              "      <th>2023-12-10</th>\n",
              "      <th>2023-12-17</th>\n",
              "      <th>2023-12-24</th>\n",
              "      <th>2023-12-31</th>\n",
              "      <th>2024-01-07</th>\n",
              "      <th>2024-01-14</th>\n",
              "      <th>2024-01-21</th>\n",
              "    </tr>\n",
              "    <tr>\n",
              "      <th>Country</th>\n",
              "      <th></th>\n",
              "      <th></th>\n",
              "      <th></th>\n",
              "      <th></th>\n",
              "      <th></th>\n",
              "      <th></th>\n",
              "      <th></th>\n",
              "      <th></th>\n",
              "      <th></th>\n",
              "      <th></th>\n",
              "      <th></th>\n",
              "      <th></th>\n",
              "      <th></th>\n",
              "      <th></th>\n",
              "      <th></th>\n",
              "      <th></th>\n",
              "      <th></th>\n",
              "      <th></th>\n",
              "      <th></th>\n",
              "      <th></th>\n",
              "      <th></th>\n",
              "    </tr>\n",
              "  </thead>\n",
              "  <tbody>\n",
              "    <tr>\n",
              "      <th>Argentina</th>\n",
              "      <td>0</td>\n",
              "      <td>0</td>\n",
              "      <td>0</td>\n",
              "      <td>0</td>\n",
              "      <td>0</td>\n",
              "      <td>0</td>\n",
              "      <td>0</td>\n",
              "      <td>0</td>\n",
              "      <td>0</td>\n",
              "      <td>22</td>\n",
              "      <td>...</td>\n",
              "      <td>10073197</td>\n",
              "      <td>10073701</td>\n",
              "      <td>10074309</td>\n",
              "      <td>10074775</td>\n",
              "      <td>10075395</td>\n",
              "      <td>10076004</td>\n",
              "      <td>10076858</td>\n",
              "      <td>10078493</td>\n",
              "      <td>10081076</td>\n",
              "      <td>10081076</td>\n",
              "    </tr>\n",
              "    <tr>\n",
              "      <th>Colombia</th>\n",
              "      <td>0</td>\n",
              "      <td>0</td>\n",
              "      <td>0</td>\n",
              "      <td>0</td>\n",
              "      <td>0</td>\n",
              "      <td>0</td>\n",
              "      <td>0</td>\n",
              "      <td>0</td>\n",
              "      <td>0</td>\n",
              "      <td>1</td>\n",
              "      <td>...</td>\n",
              "      <td>6383595</td>\n",
              "      <td>6383948</td>\n",
              "      <td>6384224</td>\n",
              "      <td>6384551</td>\n",
              "      <td>6384979</td>\n",
              "      <td>6385539</td>\n",
              "      <td>6386231</td>\n",
              "      <td>6387209</td>\n",
              "      <td>6389365</td>\n",
              "      <td>6391672</td>\n",
              "    </tr>\n",
              "  </tbody>\n",
              "</table>\n",
              "<p>2 rows × 212 columns</p>\n",
              "</div>"
            ],
            "text/plain": [
              "Date_reported  2020-01-05  2020-01-12  2020-01-19  2020-01-26  2020-02-02  \\\n",
              "Country                                                                     \n",
              "Argentina               0           0           0           0           0   \n",
              "Colombia                0           0           0           0           0   \n",
              "\n",
              "Date_reported  2020-02-09  2020-02-16  2020-02-23  2020-03-01  2020-03-08  \\\n",
              "Country                                                                     \n",
              "Argentina               0           0           0           0          22   \n",
              "Colombia                0           0           0           0           1   \n",
              "\n",
              "Date_reported  ...  2023-11-19  2023-11-26  2023-12-03  2023-12-10  \\\n",
              "Country        ...                                                   \n",
              "Argentina      ...    10073197    10073701    10074309    10074775   \n",
              "Colombia       ...     6383595     6383948     6384224     6384551   \n",
              "\n",
              "Date_reported  2023-12-17  2023-12-24  2023-12-31  2024-01-07  2024-01-14  \\\n",
              "Country                                                                     \n",
              "Argentina        10075395    10076004    10076858    10078493    10081076   \n",
              "Colombia          6384979     6385539     6386231     6387209     6389365   \n",
              "\n",
              "Date_reported  2024-01-21  \n",
              "Country                    \n",
              "Argentina        10081076  \n",
              "Colombia          6391672  \n",
              "\n",
              "[2 rows x 212 columns]"
            ]
          },
          "execution_count": 184,
          "metadata": {},
          "output_type": "execute_result"
        }
      ],
      "source": [
        "total_acumulado_col_arg = df_col_arg.pivot(index='Country', columns='Date_reported', values='Cumulative_cases').fillna(0)\n",
        "total_acumulado_col_arg"
      ]
    },
    {
      "cell_type": "markdown",
      "metadata": {
        "id": "gD6J_hnWHUdX"
      },
      "source": [
        "#### Visualización"
      ]
    },
    {
      "cell_type": "code",
      "execution_count": 185,
      "metadata": {
        "colab": {
          "base_uri": "https://localhost:8080/"
        },
        "id": "oExCisGISqXe",
        "outputId": "bd5ea8b9-146d-4b65-ad12-8aaa1cdd90cf"
      },
      "outputs": [
        {
          "data": {
            "text/plain": [
              "Country\n",
              "Argentina    10081076\n",
              "Colombia      6391672\n",
              "Name: Cumulative_cases, dtype: int64"
            ]
          },
          "execution_count": 185,
          "metadata": {},
          "output_type": "execute_result"
        }
      ],
      "source": [
        "col_arg_cases"
      ]
    },
    {
      "cell_type": "code",
      "execution_count": 211,
      "metadata": {
        "colab": {
          "base_uri": "https://localhost:8080/",
          "height": 444
        },
        "id": "zNqdENGUIKv-",
        "outputId": "a068355c-3ebe-43fb-9f35-22af3f9a4529"
      },
      "outputs": [
        {
          "data": {
            "image/png": "[encoded data removed]",
            "text/plain": [
              "<Figure size 1700x500 with 2 Axes>"
            ]
          },
          "metadata": {},
          "output_type": "display_data"
        }
      ],
      "source": [
        "# Gráfico de Donuts\n",
        "fig, axs = plt.subplots(1, 2, figsize=(17, 5))\n",
        "\n",
        "#wedges son las líneas de los contornos del gráfico\n",
        "#texts almacena los labels \"Argentina\" \"Colombia\"\n",
        "#autotexts almacena los % dentro del pie\n",
        "\n",
        "#Plot 1\n",
        "axs[0].set_title('TOP 10 Paises')\n",
        "wedges, texts, autotexts = axs[0].pie(\n",
        "  top_10_paises_col_arg,\n",
        "  labels=top_10_paises_col_arg.index,\n",
        "  autopct='%1.1f%%',\n",
        "  # pctdistance=1.2\n",
        "  startangle=185,\n",
        "  wedgeprops={\n",
        "  \"edgecolor\": \"white\",\n",
        "  \"linewidth\": 2,\n",
        "  },\n",
        "  colors=['#dddef2','#cbccdf', '#dddef2', '#cbccdf', '#dddef2', '#cbccdf', '#dddef2', '#cbccdf', '#dddef2','#cbccdf', '#1F77B4','#FF7F0E', '#cbccdf']\n",
        ")\n",
        "\n",
        "labels = []\n",
        "\n",
        "for index, country in enumerate(texts):\n",
        "  country.set_bbox(dict(facecolor='white', alpha=1))\n",
        "  labels.append(f'{autotexts[index].get_text()} {country.get_text()}')\n",
        "\n",
        "for index, text in enumerate(texts):\n",
        "  text.set_text(labels[index])\n",
        "\n",
        "usa, china, india, france, germany, brazil, korea, japan, italy, uk, argentina, colombia, otros = [country for country in texts]\n",
        "\n",
        "\n",
        "#Ajustamos la posición de colombia porque pisa a Argentina\n",
        "colombia.set_position((0.8, 1.2))\n",
        "colombia.set_bbox(dict(facecolor='#FF7F0E', alpha=1))\n",
        "axs[0].plot([0.57, 0.57, 0.8],[0.83, 1.2, 1.2], color=\"#FF7F0E\", linewidth=1.5)\n",
        "\n",
        "\n",
        "#Ajustamos la posición de Argentina porque pisa a UK\n",
        "argentina.set_position((0.9, 1))\n",
        "argentina.set_bbox(dict(facecolor='#1F77B4', alpha=1))\n",
        "argentina.set_color('white')\n",
        "axs[0].plot([0.62, 0.7, 1],[0.79, 1, 1], color=\"#1F77B4\", linewidth=1.5)\n",
        "\n",
        "#Ajustamos la posición de UK\n",
        "uk.set_position((0.9, 0.8))\n",
        "\n",
        "# #Ajustamos la posición de Italy\n",
        "italy.set_position((1, 0.55))\n",
        "\n",
        "# #Ajustamos la posicion de japan\n",
        "japan.set_position((1.1, 0.3))\n",
        "\n",
        "#Ocultamos los % del pieplot\n",
        "for pct in autotexts:\n",
        "  pct.set_text('')\n",
        "\n",
        "\n",
        "#Plot 2\n",
        "axs[1].set_title('Argentina y Colombia')\n",
        "wedges, texts, autotexts = axs[1].pie(\n",
        "  col_arg_cases,\n",
        "  labels=col_arg_cases.index,\n",
        "  autopct='%1.1f%%',\n",
        "  wedgeprops={\n",
        "    \"edgecolor\": \"white\",\n",
        "    \"linewidth\": 2,\n",
        "  }\n",
        ")\n",
        "argentina = texts[0]\n",
        "argentina.set_bbox(dict(facecolor='#1F77B4', alpha=1, edgecolor=\"none\"))\n",
        "argentina.set_color('white')\n",
        "\n",
        "colombia = texts[1]\n",
        "colombia.set_bbox(dict(facecolor='#FF7F0E', alpha=1, edgecolor=\"none\"))\n",
        "\n",
        "plt.show()"
      ]
    },
    {
      "cell_type": "code",
      "execution_count": 373,
      "metadata": {
        "colab": {
          "base_uri": "https://localhost:8080/",
          "height": 557
        },
        "id": "K6SINapi-UDS",
        "outputId": "eca9ce38-3e28-4740-f8f4-cdd9bf74ab88"
      },
      "outputs": [
        {
          "data": {
            "image/png": "[encoded data removed]",
            "text/plain": [
              "<Figure size 1500x500 with 2 Axes>"
            ]
          },
          "metadata": {},
          "output_type": "display_data"
        }
      ],
      "source": [
        "fig, axs = plt.subplots(1, 2, figsize=(15, 5))\n",
        "\n",
        "# Gráfico de Líneas TOP 5\n",
        "axs[0].set_title('TOP 5 Paises')\n",
        "colors0=['red', '#ec4b59', '#7c5bd8','#e4f265', '#c3ffff','#1F77B4','#FF7F0E']\n",
        "y_arg = total_acumulado_top_5_col_arg.loc[\"Argentina\"][-1]\n",
        "y_col = total_acumulado_top_5_col_arg.loc[\"Colombia\"][-1]\n",
        "for index, pais in enumerate(top_5_paises_col_arg.index):\n",
        "    days_since_start = (total_acumulado_top_5_col_arg.columns - total_acumulado_top_5_col_arg.columns[0]).days\n",
        "    axs[0].plot(days_since_start, total_acumulado_top_5_col_arg.loc[pais], label=pais, color=colors0[index])\n",
        "legend = axs[0].legend()\n",
        "legend = legend.get_frame()\n",
        "legend.set_color(\"white\")\n",
        "legend.set_edgecolor(\"black\")\n",
        "axs[0].set_facecolor(\"white\")\n",
        "axs[0].annotate(\"Argentina\", xy=(1300,y_arg+3e6), color=\"#1F77B4\")\n",
        "axs[0].annotate(\"Colombia\", xy=(1300,y_col-5e6), color=\"#FF7F0E\")\n",
        "axs[0].set_ylabel(\"Casos confirmados en millones [M]\")\n",
        "axs[0].set_yticklabels([\"0\",\"0M\",\"20M\",\"40M\",\"60M\",\"80M\",\"100M\"])\n",
        "axs[0].set_xlabel(\"Días que pasaron desde el inicio de pandemia\")\n",
        "axs[0].grid(axis=\"y\")\n",
        "\n",
        "\n",
        "#Gráfico de líneas Argentina-Colombia\n",
        "y_labels=[]\n",
        "axs[1].set_title('Argentina y Colombia')\n",
        "colors1=['#1F77B4','#FF7F0E']\n",
        "for index, pais in enumerate(col_arg_cases_line.index):\n",
        "    days_since_start = (total_acumulado_col_arg.columns - total_acumulado_col_arg.columns[0]).days\n",
        "    axs[1].plot(days_since_start, total_acumulado_col_arg.loc[pais], label=pais, color=colors1[index])\n",
        "    y_labels.append(total_acumulado_col_arg.loc[pais])\n",
        "\n",
        "legend = axs[1].legend()\n",
        "legend = legend.get_frame()\n",
        "legend.set_color(\"white\")\n",
        "legend.set_edgecolor(\"black\")\n",
        "axs[1].set_facecolor(\"white\")\n",
        "axs[1].set_ylabel(\"Casos confirmados en millones [M]\")\n",
        "axs[1].set_xlabel(\"Días que pasaron desde el inicio de pandemia\")\n",
        "axs[1].grid(axis=\"y\")\n",
        "axs[1].set_yticklabels([\"0\",\"0M\",\"2M\",\"4M\",\"6M\",\"8M\",\"10M\"])\n",
        "\n",
        "plt.show()"
      ]
    },
    {
      "cell_type": "markdown",
      "metadata": {
        "id": "4EcadSOlAHTE"
      },
      "source": [
        "# Pregunta 2"
      ]
    },
    {
      "cell_type": "markdown",
      "metadata": {
        "id": "ouFDiCx7C367"
      },
      "source": [
        "#### Casos Colombia"
      ]
    },
    {
      "cell_type": "code",
      "execution_count": 188,
      "metadata": {
        "colab": {
          "base_uri": "https://localhost:8080/"
        },
        "id": "Q19wwGowAPqL",
        "outputId": "f2986aa2-5820-4713-9e98-b8b586631ed3"
      },
      "outputs": [
        {
          "data": {
            "text/plain": [
              "Date_reported\n",
              "2020-03-08       1.0\n",
              "2020-03-15      15.0\n",
              "2020-03-22     180.0\n",
              "2020-03-29     527.0\n",
              "2020-04-05     544.0\n",
              "               ...  \n",
              "2023-12-24     560.0\n",
              "2023-12-31     692.0\n",
              "2024-01-07     978.0\n",
              "2024-01-14    2156.0\n",
              "2024-01-21    2307.0\n",
              "Length: 201, dtype: float64"
            ]
          },
          "execution_count": 188,
          "metadata": {},
          "output_type": "execute_result"
        }
      ],
      "source": [
        "#Daily New Cases Colombia\n",
        "grouped_df = df_covid_limpio.groupby(['Country', 'Date_reported'])['Cumulative_cases'].sum().unstack()\n",
        "grouped_df = grouped_df.reset_index()\n",
        "grouped_df = grouped_df.set_index('Country')\n",
        "grouped_df = grouped_df.loc[['Colombia']]\n",
        "fechas = grouped_df.columns\n",
        "new_cases_col = grouped_df[fechas].diff(axis=1).fillna(grouped_df[fechas]).sum(axis=0)\n",
        "new_cases_col = new_cases_col[new_cases_col > 0]\n",
        "new_cases_col"
      ]
    },
    {
      "cell_type": "code",
      "execution_count": 189,
      "metadata": {
        "colab": {
          "base_uri": "https://localhost:8080/",
          "height": 503
        },
        "id": "hC59lL-7Daeu",
        "outputId": "0a92b577-82c9-4016-aa35-8f58410bb1ef"
      },
      "outputs": [
        {
          "data": {
            "text/plain": [
              "Text(0.5, 1.0, 'Dayli New Cases (Colombia)')"
            ]
          },
          "execution_count": 189,
          "metadata": {},
          "output_type": "execute_result"
        }
      ],
      "source": [
        "#Colombia\n",
        "plt.rcParams[\"axes.facecolor\"] = \"#6495ED\"\n",
        "fig, ax = plt.subplots(figsize=(12, 5),facecolor='#FFF8DC')\n",
        "ax.stem(new_cases_col.index, new_cases_col.values/1e3,basefmt = 'k:',markerfmt= '.',linefmt ='#FFF8DC')\n",
        "plt.axhline(200,color = '#FFF8DC',linewidth = 0.5)\n",
        "plt.axhline(150,color = '#FFF8DC',linewidth = 0.5)\n",
        "plt.axhline(100,color = '#FFF8DC',linewidth = 0.5)\n",
        "plt.axhline(50,color = '#FFF8DC',linewidth = 0.5)\n",
        "plt.ylabel('Miles')\n",
        "plt.xticks(['2020-01','2020-08','2021-01','2021-07','2022-02','2023-01','2023-07','2024-01','2022-07'],rotation =25,fontsize=7)\n",
        "plt.title('Dayli New Cases (Colombia)')"
      ]
    },
    {
      "cell_type": "code",
      "execution_count": null,
      "metadata": {
        "id": "_mhZZxy0cypa"
      },
      "outputs": [],
      "source": []
    },
    {
      "cell_type": "markdown",
      "metadata": {
        "id": "6Q9csapbC9_H"
      },
      "source": [
        "#### Casos Argentina"
      ]
    },
    {
      "cell_type": "code",
      "execution_count": 190,
      "metadata": {
        "colab": {
          "base_uri": "https://localhost:8080/"
        },
        "id": "WmHrtWrnDDHb",
        "outputId": "ae333cc5-db5e-48b7-973e-5622ffcd3812"
      },
      "outputs": [
        {
          "data": {
            "text/plain": [
              "Date_reported\n",
              "2020-03-08      22.0\n",
              "2020-03-15     109.0\n",
              "2020-03-22     405.0\n",
              "2020-03-29     746.0\n",
              "2020-04-05     791.0\n",
              "               ...  \n",
              "2023-12-17     620.0\n",
              "2023-12-24     609.0\n",
              "2023-12-31     854.0\n",
              "2024-01-07    1635.0\n",
              "2024-01-14    2583.0\n",
              "Length: 191, dtype: float64"
            ]
          },
          "execution_count": 190,
          "metadata": {},
          "output_type": "execute_result"
        }
      ],
      "source": [
        "#Daily New Cases Argentina\n",
        "grouped_df = df_covid_limpio.groupby(['Country', 'Date_reported'])['Cumulative_cases'].sum().unstack()\n",
        "grouped_df = grouped_df.reset_index()\n",
        "grouped_df = grouped_df.set_index('Country')\n",
        "grouped_df = grouped_df.loc[['Argentina']]\n",
        "fechas = grouped_df.columns\n",
        "new_cases_Arg = grouped_df[fechas].diff(axis=1).fillna(grouped_df[fechas]).sum(axis=0)\n",
        "new_cases_Arg = new_cases_Arg[new_cases_Arg > 0]\n",
        "new_cases_Arg"
      ]
    },
    {
      "cell_type": "code",
      "execution_count": 191,
      "metadata": {
        "colab": {
          "base_uri": "https://localhost:8080/",
          "height": 503
        },
        "id": "rYwLY55HVhmB",
        "outputId": "f5820493-6968-4e37-b7f6-ad0850bb8c5d"
      },
      "outputs": [
        {
          "data": {
            "text/plain": [
              "Text(0.5, 1.0, 'Dayli New Cases (Argentina)')"
            ]
          },
          "execution_count": 191,
          "metadata": {},
          "output_type": "execute_result"
        }
      ],
      "source": [
        "#ARGENTINA\n",
        "plt.rcParams[\"axes.facecolor\"] = \"#6495ED\"\n",
        "fig, ax = plt.subplots(figsize=(12, 5),facecolor='#FFF8DC')\n",
        "ax.stem(new_cases_Arg.index, new_cases_Arg.values/1e3,basefmt = 'k:',markerfmt= '.',linefmt ='#FFF8DC')\n",
        "plt.axhline(780,color = '#FFF8DC',linewidth = 0.5)\n",
        "plt.axhline(600,color = '#FFF8DC',linewidth = 0.5)\n",
        "plt.axhline(450,color = '#FFF8DC',linewidth = 0.5)\n",
        "plt.axhline(300,color = '#FFF8DC',linewidth = 0.5)\n",
        "plt.axhline(100,color = '#FFF8DC',linewidth = 0.5)\n",
        "plt.ylabel('Miles')\n",
        "plt.xticks(['2020-03','2024-01','2022-07','2022-02','2021-06','2020-10','2021-11','2021-02','2020-07','2023-01','2023-05'],rotation =25,fontsize=7)\n",
        "plt.yticks([780,600,450,300,100])\n",
        "plt.title('Dayli New Cases (Argentina)')\n"
      ]
    },
    {
      "cell_type": "markdown",
      "metadata": {
        "id": "Bfqid0BIEKAA"
      },
      "source": [
        "# Pregunta 3"
      ]
    },
    {
      "cell_type": "code",
      "execution_count": 192,
      "metadata": {
        "colab": {
          "base_uri": "https://localhost:8080/",
          "height": 424
        },
        "id": "wrTf497wE09H",
        "outputId": "099d7261-2a97-4159-d11c-311a7c7b7e05"
      },
      "outputs": [
        {
          "data": {
            "text/html": [
              "<div>\n",
              "<style scoped>\n",
              "    .dataframe tbody tr th:only-of-type {\n",
              "        vertical-align: middle;\n",
              "    }\n",
              "\n",
              "    .dataframe tbody tr th {\n",
              "        vertical-align: top;\n",
              "    }\n",
              "\n",
              "    .dataframe thead th {\n",
              "        text-align: right;\n",
              "    }\n",
              "</style>\n",
              "<table border=\"1\" class=\"dataframe\">\n",
              "  <thead>\n",
              "    <tr style=\"text-align: right;\">\n",
              "      <th></th>\n",
              "      <th>Date_reported</th>\n",
              "      <th>Country_code</th>\n",
              "      <th>Country</th>\n",
              "      <th>New_cases</th>\n",
              "      <th>Cumulative_cases</th>\n",
              "      <th>New_deaths</th>\n",
              "      <th>Cumulative_deaths</th>\n",
              "      <th>lethality_rate</th>\n",
              "    </tr>\n",
              "  </thead>\n",
              "  <tbody>\n",
              "    <tr>\n",
              "      <th>6543</th>\n",
              "      <td>2020-01-05</td>\n",
              "      <td>MX</td>\n",
              "      <td>Mexico</td>\n",
              "      <td>0</td>\n",
              "      <td>0</td>\n",
              "      <td>0</td>\n",
              "      <td>0</td>\n",
              "      <td>0.000000</td>\n",
              "    </tr>\n",
              "    <tr>\n",
              "      <th>6544</th>\n",
              "      <td>2020-02-02</td>\n",
              "      <td>MX</td>\n",
              "      <td>Mexico</td>\n",
              "      <td>0</td>\n",
              "      <td>0</td>\n",
              "      <td>0</td>\n",
              "      <td>0</td>\n",
              "      <td>0.000000</td>\n",
              "    </tr>\n",
              "    <tr>\n",
              "      <th>6545</th>\n",
              "      <td>2020-03-29</td>\n",
              "      <td>MX</td>\n",
              "      <td>Mexico</td>\n",
              "      <td>1214</td>\n",
              "      <td>2117</td>\n",
              "      <td>24</td>\n",
              "      <td>28</td>\n",
              "      <td>1.322626</td>\n",
              "    </tr>\n",
              "    <tr>\n",
              "      <th>6546</th>\n",
              "      <td>2020-04-26</td>\n",
              "      <td>MX</td>\n",
              "      <td>Mexico</td>\n",
              "      <td>9264</td>\n",
              "      <td>22764</td>\n",
              "      <td>1453</td>\n",
              "      <td>2758</td>\n",
              "      <td>12.115621</td>\n",
              "    </tr>\n",
              "    <tr>\n",
              "      <th>6547</th>\n",
              "      <td>2020-09-13</td>\n",
              "      <td>MX</td>\n",
              "      <td>Mexico</td>\n",
              "      <td>35339</td>\n",
              "      <td>728985</td>\n",
              "      <td>3208</td>\n",
              "      <td>89266</td>\n",
              "      <td>12.245245</td>\n",
              "    </tr>\n",
              "    <tr>\n",
              "      <th>...</th>\n",
              "      <td>...</td>\n",
              "      <td>...</td>\n",
              "      <td>...</td>\n",
              "      <td>...</td>\n",
              "      <td>...</td>\n",
              "      <td>...</td>\n",
              "      <td>...</td>\n",
              "      <td>...</td>\n",
              "    </tr>\n",
              "    <tr>\n",
              "      <th>44</th>\n",
              "      <td>2023-09-03</td>\n",
              "      <td>AR</td>\n",
              "      <td>Argentina</td>\n",
              "      <td>3104</td>\n",
              "      <td>10059917</td>\n",
              "      <td>15</td>\n",
              "      <td>130571</td>\n",
              "      <td>1.297933</td>\n",
              "    </tr>\n",
              "    <tr>\n",
              "      <th>45</th>\n",
              "      <td>2023-10-01</td>\n",
              "      <td>AR</td>\n",
              "      <td>Argentina</td>\n",
              "      <td>1317</td>\n",
              "      <td>10067998</td>\n",
              "      <td>9</td>\n",
              "      <td>130634</td>\n",
              "      <td>1.297517</td>\n",
              "    </tr>\n",
              "    <tr>\n",
              "      <th>46</th>\n",
              "      <td>2023-11-19</td>\n",
              "      <td>AR</td>\n",
              "      <td>Argentina</td>\n",
              "      <td>532</td>\n",
              "      <td>10073197</td>\n",
              "      <td>7</td>\n",
              "      <td>130678</td>\n",
              "      <td>1.297284</td>\n",
              "    </tr>\n",
              "    <tr>\n",
              "      <th>47</th>\n",
              "      <td>2023-12-03</td>\n",
              "      <td>AR</td>\n",
              "      <td>Argentina</td>\n",
              "      <td>608</td>\n",
              "      <td>10074309</td>\n",
              "      <td>1</td>\n",
              "      <td>130682</td>\n",
              "      <td>1.297181</td>\n",
              "    </tr>\n",
              "    <tr>\n",
              "      <th>48</th>\n",
              "      <td>2024-01-07</td>\n",
              "      <td>AR</td>\n",
              "      <td>Argentina</td>\n",
              "      <td>1635</td>\n",
              "      <td>10078493</td>\n",
              "      <td>2</td>\n",
              "      <td>130697</td>\n",
              "      <td>1.296791</td>\n",
              "    </tr>\n",
              "  </tbody>\n",
              "</table>\n",
              "<p>287 rows × 8 columns</p>\n",
              "</div>"
            ],
            "text/plain": [
              "     Date_reported Country_code    Country  New_cases  Cumulative_cases  \\\n",
              "6543    2020-01-05           MX     Mexico          0                 0   \n",
              "6544    2020-02-02           MX     Mexico          0                 0   \n",
              "6545    2020-03-29           MX     Mexico       1214              2117   \n",
              "6546    2020-04-26           MX     Mexico       9264             22764   \n",
              "6547    2020-09-13           MX     Mexico      35339            728985   \n",
              "...            ...          ...        ...        ...               ...   \n",
              "44      2023-09-03           AR  Argentina       3104          10059917   \n",
              "45      2023-10-01           AR  Argentina       1317          10067998   \n",
              "46      2023-11-19           AR  Argentina        532          10073197   \n",
              "47      2023-12-03           AR  Argentina        608          10074309   \n",
              "48      2024-01-07           AR  Argentina       1635          10078493   \n",
              "\n",
              "      New_deaths  Cumulative_deaths  lethality_rate  \n",
              "6543           0                  0        0.000000  \n",
              "6544           0                  0        0.000000  \n",
              "6545          24                 28        1.322626  \n",
              "6546        1453               2758       12.115621  \n",
              "6547        3208              89266       12.245245  \n",
              "...          ...                ...             ...  \n",
              "44            15             130571        1.297933  \n",
              "45             9             130634        1.297517  \n",
              "46             7             130678        1.297284  \n",
              "47             1             130682        1.297181  \n",
              "48             2             130697        1.296791  \n",
              "\n",
              "[287 rows x 8 columns]"
            ]
          },
          "execution_count": 192,
          "metadata": {},
          "output_type": "execute_result"
        }
      ],
      "source": [
        "#Lethality Rate by Country\n",
        "def get_max_row(group, column):\n",
        "    return group.loc[group[column].idxmax()]\n",
        "\n",
        "result = df_covid_limpio.groupby(['Country', df_covid_limpio['Date_reported'].dt.to_period(\"M\")]).apply(lambda group: get_max_row(group, 'lethality_rate'))\n",
        "result.reset_index(drop=True, inplace=True)\n",
        "top_4_paises = result.groupby('Country')['lethality_rate'].mean().nlargest(4).index\n",
        "result = result[result['Country'].isin(top_4_paises)]\n",
        "#Colombia\n",
        "result_pais_Col = df_covid_limpio[df_covid_limpio['Country'] == 'Colombia'].groupby(df_covid_limpio['Date_reported'].dt.to_period(\"M\")).apply(lambda group: get_max_row(group, 'lethality_rate'))\n",
        "result_pais_Col.reset_index(drop=True, inplace=True)\n",
        "#Argentina\n",
        "result_pais_Arg = df_covid_limpio[df_covid_limpio['Country'] == 'Argentina'].groupby(df_covid_limpio['Date_reported'].dt.to_period(\"M\")).apply(lambda group: get_max_row(group, 'lethality_rate'))\n",
        "result_pais_Arg.reset_index(drop=True, inplace=True)\n",
        "#Final\n",
        "result_final = pd.concat([result, result_pais_Col,result_pais_Arg])\n",
        "result_final"
      ]
    },
    {
      "cell_type": "code",
      "execution_count": 193,
      "metadata": {
        "colab": {
          "base_uri": "https://localhost:8080/",
          "height": 391
        },
        "id": "ebD_j6Rpv9mP",
        "outputId": "06a79084-56de-4192-8ed1-93b3f8fea0c1"
      },
      "outputs": [
        {
          "data": {
            "image/png": "[encoded data removed]",
            "text/plain": [
              "<Figure size 1200x500 with 1 Axes>"
            ]
          },
          "metadata": {},
          "output_type": "display_data"
        },
        {
          "data": {
            "image/png": "[encoded data removed]",
            "text/plain": [
              "<Figure size 1200x500 with 1 Axes>"
            ]
          },
          "metadata": {},
          "output_type": "display_data"
        },
        {
          "data": {
            "image/png": "[encoded data removed]",
            "text/plain": [
              "<Figure size 1200x400 with 1 Axes>"
            ]
          },
          "metadata": {},
          "output_type": "display_data"
        }
      ],
      "source": [
        "plt.rcParams[\"axes.facecolor\"] = \"#FAFAD2\"\n",
        "fig, ax = plt.subplots(figsize=(12, 4),facecolor='#FAFAD2')\n",
        "ax.spines['right'].set_visible(False)\n",
        "ax.spines['top'].set_visible(False)\n",
        "for pais in result_final['Country'].unique():\n",
        "    country_data = result_final[result_final['Country'] == pais]\n",
        "    line, = ax.plot(country_data['Date_reported'], country_data['lethality_rate'], label=pais)\n",
        "    ax.annotate(pais, (country_data['Date_reported'].iloc[-1],country_data['lethality_rate'].iloc[-1]), xytext=(5,0), textcoords='offset points', ha='left')\n",
        "plt.grid()\n",
        "plt.title('Lethality Rate by Country')\n",
        "plt.ylabel('Lethality Rate(%)')\n",
        "\n",
        "plt.show()\n"
      ]
    },
    {
      "cell_type": "markdown",
      "metadata": {
        "id": "xwl9Zz61vjTz"
      },
      "source": [
        "### **Preguntas**\n",
        "\n",
        "1. ¿Cómo ha evolucionado el Covid-19 en el país en comparación con el impacto observado a nivel global?\n",
        "\n",
        "2. ¿Cuál ha sido la evolución de los nuevos casos diarios reportados de Covid-19 en el país a lo largo del tiempo?\n",
        "\n",
        "3. ¿Cuál es la evolución del índice de letalidad del Covid-19 en el país, comparado con los países con los índices históricos más elevados?\n",
        "\n",
        "4. Desde una perspectiva demográfica, ¿cuáles son las características que tienen un mayor impacto en el índice de letalidad de un país?\n",
        "\n",
        "5. ¿Existe otro insight que puedas proporcionar?"
      ]
    },
    {
      "cell_type": "markdown",
      "metadata": {
        "id": "MqtKg1WN5GTy"
      },
      "source": []
    },
    {
      "cell_type": "markdown",
      "metadata": {
        "id": "2mHUZn9ZPCt0"
      },
      "source": [
        "# Pregunta 4"
      ]
    },
    {
      "cell_type": "markdown",
      "metadata": {
        "id": "5l6XLw9aPExy"
      },
      "source": [
        "## Desde una perspectiva demográdica ¿cuáles son las características que tienen un mayor impacto en el índice de letalidad de un país?"
      ]
    },
    {
      "cell_type": "markdown",
      "metadata": {
        "id": "hhA5wKM6Yaae"
      },
      "source": [
        "### Filtramos registros hasta la fecha 31/12/2020 inclusive"
      ]
    },
    {
      "cell_type": "code",
      "execution_count": 194,
      "metadata": {
        "id": "tSex6AdAPR8u"
      },
      "outputs": [],
      "source": [
        "rango = df_covid_limpio['Date_reported'] <= \"2020-12-31\"\n",
        "df_filtrado = df_covid_limpio[rango].copy()"
      ]
    },
    {
      "cell_type": "markdown",
      "metadata": {
        "id": "H2EZd8SrYik7"
      },
      "source": [
        "### Agrupamos por país y calculamos la media de la tasa de mortalidad (por país)"
      ]
    },
    {
      "cell_type": "code",
      "execution_count": 195,
      "metadata": {
        "colab": {
          "base_uri": "https://localhost:8080/",
          "height": 424
        },
        "id": "RSC0n_7LXBt7",
        "outputId": "4cbe52b0-20b1-4bcb-e7ea-cc48b6fbd8d9"
      },
      "outputs": [
        {
          "data": {
            "text/html": [
              "<div>\n",
              "<style scoped>\n",
              "    .dataframe tbody tr th:only-of-type {\n",
              "        vertical-align: middle;\n",
              "    }\n",
              "\n",
              "    .dataframe tbody tr th {\n",
              "        vertical-align: top;\n",
              "    }\n",
              "\n",
              "    .dataframe thead th {\n",
              "        text-align: right;\n",
              "    }\n",
              "</style>\n",
              "<table border=\"1\" class=\"dataframe\">\n",
              "  <thead>\n",
              "    <tr style=\"text-align: right;\">\n",
              "      <th></th>\n",
              "      <th>Country_code</th>\n",
              "      <th>Country</th>\n",
              "      <th>lethality_rate_mean</th>\n",
              "    </tr>\n",
              "  </thead>\n",
              "  <tbody>\n",
              "    <tr>\n",
              "      <th>0</th>\n",
              "      <td>AD</td>\n",
              "      <td>Andorra</td>\n",
              "      <td>3.097271</td>\n",
              "    </tr>\n",
              "    <tr>\n",
              "      <th>1</th>\n",
              "      <td>AE</td>\n",
              "      <td>United Arab Emirates</td>\n",
              "      <td>0.450758</td>\n",
              "    </tr>\n",
              "    <tr>\n",
              "      <th>2</th>\n",
              "      <td>AF</td>\n",
              "      <td>Afghanistan</td>\n",
              "      <td>2.462106</td>\n",
              "    </tr>\n",
              "    <tr>\n",
              "      <th>3</th>\n",
              "      <td>AG</td>\n",
              "      <td>Antigua and Barbuda</td>\n",
              "      <td>3.734753</td>\n",
              "    </tr>\n",
              "    <tr>\n",
              "      <th>4</th>\n",
              "      <td>AI</td>\n",
              "      <td>Anguilla</td>\n",
              "      <td>0.000000</td>\n",
              "    </tr>\n",
              "    <tr>\n",
              "      <th>...</th>\n",
              "      <td>...</td>\n",
              "      <td>...</td>\n",
              "      <td>...</td>\n",
              "    </tr>\n",
              "    <tr>\n",
              "      <th>228</th>\n",
              "      <td>YE</td>\n",
              "      <td>Yemen</td>\n",
              "      <td>0.000000</td>\n",
              "    </tr>\n",
              "    <tr>\n",
              "      <th>229</th>\n",
              "      <td>YT</td>\n",
              "      <td>Mayotte</td>\n",
              "      <td>0.872976</td>\n",
              "    </tr>\n",
              "    <tr>\n",
              "      <th>230</th>\n",
              "      <td>ZA</td>\n",
              "      <td>South Africa</td>\n",
              "      <td>1.899765</td>\n",
              "    </tr>\n",
              "    <tr>\n",
              "      <th>231</th>\n",
              "      <td>ZM</td>\n",
              "      <td>Zambia</td>\n",
              "      <td>2.055205</td>\n",
              "    </tr>\n",
              "    <tr>\n",
              "      <th>232</th>\n",
              "      <td>ZW</td>\n",
              "      <td>Zimbabwe</td>\n",
              "      <td>2.294720</td>\n",
              "    </tr>\n",
              "  </tbody>\n",
              "</table>\n",
              "<p>233 rows × 3 columns</p>\n",
              "</div>"
            ],
            "text/plain": [
              "    Country_code               Country  lethality_rate_mean\n",
              "0             AD               Andorra             3.097271\n",
              "1             AE  United Arab Emirates             0.450758\n",
              "2             AF           Afghanistan             2.462106\n",
              "3             AG   Antigua and Barbuda             3.734753\n",
              "4             AI              Anguilla             0.000000\n",
              "..           ...                   ...                  ...\n",
              "228           YE                 Yemen             0.000000\n",
              "229           YT               Mayotte             0.872976\n",
              "230           ZA          South Africa             1.899765\n",
              "231           ZM                Zambia             2.055205\n",
              "232           ZW              Zimbabwe             2.294720\n",
              "\n",
              "[233 rows x 3 columns]"
            ]
          },
          "execution_count": 195,
          "metadata": {},
          "output_type": "execute_result"
        }
      ],
      "source": [
        "df_agrupado = df_filtrado.groupby(['Country_code', 'Country'], as_index=False).agg({'lethality_rate': 'mean'}).rename(columns={'lethality_rate': 'lethality_rate_mean'})\n",
        "df_agrupado"
      ]
    },
    {
      "cell_type": "markdown",
      "metadata": {
        "id": "hdDH6pobZx3m"
      },
      "source": [
        "### Hacemos un innerjoin entre df_agrupado y df_population_limpio"
      ]
    },
    {
      "cell_type": "code",
      "execution_count": 196,
      "metadata": {
        "colab": {
          "base_uri": "https://localhost:8080/",
          "height": 424
        },
        "id": "rIXJD5rwGHYL",
        "outputId": "543d8ff8-a242-47fc-dd33-b38cf20f90e9"
      },
      "outputs": [
        {
          "data": {
            "text/html": [
              "<div>\n",
              "<style scoped>\n",
              "    .dataframe tbody tr th:only-of-type {\n",
              "        vertical-align: middle;\n",
              "    }\n",
              "\n",
              "    .dataframe tbody tr th {\n",
              "        vertical-align: top;\n",
              "    }\n",
              "\n",
              "    .dataframe thead th {\n",
              "        text-align: right;\n",
              "    }\n",
              "</style>\n",
              "<table border=\"1\" class=\"dataframe\">\n",
              "  <thead>\n",
              "    <tr style=\"text-align: right;\">\n",
              "      <th></th>\n",
              "      <th>Country_code</th>\n",
              "      <th>Country</th>\n",
              "      <th>lethality_rate_mean</th>\n",
              "      <th>Total_Population</th>\n",
              "      <th>Male_Population</th>\n",
              "      <th>Female_Population</th>\n",
              "      <th>Population_Density</th>\n",
              "      <th>Life_Expectancy</th>\n",
              "    </tr>\n",
              "  </thead>\n",
              "  <tbody>\n",
              "    <tr>\n",
              "      <th>0</th>\n",
              "      <td>AD</td>\n",
              "      <td>Andorra</td>\n",
              "      <td>3.097271</td>\n",
              "      <td>76000</td>\n",
              "      <td>39000</td>\n",
              "      <td>38000</td>\n",
              "      <td>162</td>\n",
              "      <td>83</td>\n",
              "    </tr>\n",
              "    <tr>\n",
              "      <th>1</th>\n",
              "      <td>AE</td>\n",
              "      <td>United Arab Emirates</td>\n",
              "      <td>0.450758</td>\n",
              "      <td>9212000</td>\n",
              "      <td>6444000</td>\n",
              "      <td>2768000</td>\n",
              "      <td>130</td>\n",
              "      <td>80</td>\n",
              "    </tr>\n",
              "    <tr>\n",
              "      <th>2</th>\n",
              "      <td>AF</td>\n",
              "      <td>Afghanistan</td>\n",
              "      <td>2.462106</td>\n",
              "      <td>37769000</td>\n",
              "      <td>19090000</td>\n",
              "      <td>18679000</td>\n",
              "      <td>58</td>\n",
              "      <td>64</td>\n",
              "    </tr>\n",
              "    <tr>\n",
              "      <th>3</th>\n",
              "      <td>AG</td>\n",
              "      <td>Antigua and Barbuda</td>\n",
              "      <td>3.734753</td>\n",
              "      <td>92000</td>\n",
              "      <td>44000</td>\n",
              "      <td>48000</td>\n",
              "      <td>209</td>\n",
              "      <td>79</td>\n",
              "    </tr>\n",
              "    <tr>\n",
              "      <th>4</th>\n",
              "      <td>AI</td>\n",
              "      <td>Anguilla</td>\n",
              "      <td>0.000000</td>\n",
              "      <td>15000</td>\n",
              "      <td>8000</td>\n",
              "      <td>8000</td>\n",
              "      <td>175</td>\n",
              "      <td>77</td>\n",
              "    </tr>\n",
              "    <tr>\n",
              "      <th>...</th>\n",
              "      <td>...</td>\n",
              "      <td>...</td>\n",
              "      <td>...</td>\n",
              "      <td>...</td>\n",
              "      <td>...</td>\n",
              "      <td>...</td>\n",
              "      <td>...</td>\n",
              "      <td>...</td>\n",
              "    </tr>\n",
              "    <tr>\n",
              "      <th>226</th>\n",
              "      <td>YE</td>\n",
              "      <td>Yemen</td>\n",
              "      <td>0.000000</td>\n",
              "      <td>31547000</td>\n",
              "      <td>15954000</td>\n",
              "      <td>15593000</td>\n",
              "      <td>60</td>\n",
              "      <td>65</td>\n",
              "    </tr>\n",
              "    <tr>\n",
              "      <th>227</th>\n",
              "      <td>YT</td>\n",
              "      <td>Mayotte</td>\n",
              "      <td>0.872976</td>\n",
              "      <td>294000</td>\n",
              "      <td>140000</td>\n",
              "      <td>155000</td>\n",
              "      <td>785</td>\n",
              "      <td>77</td>\n",
              "    </tr>\n",
              "    <tr>\n",
              "      <th>228</th>\n",
              "      <td>ZA</td>\n",
              "      <td>South Africa</td>\n",
              "      <td>1.899765</td>\n",
              "      <td>58087000</td>\n",
              "      <td>28208000</td>\n",
              "      <td>29879000</td>\n",
              "      <td>48</td>\n",
              "      <td>66</td>\n",
              "    </tr>\n",
              "    <tr>\n",
              "      <th>229</th>\n",
              "      <td>ZM</td>\n",
              "      <td>Zambia</td>\n",
              "      <td>2.055205</td>\n",
              "      <td>18380000</td>\n",
              "      <td>9066000</td>\n",
              "      <td>9314000</td>\n",
              "      <td>25</td>\n",
              "      <td>63</td>\n",
              "    </tr>\n",
              "    <tr>\n",
              "      <th>230</th>\n",
              "      <td>ZW</td>\n",
              "      <td>Zimbabwe</td>\n",
              "      <td>2.294720</td>\n",
              "      <td>15355000</td>\n",
              "      <td>7232000</td>\n",
              "      <td>8123000</td>\n",
              "      <td>40</td>\n",
              "      <td>61</td>\n",
              "    </tr>\n",
              "  </tbody>\n",
              "</table>\n",
              "<p>231 rows × 8 columns</p>\n",
              "</div>"
            ],
            "text/plain": [
              "    Country_code               Country  lethality_rate_mean  Total_Population  \\\n",
              "0             AD               Andorra             3.097271             76000   \n",
              "1             AE  United Arab Emirates             0.450758           9212000   \n",
              "2             AF           Afghanistan             2.462106          37769000   \n",
              "3             AG   Antigua and Barbuda             3.734753             92000   \n",
              "4             AI              Anguilla             0.000000             15000   \n",
              "..           ...                   ...                  ...               ...   \n",
              "226           YE                 Yemen             0.000000          31547000   \n",
              "227           YT               Mayotte             0.872976            294000   \n",
              "228           ZA          South Africa             1.899765          58087000   \n",
              "229           ZM                Zambia             2.055205          18380000   \n",
              "230           ZW              Zimbabwe             2.294720          15355000   \n",
              "\n",
              "     Male_Population  Female_Population  Population_Density  Life_Expectancy  \n",
              "0              39000              38000                 162               83  \n",
              "1            6444000            2768000                 130               80  \n",
              "2           19090000           18679000                  58               64  \n",
              "3              44000              48000                 209               79  \n",
              "4               8000               8000                 175               77  \n",
              "..               ...                ...                 ...              ...  \n",
              "226         15954000           15593000                  60               65  \n",
              "227           140000             155000                 785               77  \n",
              "228         28208000           29879000                  48               66  \n",
              "229          9066000            9314000                  25               63  \n",
              "230          7232000            8123000                  40               61  \n",
              "\n",
              "[231 rows x 8 columns]"
            ]
          },
          "execution_count": 196,
          "metadata": {},
          "output_type": "execute_result"
        }
      ],
      "source": [
        "df_final = pd.merge(df_agrupado, df_population_limpio, on=\"Country_code\", how=\"inner\")\n",
        "df_final"
      ]
    },
    {
      "cell_type": "code",
      "execution_count": 197,
      "metadata": {
        "colab": {
          "base_uri": "https://localhost:8080/",
          "height": 424
        },
        "id": "NRLb-HpKGyUf",
        "outputId": "ca2fe8f4-0ed5-4b96-b179-e16835404d47"
      },
      "outputs": [
        {
          "data": {
            "text/html": [
              "<div>\n",
              "<style scoped>\n",
              "    .dataframe tbody tr th:only-of-type {\n",
              "        vertical-align: middle;\n",
              "    }\n",
              "\n",
              "    .dataframe tbody tr th {\n",
              "        vertical-align: top;\n",
              "    }\n",
              "\n",
              "    .dataframe thead th {\n",
              "        text-align: right;\n",
              "    }\n",
              "</style>\n",
              "<table border=\"1\" class=\"dataframe\">\n",
              "  <thead>\n",
              "    <tr style=\"text-align: right;\">\n",
              "      <th></th>\n",
              "      <th>lethality_rate_mean</th>\n",
              "      <th>Total_Population</th>\n",
              "      <th>Male_Population</th>\n",
              "      <th>Female_Population</th>\n",
              "      <th>Population_Density</th>\n",
              "      <th>Life_Expectancy</th>\n",
              "    </tr>\n",
              "  </thead>\n",
              "  <tbody>\n",
              "    <tr>\n",
              "      <th>0</th>\n",
              "      <td>3.097271</td>\n",
              "      <td>76000</td>\n",
              "      <td>39000</td>\n",
              "      <td>38000</td>\n",
              "      <td>162</td>\n",
              "      <td>83</td>\n",
              "    </tr>\n",
              "    <tr>\n",
              "      <th>1</th>\n",
              "      <td>0.450758</td>\n",
              "      <td>9212000</td>\n",
              "      <td>6444000</td>\n",
              "      <td>2768000</td>\n",
              "      <td>130</td>\n",
              "      <td>80</td>\n",
              "    </tr>\n",
              "    <tr>\n",
              "      <th>2</th>\n",
              "      <td>2.462106</td>\n",
              "      <td>37769000</td>\n",
              "      <td>19090000</td>\n",
              "      <td>18679000</td>\n",
              "      <td>58</td>\n",
              "      <td>64</td>\n",
              "    </tr>\n",
              "    <tr>\n",
              "      <th>3</th>\n",
              "      <td>3.734753</td>\n",
              "      <td>92000</td>\n",
              "      <td>44000</td>\n",
              "      <td>48000</td>\n",
              "      <td>209</td>\n",
              "      <td>79</td>\n",
              "    </tr>\n",
              "    <tr>\n",
              "      <th>4</th>\n",
              "      <td>0.000000</td>\n",
              "      <td>15000</td>\n",
              "      <td>8000</td>\n",
              "      <td>8000</td>\n",
              "      <td>175</td>\n",
              "      <td>77</td>\n",
              "    </tr>\n",
              "    <tr>\n",
              "      <th>...</th>\n",
              "      <td>...</td>\n",
              "      <td>...</td>\n",
              "      <td>...</td>\n",
              "      <td>...</td>\n",
              "      <td>...</td>\n",
              "      <td>...</td>\n",
              "    </tr>\n",
              "    <tr>\n",
              "      <th>226</th>\n",
              "      <td>0.000000</td>\n",
              "      <td>31547000</td>\n",
              "      <td>15954000</td>\n",
              "      <td>15593000</td>\n",
              "      <td>60</td>\n",
              "      <td>65</td>\n",
              "    </tr>\n",
              "    <tr>\n",
              "      <th>227</th>\n",
              "      <td>0.872976</td>\n",
              "      <td>294000</td>\n",
              "      <td>140000</td>\n",
              "      <td>155000</td>\n",
              "      <td>785</td>\n",
              "      <td>77</td>\n",
              "    </tr>\n",
              "    <tr>\n",
              "      <th>228</th>\n",
              "      <td>1.899765</td>\n",
              "      <td>58087000</td>\n",
              "      <td>28208000</td>\n",
              "      <td>29879000</td>\n",
              "      <td>48</td>\n",
              "      <td>66</td>\n",
              "    </tr>\n",
              "    <tr>\n",
              "      <th>229</th>\n",
              "      <td>2.055205</td>\n",
              "      <td>18380000</td>\n",
              "      <td>9066000</td>\n",
              "      <td>9314000</td>\n",
              "      <td>25</td>\n",
              "      <td>63</td>\n",
              "    </tr>\n",
              "    <tr>\n",
              "      <th>230</th>\n",
              "      <td>2.294720</td>\n",
              "      <td>15355000</td>\n",
              "      <td>7232000</td>\n",
              "      <td>8123000</td>\n",
              "      <td>40</td>\n",
              "      <td>61</td>\n",
              "    </tr>\n",
              "  </tbody>\n",
              "</table>\n",
              "<p>231 rows × 6 columns</p>\n",
              "</div>"
            ],
            "text/plain": [
              "     lethality_rate_mean  Total_Population  Male_Population  \\\n",
              "0               3.097271             76000            39000   \n",
              "1               0.450758           9212000          6444000   \n",
              "2               2.462106          37769000         19090000   \n",
              "3               3.734753             92000            44000   \n",
              "4               0.000000             15000             8000   \n",
              "..                   ...               ...              ...   \n",
              "226             0.000000          31547000         15954000   \n",
              "227             0.872976            294000           140000   \n",
              "228             1.899765          58087000         28208000   \n",
              "229             2.055205          18380000          9066000   \n",
              "230             2.294720          15355000          7232000   \n",
              "\n",
              "     Female_Population  Population_Density  Life_Expectancy  \n",
              "0                38000                 162               83  \n",
              "1              2768000                 130               80  \n",
              "2             18679000                  58               64  \n",
              "3                48000                 209               79  \n",
              "4                 8000                 175               77  \n",
              "..                 ...                 ...              ...  \n",
              "226           15593000                  60               65  \n",
              "227             155000                 785               77  \n",
              "228           29879000                  48               66  \n",
              "229            9314000                  25               63  \n",
              "230            8123000                  40               61  \n",
              "\n",
              "[231 rows x 6 columns]"
            ]
          },
          "execution_count": 197,
          "metadata": {},
          "output_type": "execute_result"
        }
      ],
      "source": [
        "df_final.drop(columns=['Country_code', 'Country'], inplace=True)\n",
        "df_final"
      ]
    },
    {
      "cell_type": "markdown",
      "metadata": {
        "id": "M3KqLsr0E52B"
      },
      "source": [
        "### Feature Importances"
      ]
    },
    {
      "cell_type": "markdown",
      "metadata": {
        "id": "bOFuE6abE9i3"
      },
      "source": [
        "Dudas: ¿Con cualquier algoritmo de machine learning se puede hacer geature importances?"
      ]
    },
    {
      "cell_type": "code",
      "execution_count": 198,
      "metadata": {
        "id": "lfzOibPkH8kJ"
      },
      "outputs": [],
      "source": [
        "x = df_final.drop(['lethality_rate_mean'], axis=1)\n",
        "y = df_final['lethality_rate_mean']"
      ]
    },
    {
      "cell_type": "code",
      "execution_count": 199,
      "metadata": {
        "id": "0PmR-KYOIK5W"
      },
      "outputs": [],
      "source": [
        "from sklearn.ensemble import RandomForestRegressor"
      ]
    },
    {
      "cell_type": "code",
      "execution_count": 200,
      "metadata": {
        "colab": {
          "base_uri": "https://localhost:8080/",
          "height": 75
        },
        "id": "Fsw9si93ITrL",
        "outputId": "50fdc3d4-0cd7-45b9-9e10-011e016e081d"
      },
      "outputs": [
        {
          "data": {
            "text/html": [
              "<style>#sk-container-id-2 {color: black;}#sk-container-id-2 pre{padding: 0;}#sk-container-id-2 div.sk-toggleable {background-color: white;}#sk-container-id-2 label.sk-toggleable__label {cursor: pointer;display: block;width: 100%;margin-bottom: 0;padding: 0.3em;box-sizing: border-box;text-align: center;}#sk-container-id-2 label.sk-toggleable__label-arrow:before {content: \"▸\";float: left;margin-right: 0.25em;color: #696969;}#sk-container-id-2 label.sk-toggleable__label-arrow:hover:before {color: black;}#sk-container-id-2 div.sk-estimator:hover label.sk-toggleable__label-arrow:before {color: black;}#sk-container-id-2 div.sk-toggleable__content {max-height: 0;max-width: 0;overflow: hidden;text-align: left;background-color: #f0f8ff;}#sk-container-id-2 div.sk-toggleable__content pre {margin: 0.2em;color: black;border-radius: 0.25em;background-color: #f0f8ff;}#sk-container-id-2 input.sk-toggleable__control:checked~div.sk-toggleable__content {max-height: 200px;max-width: 100%;overflow: auto;}#sk-container-id-2 input.sk-toggleable__control:checked~label.sk-toggleable__label-arrow:before {content: \"▾\";}#sk-container-id-2 div.sk-estimator input.sk-toggleable__control:checked~label.sk-toggleable__label {background-color: #d4ebff;}#sk-container-id-2 div.sk-label input.sk-toggleable__control:checked~label.sk-toggleable__label {background-color: #d4ebff;}#sk-container-id-2 input.sk-hidden--visually {border: 0;clip: rect(1px 1px 1px 1px);clip: rect(1px, 1px, 1px, 1px);height: 1px;margin: -1px;overflow: hidden;padding: 0;position: absolute;width: 1px;}#sk-container-id-2 div.sk-estimator {font-family: monospace;background-color: #f0f8ff;border: 1px dotted black;border-radius: 0.25em;box-sizing: border-box;margin-bottom: 0.5em;}#sk-container-id-2 div.sk-estimator:hover {background-color: #d4ebff;}#sk-container-id-2 div.sk-parallel-item::after {content: \"\";width: 100%;border-bottom: 1px solid gray;flex-grow: 1;}#sk-container-id-2 div.sk-label:hover label.sk-toggleable__label {background-color: #d4ebff;}#sk-container-id-2 div.sk-serial::before {content: \"\";position: absolute;border-left: 1px solid gray;box-sizing: border-box;top: 0;bottom: 0;left: 50%;z-index: 0;}#sk-container-id-2 div.sk-serial {display: flex;flex-direction: column;align-items: center;background-color: white;padding-right: 0.2em;padding-left: 0.2em;position: relative;}#sk-container-id-2 div.sk-item {position: relative;z-index: 1;}#sk-container-id-2 div.sk-parallel {display: flex;align-items: stretch;justify-content: center;background-color: white;position: relative;}#sk-container-id-2 div.sk-item::before, #sk-container-id-2 div.sk-parallel-item::before {content: \"\";position: absolute;border-left: 1px solid gray;box-sizing: border-box;top: 0;bottom: 0;left: 50%;z-index: -1;}#sk-container-id-2 div.sk-parallel-item {display: flex;flex-direction: column;z-index: 1;position: relative;background-color: white;}#sk-container-id-2 div.sk-parallel-item:first-child::after {align-self: flex-end;width: 50%;}#sk-container-id-2 div.sk-parallel-item:last-child::after {align-self: flex-start;width: 50%;}#sk-container-id-2 div.sk-parallel-item:only-child::after {width: 0;}#sk-container-id-2 div.sk-dashed-wrapped {border: 1px dashed gray;margin: 0 0.4em 0.5em 0.4em;box-sizing: border-box;padding-bottom: 0.4em;background-color: white;}#sk-container-id-2 div.sk-label label {font-family: monospace;font-weight: bold;display: inline-block;line-height: 1.2em;}#sk-container-id-2 div.sk-label-container {text-align: center;}#sk-container-id-2 div.sk-container {/* jupyter's `normalize.less` sets `[hidden] { display: none; }` but bootstrap.min.css set `[hidden] { display: none !important; }` so we also need the `!important` here to be able to override the default hidden behavior on the sphinx rendered scikit-learn.org. See: https://github.com/scikit-learn/scikit-learn/issues/21755 */display: inline-block !important;position: relative;}#sk-container-id-2 div.sk-text-repr-fallback {display: none;}</style><div id=\"sk-container-id-2\" class=\"sk-top-container\"><div class=\"sk-text-repr-fallback\"><pre>RandomForestRegressor()</pre><b>In a Jupyter environment, please rerun this cell to show the HTML representation or trust the notebook. <br />On GitHub, the HTML representation is unable to render, please try loading this page with nbviewer.org.</b></div><div class=\"sk-container\" hidden><div class=\"sk-item\"><div class=\"sk-estimator sk-toggleable\"><input class=\"sk-toggleable__control sk-hidden--visually\" id=\"sk-estimator-id-2\" type=\"checkbox\" checked><label for=\"sk-estimator-id-2\" class=\"sk-toggleable__label sk-toggleable__label-arrow\">RandomForestRegressor</label><div class=\"sk-toggleable__content\"><pre>RandomForestRegressor()</pre></div></div></div></div></div>"
            ],
            "text/plain": [
              "RandomForestRegressor()"
            ]
          },
          "execution_count": 200,
          "metadata": {},
          "output_type": "execute_result"
        }
      ],
      "source": [
        "model = RandomForestRegressor()\n",
        "model.fit(x, y)"
      ]
    },
    {
      "cell_type": "code",
      "execution_count": 201,
      "metadata": {
        "colab": {
          "base_uri": "https://localhost:8080/"
        },
        "id": "FI4oKeHpIbhq",
        "outputId": "dc444277-03f3-4910-9e1a-33676db05fc6"
      },
      "outputs": [
        {
          "data": {
            "text/plain": [
              "array([0.14032888, 0.1676763 , 0.21745133, 0.25843522, 0.21610828])"
            ]
          },
          "execution_count": 201,
          "metadata": {},
          "output_type": "execute_result"
        }
      ],
      "source": [
        "model.feature_importances_"
      ]
    },
    {
      "cell_type": "code",
      "execution_count": 202,
      "metadata": {
        "colab": {
          "base_uri": "https://localhost:8080/"
        },
        "id": "x3bwza8AE8kU",
        "outputId": "29f954b6-707e-4fff-cf5c-4d14f286e47e"
      },
      "outputs": [
        {
          "data": {
            "text/plain": [
              "Population_Density    0.258435\n",
              "Female_Population     0.217451\n",
              "Life_Expectancy       0.216108\n",
              "Male_Population       0.167676\n",
              "Total_Population      0.140329\n",
              "dtype: float64"
            ]
          },
          "execution_count": 202,
          "metadata": {},
          "output_type": "execute_result"
        }
      ],
      "source": [
        "feature_importances = pd.Series(model.feature_importances_, index=x.columns).sort_values(ascending=False)\n",
        "feature_importances"
      ]
    },
    {
      "cell_type": "markdown",
      "metadata": {},
      "source": [
        "### Graficamos el resultado"
      ]
    },
    {
      "cell_type": "code",
      "execution_count": 272,
      "metadata": {},
      "outputs": [
        {
          "data": {
            "text/plain": [
              "Population_Density    0.258435\n",
              "Female_Population     0.217451\n",
              "Life_Expectancy       0.216108\n",
              "Male_Population       0.167676\n",
              "Total_Population      0.140329\n",
              "dtype: float64"
            ]
          },
          "execution_count": 272,
          "metadata": {},
          "output_type": "execute_result"
        }
      ],
      "source": [
        "feature_importances"
      ]
    },
    {
      "cell_type": "code",
      "execution_count": 278,
      "metadata": {},
      "outputs": [
        {
          "data": {
            "text/plain": [
              "Population_Density    25.84\n",
              "Female_Population     21.75\n",
              "Life_Expectancy       21.61\n",
              "Male_Population       16.77\n",
              "Total_Population      14.03\n",
              "dtype: float64"
            ]
          },
          "execution_count": 278,
          "metadata": {},
          "output_type": "execute_result"
        }
      ],
      "source": [
        "ft_imp_barvalues = feature_importances.copy()\n",
        "for item in ft_imp_barvalues:\n",
        "  ft_imp_barvalues = ft_imp_barvalues.replace(item, round(item*100,2))\n",
        "ft_imp_barvalues"
      ]
    },
    {
      "cell_type": "code",
      "execution_count": 370,
      "metadata": {
        "colab": {
          "base_uri": "https://localhost:8080/",
          "height": 658
        },
        "id": "b2lr1n9nJt7v",
        "outputId": "0d64b9ba-1b2d-4202-db8c-2586dc9b3ee6"
      },
      "outputs": [
        {
          "name": "stderr",
          "output_type": "stream",
          "text": [
            "C:\\Users\\Pablo\\AppData\\Local\\Temp\\ipykernel_1116\\1079076130.py:9: UserWarning: set_ticklabels() should only be used with a fixed number of ticks, i.e. after set_ticks() or using a FixedLocator.\n",
            "  ax.set_yticklabels(yticklabels)\n"
          ]
        },
        {
          "data": {
            "image/png": "[encoded data removed]",
            "text/plain": [
              "<Figure size 1000x600 with 1 Axes>"
            ]
          },
          "metadata": {},
          "output_type": "display_data"
        }
      ],
      "source": [
        "fig, ax = plt.subplots(figsize=(10,6))\n",
        "ft_imp_barvalues.plot(kind='bar')\n",
        "ax.set_facecolor(\"white\")\n",
        "ax.set_ylim(0, 30)\n",
        "# ax.set_yticklabels()\n",
        "yticklabels = []\n",
        "for item in ax.get_yticklabels():\n",
        "  yticklabels.append(f'{item.get_text()}%')\n",
        "ax.set_yticklabels(yticklabels)\n",
        "ax.set_xticklabels(labels=feature_importances.index, rotation=45)\n",
        "alpha = 1\n",
        "for bar in ax.patches:\n",
        "  x = bar.get_x() + bar.get_width()/6\n",
        "  y = bar.get_height() /2\n",
        "  value = f'{bar.get_height()}%'\n",
        "  ax.text(x, y, value)\n",
        "  bar.set_alpha(alpha)\n",
        "  alpha = alpha - 0.15\n",
        "plt.show()"
      ]
    }
  ],
  "metadata": {
    "colab": {
      "provenance": []
    },
    "kernelspec": {
      "display_name": "Python 3",
      "name": "python3"
    },
    "language_info": {
      "codemirror_mode": {
        "name": "ipython",
        "version": 3
      },
      "file_extension": ".py",
      "mimetype": "text/x-python",
      "name": "python",
      "nbconvert_exporter": "python",
      "pygments_lexer": "ipython3",
      "version": "3.12.0"
    }
  },
  "nbformat": 4,
  "nbformat_minor": 0
}
