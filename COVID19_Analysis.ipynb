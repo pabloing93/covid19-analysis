{
  "cells": [
    {
      "cell_type": "markdown",
      "metadata": {
        "id": "9N9Dh-mEqyWf"
      },
      "source": [
        "# **PROBLEMA DE NEGOCIO**\n",
        "\n",
        "\n",
        "\n",
        "\n",
        "---\n",
        "\n",
        "\n"
      ]
    },
    {
      "cell_type": "markdown",
      "metadata": {
        "id": "M8MuNvhKq2xm"
      },
      "source": [
        "## Una entidad gubernamental responsable de la gestión de la salud en Argentina y en Colombia enfrenta el desafío de comprender y analizar la propagación del COVID-19 para tomar decisiones informadas y eficaces en la gestión de la pandemia. <br> Como científicos de datos nuestra tarea será analizar los datos relacionados con el COVID-19 y presentar insight a través de visualizaciones.\n"
      ]
    },
    {
      "cell_type": "markdown",
      "metadata": {
        "id": "Yjrs-j6Xq84a"
      },
      "source": [
        "# 1. Configuración del ambiente"
      ]
    },
    {
      "cell_type": "code",
      "execution_count": 1,
      "metadata": {
        "id": "FMSYT6iXsT8q"
      },
      "outputs": [],
      "source": [
        "import pandas as pd\n",
        "import numpy as np\n",
        "import matplotlib.pyplot as plt\n",
        "from io import StringIO\n",
        "import sklearn as sn\n",
        "import requests\n"
      ]
    },
    {
      "cell_type": "markdown",
      "metadata": {
        "id": "LaPeBVIyrD09"
      },
      "source": [
        "# 2. Obtención, Tratamiento y Análisis Exploratorio (EDA)"
      ]
    },
    {
      "cell_type": "markdown",
      "metadata": {
        "id": "UIUsWLpdsTv2"
      },
      "source": [
        "### Cargando las bases de datos"
      ]
    },
    {
      "cell_type": "code",
      "execution_count": 2,
      "metadata": {
        "id": "ncFFhLKGlWzJ"
      },
      "outputs": [],
      "source": [
        "df_covid = pd.read_csv(StringIO(requests.get(\"https://covid19.who.int/WHO-COVID-19-global-data.csv\").text))\n",
        "df_population = pd.read_excel('https://raw.githubusercontent.com/ElProfeAlejo/Bootcamp_Databases/main/WPP2022_GEN_F01_DEMOGRAPHIC_INDICATORS_COMPACT_REV1.xlsx', sheet_name=0, skiprows=16)\n",
        "df_population = df_population[df_population['Year'] == 2019]\n"
      ]
    },
    {
      "cell_type": "markdown",
      "metadata": {
        "id": "HPE_kROgWkrv"
      },
      "source": [
        "*   **df_covid**: contiene información de la evolución de casos del covid19. Base de datos otorgada por W.H.O. (World Health Organization).\n",
        "*   **df_population**: contiene información demográfica proporcionada por P.U.N. (Population United Nations)\n",
        "\n",
        "\n",
        "\n"
      ]
    },
    {
      "cell_type": "markdown",
      "metadata": {
        "id": "2nRuCScArM7l"
      },
      "source": [
        "### 2.1. EDA Base Covid World Health Organization"
      ]
    },
    {
      "cell_type": "code",
      "execution_count": 3,
      "metadata": {
        "colab": {
          "base_uri": "https://localhost:8080/"
        },
        "id": "uX8KonVgXWmk",
        "outputId": "d05fd358-ef48-473f-f85c-623ad773c34e"
      },
      "outputs": [
        {
          "name": "stdout",
          "output_type": "stream",
          "text": [
            "<class 'pandas.core.frame.DataFrame'>\n",
            "RangeIndex: 50880 entries, 0 to 50879\n",
            "Data columns (total 8 columns):\n",
            " #   Column             Non-Null Count  Dtype  \n",
            "---  ------             --------------  -----  \n",
            " 0   Date_reported      50880 non-null  object \n",
            " 1   Country_code       49396 non-null  object \n",
            " 2   Country            49608 non-null  object \n",
            " 3   WHO_region         45792 non-null  object \n",
            " 4   New_cases          36622 non-null  float64\n",
            " 5   Cumulative_cases   50880 non-null  int64  \n",
            " 6   New_deaths         24216 non-null  float64\n",
            " 7   Cumulative_deaths  50880 non-null  int64  \n",
            "dtypes: float64(2), int64(2), object(4)\n",
            "memory usage: 3.1+ MB\n"
          ]
        }
      ],
      "source": [
        "df_covid.info()"
      ]
    },
    {
      "cell_type": "code",
      "execution_count": 4,
      "metadata": {
        "id": "85hpVQq4lWvs"
      },
      "outputs": [],
      "source": [
        "#from ast import Index\n",
        "df_covid_limpio = df_covid.dropna(subset = ['Country_code'])\n",
        "df_covid_limpio = df_covid_limpio[['Date_reported','Country_code','Country',\n",
        " 'New_cases','Cumulative_cases','New_deaths','Cumulative_deaths']]\n",
        "df_covid_limpio.fillna(0,inplace = True)"
      ]
    },
    {
      "cell_type": "code",
      "execution_count": 5,
      "metadata": {
        "colab": {
          "base_uri": "https://localhost:8080/"
        },
        "id": "ZwVrSNQphK-C",
        "outputId": "6f796383-0386-4552-8c01-942d9f8b2176"
      },
      "outputs": [
        {
          "data": {
            "text/plain": [
              "Date_reported        0\n",
              "Country_code         0\n",
              "Country              0\n",
              "New_cases            0\n",
              "Cumulative_cases     0\n",
              "New_deaths           0\n",
              "Cumulative_deaths    0\n",
              "dtype: int64"
            ]
          },
          "execution_count": 5,
          "metadata": {},
          "output_type": "execute_result"
        }
      ],
      "source": [
        "df_covid_limpio.isna().sum()"
      ]
    },
    {
      "cell_type": "code",
      "execution_count": 6,
      "metadata": {
        "colab": {
          "base_uri": "https://localhost:8080/"
        },
        "id": "1oWblB4khqeq",
        "outputId": "74c93498-0131-4787-f0d6-ffcee3f9a21a"
      },
      "outputs": [
        {
          "name": "stdout",
          "output_type": "stream",
          "text": [
            "<class 'pandas.core.frame.DataFrame'>\n",
            "Index: 49396 entries, 0 to 50879\n",
            "Data columns (total 7 columns):\n",
            " #   Column             Non-Null Count  Dtype  \n",
            "---  ------             --------------  -----  \n",
            " 0   Date_reported      49396 non-null  object \n",
            " 1   Country_code       49396 non-null  object \n",
            " 2   Country            49396 non-null  object \n",
            " 3   New_cases          49396 non-null  float64\n",
            " 4   Cumulative_cases   49396 non-null  int64  \n",
            " 5   New_deaths         49396 non-null  float64\n",
            " 6   Cumulative_deaths  49396 non-null  int64  \n",
            "dtypes: float64(2), int64(2), object(3)\n",
            "memory usage: 3.0+ MB\n"
          ]
        }
      ],
      "source": [
        "df_covid_limpio.info()"
      ]
    },
    {
      "cell_type": "code",
      "execution_count": 7,
      "metadata": {
        "id": "41-LNc4fh1kj"
      },
      "outputs": [],
      "source": [
        "df_covid_limpio['Date_reported'] = pd.to_datetime(df_covid_limpio['Date_reported'])"
      ]
    },
    {
      "cell_type": "code",
      "execution_count": 8,
      "metadata": {
        "colab": {
          "base_uri": "https://localhost:8080/"
        },
        "id": "6K3cvkwSh3o5",
        "outputId": "9467cc86-e1be-4546-e5b6-8ebf17065363"
      },
      "outputs": [
        {
          "name": "stdout",
          "output_type": "stream",
          "text": [
            "<class 'pandas.core.frame.DataFrame'>\n",
            "Index: 49396 entries, 0 to 50879\n",
            "Data columns (total 7 columns):\n",
            " #   Column             Non-Null Count  Dtype         \n",
            "---  ------             --------------  -----         \n",
            " 0   Date_reported      49396 non-null  datetime64[ns]\n",
            " 1   Country_code       49396 non-null  object        \n",
            " 2   Country            49396 non-null  object        \n",
            " 3   New_cases          49396 non-null  float64       \n",
            " 4   Cumulative_cases   49396 non-null  int64         \n",
            " 5   New_deaths         49396 non-null  float64       \n",
            " 6   Cumulative_deaths  49396 non-null  int64         \n",
            "dtypes: datetime64[ns](1), float64(2), int64(2), object(2)\n",
            "memory usage: 3.0+ MB\n"
          ]
        }
      ],
      "source": [
        "df_covid_limpio.info()"
      ]
    },
    {
      "cell_type": "code",
      "execution_count": 9,
      "metadata": {
        "id": "kyhGRyFsh_po"
      },
      "outputs": [],
      "source": [
        "df_covid_limpio[['New_cases','New_deaths']] = df_covid_limpio[['New_cases','New_deaths']].astype('int64')"
      ]
    },
    {
      "cell_type": "code",
      "execution_count": 10,
      "metadata": {
        "id": "_Jm6UwdqhHjn"
      },
      "outputs": [],
      "source": [
        "df_covid_limpio['lethality_rate'] = ((df_covid_limpio['Cumulative_deaths'])/(df_covid_limpio['Cumulative_cases'])) * 100"
      ]
    },
    {
      "cell_type": "code",
      "execution_count": 11,
      "metadata": {
        "id": "peRYsXWgmlf4"
      },
      "outputs": [],
      "source": [
        "df_covid_limpio['lethality_rate'].fillna(0, inplace=True)"
      ]
    },
    {
      "cell_type": "code",
      "execution_count": 12,
      "metadata": {
        "colab": {
          "base_uri": "https://localhost:8080/",
          "height": 448
        },
        "id": "LMKQcaKYoh4F",
        "outputId": "b02e4874-9197-48a5-c0c8-e3d2c5fb76b5"
      },
      "outputs": [
        {
          "data": {
            "text/plain": [
              "<Axes: >"
            ]
          },
          "execution_count": 12,
          "metadata": {},
          "output_type": "execute_result"
        },
        {
          "data": {
            "image/png": "[encoded data removed]",
            "text/plain": [
              "<Figure size 640x480 with 1 Axes>"
            ]
          },
          "metadata": {},
          "output_type": "display_data"
        }
      ],
      "source": [
        "df_covid_limpio.boxplot(column=['lethality_rate'])"
      ]
    },
    {
      "cell_type": "code",
      "execution_count": 13,
      "metadata": {
        "colab": {
          "base_uri": "https://localhost:8080/"
        },
        "id": "DtW7J7tylWom",
        "outputId": "8b4c5dc0-37d0-4d47-8bd0-37efe56fabea"
      },
      "outputs": [
        {
          "data": {
            "text/plain": [
              "0.01     0.000000\n",
              "0.02     0.000000\n",
              "0.03     0.000000\n",
              "0.04     0.000000\n",
              "0.05     0.000000\n",
              "          ...    \n",
              "0.95     5.000000\n",
              "0.96     5.650517\n",
              "0.97     6.460209\n",
              "0.98     7.928402\n",
              "0.99    12.260898\n",
              "Name: lethality_rate, Length: 99, dtype: float64"
            ]
          },
          "execution_count": 13,
          "metadata": {},
          "output_type": "execute_result"
        }
      ],
      "source": [
        "centiles = df_covid_limpio.lethality_rate.quantile([i/100 for i in range(1,100)])\n",
        "centiles"
      ]
    },
    {
      "cell_type": "code",
      "execution_count": 14,
      "metadata": {
        "colab": {
          "base_uri": "https://localhost:8080/"
        },
        "id": "703TG0IfwL7V",
        "outputId": "b704f2f0-73b8-4bd9-8bd4-8590c75fe46d"
      },
      "outputs": [
        {
          "data": {
            "text/plain": [
              "(49396, 8)"
            ]
          },
          "execution_count": 14,
          "metadata": {},
          "output_type": "execute_result"
        }
      ],
      "source": [
        "df_covid_limpio.shape"
      ]
    },
    {
      "cell_type": "code",
      "execution_count": 15,
      "metadata": {
        "id": "oKEkI9LFvchS"
      },
      "outputs": [],
      "source": [
        "df_covid_limpio = df_covid_limpio[df_covid_limpio['lethality_rate'] <= centiles[0.99]]"
      ]
    },
    {
      "cell_type": "code",
      "execution_count": 16,
      "metadata": {
        "colab": {
          "base_uri": "https://localhost:8080/",
          "height": 448
        },
        "id": "7DVn_43x09oD",
        "outputId": "351bbee7-e5af-4e22-d75a-d063329980f8"
      },
      "outputs": [
        {
          "data": {
            "text/plain": [
              "<Axes: >"
            ]
          },
          "execution_count": 16,
          "metadata": {},
          "output_type": "execute_result"
        }
      ],
      "source": [
        "df_covid_limpio.boxplot(column=['lethality_rate'])"
      ]
    },
    {
      "cell_type": "code",
      "execution_count": 17,
      "metadata": {
        "colab": {
          "base_uri": "https://localhost:8080/",
          "height": 300
        },
        "id": "R-cJW1Pe83su",
        "outputId": "e981f281-1f49-4f88-adbf-ef19e1232bd6"
      },
      "outputs": [
        {
          "data": {
            "text/html": [
              "<div>\n",
              "<style scoped>\n",
              "    .dataframe tbody tr th:only-of-type {\n",
              "        vertical-align: middle;\n",
              "    }\n",
              "\n",
              "    .dataframe tbody tr th {\n",
              "        vertical-align: top;\n",
              "    }\n",
              "\n",
              "    .dataframe thead th {\n",
              "        text-align: right;\n",
              "    }\n",
              "</style>\n",
              "<table border=\"1\" class=\"dataframe\">\n",
              "  <thead>\n",
              "    <tr style=\"text-align: right;\">\n",
              "      <th></th>\n",
              "      <th>Date_reported</th>\n",
              "      <th>New_cases</th>\n",
              "      <th>Cumulative_cases</th>\n",
              "      <th>New_deaths</th>\n",
              "      <th>Cumulative_deaths</th>\n",
              "      <th>lethality_rate</th>\n",
              "    </tr>\n",
              "  </thead>\n",
              "  <tbody>\n",
              "    <tr>\n",
              "      <th>count</th>\n",
              "      <td>48902</td>\n",
              "      <td>4.890200e+04</td>\n",
              "      <td>4.890200e+04</td>\n",
              "      <td>48902.000000</td>\n",
              "      <td>4.890200e+04</td>\n",
              "      <td>48902.000000</td>\n",
              "    </tr>\n",
              "    <tr>\n",
              "      <th>mean</th>\n",
              "      <td>2022-01-15 22:05:48.353850624</td>\n",
              "      <td>1.578961e+04</td>\n",
              "      <td>1.659527e+06</td>\n",
              "      <td>138.018609</td>\n",
              "      <td>1.938730e+04</td>\n",
              "      <td>1.452976</td>\n",
              "    </tr>\n",
              "    <tr>\n",
              "      <th>min</th>\n",
              "      <td>2020-01-05 00:00:00</td>\n",
              "      <td>-6.507900e+04</td>\n",
              "      <td>0.000000e+00</td>\n",
              "      <td>-3432.000000</td>\n",
              "      <td>0.000000e+00</td>\n",
              "      <td>0.000000</td>\n",
              "    </tr>\n",
              "    <tr>\n",
              "      <th>25%</th>\n",
              "      <td>2021-01-10 00:00:00</td>\n",
              "      <td>0.000000e+00</td>\n",
              "      <td>3.904000e+03</td>\n",
              "      <td>0.000000</td>\n",
              "      <td>2.900000e+01</td>\n",
              "      <td>0.326607</td>\n",
              "    </tr>\n",
              "    <tr>\n",
              "      <th>50%</th>\n",
              "      <td>2022-01-16 00:00:00</td>\n",
              "      <td>1.030000e+02</td>\n",
              "      <td>4.379300e+04</td>\n",
              "      <td>0.000000</td>\n",
              "      <td>4.710000e+02</td>\n",
              "      <td>1.029184</td>\n",
              "    </tr>\n",
              "    <tr>\n",
              "      <th>75%</th>\n",
              "      <td>2023-01-22 00:00:00</td>\n",
              "      <td>2.005750e+03</td>\n",
              "      <td>5.070115e+05</td>\n",
              "      <td>20.000000</td>\n",
              "      <td>6.637750e+03</td>\n",
              "      <td>2.004507</td>\n",
              "    </tr>\n",
              "    <tr>\n",
              "      <th>max</th>\n",
              "      <td>2024-01-21 00:00:00</td>\n",
              "      <td>4.047548e+07</td>\n",
              "      <td>1.034368e+08</td>\n",
              "      <td>47687.000000</td>\n",
              "      <td>1.165780e+06</td>\n",
              "      <td>12.260536</td>\n",
              "    </tr>\n",
              "    <tr>\n",
              "      <th>std</th>\n",
              "      <td>NaN</td>\n",
              "      <td>2.420378e+05</td>\n",
              "      <td>7.309166e+06</td>\n",
              "      <td>867.312807</td>\n",
              "      <td>7.947323e+04</td>\n",
              "      <td>1.625929</td>\n",
              "    </tr>\n",
              "  </tbody>\n",
              "</table>\n",
              "</div>"
            ],
            "text/plain": [
              "                       Date_reported     New_cases  Cumulative_cases  \\\n",
              "count                          48902  4.890200e+04      4.890200e+04   \n",
              "mean   2022-01-15 22:05:48.353850624  1.578961e+04      1.659527e+06   \n",
              "min              2020-01-05 00:00:00 -6.507900e+04      0.000000e+00   \n",
              "25%              2021-01-10 00:00:00  0.000000e+00      3.904000e+03   \n",
              "50%              2022-01-16 00:00:00  1.030000e+02      4.379300e+04   \n",
              "75%              2023-01-22 00:00:00  2.005750e+03      5.070115e+05   \n",
              "max              2024-01-21 00:00:00  4.047548e+07      1.034368e+08   \n",
              "std                              NaN  2.420378e+05      7.309166e+06   \n",
              "\n",
              "         New_deaths  Cumulative_deaths  lethality_rate  \n",
              "count  48902.000000       4.890200e+04    48902.000000  \n",
              "mean     138.018609       1.938730e+04        1.452976  \n",
              "min    -3432.000000       0.000000e+00        0.000000  \n",
              "25%        0.000000       2.900000e+01        0.326607  \n",
              "50%        0.000000       4.710000e+02        1.029184  \n",
              "75%       20.000000       6.637750e+03        2.004507  \n",
              "max    47687.000000       1.165780e+06       12.260536  \n",
              "std      867.312807       7.947323e+04        1.625929  "
            ]
          },
          "execution_count": 17,
          "metadata": {},
          "output_type": "execute_result"
        }
      ],
      "source": [
        "df_covid_limpio.describe()"
      ]
    },
    {
      "cell_type": "markdown",
      "metadata": {
        "id": "a18_bX9Sw_Qb"
      },
      "source": [
        "### 2.2. EDA Base Population United Nations (información demográfica)"
      ]
    },
    {
      "cell_type": "markdown",
      "metadata": {
        "id": "D7f2dHOBaQ2-"
      },
      "source": [
        "#### 1.1. Creamos una copia de df_population y nos quedamos con aquellas columnas de interés.\n"
      ]
    },
    {
      "cell_type": "code",
      "execution_count": 18,
      "metadata": {
        "colab": {
          "base_uri": "https://localhost:8080/"
        },
        "id": "jeWRr93gxBlZ",
        "outputId": "1d842808-d25e-4915-97d3-7be30fb9bcb1"
      },
      "outputs": [
        {
          "name": "stdout",
          "output_type": "stream",
          "text": [
            "<class 'pandas.core.frame.DataFrame'>\n",
            "Index: 286 entries, 69 to 20593\n",
            "Data columns (total 6 columns):\n",
            " #   Column                                                    Non-Null Count  Dtype \n",
            "---  ------                                                    --------------  ----- \n",
            " 0   ISO2 Alpha-code                                           236 non-null    object\n",
            " 1   Total Population, as of 1 July (thousands)                286 non-null    object\n",
            " 2   Male Population, as of 1 July (thousands)                 286 non-null    object\n",
            " 3   Female Population, as of 1 July (thousands)               286 non-null    object\n",
            " 4   Population Density, as of 1 July (persons per square km)  286 non-null    object\n",
            " 5   Life Expectancy at Birth, both sexes (years)              286 non-null    object\n",
            "dtypes: object(6)\n",
            "memory usage: 15.6+ KB\n"
          ]
        }
      ],
      "source": [
        "df_population_limpio = df_population[['ISO2 Alpha-code','Total Population, as of 1 July (thousands)','Male Population, as of 1 July (thousands)','Female Population, as of 1 July (thousands)','Population Density, as of 1 July (persons per square km)','Life Expectancy at Birth, both sexes (years)']].copy()\n",
        "df_population_limpio.info()\n"
      ]
    },
    {
      "cell_type": "markdown",
      "metadata": {
        "id": "L_XUfNKsavGO"
      },
      "source": [
        "#### 1.2. Renombramos las columnas para mejor compresión de su información"
      ]
    },
    {
      "cell_type": "code",
      "execution_count": 19,
      "metadata": {
        "colab": {
          "base_uri": "https://localhost:8080/"
        },
        "id": "RUhZ3WtaFatw",
        "outputId": "975913c0-dc24-43d6-8a13-cca274cb3a00"
      },
      "outputs": [
        {
          "name": "stdout",
          "output_type": "stream",
          "text": [
            "<class 'pandas.core.frame.DataFrame'>\n",
            "Index: 286 entries, 69 to 20593\n",
            "Data columns (total 6 columns):\n",
            " #   Column              Non-Null Count  Dtype \n",
            "---  ------              --------------  ----- \n",
            " 0   Country_code        236 non-null    object\n",
            " 1   Total_Population    286 non-null    object\n",
            " 2   Male_Population     286 non-null    object\n",
            " 3   Female_Population   286 non-null    object\n",
            " 4   Population_Density  286 non-null    object\n",
            " 5   Life_Expectancy     286 non-null    object\n",
            "dtypes: object(6)\n",
            "memory usage: 15.6+ KB\n"
          ]
        }
      ],
      "source": [
        "df_population_limpio = df_population_limpio.rename(columns={\n",
        "    'ISO2 Alpha-code': 'Country_code',\n",
        "    'Total Population, as of 1 July (thousands)': 'Total_Population',\n",
        "    'Male Population, as of 1 July (thousands)': 'Male_Population',\n",
        "    'Female Population, as of 1 July (thousands)': 'Female_Population',\n",
        "    'Population Density, as of 1 July (persons per square km)': 'Population_Density',\n",
        "    'Life Expectancy at Birth, both sexes (years)': 'Life_Expectancy'\n",
        "})\n",
        "df_population_limpio.info()\n"
      ]
    },
    {
      "cell_type": "markdown",
      "metadata": {
        "id": "EY4cSn-taNyh"
      },
      "source": [
        "#### 1.3. Eliminamos registros nulos"
      ]
    },
    {
      "cell_type": "code",
      "execution_count": 20,
      "metadata": {
        "colab": {
          "base_uri": "https://localhost:8080/"
        },
        "id": "C14ndgzQxBfD",
        "outputId": "790fc6fa-04b8-4209-cc09-b4d7aeafae6f"
      },
      "outputs": [
        {
          "data": {
            "text/plain": [
              "Country_code          50\n",
              "Total_Population       0\n",
              "Male_Population        0\n",
              "Female_Population      0\n",
              "Population_Density     0\n",
              "Life_Expectancy        0\n",
              "dtype: int64"
            ]
          },
          "execution_count": 20,
          "metadata": {},
          "output_type": "execute_result"
        }
      ],
      "source": [
        "#Verificar registros nulos (antes de eliminarlos)\n",
        "df_population_limpio.isna().sum()"
      ]
    },
    {
      "cell_type": "code",
      "execution_count": 21,
      "metadata": {
        "colab": {
          "base_uri": "https://localhost:8080/"
        },
        "id": "FS4JUF-yxBYY",
        "outputId": "493fa904-c739-44e2-f59c-d8875479bbe7"
      },
      "outputs": [
        {
          "data": {
            "text/plain": [
              "Country_code          0\n",
              "Total_Population      0\n",
              "Male_Population       0\n",
              "Female_Population     0\n",
              "Population_Density    0\n",
              "Life_Expectancy       0\n",
              "dtype: int64"
            ]
          },
          "execution_count": 21,
          "metadata": {},
          "output_type": "execute_result"
        }
      ],
      "source": [
        "#Eliminar todos los registros nulos\n",
        "df_population_limpio.dropna(inplace=True)\n",
        "df_population_limpio.isna().sum()"
      ]
    },
    {
      "cell_type": "markdown",
      "metadata": {
        "id": "MrjjYM0Ea8Wn"
      },
      "source": [
        "#### 1.4. Formateamos las estructuras de datos"
      ]
    },
    {
      "cell_type": "code",
      "execution_count": 22,
      "metadata": {
        "colab": {
          "base_uri": "https://localhost:8080/"
        },
        "id": "MsPd8khtbAnJ",
        "outputId": "9057b76f-6b00-4170-8a89-0710ec23b113"
      },
      "outputs": [
        {
          "name": "stdout",
          "output_type": "stream",
          "text": [
            "<class 'pandas.core.frame.DataFrame'>\n",
            "Index: 236 entries, 1801 to 20593\n",
            "Data columns (total 6 columns):\n",
            " #   Column              Non-Null Count  Dtype \n",
            "---  ------              --------------  ----- \n",
            " 0   Country_code        236 non-null    object\n",
            " 1   Total_Population    236 non-null    object\n",
            " 2   Male_Population     236 non-null    object\n",
            " 3   Female_Population   236 non-null    object\n",
            " 4   Population_Density  236 non-null    object\n",
            " 5   Life_Expectancy     236 non-null    object\n",
            "dtypes: object(6)\n",
            "memory usage: 12.9+ KB\n"
          ]
        }
      ],
      "source": [
        "#Requerimos convertir las columnas 1 a la 5 en INT\n",
        "df_population_limpio.info()"
      ]
    },
    {
      "cell_type": "code",
      "execution_count": 23,
      "metadata": {
        "colab": {
          "base_uri": "https://localhost:8080/",
          "height": 206
        },
        "id": "AlpZbZmhcHom",
        "outputId": "d34228ce-0296-462c-d7f4-f39d0686ad60"
      },
      "outputs": [
        {
          "data": {
            "text/html": [
              "<div>\n",
              "<style scoped>\n",
              "    .dataframe tbody tr th:only-of-type {\n",
              "        vertical-align: middle;\n",
              "    }\n",
              "\n",
              "    .dataframe tbody tr th {\n",
              "        vertical-align: top;\n",
              "    }\n",
              "\n",
              "    .dataframe thead th {\n",
              "        text-align: right;\n",
              "    }\n",
              "</style>\n",
              "<table border=\"1\" class=\"dataframe\">\n",
              "  <thead>\n",
              "    <tr style=\"text-align: right;\">\n",
              "      <th></th>\n",
              "      <th>Country_code</th>\n",
              "      <th>Total_Population</th>\n",
              "      <th>Male_Population</th>\n",
              "      <th>Female_Population</th>\n",
              "      <th>Population_Density</th>\n",
              "      <th>Life_Expectancy</th>\n",
              "    </tr>\n",
              "  </thead>\n",
              "  <tbody>\n",
              "    <tr>\n",
              "      <th>1801</th>\n",
              "      <td>BI</td>\n",
              "      <td>11874.838</td>\n",
              "      <td>5894.278</td>\n",
              "      <td>5980.56</td>\n",
              "      <td>457.605</td>\n",
              "      <td>62.351</td>\n",
              "    </tr>\n",
              "    <tr>\n",
              "      <th>1873</th>\n",
              "      <td>KM</td>\n",
              "      <td>790.986</td>\n",
              "      <td>397.126</td>\n",
              "      <td>393.86</td>\n",
              "      <td>425.033</td>\n",
              "      <td>64.068</td>\n",
              "    </tr>\n",
              "    <tr>\n",
              "      <th>1945</th>\n",
              "      <td>DJ</td>\n",
              "      <td>1073.994</td>\n",
              "      <td>533.626</td>\n",
              "      <td>540.367</td>\n",
              "      <td>46.333</td>\n",
              "      <td>63.085</td>\n",
              "    </tr>\n",
              "    <tr>\n",
              "      <th>2017</th>\n",
              "      <td>ER</td>\n",
              "      <td>3498.818</td>\n",
              "      <td>1724.86</td>\n",
              "      <td>1773.958</td>\n",
              "      <td>28.881</td>\n",
              "      <td>67.3</td>\n",
              "    </tr>\n",
              "    <tr>\n",
              "      <th>2089</th>\n",
              "      <td>ET</td>\n",
              "      <td>114120.594</td>\n",
              "      <td>57375.433</td>\n",
              "      <td>56745.161</td>\n",
              "      <td>114.121</td>\n",
              "      <td>65.838</td>\n",
              "    </tr>\n",
              "  </tbody>\n",
              "</table>\n",
              "</div>"
            ],
            "text/plain": [
              "     Country_code Total_Population Male_Population Female_Population  \\\n",
              "1801           BI        11874.838        5894.278           5980.56   \n",
              "1873           KM          790.986         397.126            393.86   \n",
              "1945           DJ         1073.994         533.626           540.367   \n",
              "2017           ER         3498.818         1724.86          1773.958   \n",
              "2089           ET       114120.594       57375.433         56745.161   \n",
              "\n",
              "     Population_Density Life_Expectancy  \n",
              "1801            457.605          62.351  \n",
              "1873            425.033          64.068  \n",
              "1945             46.333          63.085  \n",
              "2017             28.881            67.3  \n",
              "2089            114.121          65.838  "
            ]
          },
          "execution_count": 23,
          "metadata": {},
          "output_type": "execute_result"
        }
      ],
      "source": [
        "#Observamos que tenemos decimales, por lo que deberíamos redondearlos previamente para su conversión\n",
        "df_population_limpio.head()"
      ]
    },
    {
      "cell_type": "code",
      "execution_count": 24,
      "metadata": {
        "colab": {
          "base_uri": "https://localhost:8080/"
        },
        "id": "XGTkfjlDdQjz",
        "outputId": "866e4829-b830-45f6-e377-ecce31c9c5a2"
      },
      "outputs": [
        {
          "name": "stdout",
          "output_type": "stream",
          "text": [
            "<class 'pandas.core.frame.DataFrame'>\n",
            "Index: 236 entries, 1801 to 20593\n",
            "Data columns (total 6 columns):\n",
            " #   Column              Non-Null Count  Dtype  \n",
            "---  ------              --------------  -----  \n",
            " 0   Country_code        236 non-null    object \n",
            " 1   Total_Population    236 non-null    float64\n",
            " 2   Male_Population     236 non-null    object \n",
            " 3   Female_Population   236 non-null    object \n",
            " 4   Population_Density  236 non-null    float64\n",
            " 5   Life_Expectancy     236 non-null    object \n",
            "dtypes: float64(2), object(4)\n",
            "memory usage: 12.9+ KB\n"
          ]
        }
      ],
      "source": [
        "#Primero la convertimos a float (las columnas comentadas dan un error)\n",
        "df_population_limpio = df_population_limpio.astype({\n",
        "  'Total_Population': 'float',\n",
        "  # 'Male_Population': 'float',\n",
        "  # 'Female_Population': 'float',\n",
        "  'Population_Density': 'float',\n",
        "  # 'Life_Expectancy': 'float'\n",
        "})\n",
        "df_population_limpio.info()"
      ]
    },
    {
      "cell_type": "code",
      "execution_count": 25,
      "metadata": {
        "colab": {
          "base_uri": "https://localhost:8080/",
          "height": 81
        },
        "id": "aRO_FSg9gON3",
        "outputId": "4c33b076-519b-4113-c48a-76fa3dbf15b7"
      },
      "outputs": [
        {
          "data": {
            "text/html": [
              "<div>\n",
              "<style scoped>\n",
              "    .dataframe tbody tr th:only-of-type {\n",
              "        vertical-align: middle;\n",
              "    }\n",
              "\n",
              "    .dataframe tbody tr th {\n",
              "        vertical-align: top;\n",
              "    }\n",
              "\n",
              "    .dataframe thead th {\n",
              "        text-align: right;\n",
              "    }\n",
              "</style>\n",
              "<table border=\"1\" class=\"dataframe\">\n",
              "  <thead>\n",
              "    <tr style=\"text-align: right;\">\n",
              "      <th></th>\n",
              "      <th>Country_code</th>\n",
              "      <th>Total_Population</th>\n",
              "      <th>Male_Population</th>\n",
              "      <th>Female_Population</th>\n",
              "      <th>Population_Density</th>\n",
              "      <th>Life_Expectancy</th>\n",
              "    </tr>\n",
              "  </thead>\n",
              "  <tbody>\n",
              "    <tr>\n",
              "      <th>12817</th>\n",
              "      <td>VA</td>\n",
              "      <td>0.528</td>\n",
              "      <td>...</td>\n",
              "      <td>...</td>\n",
              "      <td>1200.0</td>\n",
              "      <td>...</td>\n",
              "    </tr>\n",
              "  </tbody>\n",
              "</table>\n",
              "</div>"
            ],
            "text/plain": [
              "      Country_code  Total_Population Male_Population Female_Population  \\\n",
              "12817           VA             0.528             ...               ...   \n",
              "\n",
              "       Population_Density Life_Expectancy  \n",
              "12817              1200.0             ...  "
            ]
          },
          "execution_count": 25,
          "metadata": {},
          "output_type": "execute_result"
        }
      ],
      "source": [
        "#Detectamos que existen errores tipográficos que no pueden ser convertidos directamente en floats\n",
        "criterio = df_population_limpio['Male_Population'] == '...'\n",
        "df_population_limpio[criterio]"
      ]
    },
    {
      "cell_type": "code",
      "execution_count": 26,
      "metadata": {
        "colab": {
          "base_uri": "https://localhost:8080/"
        },
        "id": "wHTtnTC6jTJI",
        "outputId": "61c59dfc-5469-4c51-e73d-1a12b4ab90cc"
      },
      "outputs": [
        {
          "name": "stdout",
          "output_type": "stream",
          "text": [
            "<class 'pandas.core.frame.DataFrame'>\n",
            "Index: 236 entries, 1801 to 20593\n",
            "Data columns (total 6 columns):\n",
            " #   Column              Non-Null Count  Dtype  \n",
            "---  ------              --------------  -----  \n",
            " 0   Country_code        236 non-null    object \n",
            " 1   Total_Population    236 non-null    float64\n",
            " 2   Male_Population     235 non-null    float64\n",
            " 3   Female_Population   235 non-null    float64\n",
            " 4   Population_Density  236 non-null    float64\n",
            " 5   Life_Expectancy     235 non-null    float64\n",
            "dtypes: float64(5), object(1)\n",
            "memory usage: 12.9+ KB\n"
          ]
        }
      ],
      "source": [
        "#Aplicamos una conversión utilizando el método de pandas to_numeric() que nos provee manejo de éste tipo de errores\n",
        "#El parámetro errors, indica qué hacer en caso de encontrar un valor no numérico. El valor coerce, reemplazará los strings no identificados como números por NaN\n",
        "\n",
        "df_population_limpio['Male_Population'] = pd.to_numeric(df_population_limpio['Male_Population'], errors='coerce')\n",
        "df_population_limpio['Female_Population'] = pd.to_numeric(df_population_limpio['Female_Population'], errors='coerce')\n",
        "df_population_limpio['Life_Expectancy'] = pd.to_numeric(df_population_limpio['Life_Expectancy'], errors='coerce')\n",
        "\n",
        "df_population_limpio.info()"
      ]
    },
    {
      "cell_type": "code",
      "execution_count": 27,
      "metadata": {
        "colab": {
          "base_uri": "https://localhost:8080/"
        },
        "id": "rN5GSGFcnafj",
        "outputId": "854244e5-3aa0-4fbf-9871-9e4e45075496"
      },
      "outputs": [
        {
          "data": {
            "text/plain": [
              "Country_code          0\n",
              "Total_Population      0\n",
              "Male_Population       1\n",
              "Female_Population     1\n",
              "Population_Density    0\n",
              "Life_Expectancy       1\n",
              "dtype: int64"
            ]
          },
          "execution_count": 27,
          "metadata": {},
          "output_type": "execute_result"
        }
      ],
      "source": [
        "#Verificamos cuántos NaN tenemos resultado del tratamiento\n",
        "df_population_limpio.isna().sum()"
      ]
    },
    {
      "cell_type": "code",
      "execution_count": 28,
      "metadata": {
        "colab": {
          "base_uri": "https://localhost:8080/"
        },
        "id": "kt7yE_gMp1Oe",
        "outputId": "9ca4b191-3189-452a-a0ee-094f2c43c0c6"
      },
      "outputs": [
        {
          "data": {
            "text/plain": [
              "Country_code          0\n",
              "Total_Population      0\n",
              "Male_Population       0\n",
              "Female_Population     0\n",
              "Population_Density    0\n",
              "Life_Expectancy       0\n",
              "dtype: int64"
            ]
          },
          "execution_count": 28,
          "metadata": {},
          "output_type": "execute_result"
        }
      ],
      "source": [
        "#Eliminamos los NaN\n",
        "df_population_limpio.dropna(inplace=True)\n",
        "df_population_limpio.isna().sum()"
      ]
    },
    {
      "cell_type": "code",
      "execution_count": 29,
      "metadata": {
        "colab": {
          "base_uri": "https://localhost:8080/"
        },
        "id": "yWfz1LMrn-b4",
        "outputId": "daf10d27-a55f-4df4-90e3-911567b26d3d"
      },
      "outputs": [
        {
          "name": "stdout",
          "output_type": "stream",
          "text": [
            "<class 'pandas.core.frame.DataFrame'>\n",
            "Index: 235 entries, 1801 to 20593\n",
            "Data columns (total 6 columns):\n",
            " #   Column              Non-Null Count  Dtype  \n",
            "---  ------              --------------  -----  \n",
            " 0   Country_code        235 non-null    object \n",
            " 1   Total_Population    235 non-null    float64\n",
            " 2   Male_Population     235 non-null    float64\n",
            " 3   Female_Population   235 non-null    float64\n",
            " 4   Population_Density  235 non-null    float64\n",
            " 5   Life_Expectancy     235 non-null    float64\n",
            "dtypes: float64(5), object(1)\n",
            "memory usage: 12.9+ KB\n"
          ]
        }
      ],
      "source": [
        "df_population_limpio.info()"
      ]
    },
    {
      "cell_type": "code",
      "execution_count": 30,
      "metadata": {
        "colab": {
          "base_uri": "https://localhost:8080/"
        },
        "id": "J9FnkKsqnIun",
        "outputId": "04bfc4e8-9feb-40e1-efdd-b0eac59973c2"
      },
      "outputs": [
        {
          "name": "stdout",
          "output_type": "stream",
          "text": [
            "<class 'pandas.core.frame.DataFrame'>\n",
            "Index: 235 entries, 1801 to 20593\n",
            "Data columns (total 6 columns):\n",
            " #   Column              Non-Null Count  Dtype \n",
            "---  ------              --------------  ----- \n",
            " 0   Country_code        235 non-null    object\n",
            " 1   Total_Population    235 non-null    int64 \n",
            " 2   Male_Population     235 non-null    int64 \n",
            " 3   Female_Population   235 non-null    int64 \n",
            " 4   Population_Density  235 non-null    int64 \n",
            " 5   Life_Expectancy     235 non-null    int64 \n",
            "dtypes: int64(5), object(1)\n",
            "memory usage: 12.9+ KB\n"
          ]
        }
      ],
      "source": [
        "#Redondeamos los valores para arriba y convertimos en enteros\n",
        "df_population_limpio['Total_Population'] = df_population_limpio['Total_Population'].round(0).astype('int64')\n",
        "df_population_limpio['Male_Population'] = df_population_limpio['Male_Population'].round(0).astype('int64')\n",
        "df_population_limpio['Female_Population'] = df_population_limpio['Female_Population'].round(0).astype('int64')\n",
        "df_population_limpio['Population_Density'] = df_population_limpio['Population_Density'].round(0).astype('int64')\n",
        "df_population_limpio['Life_Expectancy'] = df_population_limpio['Life_Expectancy'].round(0).astype('int64')\n",
        "\n",
        "df_population_limpio.info()"
      ]
    },
    {
      "cell_type": "code",
      "execution_count": 31,
      "metadata": {
        "colab": {
          "base_uri": "https://localhost:8080/",
          "height": 206
        },
        "id": "IsWDjfhsoTdb",
        "outputId": "0c531080-0150-4ef1-e62e-50e3a839089b"
      },
      "outputs": [
        {
          "data": {
            "text/html": [
              "<div>\n",
              "<style scoped>\n",
              "    .dataframe tbody tr th:only-of-type {\n",
              "        vertical-align: middle;\n",
              "    }\n",
              "\n",
              "    .dataframe tbody tr th {\n",
              "        vertical-align: top;\n",
              "    }\n",
              "\n",
              "    .dataframe thead th {\n",
              "        text-align: right;\n",
              "    }\n",
              "</style>\n",
              "<table border=\"1\" class=\"dataframe\">\n",
              "  <thead>\n",
              "    <tr style=\"text-align: right;\">\n",
              "      <th></th>\n",
              "      <th>Country_code</th>\n",
              "      <th>Total_Population</th>\n",
              "      <th>Male_Population</th>\n",
              "      <th>Female_Population</th>\n",
              "      <th>Population_Density</th>\n",
              "      <th>Life_Expectancy</th>\n",
              "    </tr>\n",
              "  </thead>\n",
              "  <tbody>\n",
              "    <tr>\n",
              "      <th>1801</th>\n",
              "      <td>BI</td>\n",
              "      <td>11875</td>\n",
              "      <td>5894</td>\n",
              "      <td>5981</td>\n",
              "      <td>458</td>\n",
              "      <td>62</td>\n",
              "    </tr>\n",
              "    <tr>\n",
              "      <th>1873</th>\n",
              "      <td>KM</td>\n",
              "      <td>791</td>\n",
              "      <td>397</td>\n",
              "      <td>394</td>\n",
              "      <td>425</td>\n",
              "      <td>64</td>\n",
              "    </tr>\n",
              "    <tr>\n",
              "      <th>1945</th>\n",
              "      <td>DJ</td>\n",
              "      <td>1074</td>\n",
              "      <td>534</td>\n",
              "      <td>540</td>\n",
              "      <td>46</td>\n",
              "      <td>63</td>\n",
              "    </tr>\n",
              "    <tr>\n",
              "      <th>2017</th>\n",
              "      <td>ER</td>\n",
              "      <td>3499</td>\n",
              "      <td>1725</td>\n",
              "      <td>1774</td>\n",
              "      <td>29</td>\n",
              "      <td>67</td>\n",
              "    </tr>\n",
              "    <tr>\n",
              "      <th>2089</th>\n",
              "      <td>ET</td>\n",
              "      <td>114121</td>\n",
              "      <td>57375</td>\n",
              "      <td>56745</td>\n",
              "      <td>114</td>\n",
              "      <td>66</td>\n",
              "    </tr>\n",
              "  </tbody>\n",
              "</table>\n",
              "</div>"
            ],
            "text/plain": [
              "     Country_code  Total_Population  Male_Population  Female_Population  \\\n",
              "1801           BI             11875             5894               5981   \n",
              "1873           KM               791              397                394   \n",
              "1945           DJ              1074              534                540   \n",
              "2017           ER              3499             1725               1774   \n",
              "2089           ET            114121            57375              56745   \n",
              "\n",
              "      Population_Density  Life_Expectancy  \n",
              "1801                 458               62  \n",
              "1873                 425               64  \n",
              "1945                  46               63  \n",
              "2017                  29               67  \n",
              "2089                 114               66  "
            ]
          },
          "execution_count": 31,
          "metadata": {},
          "output_type": "execute_result"
        }
      ],
      "source": [
        "df_population_limpio.head()"
      ]
    },
    {
      "cell_type": "markdown",
      "metadata": {
        "id": "XE9DU_Xro2P_"
      },
      "source": [
        "#### 1.5. Multiplicamos por 1000 las columnas 'Total_Population', 'Male_Population' y 'Female_Population'"
      ]
    },
    {
      "cell_type": "code",
      "execution_count": 32,
      "metadata": {
        "colab": {
          "base_uri": "https://localhost:8080/",
          "height": 206
        },
        "id": "oLsdbq1ZpF0X",
        "outputId": "87dfae06-f3b5-4eef-a9b7-7dc6f1dc71a2"
      },
      "outputs": [
        {
          "data": {
            "text/html": [
              "<div>\n",
              "<style scoped>\n",
              "    .dataframe tbody tr th:only-of-type {\n",
              "        vertical-align: middle;\n",
              "    }\n",
              "\n",
              "    .dataframe tbody tr th {\n",
              "        vertical-align: top;\n",
              "    }\n",
              "\n",
              "    .dataframe thead th {\n",
              "        text-align: right;\n",
              "    }\n",
              "</style>\n",
              "<table border=\"1\" class=\"dataframe\">\n",
              "  <thead>\n",
              "    <tr style=\"text-align: right;\">\n",
              "      <th></th>\n",
              "      <th>Country_code</th>\n",
              "      <th>Total_Population</th>\n",
              "      <th>Male_Population</th>\n",
              "      <th>Female_Population</th>\n",
              "      <th>Population_Density</th>\n",
              "      <th>Life_Expectancy</th>\n",
              "    </tr>\n",
              "  </thead>\n",
              "  <tbody>\n",
              "    <tr>\n",
              "      <th>1801</th>\n",
              "      <td>BI</td>\n",
              "      <td>11875000</td>\n",
              "      <td>5894000</td>\n",
              "      <td>5981000</td>\n",
              "      <td>458</td>\n",
              "      <td>62</td>\n",
              "    </tr>\n",
              "    <tr>\n",
              "      <th>1873</th>\n",
              "      <td>KM</td>\n",
              "      <td>791000</td>\n",
              "      <td>397000</td>\n",
              "      <td>394000</td>\n",
              "      <td>425</td>\n",
              "      <td>64</td>\n",
              "    </tr>\n",
              "    <tr>\n",
              "      <th>1945</th>\n",
              "      <td>DJ</td>\n",
              "      <td>1074000</td>\n",
              "      <td>534000</td>\n",
              "      <td>540000</td>\n",
              "      <td>46</td>\n",
              "      <td>63</td>\n",
              "    </tr>\n",
              "    <tr>\n",
              "      <th>2017</th>\n",
              "      <td>ER</td>\n",
              "      <td>3499000</td>\n",
              "      <td>1725000</td>\n",
              "      <td>1774000</td>\n",
              "      <td>29</td>\n",
              "      <td>67</td>\n",
              "    </tr>\n",
              "    <tr>\n",
              "      <th>2089</th>\n",
              "      <td>ET</td>\n",
              "      <td>114121000</td>\n",
              "      <td>57375000</td>\n",
              "      <td>56745000</td>\n",
              "      <td>114</td>\n",
              "      <td>66</td>\n",
              "    </tr>\n",
              "  </tbody>\n",
              "</table>\n",
              "</div>"
            ],
            "text/plain": [
              "     Country_code  Total_Population  Male_Population  Female_Population  \\\n",
              "1801           BI          11875000          5894000            5981000   \n",
              "1873           KM            791000           397000             394000   \n",
              "1945           DJ           1074000           534000             540000   \n",
              "2017           ER           3499000          1725000            1774000   \n",
              "2089           ET         114121000         57375000           56745000   \n",
              "\n",
              "      Population_Density  Life_Expectancy  \n",
              "1801                 458               62  \n",
              "1873                 425               64  \n",
              "1945                  46               63  \n",
              "2017                  29               67  \n",
              "2089                 114               66  "
            ]
          },
          "execution_count": 32,
          "metadata": {},
          "output_type": "execute_result"
        }
      ],
      "source": [
        "df_population_limpio[['Total_Population','Male_Population','Female_Population']] = df_population_limpio[['Total_Population','Male_Population','Female_Population']]*1000\n",
        "df_population_limpio.head()"
      ]
    },
    {
      "cell_type": "markdown",
      "metadata": {
        "id": "uwQv14lspXdT"
      },
      "source": [
        "#### 1.6. Eliminar todos los registros nulos"
      ]
    },
    {
      "cell_type": "code",
      "execution_count": 33,
      "metadata": {
        "colab": {
          "base_uri": "https://localhost:8080/"
        },
        "id": "40m99WBtpbPr",
        "outputId": "76188117-a2bb-4d21-faca-f190b541fe06"
      },
      "outputs": [
        {
          "data": {
            "text/plain": [
              "Country_code          0\n",
              "Total_Population      0\n",
              "Male_Population       0\n",
              "Female_Population     0\n",
              "Population_Density    0\n",
              "Life_Expectancy       0\n",
              "dtype: int64"
            ]
          },
          "execution_count": 33,
          "metadata": {},
          "output_type": "execute_result"
        }
      ],
      "source": [
        "#No contamos con registros nulos porque ya los tratamos ni bien los identficamos\n",
        "df_population_limpio.isna().sum()"
      ]
    },
    {
      "cell_type": "markdown",
      "metadata": {
        "id": "XfeeMDJpqAsz"
      },
      "source": [
        "#### 1.7. Reiniciamos los índices"
      ]
    },
    {
      "cell_type": "code",
      "execution_count": 34,
      "metadata": {
        "colab": {
          "base_uri": "https://localhost:8080/",
          "height": 206
        },
        "id": "_1oVEC_Up8y3",
        "outputId": "d2cdf010-70f0-429d-abfd-7a006447ca89"
      },
      "outputs": [
        {
          "data": {
            "text/html": [
              "<div>\n",
              "<style scoped>\n",
              "    .dataframe tbody tr th:only-of-type {\n",
              "        vertical-align: middle;\n",
              "    }\n",
              "\n",
              "    .dataframe tbody tr th {\n",
              "        vertical-align: top;\n",
              "    }\n",
              "\n",
              "    .dataframe thead th {\n",
              "        text-align: right;\n",
              "    }\n",
              "</style>\n",
              "<table border=\"1\" class=\"dataframe\">\n",
              "  <thead>\n",
              "    <tr style=\"text-align: right;\">\n",
              "      <th></th>\n",
              "      <th>Country_code</th>\n",
              "      <th>Total_Population</th>\n",
              "      <th>Male_Population</th>\n",
              "      <th>Female_Population</th>\n",
              "      <th>Population_Density</th>\n",
              "      <th>Life_Expectancy</th>\n",
              "    </tr>\n",
              "  </thead>\n",
              "  <tbody>\n",
              "    <tr>\n",
              "      <th>0</th>\n",
              "      <td>BI</td>\n",
              "      <td>11875000</td>\n",
              "      <td>5894000</td>\n",
              "      <td>5981000</td>\n",
              "      <td>458</td>\n",
              "      <td>62</td>\n",
              "    </tr>\n",
              "    <tr>\n",
              "      <th>1</th>\n",
              "      <td>KM</td>\n",
              "      <td>791000</td>\n",
              "      <td>397000</td>\n",
              "      <td>394000</td>\n",
              "      <td>425</td>\n",
              "      <td>64</td>\n",
              "    </tr>\n",
              "    <tr>\n",
              "      <th>2</th>\n",
              "      <td>DJ</td>\n",
              "      <td>1074000</td>\n",
              "      <td>534000</td>\n",
              "      <td>540000</td>\n",
              "      <td>46</td>\n",
              "      <td>63</td>\n",
              "    </tr>\n",
              "    <tr>\n",
              "      <th>3</th>\n",
              "      <td>ER</td>\n",
              "      <td>3499000</td>\n",
              "      <td>1725000</td>\n",
              "      <td>1774000</td>\n",
              "      <td>29</td>\n",
              "      <td>67</td>\n",
              "    </tr>\n",
              "    <tr>\n",
              "      <th>4</th>\n",
              "      <td>ET</td>\n",
              "      <td>114121000</td>\n",
              "      <td>57375000</td>\n",
              "      <td>56745000</td>\n",
              "      <td>114</td>\n",
              "      <td>66</td>\n",
              "    </tr>\n",
              "  </tbody>\n",
              "</table>\n",
              "</div>"
            ],
            "text/plain": [
              "  Country_code  Total_Population  Male_Population  Female_Population  \\\n",
              "0           BI          11875000          5894000            5981000   \n",
              "1           KM            791000           397000             394000   \n",
              "2           DJ           1074000           534000             540000   \n",
              "3           ER           3499000          1725000            1774000   \n",
              "4           ET         114121000         57375000           56745000   \n",
              "\n",
              "   Population_Density  Life_Expectancy  \n",
              "0                 458               62  \n",
              "1                 425               64  \n",
              "2                  46               63  \n",
              "3                  29               67  \n",
              "4                 114               66  "
            ]
          },
          "execution_count": 34,
          "metadata": {},
          "output_type": "execute_result"
        }
      ],
      "source": [
        "df_population_limpio.reset_index(inplace=True, drop=True)\n",
        "df_population_limpio.head()"
      ]
    },
    {
      "cell_type": "markdown",
      "metadata": {
        "id": "V0BLhYRe1CnT"
      },
      "source": [
        "# 3. Insights y conclusiones"
      ]
    },
    {
      "cell_type": "markdown",
      "metadata": {
        "id": "ZoLYj3S6Sbv-"
      },
      "source": [
        "## Insight 1\n",
        "### ¿Cómo ha evolucionado el Covid-19 en Argentina y Colombia en comparación con el impacto observado a nivel global?"
      ]
    },
    {
      "cell_type": "markdown",
      "metadata": {
        "id": "xM771cEHG2i6"
      },
      "source": [
        "#### Worldwide Cases Distribution"
      ]
    },
    {
      "cell_type": "code",
      "execution_count": 35,
      "metadata": {
        "colab": {
          "base_uri": "https://localhost:8080/",
          "height": 206
        },
        "id": "xPhVURYzRarX",
        "outputId": "b346356d-2fc0-4c34-afd3-905b9fdc1ae2"
      },
      "outputs": [
        {
          "data": {
            "text/html": [
              "<div>\n",
              "<style scoped>\n",
              "    .dataframe tbody tr th:only-of-type {\n",
              "        vertical-align: middle;\n",
              "    }\n",
              "\n",
              "    .dataframe tbody tr th {\n",
              "        vertical-align: top;\n",
              "    }\n",
              "\n",
              "    .dataframe thead th {\n",
              "        text-align: right;\n",
              "    }\n",
              "</style>\n",
              "<table border=\"1\" class=\"dataframe\">\n",
              "  <thead>\n",
              "    <tr style=\"text-align: right;\">\n",
              "      <th></th>\n",
              "      <th>Date_reported</th>\n",
              "      <th>Country_code</th>\n",
              "      <th>Country</th>\n",
              "      <th>New_cases</th>\n",
              "      <th>Cumulative_cases</th>\n",
              "      <th>New_deaths</th>\n",
              "      <th>Cumulative_deaths</th>\n",
              "      <th>lethality_rate</th>\n",
              "    </tr>\n",
              "  </thead>\n",
              "  <tbody>\n",
              "    <tr>\n",
              "      <th>0</th>\n",
              "      <td>2020-01-05</td>\n",
              "      <td>AF</td>\n",
              "      <td>Afghanistan</td>\n",
              "      <td>0</td>\n",
              "      <td>0</td>\n",
              "      <td>0</td>\n",
              "      <td>0</td>\n",
              "      <td>0.0</td>\n",
              "    </tr>\n",
              "    <tr>\n",
              "      <th>1</th>\n",
              "      <td>2020-01-12</td>\n",
              "      <td>AF</td>\n",
              "      <td>Afghanistan</td>\n",
              "      <td>0</td>\n",
              "      <td>0</td>\n",
              "      <td>0</td>\n",
              "      <td>0</td>\n",
              "      <td>0.0</td>\n",
              "    </tr>\n",
              "    <tr>\n",
              "      <th>2</th>\n",
              "      <td>2020-01-19</td>\n",
              "      <td>AF</td>\n",
              "      <td>Afghanistan</td>\n",
              "      <td>0</td>\n",
              "      <td>0</td>\n",
              "      <td>0</td>\n",
              "      <td>0</td>\n",
              "      <td>0.0</td>\n",
              "    </tr>\n",
              "    <tr>\n",
              "      <th>3</th>\n",
              "      <td>2020-01-26</td>\n",
              "      <td>AF</td>\n",
              "      <td>Afghanistan</td>\n",
              "      <td>0</td>\n",
              "      <td>0</td>\n",
              "      <td>0</td>\n",
              "      <td>0</td>\n",
              "      <td>0.0</td>\n",
              "    </tr>\n",
              "    <tr>\n",
              "      <th>4</th>\n",
              "      <td>2020-02-02</td>\n",
              "      <td>AF</td>\n",
              "      <td>Afghanistan</td>\n",
              "      <td>0</td>\n",
              "      <td>0</td>\n",
              "      <td>0</td>\n",
              "      <td>0</td>\n",
              "      <td>0.0</td>\n",
              "    </tr>\n",
              "  </tbody>\n",
              "</table>\n",
              "</div>"
            ],
            "text/plain": [
              "  Date_reported Country_code      Country  New_cases  Cumulative_cases  \\\n",
              "0    2020-01-05           AF  Afghanistan          0                 0   \n",
              "1    2020-01-12           AF  Afghanistan          0                 0   \n",
              "2    2020-01-19           AF  Afghanistan          0                 0   \n",
              "3    2020-01-26           AF  Afghanistan          0                 0   \n",
              "4    2020-02-02           AF  Afghanistan          0                 0   \n",
              "\n",
              "   New_deaths  Cumulative_deaths  lethality_rate  \n",
              "0           0                  0             0.0  \n",
              "1           0                  0             0.0  \n",
              "2           0                  0             0.0  \n",
              "3           0                  0             0.0  \n",
              "4           0                  0             0.0  "
            ]
          },
          "execution_count": 35,
          "metadata": {},
          "output_type": "execute_result"
        }
      ],
      "source": [
        "df_covid_limpio.head()"
      ]
    },
    {
      "cell_type": "code",
      "execution_count": 36,
      "metadata": {
        "id": "LAUawzIeSjGx"
      },
      "outputs": [],
      "source": [
        "total_por_pais = df_covid_limpio.groupby('Country')\n",
        "total_por_pais = total_por_pais['Cumulative_cases'].max().sort_values(ascending = False)"
      ]
    },
    {
      "cell_type": "code",
      "execution_count": 37,
      "metadata": {
        "colab": {
          "base_uri": "https://localhost:8080/"
        },
        "id": "C96fmjTsdqxB",
        "outputId": "976f543f-3936-4e70-f0b3-c05f06357468"
      },
      "outputs": [
        {
          "data": {
            "text/plain": [
              "Country\n",
              "United States of America                                103436829\n",
              "China                                                    99326423\n",
              "India                                                    45023751\n",
              "France                                                   38997490\n",
              "Germany                                                  38437756\n",
              "Brazil                                                   37519960\n",
              "Republic of Korea                                        34571873\n",
              "Japan                                                    33803572\n",
              "Italy                                                    26693706\n",
              "United Kingdom of Great Britain and Northern Ireland     24885790\n",
              "Name: Cumulative_cases, dtype: int64"
            ]
          },
          "execution_count": 37,
          "metadata": {},
          "output_type": "execute_result"
        }
      ],
      "source": [
        "top_10_paises = total_por_pais.nlargest(10)\n",
        "top_10_paises"
      ]
    },
    {
      "cell_type": "code",
      "execution_count": 38,
      "metadata": {
        "colab": {
          "base_uri": "https://localhost:8080/"
        },
        "id": "XfeXyugh0ymt",
        "outputId": "053268e4-1aa1-4321-af3b-c3a855e6ea11"
      },
      "outputs": [
        {
          "data": {
            "text/plain": [
              "Country\n",
              "United States of America                                103436829\n",
              "China                                                    99326423\n",
              "India                                                    45023751\n",
              "France                                                   38997490\n",
              "Germany                                                  38437756\n",
              "Brazil                                                   37519960\n",
              "Republic of Korea                                        34571873\n",
              "Japan                                                    33803572\n",
              "Italy                                                    26693706\n",
              "United Kingdom of Great Britain and Northern Ireland     24885790\n",
              "Otros                                                   291519855\n",
              "Name: Cumulative_cases, dtype: int64"
            ]
          },
          "execution_count": 38,
          "metadata": {},
          "output_type": "execute_result"
        }
      ],
      "source": [
        "otros = total_por_pais.drop(top_10_paises.index).sum() #esto sería el total de casos acumulados mundialmente\n",
        "top_10_paises['Otros'] = otros\n",
        "top_10_paises\n"
      ]
    },
    {
      "cell_type": "code",
      "execution_count": 39,
      "metadata": {
        "colab": {
          "base_uri": "https://localhost:8080/"
        },
        "id": "P6V19TDgYnqO",
        "outputId": "070f43cc-0bda-4c29-9399-3f0a3aa8f4c2"
      },
      "outputs": [
        {
          "data": {
            "text/plain": [
              "Country\n",
              "Argentina    10081076\n",
              "Name: Cumulative_cases, dtype: int64"
            ]
          },
          "execution_count": 39,
          "metadata": {},
          "output_type": "execute_result"
        }
      ],
      "source": [
        "# Se crea la variable ARG\n",
        "ARG =  df_covid_limpio['Country'] == 'Argentina'\n",
        "ARG = df_covid_limpio[ARG]\n",
        "ARG = ARG.groupby('Country')\n",
        "ARG = ARG['Cumulative_cases'].max()\n",
        "ARG\n"
      ]
    },
    {
      "cell_type": "code",
      "execution_count": 40,
      "metadata": {
        "colab": {
          "base_uri": "https://localhost:8080/"
        },
        "id": "K0kmTEpdfgh3",
        "outputId": "e898c1ba-db9d-4641-a11d-3e7879a3ebfe"
      },
      "outputs": [
        {
          "data": {
            "text/plain": [
              "Country\n",
              "Colombia    6391672\n",
              "Name: Cumulative_cases, dtype: int64"
            ]
          },
          "execution_count": 40,
          "metadata": {},
          "output_type": "execute_result"
        }
      ],
      "source": [
        "#Se crea la variable COL\n",
        "COL =  df_covid_limpio['Country'] == 'Colombia'\n",
        "COL = df_covid_limpio[COL]\n",
        "COL = COL.groupby('Country')\n",
        "COL = COL['Cumulative_cases'].max()\n",
        "COL"
      ]
    },
    {
      "cell_type": "markdown",
      "metadata": {
        "id": "TyXxnfMIwW2H"
      },
      "source": [
        "#### Creación de la Variable top_10_paises_col_arg que almacena la información de Colombia y Argentina"
      ]
    },
    {
      "cell_type": "code",
      "execution_count": 41,
      "metadata": {
        "colab": {
          "base_uri": "https://localhost:8080/"
        },
        "id": "3c1cGeJ2LzMn",
        "outputId": "fce62835-093d-404c-a7df-fa821adebd45"
      },
      "outputs": [
        {
          "data": {
            "text/plain": [
              "Country\n",
              "United States of America                                103436829\n",
              "China                                                    99326423\n",
              "India                                                    45023751\n",
              "France                                                   38997490\n",
              "Germany                                                  38437756\n",
              "Brazil                                                   37519960\n",
              "Republic of Korea                                        34571873\n",
              "Japan                                                    33803572\n",
              "Italy                                                    26693706\n",
              "United Kingdom of Great Britain and Northern Ireland     24885790\n",
              "Argentina                                                10081076\n",
              "Colombia                                                  6391672\n",
              "Otros                                                   275047107\n",
              "Name: Cumulative_cases, dtype: int64"
            ]
          },
          "execution_count": 41,
          "metadata": {},
          "output_type": "execute_result"
        }
      ],
      "source": [
        "top_10_paises_col_arg = top_10_paises.copy()\n",
        "#Se agrega la Fila 'Argentina'\n",
        "top_10_paises_col_arg['Argentina'] = np.sum(ARG)\n",
        "#Se agrega la Fila 'Colombia'\n",
        "top_10_paises_col_arg['Colombia'] = np.sum(COL)\n",
        "#Se elimina la fila 'Otros' para su remplazo\n",
        "top_10_paises_col_arg = top_10_paises_col_arg.drop('Otros')\n",
        "#Se le resta la información de la fila 'Otros' del DataFrame 'top_10_paises' con el total de 'Cumulative_cases' en Colombia y Argentina\n",
        "otros = top_10_paises['Otros'] - top_10_paises_col_arg['Colombia'] - top_10_paises_col_arg['Argentina']\n",
        "# Se actualiza la fila 'Otros' con la información\n",
        "top_10_paises_col_arg['Otros'] = otros\n",
        "top_10_paises_col_arg"
      ]
    },
    {
      "cell_type": "code",
      "execution_count": 42,
      "metadata": {
        "colab": {
          "base_uri": "https://localhost:8080/"
        },
        "id": "UBcvYePyLoub",
        "outputId": "57972fdc-b3b2-473f-8c20-a784ec13ab2b"
      },
      "outputs": [
        {
          "data": {
            "text/plain": [
              "Country\n",
              "Argentina    10081076\n",
              "Colombia      6391672\n",
              "Name: Cumulative_cases, dtype: int64"
            ]
          },
          "execution_count": 42,
          "metadata": {},
          "output_type": "execute_result"
        }
      ],
      "source": [
        "col_arg_cases = top_10_paises_col_arg.copy()\n",
        "\n",
        "not_col_arg = []\n",
        "for country, cases in top_10_paises_col_arg.items():\n",
        "  if (country not in['Argentina', 'Colombia']):\n",
        "    not_col_arg.append(country)\n",
        "\n",
        "col_arg_cases = col_arg_cases.drop(not_col_arg)\n",
        "col_arg_cases"
      ]
    },
    {
      "cell_type": "markdown",
      "metadata": {
        "id": "j0Lfm2fr5BCI"
      },
      "source": [
        "#### Case Progression by Country"
      ]
    },
    {
      "cell_type": "code",
      "execution_count": 43,
      "metadata": {
        "id": "I-bxPJ8J41BV"
      },
      "outputs": [],
      "source": [
        "total_por_país = df_covid_limpio.groupby('Country')\n",
        "total_por_país\n",
        "total_por_país=total_por_país['Cumulative_cases'].max().sort_values(ascending = False)"
      ]
    },
    {
      "cell_type": "code",
      "execution_count": 44,
      "metadata": {
        "colab": {
          "base_uri": "https://localhost:8080/"
        },
        "id": "f0xSRZKD5UHp",
        "outputId": "7d3ad224-4804-42ef-d436-5a7db513101d"
      },
      "outputs": [
        {
          "data": {
            "text/plain": [
              "Country\n",
              "United States of America    103436829\n",
              "China                        99326423\n",
              "India                        45023751\n",
              "France                       38997490\n",
              "Germany                      38437756\n",
              "Name: Cumulative_cases, dtype: int64"
            ]
          },
          "execution_count": 44,
          "metadata": {},
          "output_type": "execute_result"
        }
      ],
      "source": [
        "top_5_paises = total_por_país.head(5)\n",
        "top_5_paises"
      ]
    },
    {
      "cell_type": "code",
      "execution_count": 45,
      "metadata": {
        "id": "XjHqUrd8AZ5f"
      },
      "outputs": [],
      "source": [
        "top_5_paises_col_arg = top_5_paises.copy()\n",
        "top_5_paises_col_arg['Argentina'] = np.sum(ARG)\n",
        "top_5_paises_col_arg['Colombia'] = np.sum(COL)"
      ]
    },
    {
      "cell_type": "code",
      "execution_count": 46,
      "metadata": {
        "colab": {
          "base_uri": "https://localhost:8080/"
        },
        "id": "e63O4dEfAdfG",
        "outputId": "4f4f3cfc-44b3-4e49-a7a8-7b5e2149f372"
      },
      "outputs": [
        {
          "data": {
            "text/plain": [
              "Country\n",
              "United States of America    103436829\n",
              "China                        99326423\n",
              "India                        45023751\n",
              "France                       38997490\n",
              "Germany                      38437756\n",
              "Argentina                    10081076\n",
              "Colombia                      6391672\n",
              "Name: Cumulative_cases, dtype: int64"
            ]
          },
          "execution_count": 46,
          "metadata": {},
          "output_type": "execute_result"
        }
      ],
      "source": [
        "top_5_paises_col_arg"
      ]
    },
    {
      "cell_type": "code",
      "execution_count": 47,
      "metadata": {
        "colab": {
          "base_uri": "https://localhost:8080/"
        },
        "id": "4fsq7fXV_muL",
        "outputId": "258a1ad4-8964-4be4-efaf-420446f6dc5d"
      },
      "outputs": [
        {
          "data": {
            "text/plain": [
              "Country\n",
              "Argentina    10081076\n",
              "Colombia      6391672\n",
              "Name: Cumulative_cases, dtype: int64"
            ]
          },
          "execution_count": 47,
          "metadata": {},
          "output_type": "execute_result"
        }
      ],
      "source": [
        "col_arg_cases_line = top_5_paises_col_arg.copy()\n",
        "\n",
        "not_col_arg = []\n",
        "for country, cases in top_5_paises_col_arg.items():\n",
        "  if (country not in['Argentina', 'Colombia']):\n",
        "    not_col_arg.append(country)\n",
        "\n",
        "col_arg_cases_line = col_arg_cases_line.drop(not_col_arg)\n",
        "col_arg_cases_line"
      ]
    },
    {
      "cell_type": "code",
      "execution_count": 48,
      "metadata": {
        "colab": {
          "base_uri": "https://localhost:8080/",
          "height": 206
        },
        "id": "fO64DEqv6Do2",
        "outputId": "eae8071b-1f19-4458-9678-bb7acc13cdce"
      },
      "outputs": [
        {
          "data": {
            "text/html": [
              "<div>\n",
              "<style scoped>\n",
              "    .dataframe tbody tr th:only-of-type {\n",
              "        vertical-align: middle;\n",
              "    }\n",
              "\n",
              "    .dataframe tbody tr th {\n",
              "        vertical-align: top;\n",
              "    }\n",
              "\n",
              "    .dataframe thead th {\n",
              "        text-align: right;\n",
              "    }\n",
              "</style>\n",
              "<table border=\"1\" class=\"dataframe\">\n",
              "  <thead>\n",
              "    <tr style=\"text-align: right;\">\n",
              "      <th></th>\n",
              "      <th>Date_reported</th>\n",
              "      <th>Country_code</th>\n",
              "      <th>Country</th>\n",
              "      <th>New_cases</th>\n",
              "      <th>Cumulative_cases</th>\n",
              "      <th>New_deaths</th>\n",
              "      <th>Cumulative_deaths</th>\n",
              "      <th>lethality_rate</th>\n",
              "    </tr>\n",
              "  </thead>\n",
              "  <tbody>\n",
              "    <tr>\n",
              "      <th>0</th>\n",
              "      <td>2020-01-05</td>\n",
              "      <td>AF</td>\n",
              "      <td>Afghanistan</td>\n",
              "      <td>0</td>\n",
              "      <td>0</td>\n",
              "      <td>0</td>\n",
              "      <td>0</td>\n",
              "      <td>0.0</td>\n",
              "    </tr>\n",
              "    <tr>\n",
              "      <th>1</th>\n",
              "      <td>2020-01-12</td>\n",
              "      <td>AF</td>\n",
              "      <td>Afghanistan</td>\n",
              "      <td>0</td>\n",
              "      <td>0</td>\n",
              "      <td>0</td>\n",
              "      <td>0</td>\n",
              "      <td>0.0</td>\n",
              "    </tr>\n",
              "    <tr>\n",
              "      <th>2</th>\n",
              "      <td>2020-01-19</td>\n",
              "      <td>AF</td>\n",
              "      <td>Afghanistan</td>\n",
              "      <td>0</td>\n",
              "      <td>0</td>\n",
              "      <td>0</td>\n",
              "      <td>0</td>\n",
              "      <td>0.0</td>\n",
              "    </tr>\n",
              "    <tr>\n",
              "      <th>3</th>\n",
              "      <td>2020-01-26</td>\n",
              "      <td>AF</td>\n",
              "      <td>Afghanistan</td>\n",
              "      <td>0</td>\n",
              "      <td>0</td>\n",
              "      <td>0</td>\n",
              "      <td>0</td>\n",
              "      <td>0.0</td>\n",
              "    </tr>\n",
              "    <tr>\n",
              "      <th>4</th>\n",
              "      <td>2020-02-02</td>\n",
              "      <td>AF</td>\n",
              "      <td>Afghanistan</td>\n",
              "      <td>0</td>\n",
              "      <td>0</td>\n",
              "      <td>0</td>\n",
              "      <td>0</td>\n",
              "      <td>0.0</td>\n",
              "    </tr>\n",
              "  </tbody>\n",
              "</table>\n",
              "</div>"
            ],
            "text/plain": [
              "  Date_reported Country_code      Country  New_cases  Cumulative_cases  \\\n",
              "0    2020-01-05           AF  Afghanistan          0                 0   \n",
              "1    2020-01-12           AF  Afghanistan          0                 0   \n",
              "2    2020-01-19           AF  Afghanistan          0                 0   \n",
              "3    2020-01-26           AF  Afghanistan          0                 0   \n",
              "4    2020-02-02           AF  Afghanistan          0                 0   \n",
              "\n",
              "   New_deaths  Cumulative_deaths  lethality_rate  \n",
              "0           0                  0             0.0  \n",
              "1           0                  0             0.0  \n",
              "2           0                  0             0.0  \n",
              "3           0                  0             0.0  \n",
              "4           0                  0             0.0  "
            ]
          },
          "execution_count": 48,
          "metadata": {},
          "output_type": "execute_result"
        }
      ],
      "source": [
        "df_covid_limpio_reset = df_covid_limpio.reset_index(drop=True)\n",
        "df_covid_limpio_reset.head()"
      ]
    },
    {
      "cell_type": "code",
      "execution_count": 49,
      "metadata": {
        "colab": {
          "base_uri": "https://localhost:8080/"
        },
        "id": "FsUg0kN--Fng",
        "outputId": "c009de3c-d760-4dd0-ee6d-899b08a4d023"
      },
      "outputs": [
        {
          "data": {
            "text/plain": [
              "Index(['United States of America', 'China', 'India', 'France', 'Germany',\n",
              "       'Argentina', 'Colombia'],\n",
              "      dtype='object', name='Country')"
            ]
          },
          "execution_count": 49,
          "metadata": {},
          "output_type": "execute_result"
        }
      ],
      "source": [
        "top_5_paises_col_arg.index"
      ]
    },
    {
      "cell_type": "code",
      "execution_count": 50,
      "metadata": {
        "colab": {
          "base_uri": "https://localhost:8080/",
          "height": 206
        },
        "id": "UKgVyh7V6uV_",
        "outputId": "148a825d-e024-4cc3-cffc-c8938951dead"
      },
      "outputs": [
        {
          "data": {
            "text/html": [
              "<div>\n",
              "<style scoped>\n",
              "    .dataframe tbody tr th:only-of-type {\n",
              "        vertical-align: middle;\n",
              "    }\n",
              "\n",
              "    .dataframe tbody tr th {\n",
              "        vertical-align: top;\n",
              "    }\n",
              "\n",
              "    .dataframe thead th {\n",
              "        text-align: right;\n",
              "    }\n",
              "</style>\n",
              "<table border=\"1\" class=\"dataframe\">\n",
              "  <thead>\n",
              "    <tr style=\"text-align: right;\">\n",
              "      <th></th>\n",
              "      <th>Date_reported</th>\n",
              "      <th>Country_code</th>\n",
              "      <th>Country</th>\n",
              "      <th>New_cases</th>\n",
              "      <th>Cumulative_cases</th>\n",
              "      <th>New_deaths</th>\n",
              "      <th>Cumulative_deaths</th>\n",
              "      <th>lethality_rate</th>\n",
              "    </tr>\n",
              "  </thead>\n",
              "  <tbody>\n",
              "    <tr>\n",
              "      <th>1691</th>\n",
              "      <td>2020-01-05</td>\n",
              "      <td>AR</td>\n",
              "      <td>Argentina</td>\n",
              "      <td>0</td>\n",
              "      <td>0</td>\n",
              "      <td>0</td>\n",
              "      <td>0</td>\n",
              "      <td>0.0</td>\n",
              "    </tr>\n",
              "    <tr>\n",
              "      <th>1692</th>\n",
              "      <td>2020-01-12</td>\n",
              "      <td>AR</td>\n",
              "      <td>Argentina</td>\n",
              "      <td>0</td>\n",
              "      <td>0</td>\n",
              "      <td>0</td>\n",
              "      <td>0</td>\n",
              "      <td>0.0</td>\n",
              "    </tr>\n",
              "    <tr>\n",
              "      <th>1693</th>\n",
              "      <td>2020-01-19</td>\n",
              "      <td>AR</td>\n",
              "      <td>Argentina</td>\n",
              "      <td>0</td>\n",
              "      <td>0</td>\n",
              "      <td>0</td>\n",
              "      <td>0</td>\n",
              "      <td>0.0</td>\n",
              "    </tr>\n",
              "    <tr>\n",
              "      <th>1694</th>\n",
              "      <td>2020-01-26</td>\n",
              "      <td>AR</td>\n",
              "      <td>Argentina</td>\n",
              "      <td>0</td>\n",
              "      <td>0</td>\n",
              "      <td>0</td>\n",
              "      <td>0</td>\n",
              "      <td>0.0</td>\n",
              "    </tr>\n",
              "    <tr>\n",
              "      <th>1695</th>\n",
              "      <td>2020-02-02</td>\n",
              "      <td>AR</td>\n",
              "      <td>Argentina</td>\n",
              "      <td>0</td>\n",
              "      <td>0</td>\n",
              "      <td>0</td>\n",
              "      <td>0</td>\n",
              "      <td>0.0</td>\n",
              "    </tr>\n",
              "  </tbody>\n",
              "</table>\n",
              "</div>"
            ],
            "text/plain": [
              "     Date_reported Country_code    Country  New_cases  Cumulative_cases  \\\n",
              "1691    2020-01-05           AR  Argentina          0                 0   \n",
              "1692    2020-01-12           AR  Argentina          0                 0   \n",
              "1693    2020-01-19           AR  Argentina          0                 0   \n",
              "1694    2020-01-26           AR  Argentina          0                 0   \n",
              "1695    2020-02-02           AR  Argentina          0                 0   \n",
              "\n",
              "      New_deaths  Cumulative_deaths  lethality_rate  \n",
              "1691           0                  0             0.0  \n",
              "1692           0                  0             0.0  \n",
              "1693           0                  0             0.0  \n",
              "1694           0                  0             0.0  \n",
              "1695           0                  0             0.0  "
            ]
          },
          "execution_count": 50,
          "metadata": {},
          "output_type": "execute_result"
        }
      ],
      "source": [
        "df_top_5_col_arg = df_covid_limpio_reset[df_covid_limpio_reset['Country'].isin(top_5_paises_col_arg.index)]\n",
        "df_top_5_col_arg.head()"
      ]
    },
    {
      "cell_type": "code",
      "execution_count": 51,
      "metadata": {
        "id": "khV5narD-K_o"
      },
      "outputs": [],
      "source": [
        "df_col_arg = df_covid_limpio_reset[df_covid_limpio_reset['Country'].isin([\"Argentina\", \"Colombia\"])]"
      ]
    },
    {
      "cell_type": "code",
      "execution_count": 52,
      "metadata": {
        "colab": {
          "base_uri": "https://localhost:8080/",
          "height": 384
        },
        "id": "Ank7mLye7ReA",
        "outputId": "b009c3c6-b78a-4036-c2d7-137b77e5ec31"
      },
      "outputs": [
        {
          "data": {
            "text/html": [
              "<div>\n",
              "<style scoped>\n",
              "    .dataframe tbody tr th:only-of-type {\n",
              "        vertical-align: middle;\n",
              "    }\n",
              "\n",
              "    .dataframe tbody tr th {\n",
              "        vertical-align: top;\n",
              "    }\n",
              "\n",
              "    .dataframe thead th {\n",
              "        text-align: right;\n",
              "    }\n",
              "</style>\n",
              "<table border=\"1\" class=\"dataframe\">\n",
              "  <thead>\n",
              "    <tr style=\"text-align: right;\">\n",
              "      <th>Date_reported</th>\n",
              "      <th>2020-01-05</th>\n",
              "      <th>2020-01-12</th>\n",
              "      <th>2020-01-19</th>\n",
              "      <th>2020-01-26</th>\n",
              "      <th>2020-02-02</th>\n",
              "      <th>2020-02-09</th>\n",
              "      <th>2020-02-16</th>\n",
              "      <th>2020-02-23</th>\n",
              "      <th>2020-03-01</th>\n",
              "      <th>2020-03-08</th>\n",
              "      <th>...</th>\n",
              "      <th>2023-11-19</th>\n",
              "      <th>2023-11-26</th>\n",
              "      <th>2023-12-03</th>\n",
              "      <th>2023-12-10</th>\n",
              "      <th>2023-12-17</th>\n",
              "      <th>2023-12-24</th>\n",
              "      <th>2023-12-31</th>\n",
              "      <th>2024-01-07</th>\n",
              "      <th>2024-01-14</th>\n",
              "      <th>2024-01-21</th>\n",
              "    </tr>\n",
              "    <tr>\n",
              "      <th>Country</th>\n",
              "      <th></th>\n",
              "      <th></th>\n",
              "      <th></th>\n",
              "      <th></th>\n",
              "      <th></th>\n",
              "      <th></th>\n",
              "      <th></th>\n",
              "      <th></th>\n",
              "      <th></th>\n",
              "      <th></th>\n",
              "      <th></th>\n",
              "      <th></th>\n",
              "      <th></th>\n",
              "      <th></th>\n",
              "      <th></th>\n",
              "      <th></th>\n",
              "      <th></th>\n",
              "      <th></th>\n",
              "      <th></th>\n",
              "      <th></th>\n",
              "      <th></th>\n",
              "    </tr>\n",
              "  </thead>\n",
              "  <tbody>\n",
              "    <tr>\n",
              "      <th>Argentina</th>\n",
              "      <td>0.0</td>\n",
              "      <td>0.0</td>\n",
              "      <td>0.0</td>\n",
              "      <td>0.0</td>\n",
              "      <td>0.0</td>\n",
              "      <td>0.0</td>\n",
              "      <td>0.0</td>\n",
              "      <td>0.0</td>\n",
              "      <td>0.0</td>\n",
              "      <td>22.0</td>\n",
              "      <td>...</td>\n",
              "      <td>10073197.0</td>\n",
              "      <td>10073701.0</td>\n",
              "      <td>10074309.0</td>\n",
              "      <td>10074775.0</td>\n",
              "      <td>10075395.0</td>\n",
              "      <td>10076004.0</td>\n",
              "      <td>10076858.0</td>\n",
              "      <td>10078493.0</td>\n",
              "      <td>10081076.0</td>\n",
              "      <td>10081076.0</td>\n",
              "    </tr>\n",
              "    <tr>\n",
              "      <th>China</th>\n",
              "      <td>1.0</td>\n",
              "      <td>45.0</td>\n",
              "      <td>125.0</td>\n",
              "      <td>1985.0</td>\n",
              "      <td>14411.0</td>\n",
              "      <td>37251.0</td>\n",
              "      <td>68584.0</td>\n",
              "      <td>77042.0</td>\n",
              "      <td>79968.0</td>\n",
              "      <td>80859.0</td>\n",
              "      <td>...</td>\n",
              "      <td>99320035.0</td>\n",
              "      <td>99320425.0</td>\n",
              "      <td>99320845.0</td>\n",
              "      <td>99321242.0</td>\n",
              "      <td>99321637.0</td>\n",
              "      <td>99322142.0</td>\n",
              "      <td>99322727.0</td>\n",
              "      <td>99323756.0</td>\n",
              "      <td>99325108.0</td>\n",
              "      <td>99326423.0</td>\n",
              "    </tr>\n",
              "    <tr>\n",
              "      <th>Colombia</th>\n",
              "      <td>0.0</td>\n",
              "      <td>0.0</td>\n",
              "      <td>0.0</td>\n",
              "      <td>0.0</td>\n",
              "      <td>0.0</td>\n",
              "      <td>0.0</td>\n",
              "      <td>0.0</td>\n",
              "      <td>0.0</td>\n",
              "      <td>0.0</td>\n",
              "      <td>1.0</td>\n",
              "      <td>...</td>\n",
              "      <td>6383595.0</td>\n",
              "      <td>6383948.0</td>\n",
              "      <td>6384224.0</td>\n",
              "      <td>6384551.0</td>\n",
              "      <td>6384979.0</td>\n",
              "      <td>6385539.0</td>\n",
              "      <td>6386231.0</td>\n",
              "      <td>6387209.0</td>\n",
              "      <td>6389365.0</td>\n",
              "      <td>6391672.0</td>\n",
              "    </tr>\n",
              "    <tr>\n",
              "      <th>France</th>\n",
              "      <td>0.0</td>\n",
              "      <td>0.0</td>\n",
              "      <td>0.0</td>\n",
              "      <td>3.0</td>\n",
              "      <td>6.0</td>\n",
              "      <td>12.0</td>\n",
              "      <td>12.0</td>\n",
              "      <td>16.0</td>\n",
              "      <td>16.0</td>\n",
              "      <td>16.0</td>\n",
              "      <td>...</td>\n",
              "      <td>38997490.0</td>\n",
              "      <td>38997490.0</td>\n",
              "      <td>38997490.0</td>\n",
              "      <td>38997490.0</td>\n",
              "      <td>38997490.0</td>\n",
              "      <td>38997490.0</td>\n",
              "      <td>38997490.0</td>\n",
              "      <td>38997490.0</td>\n",
              "      <td>38997490.0</td>\n",
              "      <td>38997490.0</td>\n",
              "    </tr>\n",
              "    <tr>\n",
              "      <th>Germany</th>\n",
              "      <td>0.0</td>\n",
              "      <td>0.0</td>\n",
              "      <td>0.0</td>\n",
              "      <td>0.0</td>\n",
              "      <td>0.0</td>\n",
              "      <td>0.0</td>\n",
              "      <td>0.0</td>\n",
              "      <td>0.0</td>\n",
              "      <td>170.0</td>\n",
              "      <td>1075.0</td>\n",
              "      <td>...</td>\n",
              "      <td>38437756.0</td>\n",
              "      <td>38437756.0</td>\n",
              "      <td>38437756.0</td>\n",
              "      <td>38437756.0</td>\n",
              "      <td>38437756.0</td>\n",
              "      <td>38437756.0</td>\n",
              "      <td>38437756.0</td>\n",
              "      <td>38437756.0</td>\n",
              "      <td>38437756.0</td>\n",
              "      <td>38437756.0</td>\n",
              "    </tr>\n",
              "    <tr>\n",
              "      <th>India</th>\n",
              "      <td>0.0</td>\n",
              "      <td>0.0</td>\n",
              "      <td>0.0</td>\n",
              "      <td>0.0</td>\n",
              "      <td>2.0</td>\n",
              "      <td>7.0</td>\n",
              "      <td>7.0</td>\n",
              "      <td>7.0</td>\n",
              "      <td>7.0</td>\n",
              "      <td>39.0</td>\n",
              "      <td>...</td>\n",
              "      <td>45001575.0</td>\n",
              "      <td>45001764.0</td>\n",
              "      <td>45002179.0</td>\n",
              "      <td>45003055.0</td>\n",
              "      <td>45004816.0</td>\n",
              "      <td>45008620.0</td>\n",
              "      <td>45013172.0</td>\n",
              "      <td>45018134.0</td>\n",
              "      <td>45021758.0</td>\n",
              "      <td>45023751.0</td>\n",
              "    </tr>\n",
              "    <tr>\n",
              "      <th>United States of America</th>\n",
              "      <td>0.0</td>\n",
              "      <td>0.0</td>\n",
              "      <td>0.0</td>\n",
              "      <td>7.0</td>\n",
              "      <td>9.0</td>\n",
              "      <td>20.0</td>\n",
              "      <td>24.0</td>\n",
              "      <td>40.0</td>\n",
              "      <td>73.0</td>\n",
              "      <td>464.0</td>\n",
              "      <td>...</td>\n",
              "      <td>103436829.0</td>\n",
              "      <td>103436829.0</td>\n",
              "      <td>103436829.0</td>\n",
              "      <td>103436829.0</td>\n",
              "      <td>103436829.0</td>\n",
              "      <td>103436829.0</td>\n",
              "      <td>103436829.0</td>\n",
              "      <td>103436829.0</td>\n",
              "      <td>103436829.0</td>\n",
              "      <td>103436829.0</td>\n",
              "    </tr>\n",
              "  </tbody>\n",
              "</table>\n",
              "<p>7 rows × 212 columns</p>\n",
              "</div>"
            ],
            "text/plain": [
              "Date_reported             2020-01-05  2020-01-12  2020-01-19  2020-01-26  \\\n",
              "Country                                                                    \n",
              "Argentina                        0.0         0.0         0.0         0.0   \n",
              "China                            1.0        45.0       125.0      1985.0   \n",
              "Colombia                         0.0         0.0         0.0         0.0   \n",
              "France                           0.0         0.0         0.0         3.0   \n",
              "Germany                          0.0         0.0         0.0         0.0   \n",
              "India                            0.0         0.0         0.0         0.0   \n",
              "United States of America         0.0         0.0         0.0         7.0   \n",
              "\n",
              "Date_reported             2020-02-02  2020-02-09  2020-02-16  2020-02-23  \\\n",
              "Country                                                                    \n",
              "Argentina                        0.0         0.0         0.0         0.0   \n",
              "China                        14411.0     37251.0     68584.0     77042.0   \n",
              "Colombia                         0.0         0.0         0.0         0.0   \n",
              "France                           6.0        12.0        12.0        16.0   \n",
              "Germany                          0.0         0.0         0.0         0.0   \n",
              "India                            2.0         7.0         7.0         7.0   \n",
              "United States of America         9.0        20.0        24.0        40.0   \n",
              "\n",
              "Date_reported             2020-03-01  2020-03-08  ...   2023-11-19  \\\n",
              "Country                                           ...                \n",
              "Argentina                        0.0        22.0  ...   10073197.0   \n",
              "China                        79968.0     80859.0  ...   99320035.0   \n",
              "Colombia                         0.0         1.0  ...    6383595.0   \n",
              "France                          16.0        16.0  ...   38997490.0   \n",
              "Germany                        170.0      1075.0  ...   38437756.0   \n",
              "India                            7.0        39.0  ...   45001575.0   \n",
              "United States of America        73.0       464.0  ...  103436829.0   \n",
              "\n",
              "Date_reported              2023-11-26   2023-12-03   2023-12-10   2023-12-17  \\\n",
              "Country                                                                        \n",
              "Argentina                  10073701.0   10074309.0   10074775.0   10075395.0   \n",
              "China                      99320425.0   99320845.0   99321242.0   99321637.0   \n",
              "Colombia                    6383948.0    6384224.0    6384551.0    6384979.0   \n",
              "France                     38997490.0   38997490.0   38997490.0   38997490.0   \n",
              "Germany                    38437756.0   38437756.0   38437756.0   38437756.0   \n",
              "India                      45001764.0   45002179.0   45003055.0   45004816.0   \n",
              "United States of America  103436829.0  103436829.0  103436829.0  103436829.0   \n",
              "\n",
              "Date_reported              2023-12-24   2023-12-31   2024-01-07   2024-01-14  \\\n",
              "Country                                                                        \n",
              "Argentina                  10076004.0   10076858.0   10078493.0   10081076.0   \n",
              "China                      99322142.0   99322727.0   99323756.0   99325108.0   \n",
              "Colombia                    6385539.0    6386231.0    6387209.0    6389365.0   \n",
              "France                     38997490.0   38997490.0   38997490.0   38997490.0   \n",
              "Germany                    38437756.0   38437756.0   38437756.0   38437756.0   \n",
              "India                      45008620.0   45013172.0   45018134.0   45021758.0   \n",
              "United States of America  103436829.0  103436829.0  103436829.0  103436829.0   \n",
              "\n",
              "Date_reported              2024-01-21  \n",
              "Country                                \n",
              "Argentina                  10081076.0  \n",
              "China                      99326423.0  \n",
              "Colombia                    6391672.0  \n",
              "France                     38997490.0  \n",
              "Germany                    38437756.0  \n",
              "India                      45023751.0  \n",
              "United States of America  103436829.0  \n",
              "\n",
              "[7 rows x 212 columns]"
            ]
          },
          "execution_count": 52,
          "metadata": {},
          "output_type": "execute_result"
        }
      ],
      "source": [
        "total_acumulado_top_5_col_arg = df_top_5_col_arg.pivot(index='Country', columns='Date_reported', values='Cumulative_cases').fillna(0)\n",
        "total_acumulado_top_5_col_arg"
      ]
    },
    {
      "cell_type": "code",
      "execution_count": 53,
      "metadata": {
        "colab": {
          "base_uri": "https://localhost:8080/",
          "height": 210
        },
        "id": "ibWrcBEp-j5E",
        "outputId": "a16b823a-944c-47f7-8949-7814c41b29c1"
      },
      "outputs": [
        {
          "data": {
            "text/html": [
              "<div>\n",
              "<style scoped>\n",
              "    .dataframe tbody tr th:only-of-type {\n",
              "        vertical-align: middle;\n",
              "    }\n",
              "\n",
              "    .dataframe tbody tr th {\n",
              "        vertical-align: top;\n",
              "    }\n",
              "\n",
              "    .dataframe thead th {\n",
              "        text-align: right;\n",
              "    }\n",
              "</style>\n",
              "<table border=\"1\" class=\"dataframe\">\n",
              "  <thead>\n",
              "    <tr style=\"text-align: right;\">\n",
              "      <th>Date_reported</th>\n",
              "      <th>2020-01-05</th>\n",
              "      <th>2020-01-12</th>\n",
              "      <th>2020-01-19</th>\n",
              "      <th>2020-01-26</th>\n",
              "      <th>2020-02-02</th>\n",
              "      <th>2020-02-09</th>\n",
              "      <th>2020-02-16</th>\n",
              "      <th>2020-02-23</th>\n",
              "      <th>2020-03-01</th>\n",
              "      <th>2020-03-08</th>\n",
              "      <th>...</th>\n",
              "      <th>2023-11-19</th>\n",
              "      <th>2023-11-26</th>\n",
              "      <th>2023-12-03</th>\n",
              "      <th>2023-12-10</th>\n",
              "      <th>2023-12-17</th>\n",
              "      <th>2023-12-24</th>\n",
              "      <th>2023-12-31</th>\n",
              "      <th>2024-01-07</th>\n",
              "      <th>2024-01-14</th>\n",
              "      <th>2024-01-21</th>\n",
              "    </tr>\n",
              "    <tr>\n",
              "      <th>Country</th>\n",
              "      <th></th>\n",
              "      <th></th>\n",
              "      <th></th>\n",
              "      <th></th>\n",
              "      <th></th>\n",
              "      <th></th>\n",
              "      <th></th>\n",
              "      <th></th>\n",
              "      <th></th>\n",
              "      <th></th>\n",
              "      <th></th>\n",
              "      <th></th>\n",
              "      <th></th>\n",
              "      <th></th>\n",
              "      <th></th>\n",
              "      <th></th>\n",
              "      <th></th>\n",
              "      <th></th>\n",
              "      <th></th>\n",
              "      <th></th>\n",
              "      <th></th>\n",
              "    </tr>\n",
              "  </thead>\n",
              "  <tbody>\n",
              "    <tr>\n",
              "      <th>Argentina</th>\n",
              "      <td>0</td>\n",
              "      <td>0</td>\n",
              "      <td>0</td>\n",
              "      <td>0</td>\n",
              "      <td>0</td>\n",
              "      <td>0</td>\n",
              "      <td>0</td>\n",
              "      <td>0</td>\n",
              "      <td>0</td>\n",
              "      <td>22</td>\n",
              "      <td>...</td>\n",
              "      <td>10073197</td>\n",
              "      <td>10073701</td>\n",
              "      <td>10074309</td>\n",
              "      <td>10074775</td>\n",
              "      <td>10075395</td>\n",
              "      <td>10076004</td>\n",
              "      <td>10076858</td>\n",
              "      <td>10078493</td>\n",
              "      <td>10081076</td>\n",
              "      <td>10081076</td>\n",
              "    </tr>\n",
              "    <tr>\n",
              "      <th>Colombia</th>\n",
              "      <td>0</td>\n",
              "      <td>0</td>\n",
              "      <td>0</td>\n",
              "      <td>0</td>\n",
              "      <td>0</td>\n",
              "      <td>0</td>\n",
              "      <td>0</td>\n",
              "      <td>0</td>\n",
              "      <td>0</td>\n",
              "      <td>1</td>\n",
              "      <td>...</td>\n",
              "      <td>6383595</td>\n",
              "      <td>6383948</td>\n",
              "      <td>6384224</td>\n",
              "      <td>6384551</td>\n",
              "      <td>6384979</td>\n",
              "      <td>6385539</td>\n",
              "      <td>6386231</td>\n",
              "      <td>6387209</td>\n",
              "      <td>6389365</td>\n",
              "      <td>6391672</td>\n",
              "    </tr>\n",
              "  </tbody>\n",
              "</table>\n",
              "<p>2 rows × 212 columns</p>\n",
              "</div>"
            ],
            "text/plain": [
              "Date_reported  2020-01-05  2020-01-12  2020-01-19  2020-01-26  2020-02-02  \\\n",
              "Country                                                                     \n",
              "Argentina               0           0           0           0           0   \n",
              "Colombia                0           0           0           0           0   \n",
              "\n",
              "Date_reported  2020-02-09  2020-02-16  2020-02-23  2020-03-01  2020-03-08  \\\n",
              "Country                                                                     \n",
              "Argentina               0           0           0           0          22   \n",
              "Colombia                0           0           0           0           1   \n",
              "\n",
              "Date_reported  ...  2023-11-19  2023-11-26  2023-12-03  2023-12-10  \\\n",
              "Country        ...                                                   \n",
              "Argentina      ...    10073197    10073701    10074309    10074775   \n",
              "Colombia       ...     6383595     6383948     6384224     6384551   \n",
              "\n",
              "Date_reported  2023-12-17  2023-12-24  2023-12-31  2024-01-07  2024-01-14  \\\n",
              "Country                                                                     \n",
              "Argentina        10075395    10076004    10076858    10078493    10081076   \n",
              "Colombia          6384979     6385539     6386231     6387209     6389365   \n",
              "\n",
              "Date_reported  2024-01-21  \n",
              "Country                    \n",
              "Argentina        10081076  \n",
              "Colombia          6391672  \n",
              "\n",
              "[2 rows x 212 columns]"
            ]
          },
          "execution_count": 53,
          "metadata": {},
          "output_type": "execute_result"
        }
      ],
      "source": [
        "total_acumulado_col_arg = df_col_arg.pivot(index='Country', columns='Date_reported', values='Cumulative_cases').fillna(0)\n",
        "total_acumulado_col_arg"
      ]
    },
    {
      "cell_type": "markdown",
      "metadata": {
        "id": "gD6J_hnWHUdX"
      },
      "source": [
        "#### Visualización"
      ]
    },
    {
      "cell_type": "code",
      "execution_count": 54,
      "metadata": {
        "colab": {
          "base_uri": "https://localhost:8080/"
        },
        "id": "oExCisGISqXe",
        "outputId": "6e0e03ff-b839-4213-8127-5777910bdc73"
      },
      "outputs": [
        {
          "data": {
            "text/plain": [
              "Country\n",
              "Argentina    10081076\n",
              "Colombia      6391672\n",
              "Name: Cumulative_cases, dtype: int64"
            ]
          },
          "execution_count": 54,
          "metadata": {},
          "output_type": "execute_result"
        }
      ],
      "source": [
        "col_arg_cases"
      ]
    },
    {
      "cell_type": "code",
      "execution_count": 55,
      "metadata": {
        "colab": {
          "base_uri": "https://localhost:8080/",
          "height": 371
        },
        "id": "zNqdENGUIKv-",
        "outputId": "95172977-b35d-4f5f-f2f6-17406197cad3"
      },
      "outputs": [
        {
          "data": {
            "image/png": "[encoded data removed]",
            "text/plain": [
              "<Figure size 640x480 with 1 Axes>"
            ]
          },
          "metadata": {},
          "output_type": "display_data"
        },
        {
          "data": {
            "image/png": "[encoded data removed]",
            "text/plain": [
              "<Figure size 1700x500 with 2 Axes>"
            ]
          },
          "metadata": {},
          "output_type": "display_data"
        }
      ],
      "source": [
        "# Gráfico de Donuts\n",
        "fig, axs = plt.subplots(1, 2, figsize=(17, 5))\n",
        "\n",
        "#wedges son las líneas de los contornos del gráfico\n",
        "#texts almacena los labels \"Argentina\" \"Colombia\"\n",
        "#autotexts almacena los % dentro del pie\n",
        "\n",
        "#Plot 1\n",
        "axs[0].set_title('TOP 10 Paises')\n",
        "wedges, texts, autotexts = axs[0].pie(\n",
        "  top_10_paises_col_arg,\n",
        "  labels=top_10_paises_col_arg.index,\n",
        "  autopct='%1.1f%%',\n",
        "  # pctdistance=1.2\n",
        "  startangle=185,\n",
        "  wedgeprops={\n",
        "  \"edgecolor\": \"white\",\n",
        "  \"linewidth\": 2,\n",
        "  },\n",
        "  colors=['#dddef2','#cbccdf', '#dddef2', '#cbccdf', '#dddef2', '#cbccdf', '#dddef2', '#cbccdf', '#dddef2','#cbccdf', '#1F77B4','#FF7F0E', '#cbccdf']\n",
        ")\n",
        "\n",
        "labels = []\n",
        "\n",
        "for index, country in enumerate(texts):\n",
        "  country.set_bbox(dict(facecolor='white', alpha=1))\n",
        "  labels.append(f'{autotexts[index].get_text()} {country.get_text()}')\n",
        "\n",
        "for index, text in enumerate(texts):\n",
        "  text.set_text(labels[index])\n",
        "\n",
        "usa, china, india, france, germany, brazil, korea, japan, italy, uk, argentina, colombia, otros = [country for country in texts]\n",
        "\n",
        "\n",
        "#Ajustamos la posición de colombia porque pisa a Argentina\n",
        "colombia.set_position((0.8, 1.2))\n",
        "colombia.set_bbox(dict(facecolor='#FF7F0E', alpha=1))\n",
        "axs[0].plot([0.57, 0.57, 0.8],[0.83, 1.2, 1.2], color=\"#FF7F0E\", linewidth=1.5)\n",
        "\n",
        "\n",
        "#Ajustamos la posición de Argentina porque pisa a UK\n",
        "argentina.set_position((0.9, 1))\n",
        "argentina.set_bbox(dict(facecolor='#1F77B4', alpha=1))\n",
        "argentina.set_color('white')\n",
        "axs[0].plot([0.62, 0.7, 1],[0.79, 1, 1], color=\"#1F77B4\", linewidth=1.5)\n",
        "\n",
        "#Ajustamos la posición de UK\n",
        "uk.set_position((0.9, 0.8))\n",
        "\n",
        "# #Ajustamos la posición de Italy\n",
        "italy.set_position((1, 0.55))\n",
        "\n",
        "# #Ajustamos la posicion de japan\n",
        "japan.set_position((1.1, 0.3))\n",
        "\n",
        "#Ocultamos los % del pieplot\n",
        "for pct in autotexts:\n",
        "  pct.set_text('')\n",
        "\n",
        "\n",
        "#Plot 2\n",
        "axs[1].set_title('Argentina y Colombia')\n",
        "wedges, texts, autotexts = axs[1].pie(\n",
        "  col_arg_cases,\n",
        "  labels=col_arg_cases.index,\n",
        "  autopct='%1.1f%%',\n",
        "  wedgeprops={\n",
        "    \"edgecolor\": \"white\",\n",
        "    \"linewidth\": 2,\n",
        "  }\n",
        ")\n",
        "\n",
        "argentina = texts[0]\n",
        "argentina.set_bbox(dict(facecolor='#1F77B4', alpha=1, edgecolor=\"none\"))\n",
        "argentina.set_color('white')\n",
        "\n",
        "colombia = texts[1]\n",
        "colombia.set_bbox(dict(facecolor='#FF7F0E', alpha=1, edgecolor=\"none\"))\n",
        "\n",
        "plt.show()"
      ]
    },
    {
      "cell_type": "markdown",
      "metadata": {
        "id": "yQMBNimx1jZz"
      },
      "source": [
        "**Conclusión 1.1:** <br>\n",
        "Apreciamos que la evolución del covid-19 en Argentina y Colombia fué bastante controlada en comparación a los 10 paises con mayor índice de evolución. Sin embargo, comparando estos Argentina y Colombia entre sí podemos apreciar que Colombia pudo mitigar mucho más la evolución de los contagios en época de pandemia en comparación a Argentina.\n"
      ]
    },
    {
      "cell_type": "code",
      "execution_count": 56,
      "metadata": {
        "colab": {
          "base_uri": "https://localhost:8080/",
          "height": 496
        },
        "id": "K6SINapi-UDS",
        "outputId": "a04c9e07-4ea3-4e6f-9aab-c1ff20e345b9"
      },
      "outputs": [
        {
          "name": "stderr",
          "output_type": "stream",
          "text": [
            "C:\\Users\\Pablo\\AppData\\Local\\Temp\\ipykernel_8692\\2720759452.py:6: FutureWarning: Series.__getitem__ treating keys as positions is deprecated. In a future version, integer keys will always be treated as labels (consistent with DataFrame behavior). To access a value by position, use `ser.iloc[pos]`\n",
            "  y_arg = total_acumulado_top_5_col_arg.loc[\"Argentina\"][-1]\n",
            "C:\\Users\\Pablo\\AppData\\Local\\Temp\\ipykernel_8692\\2720759452.py:7: FutureWarning: Series.__getitem__ treating keys as positions is deprecated. In a future version, integer keys will always be treated as labels (consistent with DataFrame behavior). To access a value by position, use `ser.iloc[pos]`\n",
            "  y_col = total_acumulado_top_5_col_arg.loc[\"Colombia\"][-1]\n",
            "C:\\Users\\Pablo\\AppData\\Local\\Temp\\ipykernel_8692\\2720759452.py:19: UserWarning: set_ticklabels() should only be used with a fixed number of ticks, i.e. after set_ticks() or using a FixedLocator.\n",
            "  axs[0].set_yticklabels([\"0\",\"0M\",\"20M\",\"40M\",\"60M\",\"80M\",\"100M\"])\n",
            "C:\\Users\\Pablo\\AppData\\Local\\Temp\\ipykernel_8692\\2720759452.py:41: UserWarning: set_ticklabels() should only be used with a fixed number of ticks, i.e. after set_ticks() or using a FixedLocator.\n",
            "  axs[1].set_yticklabels([\"0\",\"0M\",\"2M\",\"4M\",\"6M\",\"8M\",\"10M\"])\n"
          ]
        },
        {
          "data": {
            "image/png": "[encoded data removed]",
            "text/plain": [
              "<Figure size 1500x500 with 2 Axes>"
            ]
          },
          "metadata": {},
          "output_type": "display_data"
        }
      ],
      "source": [
        "fig, axs = plt.subplots(1, 2, figsize=(15, 5))\n",
        "\n",
        "# Gráfico de Líneas TOP 5\n",
        "axs[0].set_title('TOP 5 Paises')\n",
        "colors0=['red', '#ec4b59', '#7c5bd8','#e4f265', '#c3ffff','#1F77B4','#FF7F0E']\n",
        "y_arg = total_acumulado_top_5_col_arg.loc[\"Argentina\"][-1]\n",
        "y_col = total_acumulado_top_5_col_arg.loc[\"Colombia\"][-1]\n",
        "for index, pais in enumerate(top_5_paises_col_arg.index):\n",
        "    days_since_start = (total_acumulado_top_5_col_arg.columns - total_acumulado_top_5_col_arg.columns[0]).days\n",
        "    axs[0].plot(days_since_start, total_acumulado_top_5_col_arg.loc[pais], label=pais, color=colors0[index])\n",
        "legend = axs[0].legend()\n",
        "legend = legend.get_frame()\n",
        "legend.set_color(\"white\")\n",
        "legend.set_edgecolor(\"black\")\n",
        "axs[0].set_facecolor(\"white\")\n",
        "axs[0].annotate(\"Argentina\", xy=(1300,y_arg+3e6), color=\"#1F77B4\")\n",
        "axs[0].annotate(\"Colombia\", xy=(1300,y_col-5e6), color=\"#FF7F0E\")\n",
        "axs[0].set_ylabel(\"Casos confirmados en millones [M]\")\n",
        "axs[0].set_yticklabels([\"0\",\"0M\",\"20M\",\"40M\",\"60M\",\"80M\",\"100M\"])\n",
        "axs[0].set_xlabel(\"Días que pasaron desde el inicio de pandemia\")\n",
        "axs[0].grid(axis=\"y\")\n",
        "\n",
        "\n",
        "#Gráfico de líneas Argentina-Colombia\n",
        "y_labels=[]\n",
        "axs[1].set_title('Argentina y Colombia')\n",
        "colors1=['#1F77B4','#FF7F0E']\n",
        "for index, pais in enumerate(col_arg_cases_line.index):\n",
        "    days_since_start = (total_acumulado_col_arg.columns - total_acumulado_col_arg.columns[0]).days\n",
        "    axs[1].plot(days_since_start, total_acumulado_col_arg.loc[pais], label=pais, color=colors1[index])\n",
        "    y_labels.append(total_acumulado_col_arg.loc[pais])\n",
        "\n",
        "legend = axs[1].legend()\n",
        "legend = legend.get_frame()\n",
        "legend.set_color(\"white\")\n",
        "legend.set_edgecolor(\"black\")\n",
        "axs[1].set_facecolor(\"white\")\n",
        "axs[1].set_ylabel(\"Casos confirmados en millones [M]\")\n",
        "axs[1].set_xlabel(\"Días que pasaron desde el inicio de pandemia\")\n",
        "axs[1].grid(axis=\"y\")\n",
        "axs[1].set_yticklabels([\"0\",\"0M\",\"2M\",\"4M\",\"6M\",\"8M\",\"10M\"])\n",
        "\n",
        "plt.show()"
      ]
    },
    {
      "cell_type": "markdown",
      "metadata": {
        "id": "H0-XAdpL2ggz"
      },
      "source": [
        "**Conclusión 1.2 :**\n",
        "\n",
        "En cuanto a la evolución de contagios desde el día 0 hasta 4 años después observamos que Argentina y Colombia fueron los paises con menores casos confirmados comparándolos con los TOP 5 paises a nivel mundial"
      ]
    },
    {
      "cell_type": "markdown",
      "metadata": {
        "id": "4EcadSOlAHTE"
      },
      "source": [
        "## Insight 2:\n",
        "### ¿Cuál ha sido la evolución de los nuevos casos diarios reportados de Covid-19 en Argentina y Colombia a lo largo del tiempo?"
      ]
    },
    {
      "cell_type": "markdown",
      "metadata": {
        "id": "ouFDiCx7C367"
      },
      "source": [
        "#### Casos Colombia"
      ]
    },
    {
      "cell_type": "code",
      "execution_count": 57,
      "metadata": {
        "colab": {
          "base_uri": "https://localhost:8080/"
        },
        "id": "Q19wwGowAPqL",
        "outputId": "feba66ff-e8d0-4619-b05e-2df4fabaf253"
      },
      "outputs": [
        {
          "data": {
            "text/plain": [
              "Date_reported\n",
              "2020-03-08       1.0\n",
              "2020-03-15      15.0\n",
              "2020-03-22     180.0\n",
              "2020-03-29     527.0\n",
              "2020-04-05     544.0\n",
              "               ...  \n",
              "2023-12-24     560.0\n",
              "2023-12-31     692.0\n",
              "2024-01-07     978.0\n",
              "2024-01-14    2156.0\n",
              "2024-01-21    2307.0\n",
              "Length: 201, dtype: float64"
            ]
          },
          "execution_count": 57,
          "metadata": {},
          "output_type": "execute_result"
        }
      ],
      "source": [
        "#Daily New Cases Colombia\n",
        "grouped_df = df_covid_limpio.groupby(['Country', 'Date_reported'])['Cumulative_cases'].sum().unstack()\n",
        "grouped_df = grouped_df.reset_index()\n",
        "grouped_df = grouped_df.set_index('Country')\n",
        "grouped_df = grouped_df.loc[['Colombia']]\n",
        "fechas = grouped_df.columns\n",
        "new_cases_col = grouped_df[fechas].diff(axis=1).fillna(grouped_df[fechas]).sum(axis=0)\n",
        "new_cases_col = new_cases_col[new_cases_col > 0]\n",
        "new_cases_col"
      ]
    },
    {
      "cell_type": "code",
      "execution_count": 58,
      "metadata": {
        "colab": {
          "base_uri": "https://localhost:8080/",
          "height": 504
        },
        "id": "hC59lL-7Daeu",
        "outputId": "be0fe6c5-ff37-448d-949d-ee79d802e325"
      },
      "outputs": [
        {
          "data": {
            "text/plain": [
              "Text(0.5, 1.0, 'Dayli New Cases (Colombia)')"
            ]
          },
          "execution_count": 58,
          "metadata": {},
          "output_type": "execute_result"
        }
      ],
      "source": [
        "#Colombia\n",
        "plt.rcParams[\"axes.facecolor\"] = \"#F8F8FF\"\n",
        "fig, ax = plt.subplots(figsize=(12, 5),facecolor='#F8F8FF')\n",
        "ax.stem(new_cases_col.index, new_cases_col.values/1e3,basefmt = 'k:',markerfmt= '.',linefmt ='#6495ED')\n",
        "plt.axhline(200,color = '#6495ED',linewidth = 0.5)\n",
        "plt.axhline(211,color = '#6495ED',linewidth = 0.5)\n",
        "plt.axhline(150,color = '#6495ED',linewidth = 0.5)\n",
        "plt.axhline(100,color = '#6495ED',linewidth = 0.5)\n",
        "plt.axhline(80,color = '#6495ED',linewidth = 0.5)\n",
        "plt.axhline(50,color = '#6495ED',linewidth = 0.5)\n",
        "plt.axhline(20,color = '#6495ED',linewidth = 0.5)\n",
        "plt.ylabel('Miles')\n",
        "plt.yticks([211,200,150,100,50,80,20])\n",
        "plt.xticks(['2020-01','2020-08','2021-01','2021-07','2022-02','2023-01','2023-07','2024-01','2022-07','2021-03','2021-11'],rotation =25,fontsize=7)\n",
        "plt.title('Dayli New Cases (Colombia)')"
      ]
    },
    {
      "cell_type": "markdown",
      "metadata": {
        "id": "CJ0X09P5fWrj"
      },
      "source": [
        "**¿Cuál ha sido la evolución de los nuevos casos diarios reportados de Covid-19 en el país a lo largo del tiempo?(Colombia)**\n",
        "\n",
        "**Conclusión**\n",
        "\n",
        "En la gráfica de Colombia se puede observar un aumento notable de nuevos casos en agosto del 2020, reportando un pico de 80 mil, empezando el 2021 superó los 100 mil casos, posteriormente en el mes de marzo hubo una disminución notable de casos, por debajo de los 50 mil, para julio se reporta un pico de más de 200 mil contagios, entre el mes de septiembre de 2021 y enero de 2022 podemos observar otra disminución muy notable por debajo de los 20 mil casos. El pico más alto de contagios diarios se tiene en febrero del 2022 donde superó los 210 mil casos, posterior a esas fechas no hubo un aumento notable de casos, estuvieron por debajo de los 30 mil."
      ]
    },
    {
      "cell_type": "markdown",
      "metadata": {
        "id": "6Q9csapbC9_H"
      },
      "source": [
        "#### Casos Argentina"
      ]
    },
    {
      "cell_type": "code",
      "execution_count": 59,
      "metadata": {
        "colab": {
          "base_uri": "https://localhost:8080/"
        },
        "id": "WmHrtWrnDDHb",
        "outputId": "0827cb67-94f3-4f53-a26b-2631043c1b0d"
      },
      "outputs": [
        {
          "data": {
            "text/plain": [
              "Date_reported\n",
              "2020-03-08      22.0\n",
              "2020-03-15     109.0\n",
              "2020-03-22     405.0\n",
              "2020-03-29     746.0\n",
              "2020-04-05     791.0\n",
              "               ...  \n",
              "2023-12-17     620.0\n",
              "2023-12-24     609.0\n",
              "2023-12-31     854.0\n",
              "2024-01-07    1635.0\n",
              "2024-01-14    2583.0\n",
              "Length: 191, dtype: float64"
            ]
          },
          "execution_count": 59,
          "metadata": {},
          "output_type": "execute_result"
        }
      ],
      "source": [
        "#Daily New Cases Argentina\n",
        "grouped_df = df_covid_limpio.groupby(['Country', 'Date_reported'])['Cumulative_cases'].sum().unstack()\n",
        "grouped_df = grouped_df.reset_index()\n",
        "grouped_df = grouped_df.set_index('Country')\n",
        "grouped_df = grouped_df.loc[['Argentina']]\n",
        "fechas = grouped_df.columns\n",
        "new_cases_Arg = grouped_df[fechas].diff(axis=1).fillna(grouped_df[fechas]).sum(axis=0)\n",
        "new_cases_Arg = new_cases_Arg[new_cases_Arg > 0]\n",
        "new_cases_Arg"
      ]
    },
    {
      "cell_type": "code",
      "execution_count": 60,
      "metadata": {
        "colab": {
          "base_uri": "https://localhost:8080/",
          "height": 504
        },
        "id": "rYwLY55HVhmB",
        "outputId": "8a1385b2-8cea-4e2d-c652-fe42256da57d"
      },
      "outputs": [
        {
          "data": {
            "text/plain": [
              "Text(0.5, 1.0, 'Dayli New Cases (Argentina)')"
            ]
          },
          "execution_count": 60,
          "metadata": {},
          "output_type": "execute_result"
        }
      ],
      "source": [
        "#ARGENTINA\n",
        "plt.rcParams[\"axes.facecolor\"] = \"#F8F8FF\"\n",
        "fig, ax = plt.subplots(figsize=(12, 5),facecolor='#F8F8FF')\n",
        "ax.stem(new_cases_Arg.index, new_cases_Arg.values/1e3,basefmt = 'k:',markerfmt= '.',linefmt ='#6495ED')\n",
        "plt.axhline(775,color = '#6495ED',linewidth = 0.5)\n",
        "plt.axhline(600,color = '#6495ED',linewidth = 0.5)\n",
        "plt.axhline(450,color = '#6495ED',linewidth = 0.5)\n",
        "plt.axhline(300,color = '#6495ED',linewidth = 0.5)\n",
        "plt.axhline(240,color = '#6495ED',linewidth = 0.5)\n",
        "plt.axhline(100,color = '#6495ED',linewidth = 0.5)\n",
        "plt.ylabel('Miles')\n",
        "plt.xticks(['2020-03','2024-01','2022-07','2022-02','2021-06','2020-10','2021-11','2021-02','2020-07','2023-01','2023-05'],rotation =25,fontsize=7)\n",
        "plt.yticks([775,600,450,300,240,100])\n",
        "plt.title('Dayli New Cases (Argentina)')\n"
      ]
    },
    {
      "cell_type": "markdown",
      "metadata": {
        "id": "Ecbg4WmoiaB8"
      },
      "source": [
        "**¿Cuál ha sido la evolución de los nuevos casos diarios reportados de Covid-19 en el país a lo largo del tiempo?(Argentina)**\n",
        "\n",
        "**Conclusión**\n",
        "\n",
        "En la gráfica de Argentina se puede observar un pico de 100 mil contagios en octubre de 2020, para junio de 2021 produce un pico de 240 mil. El mayor registro de contagios diarios es entre enero y febrero de 2022 reportando un pico de 775 mil"
      ]
    },
    {
      "cell_type": "markdown",
      "metadata": {
        "id": "Bfqid0BIEKAA"
      },
      "source": [
        "## Insight 3\n",
        "### ¿Cuál es la evolución del índice de letalidad del Covid-19 en **Colombia** y **Argentina** comparado con los paises con los índices históricos más elevados?"
      ]
    },
    {
      "cell_type": "code",
      "execution_count": 61,
      "metadata": {
        "colab": {
          "base_uri": "https://localhost:8080/",
          "height": 423
        },
        "id": "wrTf497wE09H",
        "outputId": "c030bdd2-aea8-41ec-a2b5-acf2a45d1cf7"
      },
      "outputs": [
        {
          "data": {
            "text/html": [
              "<div>\n",
              "<style scoped>\n",
              "    .dataframe tbody tr th:only-of-type {\n",
              "        vertical-align: middle;\n",
              "    }\n",
              "\n",
              "    .dataframe tbody tr th {\n",
              "        vertical-align: top;\n",
              "    }\n",
              "\n",
              "    .dataframe thead th {\n",
              "        text-align: right;\n",
              "    }\n",
              "</style>\n",
              "<table border=\"1\" class=\"dataframe\">\n",
              "  <thead>\n",
              "    <tr style=\"text-align: right;\">\n",
              "      <th></th>\n",
              "      <th>Date_reported</th>\n",
              "      <th>Country_code</th>\n",
              "      <th>Country</th>\n",
              "      <th>New_cases</th>\n",
              "      <th>Cumulative_cases</th>\n",
              "      <th>New_deaths</th>\n",
              "      <th>Cumulative_deaths</th>\n",
              "      <th>lethality_rate</th>\n",
              "    </tr>\n",
              "  </thead>\n",
              "  <tbody>\n",
              "    <tr>\n",
              "      <th>0</th>\n",
              "      <td>2020-01-05</td>\n",
              "      <td>AR</td>\n",
              "      <td>Argentina</td>\n",
              "      <td>0</td>\n",
              "      <td>0</td>\n",
              "      <td>0</td>\n",
              "      <td>0</td>\n",
              "      <td>0.000000</td>\n",
              "    </tr>\n",
              "    <tr>\n",
              "      <th>1</th>\n",
              "      <td>2020-02-02</td>\n",
              "      <td>AR</td>\n",
              "      <td>Argentina</td>\n",
              "      <td>0</td>\n",
              "      <td>0</td>\n",
              "      <td>0</td>\n",
              "      <td>0</td>\n",
              "      <td>0.000000</td>\n",
              "    </tr>\n",
              "    <tr>\n",
              "      <th>2</th>\n",
              "      <td>2020-03-15</td>\n",
              "      <td>AR</td>\n",
              "      <td>Argentina</td>\n",
              "      <td>109</td>\n",
              "      <td>131</td>\n",
              "      <td>8</td>\n",
              "      <td>9</td>\n",
              "      <td>6.870229</td>\n",
              "    </tr>\n",
              "    <tr>\n",
              "      <th>3</th>\n",
              "      <td>2020-04-26</td>\n",
              "      <td>AR</td>\n",
              "      <td>Argentina</td>\n",
              "      <td>1398</td>\n",
              "      <td>5464</td>\n",
              "      <td>132</td>\n",
              "      <td>411</td>\n",
              "      <td>7.521962</td>\n",
              "    </tr>\n",
              "    <tr>\n",
              "      <th>4</th>\n",
              "      <td>2020-05-03</td>\n",
              "      <td>AR</td>\n",
              "      <td>Argentina</td>\n",
              "      <td>1289</td>\n",
              "      <td>6753</td>\n",
              "      <td>115</td>\n",
              "      <td>526</td>\n",
              "      <td>7.789131</td>\n",
              "    </tr>\n",
              "    <tr>\n",
              "      <th>...</th>\n",
              "      <td>...</td>\n",
              "      <td>...</td>\n",
              "      <td>...</td>\n",
              "      <td>...</td>\n",
              "      <td>...</td>\n",
              "      <td>...</td>\n",
              "      <td>...</td>\n",
              "      <td>...</td>\n",
              "    </tr>\n",
              "    <tr>\n",
              "      <th>44</th>\n",
              "      <td>2023-09-03</td>\n",
              "      <td>CO</td>\n",
              "      <td>Colombia</td>\n",
              "      <td>562</td>\n",
              "      <td>6379641</td>\n",
              "      <td>0</td>\n",
              "      <td>142727</td>\n",
              "      <td>2.237226</td>\n",
              "    </tr>\n",
              "    <tr>\n",
              "      <th>45</th>\n",
              "      <td>2023-10-01</td>\n",
              "      <td>CO</td>\n",
              "      <td>Colombia</td>\n",
              "      <td>340</td>\n",
              "      <td>6381362</td>\n",
              "      <td>0</td>\n",
              "      <td>142727</td>\n",
              "      <td>2.236623</td>\n",
              "    </tr>\n",
              "    <tr>\n",
              "      <th>46</th>\n",
              "      <td>2023-11-05</td>\n",
              "      <td>CO</td>\n",
              "      <td>Colombia</td>\n",
              "      <td>291</td>\n",
              "      <td>6382983</td>\n",
              "      <td>0</td>\n",
              "      <td>142727</td>\n",
              "      <td>2.236055</td>\n",
              "    </tr>\n",
              "    <tr>\n",
              "      <th>47</th>\n",
              "      <td>2023-12-03</td>\n",
              "      <td>CO</td>\n",
              "      <td>Colombia</td>\n",
              "      <td>276</td>\n",
              "      <td>6384224</td>\n",
              "      <td>0</td>\n",
              "      <td>142727</td>\n",
              "      <td>2.235620</td>\n",
              "    </tr>\n",
              "    <tr>\n",
              "      <th>48</th>\n",
              "      <td>2024-01-07</td>\n",
              "      <td>CO</td>\n",
              "      <td>Colombia</td>\n",
              "      <td>978</td>\n",
              "      <td>6387209</td>\n",
              "      <td>0</td>\n",
              "      <td>142727</td>\n",
              "      <td>2.234575</td>\n",
              "    </tr>\n",
              "  </tbody>\n",
              "</table>\n",
              "<p>98 rows × 8 columns</p>\n",
              "</div>"
            ],
            "text/plain": [
              "   Date_reported Country_code    Country  New_cases  Cumulative_cases  \\\n",
              "0     2020-01-05           AR  Argentina          0                 0   \n",
              "1     2020-02-02           AR  Argentina          0                 0   \n",
              "2     2020-03-15           AR  Argentina        109               131   \n",
              "3     2020-04-26           AR  Argentina       1398              5464   \n",
              "4     2020-05-03           AR  Argentina       1289              6753   \n",
              "..           ...          ...        ...        ...               ...   \n",
              "44    2023-09-03           CO   Colombia        562           6379641   \n",
              "45    2023-10-01           CO   Colombia        340           6381362   \n",
              "46    2023-11-05           CO   Colombia        291           6382983   \n",
              "47    2023-12-03           CO   Colombia        276           6384224   \n",
              "48    2024-01-07           CO   Colombia        978           6387209   \n",
              "\n",
              "    New_deaths  Cumulative_deaths  lethality_rate  \n",
              "0            0                  0        0.000000  \n",
              "1            0                  0        0.000000  \n",
              "2            8                  9        6.870229  \n",
              "3          132                411        7.521962  \n",
              "4          115                526        7.789131  \n",
              "..         ...                ...             ...  \n",
              "44           0             142727        2.237226  \n",
              "45           0             142727        2.236623  \n",
              "46           0             142727        2.236055  \n",
              "47           0             142727        2.235620  \n",
              "48           0             142727        2.234575  \n",
              "\n",
              "[98 rows x 8 columns]"
            ]
          },
          "execution_count": 61,
          "metadata": {},
          "output_type": "execute_result"
        }
      ],
      "source": [
        "#Lethality Rate by Country\n",
        "def get_max_row(group, column):\n",
        "    return group.loc[group[column].idxmax()]\n",
        "\n",
        "result = df_covid_limpio.groupby(['Country', df_covid_limpio['Date_reported'].dt.to_period(\"M\")]).apply(lambda group: get_max_row(group, 'lethality_rate'))\n",
        "result.reset_index(drop=True, inplace=True)\n",
        "top_4_paises = result.groupby('Country')['lethality_rate'].mean().nlargest(4).index\n",
        "result = result[result['Country'].isin(top_4_paises)]\n",
        "#Colombia\n",
        "result_pais_Col = df_covid_limpio[df_covid_limpio['Country'] == 'Colombia'].groupby(df_covid_limpio['Date_reported'].dt.to_period(\"M\")).apply(lambda group: get_max_row(group, 'lethality_rate'))\n",
        "result_pais_Col.reset_index(drop=True, inplace=True)\n",
        "#Argentina\n",
        "result_pais_Arg = df_covid_limpio[df_covid_limpio['Country'] == 'Argentina'].groupby(df_covid_limpio['Date_reported'].dt.to_period(\"M\")).apply(lambda group: get_max_row(group, 'lethality_rate'))\n",
        "result_pais_Arg.reset_index(drop=True, inplace=True)\n",
        "#Final\n",
        "result_final = pd.concat([result, result_pais_Col,result_pais_Arg])\n",
        "#Argentina Colombia\n",
        "result_ARG_COL = pd.concat([result_pais_Arg,result_pais_Col])\n",
        "result_ARG_COL"
      ]
    },
    {
      "cell_type": "markdown",
      "metadata": {
        "id": "s2xRz0wBjDtQ"
      },
      "source": [
        "#### Visualizaciones"
      ]
    },
    {
      "cell_type": "code",
      "execution_count": 62,
      "metadata": {
        "id": "AfGKcTs1I0kH"
      },
      "outputs": [],
      "source": [
        "y = result_ARG_COL.groupby('Country').agg('max')['lethality_rate']"
      ]
    },
    {
      "cell_type": "code",
      "execution_count": 63,
      "metadata": {
        "colab": {
          "base_uri": "https://localhost:8080/",
          "height": 382
        },
        "id": "ebD_j6Rpv9mP",
        "outputId": "f6c8b1f5-a809-49a9-8268-8e7ed2ca39d5"
      },
      "outputs": [
        {
          "data": {
            "image/png": "[encoded data removed]",
            "text/plain": [
              "<Figure size 1200x500 with 1 Axes>"
            ]
          },
          "metadata": {},
          "output_type": "display_data"
        },
        {
          "data": {
            "image/png": "[encoded data removed]",
            "text/plain": [
              "<Figure size 1200x500 with 1 Axes>"
            ]
          },
          "metadata": {},
          "output_type": "display_data"
        },
        {
          "data": {
            "image/png": "[encoded data removed]",
            "text/plain": [
              "<Figure size 1200x400 with 1 Axes>"
            ]
          },
          "metadata": {},
          "output_type": "display_data"
        }
      ],
      "source": [
        "plt.rcParams[\"axes.facecolor\"] = \"#F8F8FF\"\n",
        "fig, ax = plt.subplots(figsize=(12, 4),facecolor='#F8F8FF')\n",
        "ax.spines['right'].set_visible(False)\n",
        "ax.spines['top'].set_visible(False)\n",
        "for pais in result_final['Country'].unique():\n",
        "    country_data = result_final[result_final['Country'] == pais]\n",
        "    line, = ax.plot(country_data['Date_reported'], country_data['lethality_rate'], label=pais)\n",
        "    ax.annotate(pais, (country_data['Date_reported'].iloc[-1],country_data['lethality_rate'].iloc[-1]), xytext=(5,0), textcoords='offset points', ha='left')\n",
        "plt.grid()\n",
        "plt.title('Lethality Rate by Country')\n",
        "plt.ylabel('Lethality Rate(%)')\n",
        "\n",
        "plt.show()\n"
      ]
    },
    {
      "cell_type": "code",
      "execution_count": 64,
      "metadata": {
        "colab": {
          "base_uri": "https://localhost:8080/",
          "height": 464
        },
        "id": "EPjehmmnzoCu",
        "outputId": "0c85c030-34d0-4992-a592-1b884ba43b0a"
      },
      "outputs": [
        {
          "name": "stdout",
          "output_type": "stream",
          "text": [
            "7.789130756700725\n",
            "4.609711124769515\n"
          ]
        },
        {
          "data": {
            "text/plain": [
              "Text(0.1, 0.96, '7.79%')"
            ]
          },
          "execution_count": 64,
          "metadata": {},
          "output_type": "execute_result"
        }
      ],
      "source": [
        "#Argentina vs Colombia\n",
        "plt.rcParams[\"axes.facecolor\"] = \"#F8F8FF\"\n",
        "fig, ax = plt.subplots(figsize=(12, 4),facecolor='#F8F8FF')\n",
        "ax.spines['right'].set_visible(False)\n",
        "ax.spines['top'].set_visible(False)\n",
        "for pais in result_ARG_COL['Country'].unique():\n",
        "    country_data = result_ARG_COL[result_ARG_COL['Country'] == pais]\n",
        "    ax.plot(country_data['Date_reported'], country_data['lethality_rate'])\n",
        "    print(country_data['lethality_rate'].max())\n",
        "    ax.annotate(pais, (country_data['Date_reported'].iloc[-1],country_data['lethality_rate'].iloc[-1]), xytext=(5,0), textcoords='offset points', ha='left')\n",
        "plt.axhline(y['Argentina'],color = '#808080',linewidth = 0.7,linestyle = 'dashed')\n",
        "plt.axhline(y['Colombia'],color = '#808080',linewidth = 0.7,linestyle = 'dashed')\n",
        "plt.title('Lethality Rate Colombia vs Argentina')\n",
        "plt.ylabel('Lethality Rate(%)')\n",
        "plt.xticks(['2020-01','2020-05','2021-01','2021-07','2022-01','2022-07','2023-01','2023-07','2024-01'],rotation =25,fontsize=7)\n",
        "plt.text(0.1, 0.59, f\"{y['Colombia'].round(2)}%\", transform = ax.transAxes)\n",
        "plt.text(0.1, 0.96, f\"{y['Argentina'].round(2)}%\", transform = ax.transAxes)\n",
        "\n"
      ]
    },
    {
      "cell_type": "markdown",
      "metadata": {
        "id": "BU0GzOHKi3jm"
      },
      "source": [
        "**¿Cuál es la evolución del índice de letalidad del Covid-19 en el país, comparado con los países con los índices históricos más elevados?**\n",
        "\n",
        "**Conclusión**\n",
        "\n",
        "En mayo de 2020 se reportó un pico en el lethality rate de 4.61 % para Colombia, y 7.79 % en Argentina, teniendo una diferencia entre ambos paises de 3.28 %"
      ]
    },
    {
      "cell_type": "markdown",
      "metadata": {
        "id": "2mHUZn9ZPCt0"
      },
      "source": [
        "## Insight 4\n",
        "### Desde una perspectiva demográdica ¿cuáles son las características que tienen un mayor impacto en el índice de letalidad de un país?"
      ]
    },
    {
      "cell_type": "markdown",
      "metadata": {
        "id": "hhA5wKM6Yaae"
      },
      "source": [
        "### Filtramos registros hasta la fecha 31/12/2020 inclusive"
      ]
    },
    {
      "cell_type": "code",
      "execution_count": 65,
      "metadata": {
        "id": "tSex6AdAPR8u"
      },
      "outputs": [],
      "source": [
        "rango = df_covid_limpio['Date_reported'] <= \"2020-12-31\"\n",
        "df_filtrado = df_covid_limpio[rango].copy()"
      ]
    },
    {
      "cell_type": "markdown",
      "metadata": {
        "id": "H2EZd8SrYik7"
      },
      "source": [
        "### Agrupamos por país y calculamos la media de la tasa de mortalidad (por país)"
      ]
    },
    {
      "cell_type": "code",
      "execution_count": 66,
      "metadata": {
        "colab": {
          "base_uri": "https://localhost:8080/",
          "height": 423
        },
        "id": "RSC0n_7LXBt7",
        "outputId": "25db7b0a-6935-49f5-c7c0-f20dbf98c4cf"
      },
      "outputs": [
        {
          "data": {
            "text/html": [
              "<div>\n",
              "<style scoped>\n",
              "    .dataframe tbody tr th:only-of-type {\n",
              "        vertical-align: middle;\n",
              "    }\n",
              "\n",
              "    .dataframe tbody tr th {\n",
              "        vertical-align: top;\n",
              "    }\n",
              "\n",
              "    .dataframe thead th {\n",
              "        text-align: right;\n",
              "    }\n",
              "</style>\n",
              "<table border=\"1\" class=\"dataframe\">\n",
              "  <thead>\n",
              "    <tr style=\"text-align: right;\">\n",
              "      <th></th>\n",
              "      <th>Country_code</th>\n",
              "      <th>Country</th>\n",
              "      <th>lethality_rate_mean</th>\n",
              "    </tr>\n",
              "  </thead>\n",
              "  <tbody>\n",
              "    <tr>\n",
              "      <th>0</th>\n",
              "      <td>AD</td>\n",
              "      <td>Andorra</td>\n",
              "      <td>3.097271</td>\n",
              "    </tr>\n",
              "    <tr>\n",
              "      <th>1</th>\n",
              "      <td>AE</td>\n",
              "      <td>United Arab Emirates</td>\n",
              "      <td>0.450758</td>\n",
              "    </tr>\n",
              "    <tr>\n",
              "      <th>2</th>\n",
              "      <td>AF</td>\n",
              "      <td>Afghanistan</td>\n",
              "      <td>2.462106</td>\n",
              "    </tr>\n",
              "    <tr>\n",
              "      <th>3</th>\n",
              "      <td>AG</td>\n",
              "      <td>Antigua and Barbuda</td>\n",
              "      <td>3.734753</td>\n",
              "    </tr>\n",
              "    <tr>\n",
              "      <th>4</th>\n",
              "      <td>AI</td>\n",
              "      <td>Anguilla</td>\n",
              "      <td>0.000000</td>\n",
              "    </tr>\n",
              "    <tr>\n",
              "      <th>...</th>\n",
              "      <td>...</td>\n",
              "      <td>...</td>\n",
              "      <td>...</td>\n",
              "    </tr>\n",
              "    <tr>\n",
              "      <th>228</th>\n",
              "      <td>YE</td>\n",
              "      <td>Yemen</td>\n",
              "      <td>0.000000</td>\n",
              "    </tr>\n",
              "    <tr>\n",
              "      <th>229</th>\n",
              "      <td>YT</td>\n",
              "      <td>Mayotte</td>\n",
              "      <td>0.872976</td>\n",
              "    </tr>\n",
              "    <tr>\n",
              "      <th>230</th>\n",
              "      <td>ZA</td>\n",
              "      <td>South Africa</td>\n",
              "      <td>1.899765</td>\n",
              "    </tr>\n",
              "    <tr>\n",
              "      <th>231</th>\n",
              "      <td>ZM</td>\n",
              "      <td>Zambia</td>\n",
              "      <td>2.055205</td>\n",
              "    </tr>\n",
              "    <tr>\n",
              "      <th>232</th>\n",
              "      <td>ZW</td>\n",
              "      <td>Zimbabwe</td>\n",
              "      <td>2.294720</td>\n",
              "    </tr>\n",
              "  </tbody>\n",
              "</table>\n",
              "<p>233 rows × 3 columns</p>\n",
              "</div>"
            ],
            "text/plain": [
              "    Country_code               Country  lethality_rate_mean\n",
              "0             AD               Andorra             3.097271\n",
              "1             AE  United Arab Emirates             0.450758\n",
              "2             AF           Afghanistan             2.462106\n",
              "3             AG   Antigua and Barbuda             3.734753\n",
              "4             AI              Anguilla             0.000000\n",
              "..           ...                   ...                  ...\n",
              "228           YE                 Yemen             0.000000\n",
              "229           YT               Mayotte             0.872976\n",
              "230           ZA          South Africa             1.899765\n",
              "231           ZM                Zambia             2.055205\n",
              "232           ZW              Zimbabwe             2.294720\n",
              "\n",
              "[233 rows x 3 columns]"
            ]
          },
          "execution_count": 66,
          "metadata": {},
          "output_type": "execute_result"
        }
      ],
      "source": [
        "df_agrupado = df_filtrado.groupby(['Country_code', 'Country'], as_index=False).agg({'lethality_rate': 'mean'}).rename(columns={'lethality_rate': 'lethality_rate_mean'})\n",
        "df_agrupado"
      ]
    },
    {
      "cell_type": "markdown",
      "metadata": {
        "id": "hdDH6pobZx3m"
      },
      "source": [
        "### Hacemos un innerjoin entre df_agrupado y df_population_limpio"
      ]
    },
    {
      "cell_type": "code",
      "execution_count": 67,
      "metadata": {
        "colab": {
          "base_uri": "https://localhost:8080/",
          "height": 513
        },
        "id": "rIXJD5rwGHYL",
        "outputId": "82354228-29fc-4f70-88f4-550e9ae6df2d"
      },
      "outputs": [
        {
          "data": {
            "text/html": [
              "<div>\n",
              "<style scoped>\n",
              "    .dataframe tbody tr th:only-of-type {\n",
              "        vertical-align: middle;\n",
              "    }\n",
              "\n",
              "    .dataframe tbody tr th {\n",
              "        vertical-align: top;\n",
              "    }\n",
              "\n",
              "    .dataframe thead th {\n",
              "        text-align: right;\n",
              "    }\n",
              "</style>\n",
              "<table border=\"1\" class=\"dataframe\">\n",
              "  <thead>\n",
              "    <tr style=\"text-align: right;\">\n",
              "      <th></th>\n",
              "      <th>Country_code</th>\n",
              "      <th>Country</th>\n",
              "      <th>lethality_rate_mean</th>\n",
              "      <th>Total_Population</th>\n",
              "      <th>Male_Population</th>\n",
              "      <th>Female_Population</th>\n",
              "      <th>Population_Density</th>\n",
              "      <th>Life_Expectancy</th>\n",
              "    </tr>\n",
              "  </thead>\n",
              "  <tbody>\n",
              "    <tr>\n",
              "      <th>0</th>\n",
              "      <td>AD</td>\n",
              "      <td>Andorra</td>\n",
              "      <td>3.097271</td>\n",
              "      <td>76000</td>\n",
              "      <td>39000</td>\n",
              "      <td>38000</td>\n",
              "      <td>162</td>\n",
              "      <td>83</td>\n",
              "    </tr>\n",
              "    <tr>\n",
              "      <th>1</th>\n",
              "      <td>AE</td>\n",
              "      <td>United Arab Emirates</td>\n",
              "      <td>0.450758</td>\n",
              "      <td>9212000</td>\n",
              "      <td>6444000</td>\n",
              "      <td>2768000</td>\n",
              "      <td>130</td>\n",
              "      <td>80</td>\n",
              "    </tr>\n",
              "    <tr>\n",
              "      <th>2</th>\n",
              "      <td>AF</td>\n",
              "      <td>Afghanistan</td>\n",
              "      <td>2.462106</td>\n",
              "      <td>37769000</td>\n",
              "      <td>19090000</td>\n",
              "      <td>18679000</td>\n",
              "      <td>58</td>\n",
              "      <td>64</td>\n",
              "    </tr>\n",
              "    <tr>\n",
              "      <th>3</th>\n",
              "      <td>AG</td>\n",
              "      <td>Antigua and Barbuda</td>\n",
              "      <td>3.734753</td>\n",
              "      <td>92000</td>\n",
              "      <td>44000</td>\n",
              "      <td>48000</td>\n",
              "      <td>209</td>\n",
              "      <td>79</td>\n",
              "    </tr>\n",
              "    <tr>\n",
              "      <th>4</th>\n",
              "      <td>AI</td>\n",
              "      <td>Anguilla</td>\n",
              "      <td>0.000000</td>\n",
              "      <td>15000</td>\n",
              "      <td>8000</td>\n",
              "      <td>8000</td>\n",
              "      <td>175</td>\n",
              "      <td>77</td>\n",
              "    </tr>\n",
              "    <tr>\n",
              "      <th>...</th>\n",
              "      <td>...</td>\n",
              "      <td>...</td>\n",
              "      <td>...</td>\n",
              "      <td>...</td>\n",
              "      <td>...</td>\n",
              "      <td>...</td>\n",
              "      <td>...</td>\n",
              "      <td>...</td>\n",
              "    </tr>\n",
              "    <tr>\n",
              "      <th>226</th>\n",
              "      <td>YE</td>\n",
              "      <td>Yemen</td>\n",
              "      <td>0.000000</td>\n",
              "      <td>31547000</td>\n",
              "      <td>15954000</td>\n",
              "      <td>15593000</td>\n",
              "      <td>60</td>\n",
              "      <td>65</td>\n",
              "    </tr>\n",
              "    <tr>\n",
              "      <th>227</th>\n",
              "      <td>YT</td>\n",
              "      <td>Mayotte</td>\n",
              "      <td>0.872976</td>\n",
              "      <td>294000</td>\n",
              "      <td>140000</td>\n",
              "      <td>155000</td>\n",
              "      <td>785</td>\n",
              "      <td>77</td>\n",
              "    </tr>\n",
              "    <tr>\n",
              "      <th>228</th>\n",
              "      <td>ZA</td>\n",
              "      <td>South Africa</td>\n",
              "      <td>1.899765</td>\n",
              "      <td>58087000</td>\n",
              "      <td>28208000</td>\n",
              "      <td>29879000</td>\n",
              "      <td>48</td>\n",
              "      <td>66</td>\n",
              "    </tr>\n",
              "    <tr>\n",
              "      <th>229</th>\n",
              "      <td>ZM</td>\n",
              "      <td>Zambia</td>\n",
              "      <td>2.055205</td>\n",
              "      <td>18380000</td>\n",
              "      <td>9066000</td>\n",
              "      <td>9314000</td>\n",
              "      <td>25</td>\n",
              "      <td>63</td>\n",
              "    </tr>\n",
              "    <tr>\n",
              "      <th>230</th>\n",
              "      <td>ZW</td>\n",
              "      <td>Zimbabwe</td>\n",
              "      <td>2.294720</td>\n",
              "      <td>15355000</td>\n",
              "      <td>7232000</td>\n",
              "      <td>8123000</td>\n",
              "      <td>40</td>\n",
              "      <td>61</td>\n",
              "    </tr>\n",
              "  </tbody>\n",
              "</table>\n",
              "<p>231 rows × 8 columns</p>\n",
              "</div>"
            ],
            "text/plain": [
              "    Country_code               Country  lethality_rate_mean  Total_Population  \\\n",
              "0             AD               Andorra             3.097271             76000   \n",
              "1             AE  United Arab Emirates             0.450758           9212000   \n",
              "2             AF           Afghanistan             2.462106          37769000   \n",
              "3             AG   Antigua and Barbuda             3.734753             92000   \n",
              "4             AI              Anguilla             0.000000             15000   \n",
              "..           ...                   ...                  ...               ...   \n",
              "226           YE                 Yemen             0.000000          31547000   \n",
              "227           YT               Mayotte             0.872976            294000   \n",
              "228           ZA          South Africa             1.899765          58087000   \n",
              "229           ZM                Zambia             2.055205          18380000   \n",
              "230           ZW              Zimbabwe             2.294720          15355000   \n",
              "\n",
              "     Male_Population  Female_Population  Population_Density  Life_Expectancy  \n",
              "0              39000              38000                 162               83  \n",
              "1            6444000            2768000                 130               80  \n",
              "2           19090000           18679000                  58               64  \n",
              "3              44000              48000                 209               79  \n",
              "4               8000               8000                 175               77  \n",
              "..               ...                ...                 ...              ...  \n",
              "226         15954000           15593000                  60               65  \n",
              "227           140000             155000                 785               77  \n",
              "228         28208000           29879000                  48               66  \n",
              "229          9066000            9314000                  25               63  \n",
              "230          7232000            8123000                  40               61  \n",
              "\n",
              "[231 rows x 8 columns]"
            ]
          },
          "execution_count": 67,
          "metadata": {},
          "output_type": "execute_result"
        }
      ],
      "source": [
        "df_final = pd.merge(df_agrupado, df_population_limpio, on=\"Country_code\", how=\"inner\")\n",
        "df_final"
      ]
    },
    {
      "cell_type": "code",
      "execution_count": 68,
      "metadata": {
        "colab": {
          "base_uri": "https://localhost:8080/",
          "height": 423
        },
        "id": "NRLb-HpKGyUf",
        "outputId": "a8e93a2a-6b11-4184-f97a-b907d2b7090f"
      },
      "outputs": [
        {
          "data": {
            "text/html": [
              "<div>\n",
              "<style scoped>\n",
              "    .dataframe tbody tr th:only-of-type {\n",
              "        vertical-align: middle;\n",
              "    }\n",
              "\n",
              "    .dataframe tbody tr th {\n",
              "        vertical-align: top;\n",
              "    }\n",
              "\n",
              "    .dataframe thead th {\n",
              "        text-align: right;\n",
              "    }\n",
              "</style>\n",
              "<table border=\"1\" class=\"dataframe\">\n",
              "  <thead>\n",
              "    <tr style=\"text-align: right;\">\n",
              "      <th></th>\n",
              "      <th>lethality_rate_mean</th>\n",
              "      <th>Total_Population</th>\n",
              "      <th>Male_Population</th>\n",
              "      <th>Female_Population</th>\n",
              "      <th>Population_Density</th>\n",
              "      <th>Life_Expectancy</th>\n",
              "    </tr>\n",
              "  </thead>\n",
              "  <tbody>\n",
              "    <tr>\n",
              "      <th>0</th>\n",
              "      <td>3.097271</td>\n",
              "      <td>76000</td>\n",
              "      <td>39000</td>\n",
              "      <td>38000</td>\n",
              "      <td>162</td>\n",
              "      <td>83</td>\n",
              "    </tr>\n",
              "    <tr>\n",
              "      <th>1</th>\n",
              "      <td>0.450758</td>\n",
              "      <td>9212000</td>\n",
              "      <td>6444000</td>\n",
              "      <td>2768000</td>\n",
              "      <td>130</td>\n",
              "      <td>80</td>\n",
              "    </tr>\n",
              "    <tr>\n",
              "      <th>2</th>\n",
              "      <td>2.462106</td>\n",
              "      <td>37769000</td>\n",
              "      <td>19090000</td>\n",
              "      <td>18679000</td>\n",
              "      <td>58</td>\n",
              "      <td>64</td>\n",
              "    </tr>\n",
              "    <tr>\n",
              "      <th>3</th>\n",
              "      <td>3.734753</td>\n",
              "      <td>92000</td>\n",
              "      <td>44000</td>\n",
              "      <td>48000</td>\n",
              "      <td>209</td>\n",
              "      <td>79</td>\n",
              "    </tr>\n",
              "    <tr>\n",
              "      <th>4</th>\n",
              "      <td>0.000000</td>\n",
              "      <td>15000</td>\n",
              "      <td>8000</td>\n",
              "      <td>8000</td>\n",
              "      <td>175</td>\n",
              "      <td>77</td>\n",
              "    </tr>\n",
              "    <tr>\n",
              "      <th>...</th>\n",
              "      <td>...</td>\n",
              "      <td>...</td>\n",
              "      <td>...</td>\n",
              "      <td>...</td>\n",
              "      <td>...</td>\n",
              "      <td>...</td>\n",
              "    </tr>\n",
              "    <tr>\n",
              "      <th>226</th>\n",
              "      <td>0.000000</td>\n",
              "      <td>31547000</td>\n",
              "      <td>15954000</td>\n",
              "      <td>15593000</td>\n",
              "      <td>60</td>\n",
              "      <td>65</td>\n",
              "    </tr>\n",
              "    <tr>\n",
              "      <th>227</th>\n",
              "      <td>0.872976</td>\n",
              "      <td>294000</td>\n",
              "      <td>140000</td>\n",
              "      <td>155000</td>\n",
              "      <td>785</td>\n",
              "      <td>77</td>\n",
              "    </tr>\n",
              "    <tr>\n",
              "      <th>228</th>\n",
              "      <td>1.899765</td>\n",
              "      <td>58087000</td>\n",
              "      <td>28208000</td>\n",
              "      <td>29879000</td>\n",
              "      <td>48</td>\n",
              "      <td>66</td>\n",
              "    </tr>\n",
              "    <tr>\n",
              "      <th>229</th>\n",
              "      <td>2.055205</td>\n",
              "      <td>18380000</td>\n",
              "      <td>9066000</td>\n",
              "      <td>9314000</td>\n",
              "      <td>25</td>\n",
              "      <td>63</td>\n",
              "    </tr>\n",
              "    <tr>\n",
              "      <th>230</th>\n",
              "      <td>2.294720</td>\n",
              "      <td>15355000</td>\n",
              "      <td>7232000</td>\n",
              "      <td>8123000</td>\n",
              "      <td>40</td>\n",
              "      <td>61</td>\n",
              "    </tr>\n",
              "  </tbody>\n",
              "</table>\n",
              "<p>231 rows × 6 columns</p>\n",
              "</div>"
            ],
            "text/plain": [
              "     lethality_rate_mean  Total_Population  Male_Population  \\\n",
              "0               3.097271             76000            39000   \n",
              "1               0.450758           9212000          6444000   \n",
              "2               2.462106          37769000         19090000   \n",
              "3               3.734753             92000            44000   \n",
              "4               0.000000             15000             8000   \n",
              "..                   ...               ...              ...   \n",
              "226             0.000000          31547000         15954000   \n",
              "227             0.872976            294000           140000   \n",
              "228             1.899765          58087000         28208000   \n",
              "229             2.055205          18380000          9066000   \n",
              "230             2.294720          15355000          7232000   \n",
              "\n",
              "     Female_Population  Population_Density  Life_Expectancy  \n",
              "0                38000                 162               83  \n",
              "1              2768000                 130               80  \n",
              "2             18679000                  58               64  \n",
              "3                48000                 209               79  \n",
              "4                 8000                 175               77  \n",
              "..                 ...                 ...              ...  \n",
              "226           15593000                  60               65  \n",
              "227             155000                 785               77  \n",
              "228           29879000                  48               66  \n",
              "229            9314000                  25               63  \n",
              "230            8123000                  40               61  \n",
              "\n",
              "[231 rows x 6 columns]"
            ]
          },
          "execution_count": 68,
          "metadata": {},
          "output_type": "execute_result"
        }
      ],
      "source": [
        "df_final.drop(columns=['Country_code', 'Country'], inplace=True)\n",
        "df_final"
      ]
    },
    {
      "cell_type": "markdown",
      "metadata": {
        "id": "M3KqLsr0E52B"
      },
      "source": [
        "### Feature Importances"
      ]
    },
    {
      "cell_type": "markdown",
      "metadata": {
        "id": "bOFuE6abE9i3"
      },
      "source": [
        "Dudas: ¿Con cualquier algoritmo de machine learning se puede hacer geature importances?"
      ]
    },
    {
      "cell_type": "code",
      "execution_count": 69,
      "metadata": {
        "id": "lfzOibPkH8kJ"
      },
      "outputs": [],
      "source": [
        "x = df_final.drop(['lethality_rate_mean'], axis=1)\n",
        "y = df_final['lethality_rate_mean']"
      ]
    },
    {
      "cell_type": "code",
      "execution_count": 70,
      "metadata": {
        "id": "0PmR-KYOIK5W"
      },
      "outputs": [],
      "source": [
        "from sklearn.ensemble import RandomForestRegressor"
      ]
    },
    {
      "cell_type": "code",
      "execution_count": 71,
      "metadata": {
        "colab": {
          "base_uri": "https://localhost:8080/",
          "height": 74
        },
        "id": "Fsw9si93ITrL",
        "outputId": "f2936bdd-cbe5-4cc2-f903-1c21babd55f5"
      },
      "outputs": [
        {
          "data": {
            "text/html": [
              "<style>#sk-container-id-1 {color: black;}#sk-container-id-1 pre{padding: 0;}#sk-container-id-1 div.sk-toggleable {background-color: white;}#sk-container-id-1 label.sk-toggleable__label {cursor: pointer;display: block;width: 100%;margin-bottom: 0;padding: 0.3em;box-sizing: border-box;text-align: center;}#sk-container-id-1 label.sk-toggleable__label-arrow:before {content: \"▸\";float: left;margin-right: 0.25em;color: #696969;}#sk-container-id-1 label.sk-toggleable__label-arrow:hover:before {color: black;}#sk-container-id-1 div.sk-estimator:hover label.sk-toggleable__label-arrow:before {color: black;}#sk-container-id-1 div.sk-toggleable__content {max-height: 0;max-width: 0;overflow: hidden;text-align: left;background-color: #f0f8ff;}#sk-container-id-1 div.sk-toggleable__content pre {margin: 0.2em;color: black;border-radius: 0.25em;background-color: #f0f8ff;}#sk-container-id-1 input.sk-toggleable__control:checked~div.sk-toggleable__content {max-height: 200px;max-width: 100%;overflow: auto;}#sk-container-id-1 input.sk-toggleable__control:checked~label.sk-toggleable__label-arrow:before {content: \"▾\";}#sk-container-id-1 div.sk-estimator input.sk-toggleable__control:checked~label.sk-toggleable__label {background-color: #d4ebff;}#sk-container-id-1 div.sk-label input.sk-toggleable__control:checked~label.sk-toggleable__label {background-color: #d4ebff;}#sk-container-id-1 input.sk-hidden--visually {border: 0;clip: rect(1px 1px 1px 1px);clip: rect(1px, 1px, 1px, 1px);height: 1px;margin: -1px;overflow: hidden;padding: 0;position: absolute;width: 1px;}#sk-container-id-1 div.sk-estimator {font-family: monospace;background-color: #f0f8ff;border: 1px dotted black;border-radius: 0.25em;box-sizing: border-box;margin-bottom: 0.5em;}#sk-container-id-1 div.sk-estimator:hover {background-color: #d4ebff;}#sk-container-id-1 div.sk-parallel-item::after {content: \"\";width: 100%;border-bottom: 1px solid gray;flex-grow: 1;}#sk-container-id-1 div.sk-label:hover label.sk-toggleable__label {background-color: #d4ebff;}#sk-container-id-1 div.sk-serial::before {content: \"\";position: absolute;border-left: 1px solid gray;box-sizing: border-box;top: 0;bottom: 0;left: 50%;z-index: 0;}#sk-container-id-1 div.sk-serial {display: flex;flex-direction: column;align-items: center;background-color: white;padding-right: 0.2em;padding-left: 0.2em;position: relative;}#sk-container-id-1 div.sk-item {position: relative;z-index: 1;}#sk-container-id-1 div.sk-parallel {display: flex;align-items: stretch;justify-content: center;background-color: white;position: relative;}#sk-container-id-1 div.sk-item::before, #sk-container-id-1 div.sk-parallel-item::before {content: \"\";position: absolute;border-left: 1px solid gray;box-sizing: border-box;top: 0;bottom: 0;left: 50%;z-index: -1;}#sk-container-id-1 div.sk-parallel-item {display: flex;flex-direction: column;z-index: 1;position: relative;background-color: white;}#sk-container-id-1 div.sk-parallel-item:first-child::after {align-self: flex-end;width: 50%;}#sk-container-id-1 div.sk-parallel-item:last-child::after {align-self: flex-start;width: 50%;}#sk-container-id-1 div.sk-parallel-item:only-child::after {width: 0;}#sk-container-id-1 div.sk-dashed-wrapped {border: 1px dashed gray;margin: 0 0.4em 0.5em 0.4em;box-sizing: border-box;padding-bottom: 0.4em;background-color: white;}#sk-container-id-1 div.sk-label label {font-family: monospace;font-weight: bold;display: inline-block;line-height: 1.2em;}#sk-container-id-1 div.sk-label-container {text-align: center;}#sk-container-id-1 div.sk-container {/* jupyter's `normalize.less` sets `[hidden] { display: none; }` but bootstrap.min.css set `[hidden] { display: none !important; }` so we also need the `!important` here to be able to override the default hidden behavior on the sphinx rendered scikit-learn.org. See: https://github.com/scikit-learn/scikit-learn/issues/21755 */display: inline-block !important;position: relative;}#sk-container-id-1 div.sk-text-repr-fallback {display: none;}</style><div id=\"sk-container-id-1\" class=\"sk-top-container\"><div class=\"sk-text-repr-fallback\"><pre>RandomForestRegressor()</pre><b>In a Jupyter environment, please rerun this cell to show the HTML representation or trust the notebook. <br />On GitHub, the HTML representation is unable to render, please try loading this page with nbviewer.org.</b></div><div class=\"sk-container\" hidden><div class=\"sk-item\"><div class=\"sk-estimator sk-toggleable\"><input class=\"sk-toggleable__control sk-hidden--visually\" id=\"sk-estimator-id-1\" type=\"checkbox\" checked><label for=\"sk-estimator-id-1\" class=\"sk-toggleable__label sk-toggleable__label-arrow\">RandomForestRegressor</label><div class=\"sk-toggleable__content\"><pre>RandomForestRegressor()</pre></div></div></div></div></div>"
            ],
            "text/plain": [
              "RandomForestRegressor()"
            ]
          },
          "execution_count": 71,
          "metadata": {},
          "output_type": "execute_result"
        }
      ],
      "source": [
        "model = RandomForestRegressor()\n",
        "model.fit(x, y)"
      ]
    },
    {
      "cell_type": "code",
      "execution_count": 72,
      "metadata": {
        "colab": {
          "base_uri": "https://localhost:8080/"
        },
        "id": "FI4oKeHpIbhq",
        "outputId": "c9a97415-79ac-461f-a0ba-d32920fc88ef"
      },
      "outputs": [
        {
          "data": {
            "text/plain": [
              "array([0.13616328, 0.15919415, 0.23379697, 0.24961262, 0.22123299])"
            ]
          },
          "execution_count": 72,
          "metadata": {},
          "output_type": "execute_result"
        }
      ],
      "source": [
        "model.feature_importances_"
      ]
    },
    {
      "cell_type": "code",
      "execution_count": 73,
      "metadata": {
        "colab": {
          "base_uri": "https://localhost:8080/"
        },
        "id": "x3bwza8AE8kU",
        "outputId": "69fcab06-f203-4624-e0c8-d311fcdb2d41"
      },
      "outputs": [
        {
          "data": {
            "text/plain": [
              "Population_Density    0.249613\n",
              "Female_Population     0.233797\n",
              "Life_Expectancy       0.221233\n",
              "Male_Population       0.159194\n",
              "Total_Population      0.136163\n",
              "dtype: float64"
            ]
          },
          "execution_count": 73,
          "metadata": {},
          "output_type": "execute_result"
        }
      ],
      "source": [
        "feature_importances = pd.Series(model.feature_importances_, index=x.columns).sort_values(ascending=False)\n",
        "feature_importances"
      ]
    },
    {
      "cell_type": "code",
      "execution_count": 74,
      "metadata": {
        "colab": {
          "base_uri": "https://localhost:8080/"
        },
        "id": "W9GB-6IPaJa4",
        "outputId": "230cc77a-13f6-4948-cdda-5183f65bca83"
      },
      "outputs": [
        {
          "data": {
            "text/plain": [
              "Population_Density    24.96\n",
              "Female_Population     23.38\n",
              "Life_Expectancy       22.12\n",
              "Male_Population       15.92\n",
              "Total_Population      13.62\n",
              "dtype: float64"
            ]
          },
          "execution_count": 74,
          "metadata": {},
          "output_type": "execute_result"
        }
      ],
      "source": [
        "ft_imp_barvalues = feature_importances.copy()\n",
        "for item in ft_imp_barvalues:\n",
        "  ft_imp_barvalues = ft_imp_barvalues.replace(item, round(item*100,2))\n",
        "ft_imp_barvalues"
      ]
    },
    {
      "cell_type": "code",
      "execution_count": 75,
      "metadata": {
        "colab": {
          "base_uri": "https://localhost:8080/",
          "height": 629
        },
        "id": "b2lr1n9nJt7v",
        "outputId": "a49f7eb5-6cb7-4556-d84f-94fa4c453e0b"
      },
      "outputs": [
        {
          "name": "stderr",
          "output_type": "stream",
          "text": [
            "C:\\Users\\Pablo\\AppData\\Local\\Temp\\ipykernel_8692\\1180895342.py:9: UserWarning: set_ticklabels() should only be used with a fixed number of ticks, i.e. after set_ticks() or using a FixedLocator.\n",
            "  ax.set_yticklabels(yticklabels)\n"
          ]
        },
        {
          "data": {
            "image/png": "[encoded data removed]",
            "text/plain": [
              "<Figure size 1200x400 with 1 Axes>"
            ]
          },
          "metadata": {},
          "output_type": "display_data"
        },
        {
          "data": {
            "image/png": "[encoded data removed]",
            "text/plain": [
              "<Figure size 1000x600 with 1 Axes>"
            ]
          },
          "metadata": {},
          "output_type": "display_data"
        }
      ],
      "source": [
        "fig, ax = plt.subplots(figsize=(10,6))\n",
        "ft_imp_barvalues.plot(kind='bar')\n",
        "ax.set_facecolor(\"white\")\n",
        "ax.set_ylim(0, 30)\n",
        "# ax.set_yticklabels()\n",
        "yticklabels = []\n",
        "for item in ax.get_yticklabels():\n",
        "  yticklabels.append(f'{item.get_text()}%')\n",
        "ax.set_yticklabels(yticklabels)\n",
        "ax.set_xticklabels(labels=feature_importances.index, rotation=30)\n",
        "alpha = 1\n",
        "for bar in ax.patches:\n",
        "  x = bar.get_x() + bar.get_width()/6\n",
        "  y = bar.get_height() /2\n",
        "  value = f'{bar.get_height()}%'\n",
        "  ax.text(x, y, value)\n",
        "  bar.set_alpha(alpha)\n",
        "  alpha = alpha - 0.15\n",
        "plt.show()"
      ]
    },
    {
      "cell_type": "markdown",
      "metadata": {
        "id": "XpsSTMRz5JcZ"
      },
      "source": [
        "**Conclusión:**\n",
        "\n",
        "Según nuestro análisis de importancia, la densidad de la población destaca como más influyente, seguida de la población femenina con un 25% y 24% respectivamente.\n",
        "Esto sugiere que densidad de la población y el número de la población femenina son características relevantes en la incidencia de la letalidad de un país cuando evaluamos el covid-19."
      ]
    }
  ],
  "metadata": {
    "colab": {
      "provenance": []
    },
    "kernelspec": {
      "display_name": "Python 3",
      "name": "python3"
    },
    "language_info": {
      "codemirror_mode": {
        "name": "ipython",
        "version": 3
      },
      "file_extension": ".py",
      "mimetype": "text/x-python",
      "name": "python",
      "nbconvert_exporter": "python",
      "pygments_lexer": "ipython3",
      "version": "3.12.0"
    }
  },
  "nbformat": 4,
  "nbformat_minor": 0
}
