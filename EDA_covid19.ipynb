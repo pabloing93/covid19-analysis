{
  "cells": [
    {
      "cell_type": "markdown",
      "metadata": {
        "id": "9N9Dh-mEqyWf"
      },
      "source": [
        "# **PROBLEMA DE NEGOCIO**\n",
        "\n",
        "\n",
        "\n",
        "\n",
        "---\n",
        "\n",
        "\n"
      ]
    },
    {
      "cell_type": "markdown",
      "metadata": {
        "id": "M8MuNvhKq2xm"
      },
      "source": [
        "## Una entidad gubernamental responsable de la gestión de la salud en Argentina y en Colombia enfrenta el desafío de comprender y analizar la propagación del COVID-19 para tomar decisiones informadas y eficaces en la gestión de la pandemia. <br> Como científicos de datos nuestra tarea será analizar los datos relacionados con el COVID-19 y presentar insight a través de visualizaciones.\n"
      ]
    },
    {
      "cell_type": "markdown",
      "metadata": {
        "id": "Yjrs-j6Xq84a"
      },
      "source": [
        "# 1. Configuración del ambiente"
      ]
    },
    {
      "cell_type": "code",
      "execution_count": 4,
      "metadata": {
        "id": "FMSYT6iXsT8q"
      },
      "outputs": [],
      "source": [
        "import pandas as pd\n",
        "import matplotlib.pyplot as plt\n",
        "from io import StringIO\n",
        "import requests"
      ]
    },
    {
      "cell_type": "markdown",
      "metadata": {
        "id": "LaPeBVIyrD09"
      },
      "source": [
        "# 2. Obtención, Tratamiento y Análisis Exploratorio (EDA)"
      ]
    },
    {
      "cell_type": "markdown",
      "metadata": {
        "id": "UIUsWLpdsTv2"
      },
      "source": [
        "### Cargando las bases de datos"
      ]
    },
    {
      "cell_type": "code",
      "execution_count": 5,
      "metadata": {
        "id": "ncFFhLKGlWzJ"
      },
      "outputs": [],
      "source": [
        "df_covid = pd.read_csv(StringIO(requests.get(\"https://covid19.who.int/WHO-COVID-19-global-data.csv\").text))\n",
        "df_population = pd.read_excel('https://raw.githubusercontent.com/ElProfeAlejo/Bootcamp_Databases/main/WPP2022_GEN_F01_DEMOGRAPHIC_INDICATORS_COMPACT_REV1.xlsx', sheet_name=0, skiprows=16)\n",
        "df_population = df_population[df_population['Year'] == 2019]\n"
      ]
    },
    {
      "cell_type": "markdown",
      "metadata": {
        "id": "HPE_kROgWkrv"
      },
      "source": [
        "*   **df_covid**: contiene información de la evolución de casos del covid19. Base de datos otorgada por W.H.O. (World Health Organization).\n",
        "*   **df_population**: contiene información demográfica proporcionada por P.U.N. (Population United Nations)\n",
        "\n",
        "\n",
        "\n"
      ]
    },
    {
      "cell_type": "markdown",
      "metadata": {
        "id": "2nRuCScArM7l"
      },
      "source": [
        "### 2.1. EDA Base Covid World Health Organization"
      ]
    },
    {
      "cell_type": "code",
      "execution_count": 6,
      "metadata": {
        "colab": {
          "base_uri": "https://localhost:8080/"
        },
        "id": "uX8KonVgXWmk",
        "outputId": "d05fd358-ef48-473f-f85c-623ad773c34e"
      },
      "outputs": [
        {
          "name": "stdout",
          "output_type": "stream",
          "text": [
            "<class 'pandas.core.frame.DataFrame'>\n",
            "RangeIndex: 51360 entries, 0 to 51359\n",
            "Data columns (total 8 columns):\n",
            " #   Column             Non-Null Count  Dtype  \n",
            "---  ------             --------------  -----  \n",
            " 0   Date_reported      51360 non-null  object \n",
            " 1   Country_code       49862 non-null  object \n",
            " 2   Country            50076 non-null  object \n",
            " 3   WHO_region         46224 non-null  object \n",
            " 4   New_cases          36717 non-null  float64\n",
            " 5   Cumulative_cases   51360 non-null  int64  \n",
            " 6   New_deaths         24257 non-null  float64\n",
            " 7   Cumulative_deaths  51360 non-null  int64  \n",
            "dtypes: float64(2), int64(2), object(4)\n",
            "memory usage: 3.1+ MB\n"
          ]
        }
      ],
      "source": [
        "df_covid.info()"
      ]
    },
    {
      "cell_type": "code",
      "execution_count": 7,
      "metadata": {
        "id": "85hpVQq4lWvs"
      },
      "outputs": [],
      "source": [
        "#from ast import Index\n",
        "df_covid_limpio = df_covid.dropna(subset = ['Country_code'])\n",
        "df_covid_limpio = df_covid_limpio[['Date_reported','Country_code','Country',\n",
        " 'New_cases','Cumulative_cases','New_deaths','Cumulative_deaths']]\n",
        "df_covid_limpio.fillna(0,inplace = True)"
      ]
    },
    {
      "cell_type": "code",
      "execution_count": 8,
      "metadata": {
        "colab": {
          "base_uri": "https://localhost:8080/"
        },
        "id": "ZwVrSNQphK-C",
        "outputId": "6f796383-0386-4552-8c01-942d9f8b2176"
      },
      "outputs": [
        {
          "data": {
            "text/plain": [
              "Date_reported        0\n",
              "Country_code         0\n",
              "Country              0\n",
              "New_cases            0\n",
              "Cumulative_cases     0\n",
              "New_deaths           0\n",
              "Cumulative_deaths    0\n",
              "dtype: int64"
            ]
          },
          "execution_count": 8,
          "metadata": {},
          "output_type": "execute_result"
        }
      ],
      "source": [
        "df_covid_limpio.isna().sum()"
      ]
    },
    {
      "cell_type": "code",
      "execution_count": 9,
      "metadata": {
        "colab": {
          "base_uri": "https://localhost:8080/"
        },
        "id": "1oWblB4khqeq",
        "outputId": "74c93498-0131-4787-f0d6-ffcee3f9a21a"
      },
      "outputs": [
        {
          "name": "stdout",
          "output_type": "stream",
          "text": [
            "<class 'pandas.core.frame.DataFrame'>\n",
            "Index: 49862 entries, 0 to 51359\n",
            "Data columns (total 7 columns):\n",
            " #   Column             Non-Null Count  Dtype  \n",
            "---  ------             --------------  -----  \n",
            " 0   Date_reported      49862 non-null  object \n",
            " 1   Country_code       49862 non-null  object \n",
            " 2   Country            49862 non-null  object \n",
            " 3   New_cases          49862 non-null  float64\n",
            " 4   Cumulative_cases   49862 non-null  int64  \n",
            " 5   New_deaths         49862 non-null  float64\n",
            " 6   Cumulative_deaths  49862 non-null  int64  \n",
            "dtypes: float64(2), int64(2), object(3)\n",
            "memory usage: 3.0+ MB\n"
          ]
        }
      ],
      "source": [
        "df_covid_limpio.info()"
      ]
    },
    {
      "cell_type": "code",
      "execution_count": 10,
      "metadata": {
        "id": "41-LNc4fh1kj"
      },
      "outputs": [],
      "source": [
        "df_covid_limpio['Date_reported'] = pd.to_datetime(df_covid_limpio['Date_reported'])"
      ]
    },
    {
      "cell_type": "code",
      "execution_count": 11,
      "metadata": {
        "colab": {
          "base_uri": "https://localhost:8080/"
        },
        "id": "6K3cvkwSh3o5",
        "outputId": "9467cc86-e1be-4546-e5b6-8ebf17065363"
      },
      "outputs": [
        {
          "name": "stdout",
          "output_type": "stream",
          "text": [
            "<class 'pandas.core.frame.DataFrame'>\n",
            "Index: 49862 entries, 0 to 51359\n",
            "Data columns (total 7 columns):\n",
            " #   Column             Non-Null Count  Dtype         \n",
            "---  ------             --------------  -----         \n",
            " 0   Date_reported      49862 non-null  datetime64[ns]\n",
            " 1   Country_code       49862 non-null  object        \n",
            " 2   Country            49862 non-null  object        \n",
            " 3   New_cases          49862 non-null  float64       \n",
            " 4   Cumulative_cases   49862 non-null  int64         \n",
            " 5   New_deaths         49862 non-null  float64       \n",
            " 6   Cumulative_deaths  49862 non-null  int64         \n",
            "dtypes: datetime64[ns](1), float64(2), int64(2), object(2)\n",
            "memory usage: 3.0+ MB\n"
          ]
        }
      ],
      "source": [
        "df_covid_limpio.info()"
      ]
    },
    {
      "cell_type": "code",
      "execution_count": 12,
      "metadata": {
        "id": "kyhGRyFsh_po"
      },
      "outputs": [],
      "source": [
        "df_covid_limpio[['New_cases','New_deaths']] = df_covid_limpio[['New_cases','New_deaths']].astype('int64')"
      ]
    },
    {
      "cell_type": "code",
      "execution_count": 13,
      "metadata": {
        "id": "_Jm6UwdqhHjn"
      },
      "outputs": [],
      "source": [
        "df_covid_limpio['lethality_rate'] = ((df_covid_limpio['Cumulative_deaths'])/(df_covid_limpio['Cumulative_cases'])) * 100"
      ]
    },
    {
      "cell_type": "code",
      "execution_count": 14,
      "metadata": {
        "id": "peRYsXWgmlf4"
      },
      "outputs": [],
      "source": [
        "df_covid_limpio['lethality_rate'].fillna(0, inplace=True)"
      ]
    },
    {
      "cell_type": "code",
      "execution_count": 18,
      "metadata": {},
      "outputs": [
        {
          "name": "stderr",
          "output_type": "stream",
          "text": [
            "c:\\Users\\Pablo\\AppData\\Local\\Programs\\Python\\Python312\\Lib\\site-packages\\pandas\\core\\nanops.py:1010: RuntimeWarning: invalid value encountered in subtract\n",
            "  sqr = _ensure_numeric((avg - values) ** 2)\n"
          ]
        },
        {
          "data": {
            "text/plain": [
              "count    4.986200e+04\n",
              "mean              inf\n",
              "std               NaN\n",
              "min      0.000000e+00\n",
              "25%      3.349894e-01\n",
              "50%      1.051938e+00\n",
              "75%      2.046970e+00\n",
              "max               inf\n",
              "Name: lethality_rate, dtype: float64"
            ]
          },
          "execution_count": 18,
          "metadata": {},
          "output_type": "execute_result"
        }
      ],
      "source": [
        "df_covid_limpio['lethality_rate'].describe()"
      ]
    },
    {
      "cell_type": "markdown",
      "metadata": {},
      "source": [
        "Observamos a través de los estadísticos que la columna tiene valores anómalos. Vamos a graficar y ver como solucionarlo"
      ]
    },
    {
      "cell_type": "code",
      "execution_count": 12,
      "metadata": {
        "colab": {
          "base_uri": "https://localhost:8080/",
          "height": 448
        },
        "id": "LMKQcaKYoh4F",
        "outputId": "b02e4874-9197-48a5-c0c8-e3d2c5fb76b5"
      },
      "outputs": [
        {
          "data": {
            "text/plain": [
              "<Axes: >"
            ]
          },
          "execution_count": 12,
          "metadata": {},
          "output_type": "execute_result"
        },
        {
          "data": {
            "image/png": "[encoded data removed]",
            "text/plain": [
              "<Figure size 640x480 with 1 Axes>"
            ]
          },
          "metadata": {},
          "output_type": "display_data"
        }
      ],
      "source": [
        "df_covid_limpio.boxplot(column=['lethality_rate'])"
      ]
    },
    {
      "cell_type": "code",
      "execution_count": 13,
      "metadata": {
        "colab": {
          "base_uri": "https://localhost:8080/"
        },
        "id": "DtW7J7tylWom",
        "outputId": "8b4c5dc0-37d0-4d47-8bd0-37efe56fabea"
      },
      "outputs": [
        {
          "data": {
            "text/plain": [
              "0.01     0.000000\n",
              "0.02     0.000000\n",
              "0.03     0.000000\n",
              "0.04     0.000000\n",
              "0.05     0.000000\n",
              "          ...    \n",
              "0.95     5.000000\n",
              "0.96     5.650517\n",
              "0.97     6.460209\n",
              "0.98     7.928402\n",
              "0.99    12.260898\n",
              "Name: lethality_rate, Length: 99, dtype: float64"
            ]
          },
          "execution_count": 13,
          "metadata": {},
          "output_type": "execute_result"
        }
      ],
      "source": [
        "centiles = df_covid_limpio.lethality_rate.quantile([i/100 for i in range(1,100)])\n",
        "centiles"
      ]
    },
    {
      "cell_type": "code",
      "execution_count": 14,
      "metadata": {
        "colab": {
          "base_uri": "https://localhost:8080/"
        },
        "id": "703TG0IfwL7V",
        "outputId": "b704f2f0-73b8-4bd9-8bd4-8590c75fe46d"
      },
      "outputs": [
        {
          "data": {
            "text/plain": [
              "(49396, 8)"
            ]
          },
          "execution_count": 14,
          "metadata": {},
          "output_type": "execute_result"
        }
      ],
      "source": [
        "df_covid_limpio.shape"
      ]
    },
    {
      "cell_type": "code",
      "execution_count": 15,
      "metadata": {
        "id": "oKEkI9LFvchS"
      },
      "outputs": [],
      "source": [
        "df_covid_limpio = df_covid_limpio[df_covid_limpio['lethality_rate'] <= centiles[0.99]]"
      ]
    },
    {
      "cell_type": "code",
      "execution_count": 77,
      "metadata": {
        "colab": {
          "base_uri": "https://localhost:8080/",
          "height": 448
        },
        "id": "7DVn_43x09oD",
        "outputId": "351bbee7-e5af-4e22-d75a-d063329980f8"
      },
      "outputs": [
        {
          "data": {
            "image/png": "[encoded data removed]",
            "text/plain": [
              "<Figure size 640x480 with 1 Axes>"
            ]
          },
          "metadata": {},
          "output_type": "display_data"
        }
      ],
      "source": [
        "df_covid_limpio.boxplot(column=['lethality_rate'])\n",
        "plt.show()"
      ]
    },
    {
      "cell_type": "code",
      "execution_count": 17,
      "metadata": {
        "colab": {
          "base_uri": "https://localhost:8080/",
          "height": 300
        },
        "id": "R-cJW1Pe83su",
        "outputId": "e981f281-1f49-4f88-adbf-ef19e1232bd6"
      },
      "outputs": [
        {
          "data": {
            "text/html": [
              "<div>\n",
              "<style scoped>\n",
              "    .dataframe tbody tr th:only-of-type {\n",
              "        vertical-align: middle;\n",
              "    }\n",
              "\n",
              "    .dataframe tbody tr th {\n",
              "        vertical-align: top;\n",
              "    }\n",
              "\n",
              "    .dataframe thead th {\n",
              "        text-align: right;\n",
              "    }\n",
              "</style>\n",
              "<table border=\"1\" class=\"dataframe\">\n",
              "  <thead>\n",
              "    <tr style=\"text-align: right;\">\n",
              "      <th></th>\n",
              "      <th>Date_reported</th>\n",
              "      <th>New_cases</th>\n",
              "      <th>Cumulative_cases</th>\n",
              "      <th>New_deaths</th>\n",
              "      <th>Cumulative_deaths</th>\n",
              "      <th>lethality_rate</th>\n",
              "    </tr>\n",
              "  </thead>\n",
              "  <tbody>\n",
              "    <tr>\n",
              "      <th>count</th>\n",
              "      <td>48902</td>\n",
              "      <td>4.890200e+04</td>\n",
              "      <td>4.890200e+04</td>\n",
              "      <td>48902.000000</td>\n",
              "      <td>4.890200e+04</td>\n",
              "      <td>48902.000000</td>\n",
              "    </tr>\n",
              "    <tr>\n",
              "      <th>mean</th>\n",
              "      <td>2022-01-15 22:05:48.353850624</td>\n",
              "      <td>1.578961e+04</td>\n",
              "      <td>1.659527e+06</td>\n",
              "      <td>138.018609</td>\n",
              "      <td>1.938730e+04</td>\n",
              "      <td>1.452976</td>\n",
              "    </tr>\n",
              "    <tr>\n",
              "      <th>min</th>\n",
              "      <td>2020-01-05 00:00:00</td>\n",
              "      <td>-6.507900e+04</td>\n",
              "      <td>0.000000e+00</td>\n",
              "      <td>-3432.000000</td>\n",
              "      <td>0.000000e+00</td>\n",
              "      <td>0.000000</td>\n",
              "    </tr>\n",
              "    <tr>\n",
              "      <th>25%</th>\n",
              "      <td>2021-01-10 00:00:00</td>\n",
              "      <td>0.000000e+00</td>\n",
              "      <td>3.904000e+03</td>\n",
              "      <td>0.000000</td>\n",
              "      <td>2.900000e+01</td>\n",
              "      <td>0.326607</td>\n",
              "    </tr>\n",
              "    <tr>\n",
              "      <th>50%</th>\n",
              "      <td>2022-01-16 00:00:00</td>\n",
              "      <td>1.030000e+02</td>\n",
              "      <td>4.379300e+04</td>\n",
              "      <td>0.000000</td>\n",
              "      <td>4.710000e+02</td>\n",
              "      <td>1.029184</td>\n",
              "    </tr>\n",
              "    <tr>\n",
              "      <th>75%</th>\n",
              "      <td>2023-01-22 00:00:00</td>\n",
              "      <td>2.005750e+03</td>\n",
              "      <td>5.070115e+05</td>\n",
              "      <td>20.000000</td>\n",
              "      <td>6.637750e+03</td>\n",
              "      <td>2.004507</td>\n",
              "    </tr>\n",
              "    <tr>\n",
              "      <th>max</th>\n",
              "      <td>2024-01-21 00:00:00</td>\n",
              "      <td>4.047548e+07</td>\n",
              "      <td>1.034368e+08</td>\n",
              "      <td>47687.000000</td>\n",
              "      <td>1.165780e+06</td>\n",
              "      <td>12.260536</td>\n",
              "    </tr>\n",
              "    <tr>\n",
              "      <th>std</th>\n",
              "      <td>NaN</td>\n",
              "      <td>2.420378e+05</td>\n",
              "      <td>7.309166e+06</td>\n",
              "      <td>867.312807</td>\n",
              "      <td>7.947323e+04</td>\n",
              "      <td>1.625929</td>\n",
              "    </tr>\n",
              "  </tbody>\n",
              "</table>\n",
              "</div>"
            ],
            "text/plain": [
              "                       Date_reported     New_cases  Cumulative_cases  \\\n",
              "count                          48902  4.890200e+04      4.890200e+04   \n",
              "mean   2022-01-15 22:05:48.353850624  1.578961e+04      1.659527e+06   \n",
              "min              2020-01-05 00:00:00 -6.507900e+04      0.000000e+00   \n",
              "25%              2021-01-10 00:00:00  0.000000e+00      3.904000e+03   \n",
              "50%              2022-01-16 00:00:00  1.030000e+02      4.379300e+04   \n",
              "75%              2023-01-22 00:00:00  2.005750e+03      5.070115e+05   \n",
              "max              2024-01-21 00:00:00  4.047548e+07      1.034368e+08   \n",
              "std                              NaN  2.420378e+05      7.309166e+06   \n",
              "\n",
              "         New_deaths  Cumulative_deaths  lethality_rate  \n",
              "count  48902.000000       4.890200e+04    48902.000000  \n",
              "mean     138.018609       1.938730e+04        1.452976  \n",
              "min    -3432.000000       0.000000e+00        0.000000  \n",
              "25%        0.000000       2.900000e+01        0.326607  \n",
              "50%        0.000000       4.710000e+02        1.029184  \n",
              "75%       20.000000       6.637750e+03        2.004507  \n",
              "max    47687.000000       1.165780e+06       12.260536  \n",
              "std      867.312807       7.947323e+04        1.625929  "
            ]
          },
          "execution_count": 17,
          "metadata": {},
          "output_type": "execute_result"
        }
      ],
      "source": [
        "df_covid_limpio.describe()"
      ]
    },
    {
      "cell_type": "markdown",
      "metadata": {},
      "source": [
        "#### Exportamos los datos"
      ]
    },
    {
      "cell_type": "code",
      "execution_count": 83,
      "metadata": {},
      "outputs": [],
      "source": [
        "df_covid_limpio.to_csv('covid_clean.csv', sep=';', index=False)"
      ]
    },
    {
      "cell_type": "markdown",
      "metadata": {
        "id": "a18_bX9Sw_Qb"
      },
      "source": [
        "### 2.2. EDA Base Population United Nations (información demográfica)"
      ]
    },
    {
      "cell_type": "markdown",
      "metadata": {
        "id": "D7f2dHOBaQ2-"
      },
      "source": [
        "#### 1.1. Creamos una copia de df_population y nos quedamos con aquellas columnas de interés.\n"
      ]
    },
    {
      "cell_type": "code",
      "execution_count": 18,
      "metadata": {
        "colab": {
          "base_uri": "https://localhost:8080/"
        },
        "id": "jeWRr93gxBlZ",
        "outputId": "1d842808-d25e-4915-97d3-7be30fb9bcb1"
      },
      "outputs": [
        {
          "name": "stdout",
          "output_type": "stream",
          "text": [
            "<class 'pandas.core.frame.DataFrame'>\n",
            "Index: 286 entries, 69 to 20593\n",
            "Data columns (total 6 columns):\n",
            " #   Column                                                    Non-Null Count  Dtype \n",
            "---  ------                                                    --------------  ----- \n",
            " 0   ISO2 Alpha-code                                           236 non-null    object\n",
            " 1   Total Population, as of 1 July (thousands)                286 non-null    object\n",
            " 2   Male Population, as of 1 July (thousands)                 286 non-null    object\n",
            " 3   Female Population, as of 1 July (thousands)               286 non-null    object\n",
            " 4   Population Density, as of 1 July (persons per square km)  286 non-null    object\n",
            " 5   Life Expectancy at Birth, both sexes (years)              286 non-null    object\n",
            "dtypes: object(6)\n",
            "memory usage: 15.6+ KB\n"
          ]
        }
      ],
      "source": [
        "df_population_limpio = df_population[['ISO2 Alpha-code','Total Population, as of 1 July (thousands)','Male Population, as of 1 July (thousands)','Female Population, as of 1 July (thousands)','Population Density, as of 1 July (persons per square km)','Life Expectancy at Birth, both sexes (years)']].copy()\n",
        "df_population_limpio.info()\n"
      ]
    },
    {
      "cell_type": "markdown",
      "metadata": {
        "id": "L_XUfNKsavGO"
      },
      "source": [
        "#### 1.2. Renombramos las columnas para mejor compresión de su información"
      ]
    },
    {
      "cell_type": "code",
      "execution_count": 19,
      "metadata": {
        "colab": {
          "base_uri": "https://localhost:8080/"
        },
        "id": "RUhZ3WtaFatw",
        "outputId": "975913c0-dc24-43d6-8a13-cca274cb3a00"
      },
      "outputs": [
        {
          "name": "stdout",
          "output_type": "stream",
          "text": [
            "<class 'pandas.core.frame.DataFrame'>\n",
            "Index: 286 entries, 69 to 20593\n",
            "Data columns (total 6 columns):\n",
            " #   Column              Non-Null Count  Dtype \n",
            "---  ------              --------------  ----- \n",
            " 0   Country_code        236 non-null    object\n",
            " 1   Total_Population    286 non-null    object\n",
            " 2   Male_Population     286 non-null    object\n",
            " 3   Female_Population   286 non-null    object\n",
            " 4   Population_Density  286 non-null    object\n",
            " 5   Life_Expectancy     286 non-null    object\n",
            "dtypes: object(6)\n",
            "memory usage: 15.6+ KB\n"
          ]
        }
      ],
      "source": [
        "df_population_limpio = df_population_limpio.rename(columns={\n",
        "    'ISO2 Alpha-code': 'Country_code',\n",
        "    'Total Population, as of 1 July (thousands)': 'Total_Population',\n",
        "    'Male Population, as of 1 July (thousands)': 'Male_Population',\n",
        "    'Female Population, as of 1 July (thousands)': 'Female_Population',\n",
        "    'Population Density, as of 1 July (persons per square km)': 'Population_Density',\n",
        "    'Life Expectancy at Birth, both sexes (years)': 'Life_Expectancy'\n",
        "})\n",
        "df_population_limpio.info()\n"
      ]
    },
    {
      "cell_type": "markdown",
      "metadata": {
        "id": "EY4cSn-taNyh"
      },
      "source": [
        "#### 1.3. Eliminamos registros nulos"
      ]
    },
    {
      "cell_type": "code",
      "execution_count": 20,
      "metadata": {
        "colab": {
          "base_uri": "https://localhost:8080/"
        },
        "id": "C14ndgzQxBfD",
        "outputId": "790fc6fa-04b8-4209-cc09-b4d7aeafae6f"
      },
      "outputs": [
        {
          "data": {
            "text/plain": [
              "Country_code          50\n",
              "Total_Population       0\n",
              "Male_Population        0\n",
              "Female_Population      0\n",
              "Population_Density     0\n",
              "Life_Expectancy        0\n",
              "dtype: int64"
            ]
          },
          "execution_count": 20,
          "metadata": {},
          "output_type": "execute_result"
        }
      ],
      "source": [
        "#Verificar registros nulos (antes de eliminarlos)\n",
        "df_population_limpio.isna().sum()"
      ]
    },
    {
      "cell_type": "code",
      "execution_count": 21,
      "metadata": {
        "colab": {
          "base_uri": "https://localhost:8080/"
        },
        "id": "FS4JUF-yxBYY",
        "outputId": "493fa904-c739-44e2-f59c-d8875479bbe7"
      },
      "outputs": [
        {
          "data": {
            "text/plain": [
              "Country_code          0\n",
              "Total_Population      0\n",
              "Male_Population       0\n",
              "Female_Population     0\n",
              "Population_Density    0\n",
              "Life_Expectancy       0\n",
              "dtype: int64"
            ]
          },
          "execution_count": 21,
          "metadata": {},
          "output_type": "execute_result"
        }
      ],
      "source": [
        "#Eliminar todos los registros nulos\n",
        "df_population_limpio.dropna(inplace=True)\n",
        "df_population_limpio.isna().sum()"
      ]
    },
    {
      "cell_type": "markdown",
      "metadata": {
        "id": "MrjjYM0Ea8Wn"
      },
      "source": [
        "#### 1.4. Formateamos las estructuras de datos"
      ]
    },
    {
      "cell_type": "code",
      "execution_count": 22,
      "metadata": {
        "colab": {
          "base_uri": "https://localhost:8080/"
        },
        "id": "MsPd8khtbAnJ",
        "outputId": "9057b76f-6b00-4170-8a89-0710ec23b113"
      },
      "outputs": [
        {
          "name": "stdout",
          "output_type": "stream",
          "text": [
            "<class 'pandas.core.frame.DataFrame'>\n",
            "Index: 236 entries, 1801 to 20593\n",
            "Data columns (total 6 columns):\n",
            " #   Column              Non-Null Count  Dtype \n",
            "---  ------              --------------  ----- \n",
            " 0   Country_code        236 non-null    object\n",
            " 1   Total_Population    236 non-null    object\n",
            " 2   Male_Population     236 non-null    object\n",
            " 3   Female_Population   236 non-null    object\n",
            " 4   Population_Density  236 non-null    object\n",
            " 5   Life_Expectancy     236 non-null    object\n",
            "dtypes: object(6)\n",
            "memory usage: 12.9+ KB\n"
          ]
        }
      ],
      "source": [
        "#Requerimos convertir las columnas 1 a la 5 en INT\n",
        "df_population_limpio.info()"
      ]
    },
    {
      "cell_type": "code",
      "execution_count": 23,
      "metadata": {
        "colab": {
          "base_uri": "https://localhost:8080/",
          "height": 206
        },
        "id": "AlpZbZmhcHom",
        "outputId": "d34228ce-0296-462c-d7f4-f39d0686ad60"
      },
      "outputs": [
        {
          "data": {
            "text/html": [
              "<div>\n",
              "<style scoped>\n",
              "    .dataframe tbody tr th:only-of-type {\n",
              "        vertical-align: middle;\n",
              "    }\n",
              "\n",
              "    .dataframe tbody tr th {\n",
              "        vertical-align: top;\n",
              "    }\n",
              "\n",
              "    .dataframe thead th {\n",
              "        text-align: right;\n",
              "    }\n",
              "</style>\n",
              "<table border=\"1\" class=\"dataframe\">\n",
              "  <thead>\n",
              "    <tr style=\"text-align: right;\">\n",
              "      <th></th>\n",
              "      <th>Country_code</th>\n",
              "      <th>Total_Population</th>\n",
              "      <th>Male_Population</th>\n",
              "      <th>Female_Population</th>\n",
              "      <th>Population_Density</th>\n",
              "      <th>Life_Expectancy</th>\n",
              "    </tr>\n",
              "  </thead>\n",
              "  <tbody>\n",
              "    <tr>\n",
              "      <th>1801</th>\n",
              "      <td>BI</td>\n",
              "      <td>11874.838</td>\n",
              "      <td>5894.278</td>\n",
              "      <td>5980.56</td>\n",
              "      <td>457.605</td>\n",
              "      <td>62.351</td>\n",
              "    </tr>\n",
              "    <tr>\n",
              "      <th>1873</th>\n",
              "      <td>KM</td>\n",
              "      <td>790.986</td>\n",
              "      <td>397.126</td>\n",
              "      <td>393.86</td>\n",
              "      <td>425.033</td>\n",
              "      <td>64.068</td>\n",
              "    </tr>\n",
              "    <tr>\n",
              "      <th>1945</th>\n",
              "      <td>DJ</td>\n",
              "      <td>1073.994</td>\n",
              "      <td>533.626</td>\n",
              "      <td>540.367</td>\n",
              "      <td>46.333</td>\n",
              "      <td>63.085</td>\n",
              "    </tr>\n",
              "    <tr>\n",
              "      <th>2017</th>\n",
              "      <td>ER</td>\n",
              "      <td>3498.818</td>\n",
              "      <td>1724.86</td>\n",
              "      <td>1773.958</td>\n",
              "      <td>28.881</td>\n",
              "      <td>67.3</td>\n",
              "    </tr>\n",
              "    <tr>\n",
              "      <th>2089</th>\n",
              "      <td>ET</td>\n",
              "      <td>114120.594</td>\n",
              "      <td>57375.433</td>\n",
              "      <td>56745.161</td>\n",
              "      <td>114.121</td>\n",
              "      <td>65.838</td>\n",
              "    </tr>\n",
              "  </tbody>\n",
              "</table>\n",
              "</div>"
            ],
            "text/plain": [
              "     Country_code Total_Population Male_Population Female_Population  \\\n",
              "1801           BI        11874.838        5894.278           5980.56   \n",
              "1873           KM          790.986         397.126            393.86   \n",
              "1945           DJ         1073.994         533.626           540.367   \n",
              "2017           ER         3498.818         1724.86          1773.958   \n",
              "2089           ET       114120.594       57375.433         56745.161   \n",
              "\n",
              "     Population_Density Life_Expectancy  \n",
              "1801            457.605          62.351  \n",
              "1873            425.033          64.068  \n",
              "1945             46.333          63.085  \n",
              "2017             28.881            67.3  \n",
              "2089            114.121          65.838  "
            ]
          },
          "execution_count": 23,
          "metadata": {},
          "output_type": "execute_result"
        }
      ],
      "source": [
        "#Observamos que tenemos decimales, por lo que deberíamos redondearlos previamente para su conversión\n",
        "df_population_limpio.head()"
      ]
    },
    {
      "cell_type": "code",
      "execution_count": 24,
      "metadata": {
        "colab": {
          "base_uri": "https://localhost:8080/"
        },
        "id": "XGTkfjlDdQjz",
        "outputId": "866e4829-b830-45f6-e377-ecce31c9c5a2"
      },
      "outputs": [
        {
          "name": "stdout",
          "output_type": "stream",
          "text": [
            "<class 'pandas.core.frame.DataFrame'>\n",
            "Index: 236 entries, 1801 to 20593\n",
            "Data columns (total 6 columns):\n",
            " #   Column              Non-Null Count  Dtype  \n",
            "---  ------              --------------  -----  \n",
            " 0   Country_code        236 non-null    object \n",
            " 1   Total_Population    236 non-null    float64\n",
            " 2   Male_Population     236 non-null    object \n",
            " 3   Female_Population   236 non-null    object \n",
            " 4   Population_Density  236 non-null    float64\n",
            " 5   Life_Expectancy     236 non-null    object \n",
            "dtypes: float64(2), object(4)\n",
            "memory usage: 12.9+ KB\n"
          ]
        }
      ],
      "source": [
        "#Primero la convertimos a float (las columnas comentadas dan un error)\n",
        "df_population_limpio = df_population_limpio.astype({\n",
        "  'Total_Population': 'float',\n",
        "  # 'Male_Population': 'float',\n",
        "  # 'Female_Population': 'float',\n",
        "  'Population_Density': 'float',\n",
        "  # 'Life_Expectancy': 'float'\n",
        "})\n",
        "df_population_limpio.info()"
      ]
    },
    {
      "cell_type": "code",
      "execution_count": 25,
      "metadata": {
        "colab": {
          "base_uri": "https://localhost:8080/",
          "height": 81
        },
        "id": "aRO_FSg9gON3",
        "outputId": "4c33b076-519b-4113-c48a-76fa3dbf15b7"
      },
      "outputs": [
        {
          "data": {
            "text/html": [
              "<div>\n",
              "<style scoped>\n",
              "    .dataframe tbody tr th:only-of-type {\n",
              "        vertical-align: middle;\n",
              "    }\n",
              "\n",
              "    .dataframe tbody tr th {\n",
              "        vertical-align: top;\n",
              "    }\n",
              "\n",
              "    .dataframe thead th {\n",
              "        text-align: right;\n",
              "    }\n",
              "</style>\n",
              "<table border=\"1\" class=\"dataframe\">\n",
              "  <thead>\n",
              "    <tr style=\"text-align: right;\">\n",
              "      <th></th>\n",
              "      <th>Country_code</th>\n",
              "      <th>Total_Population</th>\n",
              "      <th>Male_Population</th>\n",
              "      <th>Female_Population</th>\n",
              "      <th>Population_Density</th>\n",
              "      <th>Life_Expectancy</th>\n",
              "    </tr>\n",
              "  </thead>\n",
              "  <tbody>\n",
              "    <tr>\n",
              "      <th>12817</th>\n",
              "      <td>VA</td>\n",
              "      <td>0.528</td>\n",
              "      <td>...</td>\n",
              "      <td>...</td>\n",
              "      <td>1200.0</td>\n",
              "      <td>...</td>\n",
              "    </tr>\n",
              "  </tbody>\n",
              "</table>\n",
              "</div>"
            ],
            "text/plain": [
              "      Country_code  Total_Population Male_Population Female_Population  \\\n",
              "12817           VA             0.528             ...               ...   \n",
              "\n",
              "       Population_Density Life_Expectancy  \n",
              "12817              1200.0             ...  "
            ]
          },
          "execution_count": 25,
          "metadata": {},
          "output_type": "execute_result"
        }
      ],
      "source": [
        "#Detectamos que existen errores tipográficos que no pueden ser convertidos directamente en floats\n",
        "criterio = df_population_limpio['Male_Population'] == '...'\n",
        "df_population_limpio[criterio]"
      ]
    },
    {
      "cell_type": "code",
      "execution_count": 26,
      "metadata": {
        "colab": {
          "base_uri": "https://localhost:8080/"
        },
        "id": "wHTtnTC6jTJI",
        "outputId": "61c59dfc-5469-4c51-e73d-1a12b4ab90cc"
      },
      "outputs": [
        {
          "name": "stdout",
          "output_type": "stream",
          "text": [
            "<class 'pandas.core.frame.DataFrame'>\n",
            "Index: 236 entries, 1801 to 20593\n",
            "Data columns (total 6 columns):\n",
            " #   Column              Non-Null Count  Dtype  \n",
            "---  ------              --------------  -----  \n",
            " 0   Country_code        236 non-null    object \n",
            " 1   Total_Population    236 non-null    float64\n",
            " 2   Male_Population     235 non-null    float64\n",
            " 3   Female_Population   235 non-null    float64\n",
            " 4   Population_Density  236 non-null    float64\n",
            " 5   Life_Expectancy     235 non-null    float64\n",
            "dtypes: float64(5), object(1)\n",
            "memory usage: 12.9+ KB\n"
          ]
        }
      ],
      "source": [
        "#Aplicamos una conversión utilizando el método de pandas to_numeric() que nos provee manejo de éste tipo de errores\n",
        "#El parámetro errors, indica qué hacer en caso de encontrar un valor no numérico. El valor coerce, reemplazará los strings no identificados como números por NaN\n",
        "\n",
        "df_population_limpio['Male_Population'] = pd.to_numeric(df_population_limpio['Male_Population'], errors='coerce')\n",
        "df_population_limpio['Female_Population'] = pd.to_numeric(df_population_limpio['Female_Population'], errors='coerce')\n",
        "df_population_limpio['Life_Expectancy'] = pd.to_numeric(df_population_limpio['Life_Expectancy'], errors='coerce')\n",
        "\n",
        "df_population_limpio.info()"
      ]
    },
    {
      "cell_type": "code",
      "execution_count": 27,
      "metadata": {
        "colab": {
          "base_uri": "https://localhost:8080/"
        },
        "id": "rN5GSGFcnafj",
        "outputId": "854244e5-3aa0-4fbf-9871-9e4e45075496"
      },
      "outputs": [
        {
          "data": {
            "text/plain": [
              "Country_code          0\n",
              "Total_Population      0\n",
              "Male_Population       1\n",
              "Female_Population     1\n",
              "Population_Density    0\n",
              "Life_Expectancy       1\n",
              "dtype: int64"
            ]
          },
          "execution_count": 27,
          "metadata": {},
          "output_type": "execute_result"
        }
      ],
      "source": [
        "#Verificamos cuántos NaN tenemos resultado del tratamiento\n",
        "df_population_limpio.isna().sum()"
      ]
    },
    {
      "cell_type": "code",
      "execution_count": 28,
      "metadata": {
        "colab": {
          "base_uri": "https://localhost:8080/"
        },
        "id": "kt7yE_gMp1Oe",
        "outputId": "9ca4b191-3189-452a-a0ee-094f2c43c0c6"
      },
      "outputs": [
        {
          "data": {
            "text/plain": [
              "Country_code          0\n",
              "Total_Population      0\n",
              "Male_Population       0\n",
              "Female_Population     0\n",
              "Population_Density    0\n",
              "Life_Expectancy       0\n",
              "dtype: int64"
            ]
          },
          "execution_count": 28,
          "metadata": {},
          "output_type": "execute_result"
        }
      ],
      "source": [
        "#Eliminamos los NaN\n",
        "df_population_limpio.dropna(inplace=True)\n",
        "df_population_limpio.isna().sum()"
      ]
    },
    {
      "cell_type": "code",
      "execution_count": 29,
      "metadata": {
        "colab": {
          "base_uri": "https://localhost:8080/"
        },
        "id": "yWfz1LMrn-b4",
        "outputId": "daf10d27-a55f-4df4-90e3-911567b26d3d"
      },
      "outputs": [
        {
          "name": "stdout",
          "output_type": "stream",
          "text": [
            "<class 'pandas.core.frame.DataFrame'>\n",
            "Index: 235 entries, 1801 to 20593\n",
            "Data columns (total 6 columns):\n",
            " #   Column              Non-Null Count  Dtype  \n",
            "---  ------              --------------  -----  \n",
            " 0   Country_code        235 non-null    object \n",
            " 1   Total_Population    235 non-null    float64\n",
            " 2   Male_Population     235 non-null    float64\n",
            " 3   Female_Population   235 non-null    float64\n",
            " 4   Population_Density  235 non-null    float64\n",
            " 5   Life_Expectancy     235 non-null    float64\n",
            "dtypes: float64(5), object(1)\n",
            "memory usage: 12.9+ KB\n"
          ]
        }
      ],
      "source": [
        "df_population_limpio.info()"
      ]
    },
    {
      "cell_type": "code",
      "execution_count": 30,
      "metadata": {
        "colab": {
          "base_uri": "https://localhost:8080/"
        },
        "id": "J9FnkKsqnIun",
        "outputId": "04bfc4e8-9feb-40e1-efdd-b0eac59973c2"
      },
      "outputs": [
        {
          "name": "stdout",
          "output_type": "stream",
          "text": [
            "<class 'pandas.core.frame.DataFrame'>\n",
            "Index: 235 entries, 1801 to 20593\n",
            "Data columns (total 6 columns):\n",
            " #   Column              Non-Null Count  Dtype \n",
            "---  ------              --------------  ----- \n",
            " 0   Country_code        235 non-null    object\n",
            " 1   Total_Population    235 non-null    int64 \n",
            " 2   Male_Population     235 non-null    int64 \n",
            " 3   Female_Population   235 non-null    int64 \n",
            " 4   Population_Density  235 non-null    int64 \n",
            " 5   Life_Expectancy     235 non-null    int64 \n",
            "dtypes: int64(5), object(1)\n",
            "memory usage: 12.9+ KB\n"
          ]
        }
      ],
      "source": [
        "#Redondeamos los valores para arriba y convertimos en enteros\n",
        "df_population_limpio['Total_Population'] = df_population_limpio['Total_Population'].round(0).astype('int64')\n",
        "df_population_limpio['Male_Population'] = df_population_limpio['Male_Population'].round(0).astype('int64')\n",
        "df_population_limpio['Female_Population'] = df_population_limpio['Female_Population'].round(0).astype('int64')\n",
        "df_population_limpio['Population_Density'] = df_population_limpio['Population_Density'].round(0).astype('int64')\n",
        "df_population_limpio['Life_Expectancy'] = df_population_limpio['Life_Expectancy'].round(0).astype('int64')\n",
        "\n",
        "df_population_limpio.info()"
      ]
    },
    {
      "cell_type": "code",
      "execution_count": 31,
      "metadata": {
        "colab": {
          "base_uri": "https://localhost:8080/",
          "height": 206
        },
        "id": "IsWDjfhsoTdb",
        "outputId": "0c531080-0150-4ef1-e62e-50e3a839089b"
      },
      "outputs": [
        {
          "data": {
            "text/html": [
              "<div>\n",
              "<style scoped>\n",
              "    .dataframe tbody tr th:only-of-type {\n",
              "        vertical-align: middle;\n",
              "    }\n",
              "\n",
              "    .dataframe tbody tr th {\n",
              "        vertical-align: top;\n",
              "    }\n",
              "\n",
              "    .dataframe thead th {\n",
              "        text-align: right;\n",
              "    }\n",
              "</style>\n",
              "<table border=\"1\" class=\"dataframe\">\n",
              "  <thead>\n",
              "    <tr style=\"text-align: right;\">\n",
              "      <th></th>\n",
              "      <th>Country_code</th>\n",
              "      <th>Total_Population</th>\n",
              "      <th>Male_Population</th>\n",
              "      <th>Female_Population</th>\n",
              "      <th>Population_Density</th>\n",
              "      <th>Life_Expectancy</th>\n",
              "    </tr>\n",
              "  </thead>\n",
              "  <tbody>\n",
              "    <tr>\n",
              "      <th>1801</th>\n",
              "      <td>BI</td>\n",
              "      <td>11875</td>\n",
              "      <td>5894</td>\n",
              "      <td>5981</td>\n",
              "      <td>458</td>\n",
              "      <td>62</td>\n",
              "    </tr>\n",
              "    <tr>\n",
              "      <th>1873</th>\n",
              "      <td>KM</td>\n",
              "      <td>791</td>\n",
              "      <td>397</td>\n",
              "      <td>394</td>\n",
              "      <td>425</td>\n",
              "      <td>64</td>\n",
              "    </tr>\n",
              "    <tr>\n",
              "      <th>1945</th>\n",
              "      <td>DJ</td>\n",
              "      <td>1074</td>\n",
              "      <td>534</td>\n",
              "      <td>540</td>\n",
              "      <td>46</td>\n",
              "      <td>63</td>\n",
              "    </tr>\n",
              "    <tr>\n",
              "      <th>2017</th>\n",
              "      <td>ER</td>\n",
              "      <td>3499</td>\n",
              "      <td>1725</td>\n",
              "      <td>1774</td>\n",
              "      <td>29</td>\n",
              "      <td>67</td>\n",
              "    </tr>\n",
              "    <tr>\n",
              "      <th>2089</th>\n",
              "      <td>ET</td>\n",
              "      <td>114121</td>\n",
              "      <td>57375</td>\n",
              "      <td>56745</td>\n",
              "      <td>114</td>\n",
              "      <td>66</td>\n",
              "    </tr>\n",
              "  </tbody>\n",
              "</table>\n",
              "</div>"
            ],
            "text/plain": [
              "     Country_code  Total_Population  Male_Population  Female_Population  \\\n",
              "1801           BI             11875             5894               5981   \n",
              "1873           KM               791              397                394   \n",
              "1945           DJ              1074              534                540   \n",
              "2017           ER              3499             1725               1774   \n",
              "2089           ET            114121            57375              56745   \n",
              "\n",
              "      Population_Density  Life_Expectancy  \n",
              "1801                 458               62  \n",
              "1873                 425               64  \n",
              "1945                  46               63  \n",
              "2017                  29               67  \n",
              "2089                 114               66  "
            ]
          },
          "execution_count": 31,
          "metadata": {},
          "output_type": "execute_result"
        }
      ],
      "source": [
        "df_population_limpio.head()"
      ]
    },
    {
      "cell_type": "markdown",
      "metadata": {
        "id": "XE9DU_Xro2P_"
      },
      "source": [
        "#### 1.5. Multiplicamos por 1000 las columnas 'Total_Population', 'Male_Population' y 'Female_Population'"
      ]
    },
    {
      "cell_type": "code",
      "execution_count": 32,
      "metadata": {
        "colab": {
          "base_uri": "https://localhost:8080/",
          "height": 206
        },
        "id": "oLsdbq1ZpF0X",
        "outputId": "87dfae06-f3b5-4eef-a9b7-7dc6f1dc71a2"
      },
      "outputs": [
        {
          "data": {
            "text/html": [
              "<div>\n",
              "<style scoped>\n",
              "    .dataframe tbody tr th:only-of-type {\n",
              "        vertical-align: middle;\n",
              "    }\n",
              "\n",
              "    .dataframe tbody tr th {\n",
              "        vertical-align: top;\n",
              "    }\n",
              "\n",
              "    .dataframe thead th {\n",
              "        text-align: right;\n",
              "    }\n",
              "</style>\n",
              "<table border=\"1\" class=\"dataframe\">\n",
              "  <thead>\n",
              "    <tr style=\"text-align: right;\">\n",
              "      <th></th>\n",
              "      <th>Country_code</th>\n",
              "      <th>Total_Population</th>\n",
              "      <th>Male_Population</th>\n",
              "      <th>Female_Population</th>\n",
              "      <th>Population_Density</th>\n",
              "      <th>Life_Expectancy</th>\n",
              "    </tr>\n",
              "  </thead>\n",
              "  <tbody>\n",
              "    <tr>\n",
              "      <th>1801</th>\n",
              "      <td>BI</td>\n",
              "      <td>11875000</td>\n",
              "      <td>5894000</td>\n",
              "      <td>5981000</td>\n",
              "      <td>458</td>\n",
              "      <td>62</td>\n",
              "    </tr>\n",
              "    <tr>\n",
              "      <th>1873</th>\n",
              "      <td>KM</td>\n",
              "      <td>791000</td>\n",
              "      <td>397000</td>\n",
              "      <td>394000</td>\n",
              "      <td>425</td>\n",
              "      <td>64</td>\n",
              "    </tr>\n",
              "    <tr>\n",
              "      <th>1945</th>\n",
              "      <td>DJ</td>\n",
              "      <td>1074000</td>\n",
              "      <td>534000</td>\n",
              "      <td>540000</td>\n",
              "      <td>46</td>\n",
              "      <td>63</td>\n",
              "    </tr>\n",
              "    <tr>\n",
              "      <th>2017</th>\n",
              "      <td>ER</td>\n",
              "      <td>3499000</td>\n",
              "      <td>1725000</td>\n",
              "      <td>1774000</td>\n",
              "      <td>29</td>\n",
              "      <td>67</td>\n",
              "    </tr>\n",
              "    <tr>\n",
              "      <th>2089</th>\n",
              "      <td>ET</td>\n",
              "      <td>114121000</td>\n",
              "      <td>57375000</td>\n",
              "      <td>56745000</td>\n",
              "      <td>114</td>\n",
              "      <td>66</td>\n",
              "    </tr>\n",
              "  </tbody>\n",
              "</table>\n",
              "</div>"
            ],
            "text/plain": [
              "     Country_code  Total_Population  Male_Population  Female_Population  \\\n",
              "1801           BI          11875000          5894000            5981000   \n",
              "1873           KM            791000           397000             394000   \n",
              "1945           DJ           1074000           534000             540000   \n",
              "2017           ER           3499000          1725000            1774000   \n",
              "2089           ET         114121000         57375000           56745000   \n",
              "\n",
              "      Population_Density  Life_Expectancy  \n",
              "1801                 458               62  \n",
              "1873                 425               64  \n",
              "1945                  46               63  \n",
              "2017                  29               67  \n",
              "2089                 114               66  "
            ]
          },
          "execution_count": 32,
          "metadata": {},
          "output_type": "execute_result"
        }
      ],
      "source": [
        "df_population_limpio[['Total_Population','Male_Population','Female_Population']] = df_population_limpio[['Total_Population','Male_Population','Female_Population']]*1000\n",
        "df_population_limpio.head()"
      ]
    },
    {
      "cell_type": "markdown",
      "metadata": {
        "id": "uwQv14lspXdT"
      },
      "source": [
        "#### 1.6. Eliminar todos los registros nulos"
      ]
    },
    {
      "cell_type": "code",
      "execution_count": 33,
      "metadata": {
        "colab": {
          "base_uri": "https://localhost:8080/"
        },
        "id": "40m99WBtpbPr",
        "outputId": "76188117-a2bb-4d21-faca-f190b541fe06"
      },
      "outputs": [
        {
          "data": {
            "text/plain": [
              "Country_code          0\n",
              "Total_Population      0\n",
              "Male_Population       0\n",
              "Female_Population     0\n",
              "Population_Density    0\n",
              "Life_Expectancy       0\n",
              "dtype: int64"
            ]
          },
          "execution_count": 33,
          "metadata": {},
          "output_type": "execute_result"
        }
      ],
      "source": [
        "#No contamos con registros nulos porque ya los tratamos ni bien los identficamos\n",
        "df_population_limpio.isna().sum()"
      ]
    },
    {
      "cell_type": "markdown",
      "metadata": {
        "id": "XfeeMDJpqAsz"
      },
      "source": [
        "#### 1.7. Reiniciamos los índices"
      ]
    },
    {
      "cell_type": "code",
      "execution_count": 34,
      "metadata": {
        "colab": {
          "base_uri": "https://localhost:8080/",
          "height": 206
        },
        "id": "_1oVEC_Up8y3",
        "outputId": "d2cdf010-70f0-429d-abfd-7a006447ca89"
      },
      "outputs": [
        {
          "data": {
            "text/html": [
              "<div>\n",
              "<style scoped>\n",
              "    .dataframe tbody tr th:only-of-type {\n",
              "        vertical-align: middle;\n",
              "    }\n",
              "\n",
              "    .dataframe tbody tr th {\n",
              "        vertical-align: top;\n",
              "    }\n",
              "\n",
              "    .dataframe thead th {\n",
              "        text-align: right;\n",
              "    }\n",
              "</style>\n",
              "<table border=\"1\" class=\"dataframe\">\n",
              "  <thead>\n",
              "    <tr style=\"text-align: right;\">\n",
              "      <th></th>\n",
              "      <th>Country_code</th>\n",
              "      <th>Total_Population</th>\n",
              "      <th>Male_Population</th>\n",
              "      <th>Female_Population</th>\n",
              "      <th>Population_Density</th>\n",
              "      <th>Life_Expectancy</th>\n",
              "    </tr>\n",
              "  </thead>\n",
              "  <tbody>\n",
              "    <tr>\n",
              "      <th>0</th>\n",
              "      <td>BI</td>\n",
              "      <td>11875000</td>\n",
              "      <td>5894000</td>\n",
              "      <td>5981000</td>\n",
              "      <td>458</td>\n",
              "      <td>62</td>\n",
              "    </tr>\n",
              "    <tr>\n",
              "      <th>1</th>\n",
              "      <td>KM</td>\n",
              "      <td>791000</td>\n",
              "      <td>397000</td>\n",
              "      <td>394000</td>\n",
              "      <td>425</td>\n",
              "      <td>64</td>\n",
              "    </tr>\n",
              "    <tr>\n",
              "      <th>2</th>\n",
              "      <td>DJ</td>\n",
              "      <td>1074000</td>\n",
              "      <td>534000</td>\n",
              "      <td>540000</td>\n",
              "      <td>46</td>\n",
              "      <td>63</td>\n",
              "    </tr>\n",
              "    <tr>\n",
              "      <th>3</th>\n",
              "      <td>ER</td>\n",
              "      <td>3499000</td>\n",
              "      <td>1725000</td>\n",
              "      <td>1774000</td>\n",
              "      <td>29</td>\n",
              "      <td>67</td>\n",
              "    </tr>\n",
              "    <tr>\n",
              "      <th>4</th>\n",
              "      <td>ET</td>\n",
              "      <td>114121000</td>\n",
              "      <td>57375000</td>\n",
              "      <td>56745000</td>\n",
              "      <td>114</td>\n",
              "      <td>66</td>\n",
              "    </tr>\n",
              "  </tbody>\n",
              "</table>\n",
              "</div>"
            ],
            "text/plain": [
              "  Country_code  Total_Population  Male_Population  Female_Population  \\\n",
              "0           BI          11875000          5894000            5981000   \n",
              "1           KM            791000           397000             394000   \n",
              "2           DJ           1074000           534000             540000   \n",
              "3           ER           3499000          1725000            1774000   \n",
              "4           ET         114121000         57375000           56745000   \n",
              "\n",
              "   Population_Density  Life_Expectancy  \n",
              "0                 458               62  \n",
              "1                 425               64  \n",
              "2                  46               63  \n",
              "3                  29               67  \n",
              "4                 114               66  "
            ]
          },
          "execution_count": 34,
          "metadata": {},
          "output_type": "execute_result"
        }
      ],
      "source": [
        "df_population_limpio.reset_index(inplace=True, drop=True)\n",
        "df_population_limpio.head()"
      ]
    },
    {
      "cell_type": "code",
      "execution_count": 82,
      "metadata": {},
      "outputs": [],
      "source": [
        "df_population_limpio.to_csv('population_clean.csv', sep=';', index=False)"
      ]
    }
  ],
  "metadata": {
    "colab": {
      "provenance": []
    },
    "kernelspec": {
      "display_name": "Python 3",
      "name": "python3"
    },
    "language_info": {
      "codemirror_mode": {
        "name": "ipython",
        "version": 3
      },
      "file_extension": ".py",
      "mimetype": "text/x-python",
      "name": "python",
      "nbconvert_exporter": "python",
      "pygments_lexer": "ipython3",
      "version": "3.12.0"
    }
  },
  "nbformat": 4,
  "nbformat_minor": 0
}
