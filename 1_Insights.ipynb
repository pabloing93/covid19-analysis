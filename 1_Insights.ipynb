{
 "cells": [
  {
   "cell_type": "markdown",
   "metadata": {},
   "source": [
    "## Insight 1\n",
    "### ¿Cómo ha evolucionado el Covid-19 en Argentina y Colombia en comparación con el impacto observado a nivel global?"
   ]
  },
  {
   "cell_type": "markdown",
   "metadata": {},
   "source": [
    "Importamos librerías"
   ]
  },
  {
   "cell_type": "code",
   "execution_count": 129,
   "metadata": {},
   "outputs": [],
   "source": [
    "import pandas as pd\n",
    "import matplotlib.pyplot as plt\n",
    "import numpy as np\n",
    "import warnings\n",
    "warnings.filterwarnings(\"ignore\")"
   ]
  },
  {
   "cell_type": "markdown",
   "metadata": {},
   "source": [
    "Importamos los datos "
   ]
  },
  {
   "cell_type": "code",
   "execution_count": 130,
   "metadata": {},
   "outputs": [],
   "source": [
    "df_covid_limpio = pd.read_csv('covid_clean.csv', sep=';')"
   ]
  },
  {
   "cell_type": "markdown",
   "metadata": {},
   "source": [
    "Verificamos las estructuras de datos"
   ]
  },
  {
   "cell_type": "code",
   "execution_count": 131,
   "metadata": {},
   "outputs": [
    {
     "name": "stdout",
     "output_type": "stream",
     "text": [
      "<class 'pandas.core.frame.DataFrame'>\n",
      "RangeIndex: 48902 entries, 0 to 48901\n",
      "Data columns (total 8 columns):\n",
      " #   Column             Non-Null Count  Dtype  \n",
      "---  ------             --------------  -----  \n",
      " 0   Date_reported      48902 non-null  object \n",
      " 1   Country_code       48902 non-null  object \n",
      " 2   Country            48902 non-null  object \n",
      " 3   New_cases          48902 non-null  int64  \n",
      " 4   Cumulative_cases   48902 non-null  int64  \n",
      " 5   New_deaths         48902 non-null  int64  \n",
      " 6   Cumulative_deaths  48902 non-null  int64  \n",
      " 7   lethality_rate     48902 non-null  float64\n",
      "dtypes: float64(1), int64(4), object(3)\n",
      "memory usage: 3.0+ MB\n"
     ]
    }
   ],
   "source": [
    "df_covid_limpio.info()"
   ]
  },
  {
   "cell_type": "markdown",
   "metadata": {},
   "source": [
    "Convertimos Date_reported a DateTime"
   ]
  },
  {
   "cell_type": "code",
   "execution_count": 132,
   "metadata": {},
   "outputs": [
    {
     "name": "stdout",
     "output_type": "stream",
     "text": [
      "<class 'pandas.core.frame.DataFrame'>\n",
      "RangeIndex: 48902 entries, 0 to 48901\n",
      "Data columns (total 8 columns):\n",
      " #   Column             Non-Null Count  Dtype         \n",
      "---  ------             --------------  -----         \n",
      " 0   Date_reported      48902 non-null  datetime64[ns]\n",
      " 1   Country_code       48902 non-null  object        \n",
      " 2   Country            48902 non-null  object        \n",
      " 3   New_cases          48902 non-null  int64         \n",
      " 4   Cumulative_cases   48902 non-null  int64         \n",
      " 5   New_deaths         48902 non-null  int64         \n",
      " 6   Cumulative_deaths  48902 non-null  int64         \n",
      " 7   lethality_rate     48902 non-null  float64       \n",
      "dtypes: datetime64[ns](1), float64(1), int64(4), object(2)\n",
      "memory usage: 3.0+ MB\n"
     ]
    }
   ],
   "source": [
    "df_covid_limpio['Date_reported'] = pd.to_datetime(df_covid_limpio['Date_reported'])\n",
    "df_covid_limpio.info()"
   ]
  },
  {
   "cell_type": "markdown",
   "metadata": {},
   "source": [
    "### Worldwide Cases Distribution"
   ]
  },
  {
   "cell_type": "code",
   "execution_count": 133,
   "metadata": {},
   "outputs": [
    {
     "data": {
      "text/html": [
       "<div>\n",
       "<style scoped>\n",
       "    .dataframe tbody tr th:only-of-type {\n",
       "        vertical-align: middle;\n",
       "    }\n",
       "\n",
       "    .dataframe tbody tr th {\n",
       "        vertical-align: top;\n",
       "    }\n",
       "\n",
       "    .dataframe thead th {\n",
       "        text-align: right;\n",
       "    }\n",
       "</style>\n",
       "<table border=\"1\" class=\"dataframe\">\n",
       "  <thead>\n",
       "    <tr style=\"text-align: right;\">\n",
       "      <th></th>\n",
       "      <th>Date_reported</th>\n",
       "      <th>Country_code</th>\n",
       "      <th>Country</th>\n",
       "      <th>New_cases</th>\n",
       "      <th>Cumulative_cases</th>\n",
       "      <th>New_deaths</th>\n",
       "      <th>Cumulative_deaths</th>\n",
       "      <th>lethality_rate</th>\n",
       "    </tr>\n",
       "  </thead>\n",
       "  <tbody>\n",
       "    <tr>\n",
       "      <th>0</th>\n",
       "      <td>2020-01-05</td>\n",
       "      <td>AF</td>\n",
       "      <td>Afghanistan</td>\n",
       "      <td>0</td>\n",
       "      <td>0</td>\n",
       "      <td>0</td>\n",
       "      <td>0</td>\n",
       "      <td>0.0</td>\n",
       "    </tr>\n",
       "    <tr>\n",
       "      <th>1</th>\n",
       "      <td>2020-01-12</td>\n",
       "      <td>AF</td>\n",
       "      <td>Afghanistan</td>\n",
       "      <td>0</td>\n",
       "      <td>0</td>\n",
       "      <td>0</td>\n",
       "      <td>0</td>\n",
       "      <td>0.0</td>\n",
       "    </tr>\n",
       "    <tr>\n",
       "      <th>2</th>\n",
       "      <td>2020-01-19</td>\n",
       "      <td>AF</td>\n",
       "      <td>Afghanistan</td>\n",
       "      <td>0</td>\n",
       "      <td>0</td>\n",
       "      <td>0</td>\n",
       "      <td>0</td>\n",
       "      <td>0.0</td>\n",
       "    </tr>\n",
       "    <tr>\n",
       "      <th>3</th>\n",
       "      <td>2020-01-26</td>\n",
       "      <td>AF</td>\n",
       "      <td>Afghanistan</td>\n",
       "      <td>0</td>\n",
       "      <td>0</td>\n",
       "      <td>0</td>\n",
       "      <td>0</td>\n",
       "      <td>0.0</td>\n",
       "    </tr>\n",
       "    <tr>\n",
       "      <th>4</th>\n",
       "      <td>2020-02-02</td>\n",
       "      <td>AF</td>\n",
       "      <td>Afghanistan</td>\n",
       "      <td>0</td>\n",
       "      <td>0</td>\n",
       "      <td>0</td>\n",
       "      <td>0</td>\n",
       "      <td>0.0</td>\n",
       "    </tr>\n",
       "  </tbody>\n",
       "</table>\n",
       "</div>"
      ],
      "text/plain": [
       "  Date_reported Country_code      Country  New_cases  Cumulative_cases  \\\n",
       "0    2020-01-05           AF  Afghanistan          0                 0   \n",
       "1    2020-01-12           AF  Afghanistan          0                 0   \n",
       "2    2020-01-19           AF  Afghanistan          0                 0   \n",
       "3    2020-01-26           AF  Afghanistan          0                 0   \n",
       "4    2020-02-02           AF  Afghanistan          0                 0   \n",
       "\n",
       "   New_deaths  Cumulative_deaths  lethality_rate  \n",
       "0           0                  0             0.0  \n",
       "1           0                  0             0.0  \n",
       "2           0                  0             0.0  \n",
       "3           0                  0             0.0  \n",
       "4           0                  0             0.0  "
      ]
     },
     "execution_count": 133,
     "metadata": {},
     "output_type": "execute_result"
    }
   ],
   "source": [
    "df_covid_limpio.head()"
   ]
  },
  {
   "cell_type": "code",
   "execution_count": 134,
   "metadata": {},
   "outputs": [],
   "source": [
    "total_por_pais = df_covid_limpio.groupby('Country')\n",
    "total_por_pais = total_por_pais['Cumulative_cases'].max().sort_values(ascending = False)"
   ]
  },
  {
   "cell_type": "code",
   "execution_count": 135,
   "metadata": {},
   "outputs": [
    {
     "data": {
      "text/plain": [
       "Country\n",
       "United States of America                                103436829\n",
       "China                                                    99326423\n",
       "India                                                    45023751\n",
       "France                                                   38997490\n",
       "Germany                                                  38437756\n",
       "Brazil                                                   37519960\n",
       "Republic of Korea                                        34571873\n",
       "Japan                                                    33803572\n",
       "Italy                                                    26693706\n",
       "United Kingdom of Great Britain and Northern Ireland     24885790\n",
       "Name: Cumulative_cases, dtype: int64"
      ]
     },
     "execution_count": 135,
     "metadata": {},
     "output_type": "execute_result"
    }
   ],
   "source": [
    "top_10_paises = total_por_pais.nlargest(10)\n",
    "top_10_paises"
   ]
  },
  {
   "cell_type": "code",
   "execution_count": 136,
   "metadata": {},
   "outputs": [
    {
     "data": {
      "text/plain": [
       "Country\n",
       "United States of America                                103436829\n",
       "China                                                    99326423\n",
       "India                                                    45023751\n",
       "France                                                   38997490\n",
       "Germany                                                  38437756\n",
       "Brazil                                                   37519960\n",
       "Republic of Korea                                        34571873\n",
       "Japan                                                    33803572\n",
       "Italy                                                    26693706\n",
       "United Kingdom of Great Britain and Northern Ireland     24885790\n",
       "Otros                                                   291519855\n",
       "Name: Cumulative_cases, dtype: int64"
      ]
     },
     "execution_count": 136,
     "metadata": {},
     "output_type": "execute_result"
    }
   ],
   "source": [
    "otros = total_por_pais.drop(top_10_paises.index).sum() #esto sería el total de casos acumulados mundialmente\n",
    "top_10_paises['Otros'] = otros\n",
    "top_10_paises"
   ]
  },
  {
   "cell_type": "markdown",
   "metadata": {},
   "source": [
    "Analizamos la evolución de los casos en Argentina"
   ]
  },
  {
   "cell_type": "code",
   "execution_count": 137,
   "metadata": {},
   "outputs": [
    {
     "data": {
      "text/plain": [
       "Country\n",
       "Argentina    10081076\n",
       "Name: Cumulative_cases, dtype: int64"
      ]
     },
     "execution_count": 137,
     "metadata": {},
     "output_type": "execute_result"
    }
   ],
   "source": [
    "# Se crea la variable ARG\n",
    "ARG =  df_covid_limpio['Country'] == 'Argentina'\n",
    "ARG = df_covid_limpio[ARG]\n",
    "ARG = ARG.groupby('Country')\n",
    "ARG = ARG['Cumulative_cases'].max()\n",
    "ARG"
   ]
  },
  {
   "cell_type": "markdown",
   "metadata": {},
   "source": [
    "Analizamos la evolución de los casos en Colombia"
   ]
  },
  {
   "cell_type": "code",
   "execution_count": 138,
   "metadata": {},
   "outputs": [
    {
     "data": {
      "text/plain": [
       "Country\n",
       "Colombia    6391672\n",
       "Name: Cumulative_cases, dtype: int64"
      ]
     },
     "execution_count": 138,
     "metadata": {},
     "output_type": "execute_result"
    }
   ],
   "source": [
    "#Se crea la variable COL\n",
    "COL =  df_covid_limpio['Country'] == 'Colombia'\n",
    "COL = df_covid_limpio[COL]\n",
    "COL = COL.groupby('Country')\n",
    "COL = COL['Cumulative_cases'].max()\n",
    "COL"
   ]
  },
  {
   "cell_type": "markdown",
   "metadata": {},
   "source": [
    "Argentina y Colombia vs TOP 10 paises con mayores contagios a nivel mundial"
   ]
  },
  {
   "cell_type": "code",
   "execution_count": 139,
   "metadata": {},
   "outputs": [
    {
     "data": {
      "text/plain": [
       "Country\n",
       "United States of America                                103436829\n",
       "China                                                    99326423\n",
       "India                                                    45023751\n",
       "France                                                   38997490\n",
       "Germany                                                  38437756\n",
       "Brazil                                                   37519960\n",
       "Republic of Korea                                        34571873\n",
       "Japan                                                    33803572\n",
       "Italy                                                    26693706\n",
       "United Kingdom of Great Britain and Northern Ireland     24885790\n",
       "Argentina                                                10081076\n",
       "Colombia                                                  6391672\n",
       "Otros                                                   275047107\n",
       "Name: Cumulative_cases, dtype: int64"
      ]
     },
     "execution_count": 139,
     "metadata": {},
     "output_type": "execute_result"
    }
   ],
   "source": [
    "top_10_paises_col_arg = top_10_paises.copy()\n",
    "#Se agrega la Fila 'Argentina'\n",
    "top_10_paises_col_arg['Argentina'] = np.sum(ARG)\n",
    "#Se agrega la Fila 'Colombia'\n",
    "top_10_paises_col_arg['Colombia'] = np.sum(COL)\n",
    "#Se elimina la fila 'Otros' para su remplazo\n",
    "top_10_paises_col_arg = top_10_paises_col_arg.drop('Otros')\n",
    "#Se le resta la información de la fila 'Otros' del DataFrame 'top_10_paises' con el total de 'Cumulative_cases' en Colombia y Argentina\n",
    "otros = top_10_paises['Otros'] - top_10_paises_col_arg['Colombia'] - top_10_paises_col_arg['Argentina']\n",
    "# Se actualiza la fila 'Otros' con la información\n",
    "top_10_paises_col_arg['Otros'] = otros\n",
    "top_10_paises_col_arg"
   ]
  },
  {
   "cell_type": "code",
   "execution_count": 140,
   "metadata": {},
   "outputs": [
    {
     "data": {
      "text/plain": [
       "Country\n",
       "Argentina    10081076\n",
       "Colombia      6391672\n",
       "Name: Cumulative_cases, dtype: int64"
      ]
     },
     "execution_count": 140,
     "metadata": {},
     "output_type": "execute_result"
    }
   ],
   "source": [
    "col_arg_cases = top_10_paises_col_arg.copy()\n",
    "\n",
    "not_col_arg = []\n",
    "for country, cases in top_10_paises_col_arg.items():\n",
    "  if (country not in['Argentina', 'Colombia']):\n",
    "    not_col_arg.append(country)\n",
    "\n",
    "col_arg_cases = col_arg_cases.drop(not_col_arg)\n",
    "col_arg_cases"
   ]
  },
  {
   "cell_type": "markdown",
   "metadata": {},
   "source": [
    "### Case Progression by Country"
   ]
  },
  {
   "cell_type": "code",
   "execution_count": 141,
   "metadata": {},
   "outputs": [],
   "source": [
    "total_por_país = df_covid_limpio.groupby('Country')\n",
    "total_por_país\n",
    "total_por_país=total_por_país['Cumulative_cases'].max().sort_values(ascending = False)"
   ]
  },
  {
   "cell_type": "code",
   "execution_count": 142,
   "metadata": {},
   "outputs": [
    {
     "data": {
      "text/plain": [
       "Country\n",
       "United States of America    103436829\n",
       "China                        99326423\n",
       "India                        45023751\n",
       "France                       38997490\n",
       "Germany                      38437756\n",
       "Name: Cumulative_cases, dtype: int64"
      ]
     },
     "execution_count": 142,
     "metadata": {},
     "output_type": "execute_result"
    }
   ],
   "source": [
    "top_5_paises = total_por_país.head(5)\n",
    "top_5_paises"
   ]
  },
  {
   "cell_type": "code",
   "execution_count": 143,
   "metadata": {},
   "outputs": [],
   "source": [
    "top_5_paises_col_arg = top_5_paises.copy()\n",
    "top_5_paises_col_arg['Argentina'] = np.sum(ARG)\n",
    "top_5_paises_col_arg['Colombia'] = np.sum(COL)"
   ]
  },
  {
   "cell_type": "code",
   "execution_count": 144,
   "metadata": {},
   "outputs": [
    {
     "data": {
      "text/plain": [
       "Country\n",
       "United States of America    103436829\n",
       "China                        99326423\n",
       "India                        45023751\n",
       "France                       38997490\n",
       "Germany                      38437756\n",
       "Argentina                    10081076\n",
       "Colombia                      6391672\n",
       "Name: Cumulative_cases, dtype: int64"
      ]
     },
     "execution_count": 144,
     "metadata": {},
     "output_type": "execute_result"
    }
   ],
   "source": [
    "top_5_paises_col_arg"
   ]
  },
  {
   "cell_type": "code",
   "execution_count": 145,
   "metadata": {},
   "outputs": [
    {
     "data": {
      "text/plain": [
       "Country\n",
       "Argentina    10081076\n",
       "Colombia      6391672\n",
       "Name: Cumulative_cases, dtype: int64"
      ]
     },
     "execution_count": 145,
     "metadata": {},
     "output_type": "execute_result"
    }
   ],
   "source": [
    "col_arg_cases_line = top_5_paises_col_arg.copy()\n",
    "\n",
    "not_col_arg = []\n",
    "for country, cases in top_5_paises_col_arg.items():\n",
    "  if (country not in['Argentina', 'Colombia']):\n",
    "    not_col_arg.append(country)\n",
    "\n",
    "col_arg_cases_line = col_arg_cases_line.drop(not_col_arg)\n",
    "col_arg_cases_line"
   ]
  },
  {
   "cell_type": "code",
   "execution_count": 146,
   "metadata": {},
   "outputs": [
    {
     "data": {
      "text/html": [
       "<div>\n",
       "<style scoped>\n",
       "    .dataframe tbody tr th:only-of-type {\n",
       "        vertical-align: middle;\n",
       "    }\n",
       "\n",
       "    .dataframe tbody tr th {\n",
       "        vertical-align: top;\n",
       "    }\n",
       "\n",
       "    .dataframe thead th {\n",
       "        text-align: right;\n",
       "    }\n",
       "</style>\n",
       "<table border=\"1\" class=\"dataframe\">\n",
       "  <thead>\n",
       "    <tr style=\"text-align: right;\">\n",
       "      <th></th>\n",
       "      <th>Date_reported</th>\n",
       "      <th>Country_code</th>\n",
       "      <th>Country</th>\n",
       "      <th>New_cases</th>\n",
       "      <th>Cumulative_cases</th>\n",
       "      <th>New_deaths</th>\n",
       "      <th>Cumulative_deaths</th>\n",
       "      <th>lethality_rate</th>\n",
       "    </tr>\n",
       "  </thead>\n",
       "  <tbody>\n",
       "    <tr>\n",
       "      <th>0</th>\n",
       "      <td>2020-01-05</td>\n",
       "      <td>AF</td>\n",
       "      <td>Afghanistan</td>\n",
       "      <td>0</td>\n",
       "      <td>0</td>\n",
       "      <td>0</td>\n",
       "      <td>0</td>\n",
       "      <td>0.0</td>\n",
       "    </tr>\n",
       "    <tr>\n",
       "      <th>1</th>\n",
       "      <td>2020-01-12</td>\n",
       "      <td>AF</td>\n",
       "      <td>Afghanistan</td>\n",
       "      <td>0</td>\n",
       "      <td>0</td>\n",
       "      <td>0</td>\n",
       "      <td>0</td>\n",
       "      <td>0.0</td>\n",
       "    </tr>\n",
       "    <tr>\n",
       "      <th>2</th>\n",
       "      <td>2020-01-19</td>\n",
       "      <td>AF</td>\n",
       "      <td>Afghanistan</td>\n",
       "      <td>0</td>\n",
       "      <td>0</td>\n",
       "      <td>0</td>\n",
       "      <td>0</td>\n",
       "      <td>0.0</td>\n",
       "    </tr>\n",
       "    <tr>\n",
       "      <th>3</th>\n",
       "      <td>2020-01-26</td>\n",
       "      <td>AF</td>\n",
       "      <td>Afghanistan</td>\n",
       "      <td>0</td>\n",
       "      <td>0</td>\n",
       "      <td>0</td>\n",
       "      <td>0</td>\n",
       "      <td>0.0</td>\n",
       "    </tr>\n",
       "    <tr>\n",
       "      <th>4</th>\n",
       "      <td>2020-02-02</td>\n",
       "      <td>AF</td>\n",
       "      <td>Afghanistan</td>\n",
       "      <td>0</td>\n",
       "      <td>0</td>\n",
       "      <td>0</td>\n",
       "      <td>0</td>\n",
       "      <td>0.0</td>\n",
       "    </tr>\n",
       "  </tbody>\n",
       "</table>\n",
       "</div>"
      ],
      "text/plain": [
       "  Date_reported Country_code      Country  New_cases  Cumulative_cases  \\\n",
       "0    2020-01-05           AF  Afghanistan          0                 0   \n",
       "1    2020-01-12           AF  Afghanistan          0                 0   \n",
       "2    2020-01-19           AF  Afghanistan          0                 0   \n",
       "3    2020-01-26           AF  Afghanistan          0                 0   \n",
       "4    2020-02-02           AF  Afghanistan          0                 0   \n",
       "\n",
       "   New_deaths  Cumulative_deaths  lethality_rate  \n",
       "0           0                  0             0.0  \n",
       "1           0                  0             0.0  \n",
       "2           0                  0             0.0  \n",
       "3           0                  0             0.0  \n",
       "4           0                  0             0.0  "
      ]
     },
     "execution_count": 146,
     "metadata": {},
     "output_type": "execute_result"
    }
   ],
   "source": [
    "df_covid_limpio_reset = df_covid_limpio.reset_index(drop=True)\n",
    "df_covid_limpio_reset.head()"
   ]
  },
  {
   "cell_type": "code",
   "execution_count": 147,
   "metadata": {},
   "outputs": [
    {
     "name": "stdout",
     "output_type": "stream",
     "text": [
      "<class 'pandas.core.frame.DataFrame'>\n",
      "RangeIndex: 48902 entries, 0 to 48901\n",
      "Data columns (total 8 columns):\n",
      " #   Column             Non-Null Count  Dtype         \n",
      "---  ------             --------------  -----         \n",
      " 0   Date_reported      48902 non-null  datetime64[ns]\n",
      " 1   Country_code       48902 non-null  object        \n",
      " 2   Country            48902 non-null  object        \n",
      " 3   New_cases          48902 non-null  int64         \n",
      " 4   Cumulative_cases   48902 non-null  int64         \n",
      " 5   New_deaths         48902 non-null  int64         \n",
      " 6   Cumulative_deaths  48902 non-null  int64         \n",
      " 7   lethality_rate     48902 non-null  float64       \n",
      "dtypes: datetime64[ns](1), float64(1), int64(4), object(2)\n",
      "memory usage: 3.0+ MB\n"
     ]
    }
   ],
   "source": [
    "df_covid_limpio_reset.info()"
   ]
  },
  {
   "cell_type": "code",
   "execution_count": 148,
   "metadata": {},
   "outputs": [
    {
     "data": {
      "text/plain": [
       "Index(['United States of America', 'China', 'India', 'France', 'Germany',\n",
       "       'Argentina', 'Colombia'],\n",
       "      dtype='object', name='Country')"
      ]
     },
     "execution_count": 148,
     "metadata": {},
     "output_type": "execute_result"
    }
   ],
   "source": [
    "top_5_paises_col_arg.index"
   ]
  },
  {
   "cell_type": "code",
   "execution_count": 149,
   "metadata": {},
   "outputs": [
    {
     "data": {
      "text/html": [
       "<div>\n",
       "<style scoped>\n",
       "    .dataframe tbody tr th:only-of-type {\n",
       "        vertical-align: middle;\n",
       "    }\n",
       "\n",
       "    .dataframe tbody tr th {\n",
       "        vertical-align: top;\n",
       "    }\n",
       "\n",
       "    .dataframe thead th {\n",
       "        text-align: right;\n",
       "    }\n",
       "</style>\n",
       "<table border=\"1\" class=\"dataframe\">\n",
       "  <thead>\n",
       "    <tr style=\"text-align: right;\">\n",
       "      <th></th>\n",
       "      <th>Date_reported</th>\n",
       "      <th>Country_code</th>\n",
       "      <th>Country</th>\n",
       "      <th>New_cases</th>\n",
       "      <th>Cumulative_cases</th>\n",
       "      <th>New_deaths</th>\n",
       "      <th>Cumulative_deaths</th>\n",
       "      <th>lethality_rate</th>\n",
       "    </tr>\n",
       "  </thead>\n",
       "  <tbody>\n",
       "    <tr>\n",
       "      <th>1691</th>\n",
       "      <td>2020-01-05</td>\n",
       "      <td>AR</td>\n",
       "      <td>Argentina</td>\n",
       "      <td>0</td>\n",
       "      <td>0</td>\n",
       "      <td>0</td>\n",
       "      <td>0</td>\n",
       "      <td>0.0</td>\n",
       "    </tr>\n",
       "    <tr>\n",
       "      <th>1692</th>\n",
       "      <td>2020-01-12</td>\n",
       "      <td>AR</td>\n",
       "      <td>Argentina</td>\n",
       "      <td>0</td>\n",
       "      <td>0</td>\n",
       "      <td>0</td>\n",
       "      <td>0</td>\n",
       "      <td>0.0</td>\n",
       "    </tr>\n",
       "    <tr>\n",
       "      <th>1693</th>\n",
       "      <td>2020-01-19</td>\n",
       "      <td>AR</td>\n",
       "      <td>Argentina</td>\n",
       "      <td>0</td>\n",
       "      <td>0</td>\n",
       "      <td>0</td>\n",
       "      <td>0</td>\n",
       "      <td>0.0</td>\n",
       "    </tr>\n",
       "    <tr>\n",
       "      <th>1694</th>\n",
       "      <td>2020-01-26</td>\n",
       "      <td>AR</td>\n",
       "      <td>Argentina</td>\n",
       "      <td>0</td>\n",
       "      <td>0</td>\n",
       "      <td>0</td>\n",
       "      <td>0</td>\n",
       "      <td>0.0</td>\n",
       "    </tr>\n",
       "    <tr>\n",
       "      <th>1695</th>\n",
       "      <td>2020-02-02</td>\n",
       "      <td>AR</td>\n",
       "      <td>Argentina</td>\n",
       "      <td>0</td>\n",
       "      <td>0</td>\n",
       "      <td>0</td>\n",
       "      <td>0</td>\n",
       "      <td>0.0</td>\n",
       "    </tr>\n",
       "  </tbody>\n",
       "</table>\n",
       "</div>"
      ],
      "text/plain": [
       "     Date_reported Country_code    Country  New_cases  Cumulative_cases  \\\n",
       "1691    2020-01-05           AR  Argentina          0                 0   \n",
       "1692    2020-01-12           AR  Argentina          0                 0   \n",
       "1693    2020-01-19           AR  Argentina          0                 0   \n",
       "1694    2020-01-26           AR  Argentina          0                 0   \n",
       "1695    2020-02-02           AR  Argentina          0                 0   \n",
       "\n",
       "      New_deaths  Cumulative_deaths  lethality_rate  \n",
       "1691           0                  0             0.0  \n",
       "1692           0                  0             0.0  \n",
       "1693           0                  0             0.0  \n",
       "1694           0                  0             0.0  \n",
       "1695           0                  0             0.0  "
      ]
     },
     "execution_count": 149,
     "metadata": {},
     "output_type": "execute_result"
    }
   ],
   "source": [
    "df_top_5_col_arg = df_covid_limpio_reset[df_covid_limpio_reset['Country'].isin(top_5_paises_col_arg.index)]\n",
    "df_top_5_col_arg.head()"
   ]
  },
  {
   "cell_type": "code",
   "execution_count": 150,
   "metadata": {},
   "outputs": [],
   "source": [
    "df_col_arg = df_covid_limpio_reset[df_covid_limpio_reset['Country'].isin([\"Argentina\", \"Colombia\"])]"
   ]
  },
  {
   "cell_type": "code",
   "execution_count": 151,
   "metadata": {},
   "outputs": [
    {
     "data": {
      "text/html": [
       "<div>\n",
       "<style scoped>\n",
       "    .dataframe tbody tr th:only-of-type {\n",
       "        vertical-align: middle;\n",
       "    }\n",
       "\n",
       "    .dataframe tbody tr th {\n",
       "        vertical-align: top;\n",
       "    }\n",
       "\n",
       "    .dataframe thead th {\n",
       "        text-align: right;\n",
       "    }\n",
       "</style>\n",
       "<table border=\"1\" class=\"dataframe\">\n",
       "  <thead>\n",
       "    <tr style=\"text-align: right;\">\n",
       "      <th>Date_reported</th>\n",
       "      <th>2020-01-05</th>\n",
       "      <th>2020-01-12</th>\n",
       "      <th>2020-01-19</th>\n",
       "      <th>2020-01-26</th>\n",
       "      <th>2020-02-02</th>\n",
       "      <th>2020-02-09</th>\n",
       "      <th>2020-02-16</th>\n",
       "      <th>2020-02-23</th>\n",
       "      <th>2020-03-01</th>\n",
       "      <th>2020-03-08</th>\n",
       "      <th>...</th>\n",
       "      <th>2023-11-19</th>\n",
       "      <th>2023-11-26</th>\n",
       "      <th>2023-12-03</th>\n",
       "      <th>2023-12-10</th>\n",
       "      <th>2023-12-17</th>\n",
       "      <th>2023-12-24</th>\n",
       "      <th>2023-12-31</th>\n",
       "      <th>2024-01-07</th>\n",
       "      <th>2024-01-14</th>\n",
       "      <th>2024-01-21</th>\n",
       "    </tr>\n",
       "    <tr>\n",
       "      <th>Country</th>\n",
       "      <th></th>\n",
       "      <th></th>\n",
       "      <th></th>\n",
       "      <th></th>\n",
       "      <th></th>\n",
       "      <th></th>\n",
       "      <th></th>\n",
       "      <th></th>\n",
       "      <th></th>\n",
       "      <th></th>\n",
       "      <th></th>\n",
       "      <th></th>\n",
       "      <th></th>\n",
       "      <th></th>\n",
       "      <th></th>\n",
       "      <th></th>\n",
       "      <th></th>\n",
       "      <th></th>\n",
       "      <th></th>\n",
       "      <th></th>\n",
       "      <th></th>\n",
       "    </tr>\n",
       "  </thead>\n",
       "  <tbody>\n",
       "    <tr>\n",
       "      <th>Argentina</th>\n",
       "      <td>0.0</td>\n",
       "      <td>0.0</td>\n",
       "      <td>0.0</td>\n",
       "      <td>0.0</td>\n",
       "      <td>0.0</td>\n",
       "      <td>0.0</td>\n",
       "      <td>0.0</td>\n",
       "      <td>0.0</td>\n",
       "      <td>0.0</td>\n",
       "      <td>22.0</td>\n",
       "      <td>...</td>\n",
       "      <td>10073197.0</td>\n",
       "      <td>10073701.0</td>\n",
       "      <td>10074309.0</td>\n",
       "      <td>10074775.0</td>\n",
       "      <td>10075395.0</td>\n",
       "      <td>10076004.0</td>\n",
       "      <td>10076858.0</td>\n",
       "      <td>10078493.0</td>\n",
       "      <td>10081076.0</td>\n",
       "      <td>10081076.0</td>\n",
       "    </tr>\n",
       "    <tr>\n",
       "      <th>China</th>\n",
       "      <td>1.0</td>\n",
       "      <td>45.0</td>\n",
       "      <td>125.0</td>\n",
       "      <td>1985.0</td>\n",
       "      <td>14411.0</td>\n",
       "      <td>37251.0</td>\n",
       "      <td>68584.0</td>\n",
       "      <td>77042.0</td>\n",
       "      <td>79968.0</td>\n",
       "      <td>80859.0</td>\n",
       "      <td>...</td>\n",
       "      <td>99320035.0</td>\n",
       "      <td>99320425.0</td>\n",
       "      <td>99320845.0</td>\n",
       "      <td>99321242.0</td>\n",
       "      <td>99321637.0</td>\n",
       "      <td>99322142.0</td>\n",
       "      <td>99322727.0</td>\n",
       "      <td>99323756.0</td>\n",
       "      <td>99325108.0</td>\n",
       "      <td>99326423.0</td>\n",
       "    </tr>\n",
       "    <tr>\n",
       "      <th>Colombia</th>\n",
       "      <td>0.0</td>\n",
       "      <td>0.0</td>\n",
       "      <td>0.0</td>\n",
       "      <td>0.0</td>\n",
       "      <td>0.0</td>\n",
       "      <td>0.0</td>\n",
       "      <td>0.0</td>\n",
       "      <td>0.0</td>\n",
       "      <td>0.0</td>\n",
       "      <td>1.0</td>\n",
       "      <td>...</td>\n",
       "      <td>6383595.0</td>\n",
       "      <td>6383948.0</td>\n",
       "      <td>6384224.0</td>\n",
       "      <td>6384551.0</td>\n",
       "      <td>6384979.0</td>\n",
       "      <td>6385539.0</td>\n",
       "      <td>6386231.0</td>\n",
       "      <td>6387209.0</td>\n",
       "      <td>6389365.0</td>\n",
       "      <td>6391672.0</td>\n",
       "    </tr>\n",
       "    <tr>\n",
       "      <th>France</th>\n",
       "      <td>0.0</td>\n",
       "      <td>0.0</td>\n",
       "      <td>0.0</td>\n",
       "      <td>3.0</td>\n",
       "      <td>6.0</td>\n",
       "      <td>12.0</td>\n",
       "      <td>12.0</td>\n",
       "      <td>16.0</td>\n",
       "      <td>16.0</td>\n",
       "      <td>16.0</td>\n",
       "      <td>...</td>\n",
       "      <td>38997490.0</td>\n",
       "      <td>38997490.0</td>\n",
       "      <td>38997490.0</td>\n",
       "      <td>38997490.0</td>\n",
       "      <td>38997490.0</td>\n",
       "      <td>38997490.0</td>\n",
       "      <td>38997490.0</td>\n",
       "      <td>38997490.0</td>\n",
       "      <td>38997490.0</td>\n",
       "      <td>38997490.0</td>\n",
       "    </tr>\n",
       "    <tr>\n",
       "      <th>Germany</th>\n",
       "      <td>0.0</td>\n",
       "      <td>0.0</td>\n",
       "      <td>0.0</td>\n",
       "      <td>0.0</td>\n",
       "      <td>0.0</td>\n",
       "      <td>0.0</td>\n",
       "      <td>0.0</td>\n",
       "      <td>0.0</td>\n",
       "      <td>170.0</td>\n",
       "      <td>1075.0</td>\n",
       "      <td>...</td>\n",
       "      <td>38437756.0</td>\n",
       "      <td>38437756.0</td>\n",
       "      <td>38437756.0</td>\n",
       "      <td>38437756.0</td>\n",
       "      <td>38437756.0</td>\n",
       "      <td>38437756.0</td>\n",
       "      <td>38437756.0</td>\n",
       "      <td>38437756.0</td>\n",
       "      <td>38437756.0</td>\n",
       "      <td>38437756.0</td>\n",
       "    </tr>\n",
       "    <tr>\n",
       "      <th>India</th>\n",
       "      <td>0.0</td>\n",
       "      <td>0.0</td>\n",
       "      <td>0.0</td>\n",
       "      <td>0.0</td>\n",
       "      <td>2.0</td>\n",
       "      <td>7.0</td>\n",
       "      <td>7.0</td>\n",
       "      <td>7.0</td>\n",
       "      <td>7.0</td>\n",
       "      <td>39.0</td>\n",
       "      <td>...</td>\n",
       "      <td>45001575.0</td>\n",
       "      <td>45001764.0</td>\n",
       "      <td>45002179.0</td>\n",
       "      <td>45003055.0</td>\n",
       "      <td>45004816.0</td>\n",
       "      <td>45008620.0</td>\n",
       "      <td>45013172.0</td>\n",
       "      <td>45018134.0</td>\n",
       "      <td>45021758.0</td>\n",
       "      <td>45023751.0</td>\n",
       "    </tr>\n",
       "    <tr>\n",
       "      <th>United States of America</th>\n",
       "      <td>0.0</td>\n",
       "      <td>0.0</td>\n",
       "      <td>0.0</td>\n",
       "      <td>7.0</td>\n",
       "      <td>9.0</td>\n",
       "      <td>20.0</td>\n",
       "      <td>24.0</td>\n",
       "      <td>40.0</td>\n",
       "      <td>73.0</td>\n",
       "      <td>464.0</td>\n",
       "      <td>...</td>\n",
       "      <td>103436829.0</td>\n",
       "      <td>103436829.0</td>\n",
       "      <td>103436829.0</td>\n",
       "      <td>103436829.0</td>\n",
       "      <td>103436829.0</td>\n",
       "      <td>103436829.0</td>\n",
       "      <td>103436829.0</td>\n",
       "      <td>103436829.0</td>\n",
       "      <td>103436829.0</td>\n",
       "      <td>103436829.0</td>\n",
       "    </tr>\n",
       "  </tbody>\n",
       "</table>\n",
       "<p>7 rows × 212 columns</p>\n",
       "</div>"
      ],
      "text/plain": [
       "Date_reported             2020-01-05  2020-01-12  2020-01-19  2020-01-26  \\\n",
       "Country                                                                    \n",
       "Argentina                        0.0         0.0         0.0         0.0   \n",
       "China                            1.0        45.0       125.0      1985.0   \n",
       "Colombia                         0.0         0.0         0.0         0.0   \n",
       "France                           0.0         0.0         0.0         3.0   \n",
       "Germany                          0.0         0.0         0.0         0.0   \n",
       "India                            0.0         0.0         0.0         0.0   \n",
       "United States of America         0.0         0.0         0.0         7.0   \n",
       "\n",
       "Date_reported             2020-02-02  2020-02-09  2020-02-16  2020-02-23  \\\n",
       "Country                                                                    \n",
       "Argentina                        0.0         0.0         0.0         0.0   \n",
       "China                        14411.0     37251.0     68584.0     77042.0   \n",
       "Colombia                         0.0         0.0         0.0         0.0   \n",
       "France                           6.0        12.0        12.0        16.0   \n",
       "Germany                          0.0         0.0         0.0         0.0   \n",
       "India                            2.0         7.0         7.0         7.0   \n",
       "United States of America         9.0        20.0        24.0        40.0   \n",
       "\n",
       "Date_reported             2020-03-01  2020-03-08  ...   2023-11-19  \\\n",
       "Country                                           ...                \n",
       "Argentina                        0.0        22.0  ...   10073197.0   \n",
       "China                        79968.0     80859.0  ...   99320035.0   \n",
       "Colombia                         0.0         1.0  ...    6383595.0   \n",
       "France                          16.0        16.0  ...   38997490.0   \n",
       "Germany                        170.0      1075.0  ...   38437756.0   \n",
       "India                            7.0        39.0  ...   45001575.0   \n",
       "United States of America        73.0       464.0  ...  103436829.0   \n",
       "\n",
       "Date_reported              2023-11-26   2023-12-03   2023-12-10   2023-12-17  \\\n",
       "Country                                                                        \n",
       "Argentina                  10073701.0   10074309.0   10074775.0   10075395.0   \n",
       "China                      99320425.0   99320845.0   99321242.0   99321637.0   \n",
       "Colombia                    6383948.0    6384224.0    6384551.0    6384979.0   \n",
       "France                     38997490.0   38997490.0   38997490.0   38997490.0   \n",
       "Germany                    38437756.0   38437756.0   38437756.0   38437756.0   \n",
       "India                      45001764.0   45002179.0   45003055.0   45004816.0   \n",
       "United States of America  103436829.0  103436829.0  103436829.0  103436829.0   \n",
       "\n",
       "Date_reported              2023-12-24   2023-12-31   2024-01-07   2024-01-14  \\\n",
       "Country                                                                        \n",
       "Argentina                  10076004.0   10076858.0   10078493.0   10081076.0   \n",
       "China                      99322142.0   99322727.0   99323756.0   99325108.0   \n",
       "Colombia                    6385539.0    6386231.0    6387209.0    6389365.0   \n",
       "France                     38997490.0   38997490.0   38997490.0   38997490.0   \n",
       "Germany                    38437756.0   38437756.0   38437756.0   38437756.0   \n",
       "India                      45008620.0   45013172.0   45018134.0   45021758.0   \n",
       "United States of America  103436829.0  103436829.0  103436829.0  103436829.0   \n",
       "\n",
       "Date_reported              2024-01-21  \n",
       "Country                                \n",
       "Argentina                  10081076.0  \n",
       "China                      99326423.0  \n",
       "Colombia                    6391672.0  \n",
       "France                     38997490.0  \n",
       "Germany                    38437756.0  \n",
       "India                      45023751.0  \n",
       "United States of America  103436829.0  \n",
       "\n",
       "[7 rows x 212 columns]"
      ]
     },
     "execution_count": 151,
     "metadata": {},
     "output_type": "execute_result"
    }
   ],
   "source": [
    "total_acumulado_top_5_col_arg = df_top_5_col_arg.pivot(index='Country', columns='Date_reported', values='Cumulative_cases').fillna(0)\n",
    "total_acumulado_top_5_col_arg"
   ]
  },
  {
   "cell_type": "code",
   "execution_count": 152,
   "metadata": {},
   "outputs": [
    {
     "data": {
      "text/html": [
       "<div>\n",
       "<style scoped>\n",
       "    .dataframe tbody tr th:only-of-type {\n",
       "        vertical-align: middle;\n",
       "    }\n",
       "\n",
       "    .dataframe tbody tr th {\n",
       "        vertical-align: top;\n",
       "    }\n",
       "\n",
       "    .dataframe thead th {\n",
       "        text-align: right;\n",
       "    }\n",
       "</style>\n",
       "<table border=\"1\" class=\"dataframe\">\n",
       "  <thead>\n",
       "    <tr style=\"text-align: right;\">\n",
       "      <th>Date_reported</th>\n",
       "      <th>2020-01-05</th>\n",
       "      <th>2020-01-12</th>\n",
       "      <th>2020-01-19</th>\n",
       "      <th>2020-01-26</th>\n",
       "      <th>2020-02-02</th>\n",
       "      <th>2020-02-09</th>\n",
       "      <th>2020-02-16</th>\n",
       "      <th>2020-02-23</th>\n",
       "      <th>2020-03-01</th>\n",
       "      <th>2020-03-08</th>\n",
       "      <th>...</th>\n",
       "      <th>2023-11-19</th>\n",
       "      <th>2023-11-26</th>\n",
       "      <th>2023-12-03</th>\n",
       "      <th>2023-12-10</th>\n",
       "      <th>2023-12-17</th>\n",
       "      <th>2023-12-24</th>\n",
       "      <th>2023-12-31</th>\n",
       "      <th>2024-01-07</th>\n",
       "      <th>2024-01-14</th>\n",
       "      <th>2024-01-21</th>\n",
       "    </tr>\n",
       "    <tr>\n",
       "      <th>Country</th>\n",
       "      <th></th>\n",
       "      <th></th>\n",
       "      <th></th>\n",
       "      <th></th>\n",
       "      <th></th>\n",
       "      <th></th>\n",
       "      <th></th>\n",
       "      <th></th>\n",
       "      <th></th>\n",
       "      <th></th>\n",
       "      <th></th>\n",
       "      <th></th>\n",
       "      <th></th>\n",
       "      <th></th>\n",
       "      <th></th>\n",
       "      <th></th>\n",
       "      <th></th>\n",
       "      <th></th>\n",
       "      <th></th>\n",
       "      <th></th>\n",
       "      <th></th>\n",
       "    </tr>\n",
       "  </thead>\n",
       "  <tbody>\n",
       "    <tr>\n",
       "      <th>Argentina</th>\n",
       "      <td>0</td>\n",
       "      <td>0</td>\n",
       "      <td>0</td>\n",
       "      <td>0</td>\n",
       "      <td>0</td>\n",
       "      <td>0</td>\n",
       "      <td>0</td>\n",
       "      <td>0</td>\n",
       "      <td>0</td>\n",
       "      <td>22</td>\n",
       "      <td>...</td>\n",
       "      <td>10073197</td>\n",
       "      <td>10073701</td>\n",
       "      <td>10074309</td>\n",
       "      <td>10074775</td>\n",
       "      <td>10075395</td>\n",
       "      <td>10076004</td>\n",
       "      <td>10076858</td>\n",
       "      <td>10078493</td>\n",
       "      <td>10081076</td>\n",
       "      <td>10081076</td>\n",
       "    </tr>\n",
       "    <tr>\n",
       "      <th>Colombia</th>\n",
       "      <td>0</td>\n",
       "      <td>0</td>\n",
       "      <td>0</td>\n",
       "      <td>0</td>\n",
       "      <td>0</td>\n",
       "      <td>0</td>\n",
       "      <td>0</td>\n",
       "      <td>0</td>\n",
       "      <td>0</td>\n",
       "      <td>1</td>\n",
       "      <td>...</td>\n",
       "      <td>6383595</td>\n",
       "      <td>6383948</td>\n",
       "      <td>6384224</td>\n",
       "      <td>6384551</td>\n",
       "      <td>6384979</td>\n",
       "      <td>6385539</td>\n",
       "      <td>6386231</td>\n",
       "      <td>6387209</td>\n",
       "      <td>6389365</td>\n",
       "      <td>6391672</td>\n",
       "    </tr>\n",
       "  </tbody>\n",
       "</table>\n",
       "<p>2 rows × 212 columns</p>\n",
       "</div>"
      ],
      "text/plain": [
       "Date_reported  2020-01-05  2020-01-12  2020-01-19  2020-01-26  2020-02-02  \\\n",
       "Country                                                                     \n",
       "Argentina               0           0           0           0           0   \n",
       "Colombia                0           0           0           0           0   \n",
       "\n",
       "Date_reported  2020-02-09  2020-02-16  2020-02-23  2020-03-01  2020-03-08  \\\n",
       "Country                                                                     \n",
       "Argentina               0           0           0           0          22   \n",
       "Colombia                0           0           0           0           1   \n",
       "\n",
       "Date_reported  ...  2023-11-19  2023-11-26  2023-12-03  2023-12-10  \\\n",
       "Country        ...                                                   \n",
       "Argentina      ...    10073197    10073701    10074309    10074775   \n",
       "Colombia       ...     6383595     6383948     6384224     6384551   \n",
       "\n",
       "Date_reported  2023-12-17  2023-12-24  2023-12-31  2024-01-07  2024-01-14  \\\n",
       "Country                                                                     \n",
       "Argentina        10075395    10076004    10076858    10078493    10081076   \n",
       "Colombia          6384979     6385539     6386231     6387209     6389365   \n",
       "\n",
       "Date_reported  2024-01-21  \n",
       "Country                    \n",
       "Argentina        10081076  \n",
       "Colombia          6391672  \n",
       "\n",
       "[2 rows x 212 columns]"
      ]
     },
     "execution_count": 152,
     "metadata": {},
     "output_type": "execute_result"
    }
   ],
   "source": [
    "total_acumulado_col_arg = df_col_arg.pivot(index='Country', columns='Date_reported', values='Cumulative_cases').fillna(0)\n",
    "total_acumulado_col_arg"
   ]
  },
  {
   "cell_type": "code",
   "execution_count": 153,
   "metadata": {},
   "outputs": [
    {
     "data": {
      "text/plain": [
       "Country\n",
       "Argentina    10081076\n",
       "Colombia      6391672\n",
       "Name: Cumulative_cases, dtype: int64"
      ]
     },
     "execution_count": 153,
     "metadata": {},
     "output_type": "execute_result"
    }
   ],
   "source": [
    "col_arg_cases"
   ]
  },
  {
   "cell_type": "markdown",
   "metadata": {},
   "source": [
    "Gráfica en términos relativos"
   ]
  },
  {
   "cell_type": "code",
   "execution_count": 154,
   "metadata": {},
   "outputs": [
    {
     "data": {
      "image/png": "[encoded data removed]",
      "text/plain": [
       "<Figure size 1700x500 with 2 Axes>"
      ]
     },
     "metadata": {},
     "output_type": "display_data"
    }
   ],
   "source": [
    "# Gráfico de Donuts\n",
    "fig, axs = plt.subplots(1, 2, figsize=(17, 5))\n",
    "\n",
    "#wedges son las líneas de los contornos del gráfico\n",
    "#texts almacena los labels \"Argentina\" \"Colombia\"\n",
    "#autotexts almacena los % dentro del pie\n",
    "\n",
    "#Plot 1\n",
    "axs[0].set_title('TOP 10 Paises')\n",
    "wedges, texts, autotexts = axs[0].pie(\n",
    "  top_10_paises_col_arg,\n",
    "  labels=top_10_paises_col_arg.index,\n",
    "  autopct='%1.1f%%',\n",
    "  # pctdistance=1.2\n",
    "  startangle=185,\n",
    "  wedgeprops={\n",
    "  \"edgecolor\": \"white\",\n",
    "  \"linewidth\": 2,\n",
    "  },\n",
    "  colors=['#dddef2','#cbccdf', '#dddef2', '#cbccdf', '#dddef2', '#cbccdf', '#dddef2', '#cbccdf', '#dddef2','#cbccdf', '#1F77B4','#FF7F0E', '#cbccdf']\n",
    ")\n",
    "\n",
    "labels = []\n",
    "\n",
    "for index, country in enumerate(texts):\n",
    "  country.set_bbox(dict(facecolor='white', alpha=1))\n",
    "  labels.append(f'{autotexts[index].get_text()} {country.get_text()}')\n",
    "\n",
    "for index, text in enumerate(texts):\n",
    "  text.set_text(labels[index])\n",
    "\n",
    "usa, china, india, france, germany, brazil, korea, japan, italy, uk, argentina, colombia, otros = [country for country in texts]\n",
    "\n",
    "\n",
    "#Ajustamos la posición de colombia porque pisa a Argentina\n",
    "colombia.set_position((0.8, 1.2))\n",
    "colombia.set_bbox(dict(facecolor='#FF7F0E', alpha=1))\n",
    "axs[0].plot([0.57, 0.57, 0.8],[0.83, 1.2, 1.2], color=\"#FF7F0E\", linewidth=1.5)\n",
    "\n",
    "\n",
    "#Ajustamos la posición de Argentina porque pisa a UK\n",
    "argentina.set_position((0.9, 1))\n",
    "argentina.set_bbox(dict(facecolor='#1F77B4', alpha=1))\n",
    "argentina.set_color('white')\n",
    "axs[0].plot([0.62, 0.7, 1],[0.79, 1, 1], color=\"#1F77B4\", linewidth=1.5)\n",
    "\n",
    "#Ajustamos la posición de UK\n",
    "uk.set_position((0.9, 0.8))\n",
    "\n",
    "# #Ajustamos la posición de Italy\n",
    "italy.set_position((1, 0.55))\n",
    "\n",
    "# #Ajustamos la posicion de japan\n",
    "japan.set_position((1.1, 0.3))\n",
    "\n",
    "#Ocultamos los % del pieplot\n",
    "for pct in autotexts:\n",
    "  pct.set_text('')\n",
    "\n",
    "\n",
    "#Plot 2\n",
    "axs[1].set_title('Argentina y Colombia')\n",
    "wedges, texts, autotexts = axs[1].pie(\n",
    "  col_arg_cases,\n",
    "  labels=col_arg_cases.index,\n",
    "  autopct='%1.1f%%',\n",
    "  wedgeprops={\n",
    "    \"edgecolor\": \"white\",\n",
    "    \"linewidth\": 2,\n",
    "  }\n",
    ")\n",
    "\n",
    "argentina = texts[0]\n",
    "argentina.set_bbox(dict(facecolor='#1F77B4', alpha=1, edgecolor=\"none\"))\n",
    "argentina.set_color('white')\n",
    "\n",
    "colombia = texts[1]\n",
    "colombia.set_bbox(dict(facecolor='#FF7F0E', alpha=1, edgecolor=\"none\"))\n",
    "\n",
    "plt.show()"
   ]
  },
  {
   "cell_type": "markdown",
   "metadata": {},
   "source": [
    "**Conclusión 1.1:** <br>\n",
    "Apreciamos que la evolución del covid-19 en Argentina y Colombia fué bastante controlada en comparación a los 10 paises con mayor índice de evolución. Sin embargo, comparando estos Argentina y Colombia entre sí podemos apreciar que Colombia pudo mitigar mucho más la evolución de los contagios en época de pandemia en comparación a Argentina.\n"
   ]
  },
  {
   "cell_type": "markdown",
   "metadata": {},
   "source": [
    "Gráfica en términos absolutos"
   ]
  },
  {
   "cell_type": "code",
   "execution_count": 155,
   "metadata": {},
   "outputs": [
    {
     "data": {
      "image/png": "[encoded data removed]",
      "text/plain": [
       "<Figure size 1500x500 with 2 Axes>"
      ]
     },
     "metadata": {},
     "output_type": "display_data"
    }
   ],
   "source": [
    "fig, axs = plt.subplots(1, 2, figsize=(15, 5))\n",
    "\n",
    "# Gráfico de Líneas TOP 5\n",
    "axs[0].set_title('TOP 5 Paises')\n",
    "colors0=['red', '#ec4b59', '#7c5bd8','#e4f265', '#c3ffff','#1F77B4','#FF7F0E']\n",
    "y_arg = total_acumulado_top_5_col_arg.loc[\"Argentina\"][-1]\n",
    "y_col = total_acumulado_top_5_col_arg.loc[\"Colombia\"][-1]\n",
    "for index, pais in enumerate(top_5_paises_col_arg.index):\n",
    "    days_since_start = (total_acumulado_top_5_col_arg.columns - total_acumulado_top_5_col_arg.columns[0]).days\n",
    "    axs[0].plot(days_since_start, total_acumulado_top_5_col_arg.loc[pais], label=pais, color=colors0[index])\n",
    "legend = axs[0].legend()\n",
    "legend = legend.get_frame()\n",
    "legend.set_color(\"white\")\n",
    "legend.set_edgecolor(\"black\")\n",
    "axs[0].set_facecolor(\"white\")\n",
    "axs[0].annotate(\"Argentina\", xy=(1300,y_arg+3e6), color=\"#1F77B4\")\n",
    "axs[0].annotate(\"Colombia\", xy=(1300,y_col-5e6), color=\"#FF7F0E\")\n",
    "axs[0].set_ylabel(\"Casos confirmados en millones [M]\")\n",
    "axs[0].set_yticklabels([\"0\",\"0M\",\"20M\",\"40M\",\"60M\",\"80M\",\"100M\"])\n",
    "axs[0].set_xlabel(\"Días que pasaron desde el inicio de pandemia\")\n",
    "axs[0].grid(axis=\"y\")\n",
    "\n",
    "\n",
    "#Gráfico de líneas Argentina-Colombia\n",
    "y_labels=[]\n",
    "axs[1].set_title('Argentina y Colombia')\n",
    "colors1=['#1F77B4','#FF7F0E']\n",
    "days_since_start = (total_acumulado_col_arg.columns - total_acumulado_col_arg.columns[0]).days\n",
    "for index, pais in enumerate(col_arg_cases_line.index):\n",
    "    axs[1].plot(days_since_start, total_acumulado_col_arg.loc[pais], label=pais, color=colors1[index])\n",
    "    y_labels.append(total_acumulado_col_arg.loc[pais])\n",
    "\n",
    "legend = axs[1].legend()\n",
    "legend = legend.get_frame()\n",
    "legend.set_color(\"white\")\n",
    "legend.set_edgecolor(\"black\")\n",
    "axs[1].set_facecolor(\"white\")\n",
    "axs[1].set_ylabel(\"Casos confirmados en millones [M]\")\n",
    "axs[1].set_xlabel(\"Días que pasaron desde el inicio de pandemia\")\n",
    "axs[1].grid(axis=\"y\")\n",
    "axs[1].set_yticklabels([\"0\",\"0M\",\"2M\",\"4M\",\"6M\",\"8M\",\"10M\"])\n",
    "\n",
    "plt.show()"
   ]
  },
  {
   "cell_type": "markdown",
   "metadata": {},
   "source": [
    "**Conclusión 1.2 :**\n",
    "\n",
    "En cuanto a la evolución de contagios desde el día 0 hasta 4 años después observamos que Argentina y Colombia fueron los paises con menores casos confirmados comparándolos con los TOP 5 paises a nivel mundial"
   ]
  }
 ],
 "metadata": {
  "kernelspec": {
   "display_name": "Python 3",
   "language": "python",
   "name": "python3"
  },
  "language_info": {
   "codemirror_mode": {
    "name": "ipython",
    "version": 3
   },
   "file_extension": ".py",
   "mimetype": "text/x-python",
   "name": "python",
   "nbconvert_exporter": "python",
   "pygments_lexer": "ipython3",
   "version": "3.12.0"
  }
 },
 "nbformat": 4,
 "nbformat_minor": 2
}
